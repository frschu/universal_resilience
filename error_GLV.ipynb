{
 "cells": [
  {
   "cell_type": "markdown",
   "metadata": {},
   "source": [
    "# Numerical check of the analytical results\n",
    "\n"
   ]
  },
  {
   "cell_type": "markdown",
   "metadata": {},
   "source": [
    "## Import and define stuff"
   ]
  },
  {
   "cell_type": "code",
   "execution_count": 2,
   "metadata": {
    "collapsed": false
   },
   "outputs": [
    {
     "data": {
      "text/plain": [
       "<matplotlib.figure.Figure at 0x7fe22088cb50>"
      ]
     },
     "metadata": {},
     "output_type": "display_data"
    }
   ],
   "source": [
    "from __future__ import print_function\n",
    "import numpy as np\n",
    "import scipy\n",
    "import time\n",
    "\n",
    "% matplotlib inline \n",
    "import matplotlib.pyplot as plt\n",
    "from imp import reload\n",
    "import style as style; reload(style)\n",
    "# colors = style.colors\n",
    "\n",
    "tango_colors = [\n",
    "    \"#cc0000\", # Scarlet Red 1\n",
    "    \"#2e3436\", # Aluminium 5 (almost black)\n",
    "    \"#fcaf3e\", # Orange 0\n",
    "    \"#a40000\", # Scarlet Red 2\n",
    "    \"#204a87\",  # Sky blue 2 \n",
    "] \n",
    "colors = tango_colors"
   ]
  },
  {
   "cell_type": "code",
   "execution_count": 3,
   "metadata": {
    "collapsed": false
   },
   "outputs": [],
   "source": [
    "# Parameters\n",
    "\n",
    "# Number of samples (for each point)\n",
    "n_samples = 500\n",
    "\n",
    "### Standard parameters for scans (if not altered)\n",
    "# Network size\n",
    "S       = 50\n",
    "# Moments of distribution\n",
    "mu      = 1.\n",
    "sigma   = 1.\n",
    "# Correlation \n",
    "rho     = 0\n",
    "\n",
    "### Parameters to scan over\n",
    "\n",
    "# Network sizes S\n",
    "S_min   = 10\n",
    "S_max   = 110\n",
    "S_step  = 10\n",
    "Ss = np.arange(S_min, S_max + S_step, S_step)\n",
    "\n",
    "# Correlations rho\n",
    "rho_min  = -1.\n",
    "rho_max  = 1\n",
    "rho_step = 0.2\n",
    "rhos = np.arange(rho_min, rho_max + rho_step, rho_step)\n",
    "\n",
    "# Constant diagonal d_factor\n",
    "d_factor_min  = 0.6\n",
    "d_factor_max  = 1.4\n",
    "d_factor_step = 0.1\n",
    "d_factors = np.arange(d_factor_min, d_factor_max + d_factor_step, d_factor_step)\n",
    "\n",
    "# Mean and standard deviation mus and sigmas\n",
    "mu_min  = -0.5\n",
    "mu_max  = 0.5\n",
    "mu_step = 0.1\n",
    "sigma_const = 0.5\n",
    "mus = np.arange(mu_min, mu_max + mu_step, mu_step)\n",
    "sigmas = np.repeat(sigma_const, mus.shape)\n"
   ]
  },
  {
   "cell_type": "markdown",
   "metadata": {},
   "source": [
    "### Some helper functions"
   ]
  },
  {
   "cell_type": "code",
   "execution_count": 4,
   "metadata": {
    "collapsed": false
   },
   "outputs": [],
   "source": [
    "# Two lines in legend: \n",
    "# From \n",
    "# http://stackoverflow.com/questions/31544489/two-line-styles-in-legend?rq=1\n",
    "\n",
    "from matplotlib.legend_handler import HandlerLineCollection\n",
    "from matplotlib.collections import LineCollection\n",
    "from matplotlib.lines import Line2D\n",
    "\n",
    "\n",
    "class HandlerDashedLines(HandlerLineCollection):\n",
    "    \"\"\"\n",
    "    Custom Handler for LineCollection instances.\n",
    "    \"\"\"\n",
    "    def create_artists(self, legend, orig_handle,\n",
    "                       xdescent, ydescent, width, height, fontsize, trans):\n",
    "        # figure out how many lines there are\n",
    "        numlines = len(orig_handle.get_segments())\n",
    "        xdata, xdata_marker = self.get_xdata(legend, xdescent, ydescent,\n",
    "                                             width, height, fontsize)\n",
    "        leglines = []\n",
    "        # divide the vertical space where the lines will go\n",
    "        # into equal parts based on the number of lines\n",
    "        ydata = ((height) / (numlines + 1)) * np.ones(xdata.shape, float)\n",
    "        # for each line, create the line at the proper location\n",
    "        # and set the dash pattern\n",
    "        for i in range(numlines):\n",
    "            legline = Line2D(xdata, ydata * (numlines - i) - ydescent)\n",
    "            self.update_prop(legline, orig_handle, legend)\n",
    "            # set color, dash pattern, and linewidth to that\n",
    "            # of the lines in linecollection\n",
    "            try:\n",
    "                color = orig_handle.get_colors()[i]\n",
    "            except IndexError:\n",
    "                color = orig_handle.get_colors()[0]\n",
    "            try:\n",
    "                dashes = orig_handle.get_dashes()[i]\n",
    "            except IndexError:\n",
    "                dashes = orig_handle.get_dashes()[0]\n",
    "            try:\n",
    "                lw = orig_handle.get_linewidths()[i]\n",
    "            except IndexError:\n",
    "                lw = orig_handle.get_linewidths()[0]\n",
    "            if dashes[0] != None:\n",
    "                legline.set_dashes(dashes[1])\n",
    "            legline.set_color(color)\n",
    "            legline.set_transform(trans)\n",
    "            legline.set_linewidth(lw)\n",
    "            leglines.append(legline)\n",
    "        return leglines\n",
    "    \n",
    "# ### Example use case\n",
    "# # Need to make proxy artists:\n",
    "# # Make list of one line -- doesn't matter what the coordinates are\n",
    "# line = [[(0, 0)]]\n",
    "# # Set up the line collections\n",
    "# lc = LineCollection(2 * line, linestyles = ['solid', 'dashed'], colors = ['black', 'black'])\n",
    "# # Create the legend\n",
    "# plt.legend([lc], ['text',], handler_map = {type(lc) : HandlerDashedLines()}, handlelength = 2.5)\n",
    "\n",
    "\n",
    "### Now the same thing for two points:\n",
    "# http://stackoverflow.com/questions/31478077/how-to-make-two-markers-share-the-same-label-in-the-legend-using-matplotlib\n",
    "class AnyObject(object):\n",
    "    pass\n",
    "class data_handler(object):\n",
    "    def legend_artist(self, legend, orig_handle, fontsize, handlebox):\n",
    "        scale = fontsize / 22\n",
    "        x0, y0 = handlebox.xdescent, handlebox.ydescent\n",
    "        width, height = handlebox.width, handlebox.height\n",
    "        patch_sq = mpatches.Rectangle([x0, y0 + height/2 * (1 - scale) ], height * scale, height * scale, facecolor='0.5',\n",
    "                edgecolor='0.5', transform=handlebox.get_transform())\n",
    "        patch_circ = mpatches.Circle([x0 + width - height/2, y0 + height/2], height/2 * scale, facecolor='none',\n",
    "                edgecolor='black', transform=handlebox.get_transform())\n",
    "\n",
    "        handlebox.add_artist(patch_sq)\n",
    "        handlebox.add_artist(patch_circ)\n",
    "        return patch_sq\n",
    "\n",
    "# Use case\n",
    "# ...\n",
    "# ax.legend([AnyObject(), m1[0]], ['Data', 'Model'], handler_map={AnyObject: data_handler()})\n",
    "\n",
    "\n",
    "# Third thing: Again two points next to each other\n",
    "# http://stackoverflow.com/questions/18007022/two-unique-marker-symbols-for-one-legend?noredirect=1&lq=1\n",
    "from matplotlib.legend_handler import HandlerLine2D\n",
    "\n",
    "class HandlerXoffset(HandlerLine2D):\n",
    "    def __init__(self, marker_pad=0.3, numpoints=1, x_offset=0,  **kw):\n",
    "        HandlerLine2D.__init__(self, marker_pad=marker_pad, numpoints=numpoints, **kw)\n",
    "        self._xoffset = x_offset\n",
    "    def get_xdata(self, legend, xdescent, ydescent, width, height, fontsize):\n",
    "        numpoints = self.get_numpoints(legend)\n",
    "\n",
    "        if numpoints > 1:\n",
    "            # we put some pad here to compensate the size of the\n",
    "            # marker\n",
    "            xdata = np.linspace(-xdescent + self._marker_pad * fontsize,\n",
    "                                width - self._marker_pad * fontsize,\n",
    "                                numpoints) - self._xoffset\n",
    "            xdata_marker = xdata\n",
    "        elif numpoints == 1:\n",
    "            xdata = np.linspace(-xdescent, width, 2) - self._xoffset\n",
    "            xdata_marker = [0.5 * width - 0.5 * xdescent - self._xoffset]\n",
    "\n",
    "        return xdata, xdata_marker\n",
    "\n",
    "# time_model = time_model_sec = time_obs = time_obs_apg = time_obs_apg_sec = range(5)\n",
    "\n",
    "# rv_model_primary = np.random.rand(5)\n",
    "# rv_model_secondary = np.random.rand(5)\n",
    "# rv_obs_primary = np.random.rand(5)\n",
    "# rv_obs_primary_apg =  np.random.rand(5)\n",
    "# rv_obs_secondary_apg =  np.random.rand(5)\n",
    "\n",
    "# p1,=plt.plot(time_model, rv_model_primary, 'k-')\n",
    "# p2,=plt.plot(time_model_sec, rv_model_secondary, 'k--')\n",
    "# p3,=plt.plot(time_obs, rv_obs_primary, 'bo')\n",
    "# p4,=plt.plot(time_obs_apg, rv_obs_primary_apg, 'ro')\n",
    "# p5,=plt.plot(time_obs_apg_sec, rv_obs_secondary_apg, 'rs')\n",
    "\n",
    "# plt.legend([p1,p2,p3,(p5,p4)], \n",
    "#            [\"Primary\", \"Secondary\", \"XYZ\", \"This Work\"],\n",
    "#             handler_map={p4:HandlerXoffset(x_offset=10),   \n",
    "#                          p5:HandlerXoffset(x_offset=-10)})"
   ]
  },
  {
   "cell_type": "code",
   "execution_count": 5,
   "metadata": {
    "collapsed": false
   },
   "outputs": [],
   "source": [
    "# Get critical d\n",
    "def get_d_c(S, mu, sigma, rho):\n",
    "    # Calculate critical d\n",
    "    if mu > 0:\n",
    "        d_c = (S - 1) * mu  \n",
    "    else:\n",
    "        d_c = np.sqrt(S * sigma**2 * (1 + rho)) - mu\n",
    "    return d_c\n",
    "\n",
    "\n",
    "def plot_results(\n",
    "    errs, \n",
    "    mean_theo_f, \n",
    "    std_theo_f,\n",
    "    xs, \n",
    "    xlabel, \n",
    "    show_legend=False, \n",
    "    figsize=(6, 4), \n",
    "    **kwargs\n",
    "):\n",
    "    if 'xlim' in kwargs.keys():\n",
    "        xlim = kwargs['xlim']\n",
    "    else:\n",
    "        dx  = 0.1 * (max(xs) - min(xs))\n",
    "        xlim = (min(xs) - dx, max(xs) + dx)\n",
    "    if 'ylim' in kwargs.keys():\n",
    "        ylim = kwargs['ylim']\n",
    "    else:\n",
    "        dy  = 0.1 * (np.max(errs) - np.min(errs))\n",
    "        ymin = np.min((0., np.min(errs))) - dy\n",
    "        ymax = np.max((0., np.max(errs))) + dy\n",
    "        ylim = (ymin, ymax)\n",
    "    \n",
    "    fig = plt.figure(figsize=figsize)\n",
    "    ax = style.add_subplot(fig, n_rows_cols=(1, 1), index_row_col=(0, 0), rowspan=1, colspan=1)\n",
    "\n",
    "    # Zero line\n",
    "    ax.axhline(0, linestyle='-', color='k')\n",
    "    \n",
    "    # Single errors\n",
    "    err0,   = ax.plot(xs, errs[:, 0], 'o', ms=1.5, color=colors[0])\n",
    "    ax.plot(xs, errs[:, 1:], 'o', ms=1.5, color=colors[0])\n",
    "\n",
    "    # Empirical means and std devs\n",
    "    means, stds = np.mean(errs, axis=1), np.std(errs, axis=1)\n",
    "    mum,    = ax.plot(xs, means,          'o', ms=5, color=colors[1], zorder=6, label=r\"$\\mu_{err}$\")\n",
    "    stdm,   = ax.plot(xs, means + stds,   '_', ms=8, mew=2, mec=colors[1], zorder=5, \n",
    "                      label=r\"$\\pm \\sigma_{err} + \\mu_{err}$\")\n",
    "    ax.plot(xs, means - stds,   '_', ms=8, mew=2, mec=colors[1], zorder=5)\n",
    "    \n",
    "    # Theoretical means and std devs\n",
    "    xs_c        = np.linspace(xlim[0], xlim[1], 200)\n",
    "    mean_theo   = mean_theo_f(xs_c)\n",
    "    std_theo    = std_theo_f(xs_c)\n",
    "    ax.plot(xs_c, mean_theo, '-', color=colors[2], zorder=4, label=r\"$\\langle err \\rangle$\")\n",
    "    ax.plot(xs_c, mean_theo + std_theo, \n",
    "            '--', color=colors[2], label=r\"$\\pm \\mathrm{std}({err}) + \\langle  err \\rangle $\")\n",
    "    ax.plot(xs_c, mean_theo - std_theo, '--', color=colors[2])\n",
    "    ax.fill_between(xs_c, mean_theo + std_theo, mean_theo - std_theo, color=colors[2], alpha=0.3)\n",
    "    # Proxy artists for custom legend:\n",
    "    line = [[(0, 0)]]\n",
    "    lc = LineCollection(2 * line, lw=2., linestyles = ['solid', 'dashed'], colors = [colors[2], colors[2]])\n",
    "\n",
    "    # Labels, etc\n",
    "    ax.set_xlabel(xlabel)\n",
    "    ax.set_ylabel(r\"$err$\")\n",
    "    ax.set_xlim(xlim)\n",
    "    ax.set_ylim(ylim)\n",
    "    if show_legend:\n",
    "#         ax.legend(loc='best')\n",
    "        from matplotlib.legend_handler import HandlerLine2D\n",
    "        ax.legend([err0, (mum, stdm,), lc], \n",
    "                  [\"$err_i$\",\"$\\mu_{err} \\pm \\sigma_{err}$\", r\"$\\langle  err \\rangle \\pm \\mathrm{std}({err}) $\"], \n",
    "                  handler_map = {mum:       HandlerXoffset(x_offset=+10),\n",
    "                                 stdm:      HandlerXoffset(x_offset=-10),\n",
    "                                 type(lc):  HandlerDashedLines(),}, \n",
    "                  handlelength = 2.5, \n",
    "                 )\n",
    "    style.fixticks(fig)\n",
    "        \n",
    "    if \"fig_name\" in kwargs.keys():\n",
    "        fig_name = \"error_GLV_\" + kwargs[\"fig_name\"]\n",
    "        style.saving_fig(fig, figure_path='./figures', fig_name=fig_name, data_type='both')\n",
    "    "
   ]
  },
  {
   "cell_type": "markdown",
   "metadata": {},
   "source": [
    "## Scan over different networks sizes $S$"
   ]
  },
  {
   "cell_type": "code",
   "execution_count": 8,
   "metadata": {
    "collapsed": false
   },
   "outputs": [],
   "source": [
    "def compare_S(\n",
    "    n_samples, Ss, mu, sigma, rho, \n",
    "    show_legend=False,\n",
    "    conn= 1., \n",
    "    **kwargs\n",
    "):\n",
    "    if 'd_factor' in kwargs.keys():\n",
    "        d_factor = kwargs[\"d_factor\"]\n",
    "        set_diagonal = True\n",
    "    else:\n",
    "        set_diagonal = False\n",
    "        \n",
    "    # Sample and calculate error\n",
    "    errs = np.zeros((len(Ss), n_samples)) \n",
    "    for i, S in enumerate(Ss):\n",
    "        for j in range(n_samples):\n",
    "            # Sample A\n",
    "            A = np.random.normal(loc=mu, scale=sigma, size=(S, S))\n",
    "\n",
    "            # Correlate off-diagonal elements\n",
    "            for k in range(S):\n",
    "                for l in range(k + 1, S):\n",
    "                    A[l, k] = mu * (1. - rho - np.sqrt(1 - rho**2)) + rho * A[k, l] + np.sqrt(1 - rho**2) * A[l, k]\n",
    "\n",
    "            if set_diagonal:\n",
    "                ### Adapt diagonal\n",
    "                # `Critical` value for diagonals\n",
    "                d_c         = get_d_c(S, mu, sigma, rho) \n",
    "                d           = d_c * d_factor\n",
    "                np.fill_diagonal(A, -d)\n",
    "                \n",
    "            if conn < 1.:\n",
    "                # Sparse backbone\n",
    "                T = scipy.sparse.random(S, S, density=conn, data_rvs=scipy.stats.randint(0, 2).rvs).toarray()\n",
    "                A *= T\n",
    "\n",
    "            # Calculate err\n",
    "            num = np.einsum('ij, kl ->', A, A)\n",
    "            den = S * np.einsum('ij, jk -> ', A, A)\n",
    "            errs[i, j] = 1. - num / den\n",
    "            \n",
    "    m_s = mu / sigma\n",
    "    if conn == 1.:\n",
    "        if set_diagonal:\n",
    "            mean_theo_f = lambda S: ((S - 2) * rho - 1) / (S**2 * m_s**2 * (d_factor - 1)**2)\n",
    "            std_theo_f  = lambda S:  np.sqrt((2 * m_s**2 * rho + (rho - 1)**2) / (S**3 * m_s**4 * (d_factor - 1)**4))\n",
    "        else:\n",
    "            mean_theo_f = lambda S: rho / (S * m_s**2) \n",
    "            std_theo_f  = lambda S: np.sqrt((2 * m_s**2 * rho + (rho - 1)**2) / (S**3 * m_s**4))\n",
    "    else:\n",
    "        if set_diagonal:\n",
    "            mean_theo_f = lambda S: d_factor**2 * (1 - conn) / (d_factor**2 - 2 * conn * d_factor + conn)\n",
    "            std_theo_f  = lambda S: np.sqrt(conn * d_factor**4 * (1 - conn) * (1 - d_factor)**2 * (d_factor - 2 * conn + 1)**2 / \n",
    "                                            (S * (d_factor**2 - 2 * conn * d_factor + conn)**4 ))\n",
    "        else:\n",
    "            mean_theo_f = lambda S: rho / (S * m_s**2) \n",
    "            std_theo_f  = lambda S: np.sqrt(((1 - conn)**2 * m_s**4 \n",
    "                                             + 2 * m_s**2 * (1 - conn + conn * rho) \n",
    "                                             + (1  - conn * rho)**2) / \n",
    "                                            (conn**2 * S**3 * m_s**4))\n",
    "    \n",
    "    # Plot results\n",
    "    plot_results(\n",
    "        errs, \n",
    "        mean_theo_f, \n",
    "        std_theo_f,\n",
    "        xlabel  = r\"Network size $S$\", \n",
    "        xs      = Ss,\n",
    "        xlim    = (0, np.max(Ss) + 10),\n",
    "        ylim    = (-0.05, 0.05),\n",
    "        show_legend=show_legend,\n",
    "        **kwargs\n",
    "    )\n",
    "    \n",
    "    return errs, mean_theo_f, std_theo_f, Ss"
   ]
  },
  {
   "cell_type": "code",
   "execution_count": 311,
   "metadata": {
    "collapsed": false,
    "scrolled": false
   },
   "outputs": [
    {
     "name": "stdout",
     "output_type": "stream",
     "text": [
      "Save figure to ./figures/error_GLV_A_iid\n"
     ]
    },
    {
     "name": "stderr",
     "output_type": "stream",
     "text": [
      "/home/fs/Code/env/lib/python3.4/site-packages/matplotlib/figure.py:1742: UserWarning: This figure includes Axes that are not compatible with tight_layout, so its results might be incorrect.\n",
      "  warnings.warn(\"This figure includes Axes that are not \"\n",
      "/home/fs/Code/env/lib/python3.4/site-packages/matplotlib/figure.py:1742: UserWarning: This figure includes Axes that are not compatible with tight_layout, so its results might be incorrect.\n",
      "  warnings.warn(\"This figure includes Axes that are not \"\n",
      "/home/fs/Code/env/lib/python3.4/site-packages/matplotlib/figure.py:1742: UserWarning: This figure includes Axes that are not compatible with tight_layout, so its results might be incorrect.\n",
      "  warnings.warn(\"This figure includes Axes that are not \"\n"
     ]
    },
    {
     "data": {
      "image/png": "[encoded data removed]",
      "text/plain": [
       "<matplotlib.figure.Figure at 0x7fb0a4f989e8>"
      ]
     },
     "metadata": {},
     "output_type": "display_data"
    }
   ],
   "source": [
    "# Uncorrelated: A iid \n",
    "res1 = compare_S(n_samples, \n",
    "          Ss, \n",
    "          mu, \n",
    "          sigma, \n",
    "          rho=0., \n",
    "          show_legend=True, \n",
    "          fig_name = \"A_iid\",)\n",
    "# Positive correlation\n",
    "res2 = compare_S(n_samples, \n",
    "          Ss, \n",
    "          mu, \n",
    "          sigma, \n",
    "          rho=0.3,\n",
    "          fig_name = \"rho_03\",)\n",
    "# Negative correlation\n",
    "res3 = compare_S(n_samples, \n",
    "          Ss, \n",
    "          mu, \n",
    "          sigma, \n",
    "          rho=-0.7,\n",
    "          fig_name = \"rho_-07\",)\n",
    "# Constant diagonal\n",
    "res4 = compare_S(n_samples, \n",
    "          Ss, \n",
    "          mu, \n",
    "          sigma, \n",
    "          rho=0.,\n",
    "          d_factor=2,\n",
    "          fig_name = \"d_2_rho_0\",)\n",
    "\n"
   ]
  },
  {
   "cell_type": "code",
   "execution_count": null,
   "metadata": {
    "collapsed": true
   },
   "outputs": [],
   "source": []
  },
  {
   "cell_type": "markdown",
   "metadata": {},
   "source": [
    "## Scan over different correlations $\\rho$"
   ]
  },
  {
   "cell_type": "code",
   "execution_count": 12,
   "metadata": {
    "collapsed": false
   },
   "outputs": [],
   "source": [
    "def compare_rho(\n",
    "    n_samples, S, mu, sigma, rhos, \n",
    "    show_legend=False,\n",
    "    **kwargs\n",
    "):\n",
    "    if 'd_factor' in kwargs.keys():\n",
    "        d_factor = kwargs[\"d_factor\"]\n",
    "        set_diagonal = True\n",
    "    else:\n",
    "        set_diagonal = False\n",
    "        \n",
    "    # Sample and calculate error\n",
    "    errs = np.zeros((len(rhos), n_samples)) \n",
    "    for i, rho in enumerate(rhos):\n",
    "        for j in range(n_samples):\n",
    "            # Sample A\n",
    "            A = np.random.normal(loc=mu, scale=sigma, size=(S, S))\n",
    "\n",
    "            # Correlate off-diagonal elements\n",
    "            for k in range(S):\n",
    "                for l in range(k + 1, S):\n",
    "                    A[l, k] = mu * (1. - rho - np.sqrt(1 - rho**2)) + rho * A[k, l] + np.sqrt(1 - rho**2) * A[l, k]\n",
    "\n",
    "            if set_diagonal:\n",
    "                ### Adapt diagonal\n",
    "                # `Critical` value for diagonals\n",
    "                d_c         = get_d_c(S, mu, sigma, rho) \n",
    "                d           = d_c * d_factor\n",
    "                np.fill_diagonal(A, -d)\n",
    "\n",
    "            # Calculate err\n",
    "            num = np.einsum('ij, kl ->', A, A)\n",
    "            den = S * np.einsum('ij, jk -> ', A, A)\n",
    "            errs[i, j] = 1. - num / den\n",
    "            \n",
    "    m_s = mu / sigma\n",
    "    if conn == 1.:\n",
    "        if set_diagonal:\n",
    "            mean_theo_f = lambda S: ((S - 2) * rho - 1) / (S**2 * m_s**2 * (d_factor - 1)**2)\n",
    "            std_theo_f  = lambda S:  np.sqrt((2 * m_s**2 * rho + (rho - 1)**2) / (S**3 * m_s**4 * (d_factor - 1)**4))\n",
    "        else:\n",
    "            mean_theo_f = lambda S: rho / (S * m_s**2) \n",
    "            std_theo_f  = lambda S: np.sqrt((2 * m_s**2 * rho + (rho - 1)**2) / (S**3 * m_s**4))\n",
    "    else:\n",
    "        mean_theo_f = lambda S: rho / (S * m_s**2) + (1 - conn**2) / (conn**2 * S)\n",
    "        std_theo_f  = lambda S: (1 - conn**2) / (conn**2 * S)\n",
    "    \n",
    "    # Plot results\n",
    "    plot_results(\n",
    "        errs, \n",
    "        mean_theo_f, \n",
    "        std_theo_f,\n",
    "        xlabel  = r\"$\\mathrm{corr}(A_{ij}, A_{ji}) = \\rho$\", \n",
    "        xs      = rhos,\n",
    "        xlim    = (-1, 1),\n",
    "        show_legend=show_legend,\n",
    "        **kwargs\n",
    "    )\n",
    "    \n",
    "    return errs, mean_theo_f, std_theo_f, rhos"
   ]
  },
  {
   "cell_type": "code",
   "execution_count": 335,
   "metadata": {
    "collapsed": false,
    "scrolled": false
   },
   "outputs": [
    {
     "name": "stdout",
     "output_type": "stream",
     "text": [
      "Save figure to ./figures/error_GLV_vary_rho_no_d\n"
     ]
    },
    {
     "name": "stderr",
     "output_type": "stream",
     "text": [
      "/home/fs/Code/env/lib/python3.4/site-packages/matplotlib/figure.py:1742: UserWarning: This figure includes Axes that are not compatible with tight_layout, so its results might be incorrect.\n",
      "  warnings.warn(\"This figure includes Axes that are not \"\n",
      "/home/fs/Code/env/lib/python3.4/site-packages/matplotlib/figure.py:1742: UserWarning: This figure includes Axes that are not compatible with tight_layout, so its results might be incorrect.\n",
      "  warnings.warn(\"This figure includes Axes that are not \"\n",
      "/home/fs/Code/env/lib/python3.4/site-packages/matplotlib/figure.py:1742: UserWarning: This figure includes Axes that are not compatible with tight_layout, so its results might be incorrect.\n",
      "  warnings.warn(\"This figure includes Axes that are not \"\n"
     ]
    },
    {
     "data": {
      "image/png": "[encoded data removed]",
      "text/plain": [
       "<matplotlib.figure.Figure at 0x7fb0a4ff7588>"
      ]
     },
     "metadata": {},
     "output_type": "display_data"
    }
   ],
   "source": [
    "# Sample errors and plot results\n",
    "res5 = compare_rho(n_samples, \n",
    "          S, \n",
    "          mu, \n",
    "          sigma, \n",
    "          rhos,\n",
    "          fig_name = \"vary_rho_no_d\",)"
   ]
  },
  {
   "cell_type": "markdown",
   "metadata": {},
   "source": [
    "## Scan over different constant diagonals"
   ]
  },
  {
   "cell_type": "code",
   "execution_count": 13,
   "metadata": {
    "collapsed": false
   },
   "outputs": [],
   "source": [
    "def compare_d_factor(\n",
    "    n_samples, S, mu, sigma, rho, d_factors,\n",
    "    show_legend=False,\n",
    "    conn = 1., \n",
    "    **kwargs\n",
    "):\n",
    "    # Sample and calculate error\n",
    "    errs = np.zeros((len(d_factors), n_samples)) \n",
    "    for i, d_factor in enumerate(d_factors):\n",
    "        for j in range(n_samples):\n",
    "            # Sample A\n",
    "            A = np.random.normal(loc=mu, scale=sigma, size=(S, S))\n",
    "\n",
    "            # Correlate off-diagonal elements\n",
    "            for k in range(S):\n",
    "                for l in range(k + 1, S):\n",
    "                    A[l, k] = mu * (1. - rho - np.sqrt(1 - rho**2)) + rho * A[k, l] + np.sqrt(1 - rho**2) * A[l, k]\n",
    "\n",
    "            ### Adapt diagonal\n",
    "            # `Critical` value for diagonals\n",
    "            d_c         = get_d_c(S, mu, sigma, rho) \n",
    "            d           = d_c * d_factor\n",
    "            np.fill_diagonal(A, -d)\n",
    "            \n",
    "            if conn < 1.:\n",
    "                # Sparse backbone\n",
    "                T = scipy.sparse.random(S, S, density=conn, data_rvs=scipy.stats.randint(0, 2).rvs).toarray()\n",
    "                A *= T\n",
    "\n",
    "            # Calculate err\n",
    "            num = np.einsum('ij, kl ->', A, A)\n",
    "            den = S * np.einsum('ij, jk -> ', A, A)\n",
    "            errs[i, j] = 1. - num / den\n",
    "            \n",
    "    assert conn == 1., \"conn < 1 not realized\"\n",
    "    m_s = mu / sigma\n",
    "    mean_theo_f = lambda d_factor: ((S - 2) * rho - 1) / (S**2 * m_s**2 * (d_factor - 1)**2)\n",
    "    std_theo_f  = lambda d_factor:  np.sqrt((2 * m_s**2 * rho + (rho - 1)**2) / (S**3 * m_s**4 * (d_factor - 1)**4))\n",
    "    \n",
    "    # Plot results\n",
    "    plot_results(\n",
    "        errs, \n",
    "        mean_theo_f, \n",
    "        std_theo_f,\n",
    "        xlabel  = r\"Constant diagonal $- A_{ii} / d_c$\", \n",
    "        xs      = d_factors,\n",
    "        ylim    = (-1, 1),\n",
    "        show_legend=show_legend,\n",
    "        **kwargs\n",
    "    )\n",
    "    \n",
    "    return errs, mean_theo_f, std_theo_f, d_factors"
   ]
  },
  {
   "cell_type": "code",
   "execution_count": 337,
   "metadata": {
    "collapsed": false,
    "scrolled": false
   },
   "outputs": [
    {
     "name": "stdout",
     "output_type": "stream",
     "text": [
      "Save figure to ./figures/error_GLV_vary_d_rho_0\n"
     ]
    },
    {
     "name": "stderr",
     "output_type": "stream",
     "text": [
      "/home/fs/Code/env/lib/python3.4/site-packages/matplotlib/figure.py:1742: UserWarning: This figure includes Axes that are not compatible with tight_layout, so its results might be incorrect.\n",
      "  warnings.warn(\"This figure includes Axes that are not \"\n",
      "/home/fs/Code/env/lib/python3.4/site-packages/matplotlib/figure.py:1742: UserWarning: This figure includes Axes that are not compatible with tight_layout, so its results might be incorrect.\n",
      "  warnings.warn(\"This figure includes Axes that are not \"\n",
      "/home/fs/Code/env/lib/python3.4/site-packages/matplotlib/figure.py:1742: UserWarning: This figure includes Axes that are not compatible with tight_layout, so its results might be incorrect.\n",
      "  warnings.warn(\"This figure includes Axes that are not \"\n"
     ]
    },
    {
     "data": {
      "image/png": "[encoded data removed]",
      "text/plain": [
       "<matplotlib.figure.Figure at 0x7fb09d455630>"
      ]
     },
     "metadata": {},
     "output_type": "display_data"
    }
   ],
   "source": [
    "# Sample errors and plot results\n",
    "res6 = compare_d_factor(n_samples, \n",
    "    S, \n",
    "    mu, \n",
    "    sigma, \n",
    "    rho,\n",
    "    d_factors,\n",
    "    fig_name = \"vary_d_rho_0\",)"
   ]
  },
  {
   "cell_type": "markdown",
   "metadata": {},
   "source": [
    "## Scan over different ratios $\\frac{\\mu}{\\sigma}$"
   ]
  },
  {
   "cell_type": "code",
   "execution_count": 10,
   "metadata": {
    "collapsed": false
   },
   "outputs": [],
   "source": [
    "def compare_mu_sigma(\n",
    "    n_samples, S, mus, sigmas, rho, \n",
    "    show_legend=False,\n",
    "    **kwargs\n",
    "):\n",
    "    if 'd_factor' in kwargs.keys():\n",
    "        d_factor = kwargs[\"d_factor\"]\n",
    "        set_diagonal = True\n",
    "    else:\n",
    "        set_diagonal = False\n",
    "        \n",
    "    # Sample and calculate error\n",
    "    errs = np.zeros((len(mus), n_samples)) \n",
    "    for i, mu_sigma in enumerate(np.stack((mus, sigmas), axis=1)):\n",
    "        mu, sigma = mu_sigma\n",
    "        for j in range(n_samples):\n",
    "            # Sample A\n",
    "            A = np.random.normal(loc=mu, scale=sigma, size=(S, S))\n",
    "\n",
    "            # Correlate off-diagonal elements\n",
    "            for k in range(S):\n",
    "                for l in range(k + 1, S):\n",
    "                    A[l, k] = mu * (1. - rho - np.sqrt(1 - rho**2)) + rho * A[k, l] + np.sqrt(1 - rho**2) * A[l, k]\n",
    "\n",
    "            if set_diagonal:\n",
    "                ### Adapt diagonal\n",
    "                # `Critical` value for diagonals\n",
    "                d_c         = get_d_c(S, mu, sigma, rho) \n",
    "                d           = d_c * d_factor\n",
    "                np.fill_diagonal(A, -d)\n",
    "\n",
    "            # Calculate err\n",
    "            num = np.einsum('ij, kl ->', A, A)\n",
    "            den = S * np.einsum('ij, jk -> ', A, A)\n",
    "            errs[i, j] = 1. - num / den\n",
    "            \n",
    "    if set_diagonal:\n",
    "        mean_theo_f = lambda m_s: ((S - 2) * rho - 1) / (S**2 * m_s**2 * (d_factor - 1)**2)\n",
    "        std_theo_f  = lambda m_s:  np.sqrt((2 * m_s**2 * rho + (rho - 1)**2) / (S**3 * m_s**4 * (d_factor - 1)**4))\n",
    "    else:\n",
    "        mean_theo_f = lambda m_s: rho / (S * m_s**2)\n",
    "        std_theo_f  = lambda m_s: np.sqrt((2 * m_s**2 * rho + (rho - 1)**2) / (S**3 * m_s**4))\n",
    "    \n",
    "    ratios = mus / sigmas\n",
    "    \n",
    "    # Plot results\n",
    "    plot_results(\n",
    "        errs, \n",
    "        mean_theo_f, \n",
    "        std_theo_f,\n",
    "        xlabel  = r\"Ratio $\\frac{\\mu}{\\sigma}$\", \n",
    "        xs      = ratios, \n",
    "        ylim    = (-0.1, 0.1),\n",
    "        show_legend=show_legend,\n",
    "        **kwargs\n",
    "    )\n",
    "    \n",
    "    return errs, mean_theo_f, std_theo_f, ratios"
   ]
  },
  {
   "cell_type": "code",
   "execution_count": 302,
   "metadata": {
    "collapsed": false,
    "scrolled": false
   },
   "outputs": [
    {
     "name": "stdout",
     "output_type": "stream",
     "text": [
      "Save figure to ./figures/error_GLV_vary_mu_sigma_rho_0\n"
     ]
    },
    {
     "name": "stderr",
     "output_type": "stream",
     "text": [
      "/home/fs/Code/env/lib/python3.4/site-packages/matplotlib/figure.py:1742: UserWarning: This figure includes Axes that are not compatible with tight_layout, so its results might be incorrect.\n",
      "  warnings.warn(\"This figure includes Axes that are not \"\n",
      "/home/fs/Code/env/lib/python3.4/site-packages/matplotlib/figure.py:1742: UserWarning: This figure includes Axes that are not compatible with tight_layout, so its results might be incorrect.\n",
      "  warnings.warn(\"This figure includes Axes that are not \"\n",
      "/home/fs/Code/env/lib/python3.4/site-packages/matplotlib/figure.py:1742: UserWarning: This figure includes Axes that are not compatible with tight_layout, so its results might be incorrect.\n",
      "  warnings.warn(\"This figure includes Axes that are not \"\n"
     ]
    },
    {
     "data": {
      "image/png": "[encoded data removed]",
      "text/plain": [
       "<matplotlib.figure.Figure at 0x7fb0a35be860>"
      ]
     },
     "metadata": {},
     "output_type": "display_data"
    }
   ],
   "source": [
    "# Sample errors and plot results\n",
    "res7 = compare_mu_sigma(n_samples, \n",
    "    S, \n",
    "    mus, \n",
    "    sigmas, \n",
    "    rho=0,\n",
    "    fig_name = \"vary_mu_sigma_rho_0\",)"
   ]
  },
  {
   "cell_type": "code",
   "execution_count": 303,
   "metadata": {
    "collapsed": false,
    "scrolled": false
   },
   "outputs": [
    {
     "name": "stdout",
     "output_type": "stream",
     "text": [
      "Save figure to ./figures/error_GLV_vary_mu_sigma_rho_02\n"
     ]
    },
    {
     "name": "stderr",
     "output_type": "stream",
     "text": [
      "/home/fs/Code/env/lib/python3.4/site-packages/matplotlib/figure.py:1742: UserWarning: This figure includes Axes that are not compatible with tight_layout, so its results might be incorrect.\n",
      "  warnings.warn(\"This figure includes Axes that are not \"\n",
      "/home/fs/Code/env/lib/python3.4/site-packages/matplotlib/figure.py:1742: UserWarning: This figure includes Axes that are not compatible with tight_layout, so its results might be incorrect.\n",
      "  warnings.warn(\"This figure includes Axes that are not \"\n",
      "/home/fs/Code/env/lib/python3.4/site-packages/matplotlib/figure.py:1742: UserWarning: This figure includes Axes that are not compatible with tight_layout, so its results might be incorrect.\n",
      "  warnings.warn(\"This figure includes Axes that are not \"\n"
     ]
    },
    {
     "data": {
      "image/png": "[encoded data removed]",
      "text/plain": [
       "<matplotlib.figure.Figure at 0x7fb0a3ab7438>"
      ]
     },
     "metadata": {},
     "output_type": "display_data"
    }
   ],
   "source": [
    "# Sample errors and plot results\n",
    "res8 = compare_mu_sigma(n_samples, \n",
    "    S, \n",
    "    mus, \n",
    "    sigmas, \n",
    "    rho=0.2,\n",
    "    fig_name = \"vary_mu_sigma_rho_02\",)"
   ]
  },
  {
   "cell_type": "code",
   "execution_count": null,
   "metadata": {
    "collapsed": true
   },
   "outputs": [],
   "source": []
  },
  {
   "cell_type": "markdown",
   "metadata": {},
   "source": [
    "# Create panel "
   ]
  },
  {
   "cell_type": "code",
   "execution_count": 19,
   "metadata": {
    "collapsed": true
   },
   "outputs": [],
   "source": [
    "\n",
    "def plot_single_res(\n",
    "    ax, \n",
    "    errs, \n",
    "    mean_theo_f, \n",
    "    std_theo_f,\n",
    "    xs, \n",
    "    xlabel, \n",
    "    show_legend=False, \n",
    "    **kwargs\n",
    "):\n",
    "    if 'xlim' in kwargs.keys():\n",
    "        xlim = kwargs['xlim']\n",
    "    else:\n",
    "        dx  = 0.1 * (max(xs) - min(xs))\n",
    "        xlim = (min(xs) - dx, max(xs) + dx)\n",
    "    if 'ylim' in kwargs.keys():\n",
    "        ylim = kwargs['ylim']\n",
    "    else:\n",
    "        dy  = 0.1 * (np.max(errs) - np.min(errs))\n",
    "        ymin = np.min((0., np.min(errs))) - dy\n",
    "        ymax = np.max((0., np.max(errs))) + dy\n",
    "        ylim = (ymin, ymax)\n",
    "    \n",
    "    # Zero line\n",
    "    ax.axhline(0, linestyle='-', color='#888a85')\n",
    "    \n",
    "    # Single errors\n",
    "    err0,   = ax.plot(xs, errs[:, 0], 'o', ms=1.5, color=colors[0])\n",
    "    ax.plot(xs, errs[:, 1:], 'o', ms=1.5, color=colors[0])\n",
    "\n",
    "    # Empirical means and std devs\n",
    "    means, stds = np.mean(errs, axis=1), np.std(errs, axis=1)\n",
    "    mum,    = ax.plot(xs, means,          'o', ms=5, color=colors[1], zorder=6, label=r\"$\\mu_{err}$\")\n",
    "    stdm,   = ax.plot(xs, means + stds,   '_', ms=8, mew=2, mec=colors[1], zorder=5, \n",
    "                      label=r\"$\\pm \\sigma_{err} + \\mu_{err}$\")\n",
    "    ax.plot(xs, means - stds,   '_', ms=8, mew=2, mec=colors[1], zorder=5)\n",
    "    \n",
    "    # Theoretical means and std devs\n",
    "    xs_c        = np.linspace(xlim[0], xlim[1], 200)\n",
    "    mean_theo   = mean_theo_f(xs_c)\n",
    "    std_theo    = std_theo_f(xs_c)\n",
    "    ax.plot(xs_c, mean_theo, '-', color=colors[2], zorder=4, label=r\"$\\langle err \\rangle$\")\n",
    "    ax.plot(xs_c, mean_theo + std_theo, \n",
    "            '--', color=colors[2], label=r\"$\\pm \\mathrm{std}({err}) + \\langle  err \\rangle $\")\n",
    "    ax.plot(xs_c, mean_theo - std_theo, '--', color=colors[2])\n",
    "    ax.fill_between(xs_c, mean_theo + std_theo, mean_theo - std_theo, color=colors[2], alpha=0.3)\n",
    "    # Proxy artists for custom legend:\n",
    "    line = [[(0, 0)]]\n",
    "    lc = LineCollection(2 * line, lw=2., linestyles = ['solid', 'dashed'], colors = [colors[2], colors[2]])\n",
    "\n",
    "    # Labels, etc\n",
    "    ax.set_xlabel(xlabel)\n",
    "    ax.set_ylabel(r\"$err$\")\n",
    "    ax.set_xlim(xlim)\n",
    "    ax.set_ylim(ylim)\n",
    "    if show_legend:\n",
    "#         ax.legend(loc='best')\n",
    "        from matplotlib.legend_handler import HandlerLine2D\n",
    "        ax.legend([err0, (mum, stdm,), lc], \n",
    "                  [\"$err_i$\",\"$\\mu_{err} \\pm \\sigma_{err}$\", r\"$\\langle  err \\rangle \\pm \\mathrm{std}({err}) $\"], \n",
    "                  handler_map = {mum:       HandlerXoffset(x_offset=+10),\n",
    "                                 stdm:      HandlerXoffset(x_offset=-10),\n",
    "                                 type(lc):  HandlerDashedLines(),}, \n",
    "                  handlelength = 2.5, \n",
    "                 )\n",
    "        \n",
    "from itertools import count\n",
    "def label_subplots(ax_lst, *, upper_case=True,\n",
    "                   offset_points=(-5, -5)):\n",
    "    start_ord = 65 if upper_case else 97\n",
    "    for ax, lab in zip(np.ravel(ax_lst), (chr(j) for j in count(start_ord))):\n",
    "        ax.annotate(lab, (-.2, 1.0),\n",
    "                    xytext=offset_points,\n",
    "                    xycoords='axes fraction',\n",
    "                    textcoords='offset points',\n",
    "                    ha='left', va='top')\n",
    "\n",
    "\n",
    "\n",
    "\n",
    "    "
   ]
  },
  {
   "cell_type": "code",
   "execution_count": 375,
   "metadata": {
    "collapsed": false
   },
   "outputs": [
    {
     "name": "stdout",
     "output_type": "stream",
     "text": [
      "Save figure to ./figures/error_GLV_panel\n"
     ]
    },
    {
     "name": "stderr",
     "output_type": "stream",
     "text": [
      "/home/fs/Code/env/lib/python3.4/site-packages/matplotlib/figure.py:1742: UserWarning: This figure includes Axes that are not compatible with tight_layout, so its results might be incorrect.\n",
      "  warnings.warn(\"This figure includes Axes that are not \"\n",
      "/home/fs/Code/env/lib/python3.4/site-packages/matplotlib/figure.py:1742: UserWarning: This figure includes Axes that are not compatible with tight_layout, so its results might be incorrect.\n",
      "  warnings.warn(\"This figure includes Axes that are not \"\n",
      "/home/fs/Code/env/lib/python3.4/site-packages/matplotlib/figure.py:1742: UserWarning: This figure includes Axes that are not compatible with tight_layout, so its results might be incorrect.\n",
      "  warnings.warn(\"This figure includes Axes that are not \"\n"
     ]
    },
    {
     "data": {
      "image/png": "[encoded data removed]",
      "text/plain": [
       "<matplotlib.figure.Figure at 0x7fb0a4c859e8>"
      ]
     },
     "metadata": {},
     "output_type": "display_data"
    }
   ],
   "source": [
    "# Plot results\n",
    "res_all = [\n",
    "    res1, # iid\n",
    "    res2, # rho = 0.3\n",
    "    res5, # vary correlation\n",
    "    res6, # vary const diag\n",
    "]\n",
    "show_leg = [True] + [False]*3\n",
    "\n",
    "figsize = (10, 6.5) \n",
    "fig = plt.figure(figsize=figsize)\n",
    "for i in range(2):\n",
    "    for j in range(2):\n",
    "        style.add_subplot(fig, n_rows_cols=(2, 2), index_row_col=(i, j), rowspan=1, colspan=1)\n",
    "\n",
    "# A iid\n",
    "errs, mean_theo_f, std_theo_f, Ss = res1\n",
    "plot_single_res(\n",
    "    fig.axes[0],\n",
    "    errs, \n",
    "    mean_theo_f, \n",
    "    std_theo_f,\n",
    "    xlabel  = r\"Network size $S$\", \n",
    "    xs      = Ss,\n",
    "    xlim    = (0, np.max(Ss) + 10),\n",
    "    ylim    = (-0.04, 0.04),\n",
    ")\n",
    "# rho = 0.3\n",
    "errs, mean_theo_f, std_theo_f, Ss = res2\n",
    "plot_single_res(\n",
    "    fig.axes[1],\n",
    "    errs, \n",
    "    mean_theo_f, \n",
    "    std_theo_f,\n",
    "    xlabel  = r\"Network size $S$\", \n",
    "    xs      = Ss,\n",
    "    xlim    = (0, np.max(Ss) + 10),\n",
    "    ylim    = (-0.01, 0.07),\n",
    "    show_legend=True,)\n",
    "\n",
    "# Vary correlation\n",
    "errs, mean_theo_f, std_theo_f, rhos = res5\n",
    "plot_single_res(\n",
    "    fig.axes[2],\n",
    "    errs, \n",
    "    mean_theo_f, \n",
    "    std_theo_f,\n",
    "    xlabel  = r\"$\\mathrm{corr}(A_{ij}, A_{ji}) = \\rho$\", \n",
    "    xs      = rhos,\n",
    "#     xlim    = (-1, 1),\n",
    "    ylim    = (-0.03, 0.03),\n",
    ")\n",
    "\n",
    "# Vary const diag\n",
    "errs, mean_theo_f, std_theo_f, d_factors = res6\n",
    "plot_single_res(\n",
    "    fig.axes[3],\n",
    "    errs, \n",
    "    mean_theo_f, \n",
    "    std_theo_f,\n",
    "    xlabel  = r\"Constant diagonal $- A_{ii} / d_c$\", \n",
    "    xs      = d_factors,\n",
    "    ylim    = (-1, 1),\n",
    "#     ylim    = (-0.05, 0.05),\n",
    ")\n",
    "\n",
    "style.fixticks(fig)\n",
    "label_subplots(fig.axes, upper_case=True)\n",
    "fig_name = \"error_GLV_panel\"\n",
    "style.saving_fig(fig, figure_path='./figures', fig_name=fig_name, data_type='both')\n"
   ]
  },
  {
   "cell_type": "code",
   "execution_count": 356,
   "metadata": {
    "collapsed": true
   },
   "outputs": [],
   "source": [
    "\n"
   ]
  },
  {
   "cell_type": "markdown",
   "metadata": {},
   "source": [
    "# Sparse matrices"
   ]
  },
  {
   "cell_type": "code",
   "execution_count": 9,
   "metadata": {
    "collapsed": false
   },
   "outputs": [
    {
     "data": {
      "image/png": "[encoded data removed]",
      "text/plain": [
       "<matplotlib.figure.Figure at 0x7fe21dc45e50>"
      ]
     },
     "metadata": {},
     "output_type": "display_data"
    }
   ],
   "source": [
    "conn = 0.1\n",
    "# Uncorrelated: A iid \n",
    "res1_sparse = compare_S(n_samples, \n",
    "                        Ss, \n",
    "                        mu, \n",
    "                        sigma, \n",
    "                        rho=0., \n",
    "                        show_legend=True, \n",
    "                        conn=conn,\n",
    "#                         fig_name = \"A_iid_sparse\",\n",
    "                       )"
   ]
  },
  {
   "cell_type": "code",
   "execution_count": 20,
   "metadata": {
    "collapsed": false,
    "scrolled": false
   },
   "outputs": [
    {
     "ename": "NameError",
     "evalue": "name 'C' is not defined",
     "output_type": "error",
     "traceback": [
      "\u001b[0;31m---------------------------------------------------------------------------\u001b[0m",
      "\u001b[0;31mNameError\u001b[0m                                 Traceback (most recent call last)",
      "\u001b[0;32m<ipython-input-20-11bfeb8bd6b5>\u001b[0m in \u001b[0;36m<module>\u001b[0;34m()\u001b[0m\n\u001b[1;32m      7\u001b[0m                         \u001b[0mrho\u001b[0m\u001b[0;34m=\u001b[0m\u001b[0;36m0.\u001b[0m\u001b[0;34m,\u001b[0m\u001b[0;34m\u001b[0m\u001b[0m\n\u001b[1;32m      8\u001b[0m                         \u001b[0mshow_legend\u001b[0m\u001b[0;34m=\u001b[0m\u001b[0;32mTrue\u001b[0m\u001b[0;34m,\u001b[0m\u001b[0;34m\u001b[0m\u001b[0m\n\u001b[0;32m----> 9\u001b[0;31m                         \u001b[0mconn\u001b[0m\u001b[0;34m=\u001b[0m\u001b[0mconn\u001b[0m\u001b[0;34m,\u001b[0m\u001b[0;34m\u001b[0m\u001b[0m\n\u001b[0m\u001b[1;32m     10\u001b[0m \u001b[0;31m#                         fig_name = \"A_iid_sparse\",\u001b[0m\u001b[0;34m\u001b[0m\u001b[0;34m\u001b[0m\u001b[0m\n\u001b[1;32m     11\u001b[0m                        )\n",
      "\u001b[0;32m<ipython-input-16-2e1ed67d8709>\u001b[0m in \u001b[0;36mcompare_S\u001b[0;34m(n_samples, Ss, mu, sigma, rho, show_legend, conn, **kwargs)\u001b[0m\n\u001b[1;32m     43\u001b[0m         \u001b[0mm_s\u001b[0m \u001b[0;34m=\u001b[0m \u001b[0mmu\u001b[0m \u001b[0;34m/\u001b[0m \u001b[0msigma\u001b[0m\u001b[0;34m\u001b[0m\u001b[0m\n\u001b[1;32m     44\u001b[0m     \u001b[0;32melse\u001b[0m\u001b[0;34m:\u001b[0m\u001b[0;34m\u001b[0m\u001b[0m\n\u001b[0;32m---> 45\u001b[0;31m         \u001b[0mm_s\u001b[0m \u001b[0;34m=\u001b[0m \u001b[0mC\u001b[0m \u001b[0;34m*\u001b[0m \u001b[0mmu\u001b[0m \u001b[0;34m/\u001b[0m \u001b[0mnp\u001b[0m\u001b[0;34m.\u001b[0m\u001b[0msqrt\u001b[0m\u001b[0;34m(\u001b[0m\u001b[0mC\u001b[0m \u001b[0;34m*\u001b[0m \u001b[0msigma\u001b[0m\u001b[0;34m**\u001b[0m\u001b[0;36m2\u001b[0m \u001b[0;34m+\u001b[0m \u001b[0mC\u001b[0m \u001b[0;34m*\u001b[0m \u001b[0;34m(\u001b[0m\u001b[0;36m1.\u001b[0m \u001b[0;34m-\u001b[0m \u001b[0mC\u001b[0m\u001b[0;34m)\u001b[0m \u001b[0;34m*\u001b[0m \u001b[0mmu\u001b[0m\u001b[0;34m**\u001b[0m\u001b[0;36m2\u001b[0m\u001b[0;34m)\u001b[0m\u001b[0;34m\u001b[0m\u001b[0m\n\u001b[0m\u001b[1;32m     46\u001b[0m     \u001b[0;32mif\u001b[0m \u001b[0mset_diagonal\u001b[0m\u001b[0;34m:\u001b[0m\u001b[0;34m\u001b[0m\u001b[0m\n\u001b[1;32m     47\u001b[0m         \u001b[0mmean_theo_f\u001b[0m \u001b[0;34m=\u001b[0m \u001b[0;32mlambda\u001b[0m \u001b[0mS\u001b[0m\u001b[0;34m:\u001b[0m \u001b[0;34m(\u001b[0m\u001b[0;34m(\u001b[0m\u001b[0mS\u001b[0m \u001b[0;34m-\u001b[0m \u001b[0;36m2\u001b[0m\u001b[0;34m)\u001b[0m \u001b[0;34m*\u001b[0m \u001b[0mrho\u001b[0m \u001b[0;34m-\u001b[0m \u001b[0;36m1\u001b[0m\u001b[0;34m)\u001b[0m \u001b[0;34m/\u001b[0m \u001b[0;34m(\u001b[0m\u001b[0mS\u001b[0m\u001b[0;34m**\u001b[0m\u001b[0;36m2\u001b[0m \u001b[0;34m*\u001b[0m \u001b[0mm_s\u001b[0m\u001b[0;34m**\u001b[0m\u001b[0;36m2\u001b[0m \u001b[0;34m*\u001b[0m \u001b[0;34m(\u001b[0m\u001b[0md_factor\u001b[0m \u001b[0;34m-\u001b[0m \u001b[0;36m1\u001b[0m\u001b[0;34m)\u001b[0m\u001b[0;34m**\u001b[0m\u001b[0;36m2\u001b[0m\u001b[0;34m)\u001b[0m\u001b[0;34m\u001b[0m\u001b[0m\n",
      "\u001b[0;31mNameError\u001b[0m: name 'C' is not defined"
     ]
    }
   ],
   "source": [
    "conn = 0.12\n",
    "# Uncorrelated: A iid \n",
    "res1_sparse = compare_S(n_samples, \n",
    "                        Ss, \n",
    "                        mu, \n",
    "                        sigma, \n",
    "                        rho=0., \n",
    "                        show_legend=True, \n",
    "                        conn=conn,\n",
    "#                         fig_name = \"A_iid_sparse\",\n",
    "                       )\n",
    "# Positive correlation\n",
    "res2_sparse = compare_S(n_samples, \n",
    "                        Ss, \n",
    "                        mu, \n",
    "                        sigma, \n",
    "                        rho=0.3, \n",
    "                        conn=conn,\n",
    "#                         fig_name = \"rho_03_sparse\",\n",
    "                       )\n",
    "# Negative correlation\n",
    "res3_sparse = compare_S(n_samples, \n",
    "                        Ss, \n",
    "                        mu, \n",
    "                        sigma, \n",
    "                        rho=-0.7, \n",
    "                        conn=conn,\n",
    "#                         fig_name = \"rho_-07_sparse\",\n",
    "                       )\n",
    "# # Constant diagonal\n",
    "# res4_sparse = compare_S(n_samples, \n",
    "#                         Ss, \n",
    "#                         mu, \n",
    "#                         sigma, \n",
    "#                         rho=0.,\n",
    "#                         d_factor=2,\n",
    "#                         conn=conn,\n",
    "# #                         fig_name = \"d_2_rho_0_sparse\",\n",
    "#                        )\n",
    "# Vary rho (no correlation, no diag)\n",
    "res5_sparse = compare_rho(n_samples, \n",
    "                          S, \n",
    "                          mu, \n",
    "                          sigma, \n",
    "                          rhos,\n",
    "                          conn=conn,\n",
    "#                           fig_name = \"vary_rho_no_d_sparse\",\n",
    "                         )\n",
    "# # Vary constant diag (no correlation)\n",
    "# res6_sparse = compare_d_factor(n_samples, \n",
    "#                                S, \n",
    "#                                mu, \n",
    "#                                sigma, \n",
    "#                                rho,\n",
    "#                                d_factors,\n",
    "#                                conn=conn,\n",
    "# #                                fig_name = \"vary_d_rho_0_sparse\",\n",
    "#                               )"
   ]
  },
  {
   "cell_type": "code",
   "execution_count": null,
   "metadata": {
    "collapsed": true
   },
   "outputs": [],
   "source": []
  },
  {
   "cell_type": "code",
   "execution_count": 318,
   "metadata": {
    "collapsed": false
   },
   "outputs": [
    {
     "ename": "Exception",
     "evalue": "Don't run the cells below...",
     "output_type": "error",
     "traceback": [
      "\u001b[0;31m---------------------------------------------------------------------------\u001b[0m",
      "\u001b[0;31mException\u001b[0m                                 Traceback (most recent call last)",
      "\u001b[0;32m<ipython-input-318-e7a6da370ec3>\u001b[0m in \u001b[0;36m<module>\u001b[0;34m()\u001b[0m\n\u001b[0;32m----> 1\u001b[0;31m \u001b[0;32mraise\u001b[0m \u001b[0mException\u001b[0m\u001b[0;34m(\u001b[0m\u001b[0;34m\"Don't run the cells below...\"\u001b[0m\u001b[0;34m)\u001b[0m\u001b[0;34m\u001b[0m\u001b[0m\n\u001b[0m",
      "\u001b[0;31mException\u001b[0m: Don't run the cells below..."
     ]
    }
   ],
   "source": [
    "raise Exception(\"Don't run the cells below...\")"
   ]
  },
  {
   "cell_type": "code",
   "execution_count": null,
   "metadata": {
    "collapsed": true
   },
   "outputs": [],
   "source": []
  },
  {
   "cell_type": "markdown",
   "metadata": {},
   "source": [
    "## $A_{ij} > 0 \\sim$ log-normal, iid\n",
    "\n",
    "The log-normal distribution has the following moments:\n",
    "\n",
    "> $ \\mu_l      = e^{\\mu +\\sigma ^{2}/2} $ \n",
    " \n",
    "> $ \\sigma_l^2 = (e^{\\sigma ^{2}}\\!\\!-1)e^{2\\mu +\\sigma ^{2}} $\n",
    "\n",
    "> $ \\mu_{l, 3} = (e^{\\sigma ^{2}}\\!\\!+2){\\sqrt {e^{\\sigma ^{2}}\\!\\!-1}} \\cdot \\sigma_l^3 $\n",
    "\n",
    "> $ \\mu_{l, 4} = (e^{4\\sigma ^{2}}\\!\\!+2e^{3\\sigma ^{2}}\\!\\!+3e^{2\\sigma ^{2}}\\!\\!-3) \\cdot \\sigma_l^4 $\n",
    "\n",
    "where $\\mu$ and $\\sigma$ are the mean and variance of the underlying normal distribution.\n"
   ]
  },
  {
   "cell_type": "code",
   "execution_count": null,
   "metadata": {
    "collapsed": false,
    "scrolled": true
   },
   "outputs": [],
   "source": [
    "# Choose network sizes to be sampled from\n",
    "S_min = 20\n",
    "S_max = 120\n",
    "S_step = 10\n",
    "Ss = np.arange(S_min, S_max + S_step, S_step)\n",
    "\n",
    "# Number of samples\n",
    "n_samples = 500\n",
    "\n",
    "# Mean and variance of underlying gaussian\n",
    "mu_normal       = 0.\n",
    "sigma_normal    = 1.\n",
    "\n",
    "# Moments of actual distribution\n",
    "mu      = np.exp(mu_normal + sigma_normal**2 / 2.)\n",
    "sigma   = np.sqrt((np.exp(sigma_normal**2) - 1.) * np.exp(2 * mu_normal + sigma_normal**2))\n",
    "mu_3    = (np.exp(sigma_normal**2) + 2) * np.sqrt(np.exp(sigma_normal**2) - 1.) * sigma**3\n",
    "mu_4    = (np.exp(4 * sigma_normal**2) + 2 * np.exp(3 * sigma_normal**2) + 3 * np.exp(2 * sigma_normal**2) - 3) * sigma**4\n",
    "\n",
    "# Sample and calculate error\n",
    "errs = np.zeros((len(Ss), n_samples)) \n",
    "for k, S in enumerate(Ss):\n",
    "    print(\"Calculate error for S = %d\"%S)\n",
    "    for i in range(n_samples):\n",
    "        # Sample A\n",
    "        A = np.random.lognormal(mean=mu_normal, sigma=sigma_normal, size=(S, S))\n",
    "\n",
    "        # Calculate err\n",
    "        num = np.einsum('ij, kl ->', A, A)\n",
    "        den = S * np.einsum('ij, jk -> ', A, A)\n",
    "        errs[k, i] = 1. - num / den\n",
    "        \n",
    "results(errs, Ss, mu, sigma, mu_3, mu_4)"
   ]
  },
  {
   "cell_type": "markdown",
   "metadata": {
    "collapsed": false
   },
   "source": [
    "## Worst case scenario: zero mean "
   ]
  },
  {
   "cell_type": "code",
   "execution_count": null,
   "metadata": {
    "collapsed": false,
    "scrolled": true
   },
   "outputs": [],
   "source": [
    "# Choose network sizes to be sampled from\n",
    "S_min = 20\n",
    "S_max = 120\n",
    "S_step = 10\n",
    "Ss = np.arange(S_min, S_max + S_step, S_step)\n",
    "\n",
    "# Number of samples\n",
    "n_samples = 500\n",
    "\n",
    "# Moments of distribution\n",
    "mu      = 0.\n",
    "sigma   = 1.\n",
    "mu_3    = 0. * sigma**3\n",
    "mu_4    = 3. * sigma**4\n",
    "\n",
    "# Sample and calculate error\n",
    "errs = np.zeros((len(Ss), n_samples)) \n",
    "for k, S in enumerate(Ss):\n",
    "    print(\"Calculate error for S = %d\"%S)\n",
    "    for i in range(n_samples):\n",
    "        # Sample A\n",
    "        A = np.random.normal(loc=mu, scale=sigma, size=(S, S))\n",
    "\n",
    "        # Calculate err\n",
    "        num = np.einsum('ij, kl ->', A, A)\n",
    "        den = S * np.einsum('ij, jk -> ', A, A)\n",
    "        errs[k, i] = 1. - num / den\n",
    "        \n",
    "results(errs, Ss, mu, sigma, mu_3, mu_4)"
   ]
  },
  {
   "cell_type": "code",
   "execution_count": null,
   "metadata": {
    "collapsed": true
   },
   "outputs": [],
   "source": []
  },
  {
   "cell_type": "code",
   "execution_count": null,
   "metadata": {
    "collapsed": true
   },
   "outputs": [],
   "source": []
  },
  {
   "cell_type": "code",
   "execution_count": null,
   "metadata": {
    "collapsed": true
   },
   "outputs": [],
   "source": []
  },
  {
   "cell_type": "code",
   "execution_count": null,
   "metadata": {
    "collapsed": true
   },
   "outputs": [],
   "source": []
  },
  {
   "cell_type": "code",
   "execution_count": null,
   "metadata": {
    "collapsed": true
   },
   "outputs": [],
   "source": []
  },
  {
   "cell_type": "markdown",
   "metadata": {
    "collapsed": true
   },
   "source": [
    "# Correlated opposites"
   ]
  },
  {
   "cell_type": "code",
   "execution_count": null,
   "metadata": {
    "collapsed": false,
    "scrolled": true
   },
   "outputs": [],
   "source": [
    "\n",
    "\n",
    "def get_corr_normal_A(mu, sigma, S, rho):\n",
    "    # Sample A\n",
    "    A = np.random.normal(loc=mu, scale=sigma, size=(S, S))\n",
    "\n",
    "    # Correlate off-diagonal elements\n",
    "    for i in range(S):\n",
    "        for j in range(i + 1, S):\n",
    "            A[j, i] = mu * (1. - rho - np.sqrt(1 - rho**2)) + rho * A[i, j] + np.sqrt(1 - rho**2) * A[j, i]\n",
    "            \n",
    "    return A\n",
    "\n",
    "# Test: Plot correlate elements\n",
    "mu = 1.\n",
    "sigma = 0.5\n",
    "S = 100\n",
    "rho = -0.5\n",
    "\n",
    "A = get_corr_normal_A(mu, sigma, S, rho)\n",
    "xs = []\n",
    "for i in range(S):\n",
    "    for j in range(i + 1, S):\n",
    "        xs.append([A[i, j], A[j, i]])\n",
    "xs= np.asarray(xs)        \n",
    "\n",
    "# Plotting\n",
    "fig = plt.figure(figsize=figsize)\n",
    "ax = style.add_subplot(fig, n_rows_cols=(1, 1), index_row_col=(0, 0), rowspan=1, colspan=1)\n",
    "\n",
    "ax.scatter(xs[:, 0], xs[:, 1])\n"
   ]
  },
  {
   "cell_type": "code",
   "execution_count": null,
   "metadata": {
    "collapsed": true
   },
   "outputs": [],
   "source": [
    "\n",
    "#     # Printing results\n",
    "#     print(\"size S        mean(err)_measured   std(err)_theo  std(err)_measured\")\n",
    "#     for mean, S , std in zip(means, Ss, stds):\n",
    "#         if mean < 0:\n",
    "#             print(\"%6d        %.6f            %.6f       %.6f\"%(S, mean, std_theo(S), std))\n",
    "#         else:\n",
    "#             print(\"%6d        %.6f            %.6f       %.6f\"%(S, mean, std_theo(S), std))\n",
    "\n"
   ]
  },
  {
   "cell_type": "code",
   "execution_count": null,
   "metadata": {
    "collapsed": true
   },
   "outputs": [],
   "source": [
    "\n",
    "#     mu_3    = 0. * sigma**3\n",
    "#     mu_4    = 3. * sigma**4\n",
    "#     std_theo_full = lambda S:  np.sqrt((\n",
    "#             (S**3 - S**2 - 3*S + 3) * sigma**4 + (S - 1) * mu_4) / (\n",
    "#             S**6 * mu**4 + 6 * S**4 * sigma**2 * mu**2 + (S**3 + 2 * S**2 - 3 * S) * sigma**4 + 4 * S**2 * mu_3 * mu + S * mu_4))"
   ]
  },
  {
   "cell_type": "code",
   "execution_count": null,
   "metadata": {
    "collapsed": true
   },
   "outputs": [],
   "source": []
  }
 ],
 "metadata": {
  "kernelspec": {
   "display_name": "Python 2",
   "language": "python",
   "name": "python2"
  },
  "language_info": {
   "codemirror_mode": {
    "name": "ipython",
    "version": 2
   },
   "file_extension": ".py",
   "mimetype": "text/x-python",
   "name": "python",
   "nbconvert_exporter": "python",
   "pygments_lexer": "ipython2",
   "version": "2.7.10"
  }
 },
 "nbformat": 4,
 "nbformat_minor": 0
}
