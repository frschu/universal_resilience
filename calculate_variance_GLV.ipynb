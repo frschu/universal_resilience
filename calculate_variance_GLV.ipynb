{
 "cells": [
  {
   "cell_type": "code",
   "execution_count": 1,
   "metadata": {
    "collapsed": false
   },
   "outputs": [
    {
     "data": {
      "text/plain": [
       "<matplotlib.figure.Figure at 0x7f7988016d50>"
      ]
     },
     "metadata": {},
     "output_type": "display_data"
    }
   ],
   "source": [
    "from __future__ import print_function\n",
    "import numpy as np\n",
    "import itertools as it\n",
    "import sympy\n"
   ]
  },
  {
   "cell_type": "markdown",
   "metadata": {},
   "source": [
    "## Denominator: 6D"
   ]
  },
  {
   "cell_type": "code",
   "execution_count": 2,
   "metadata": {
    "collapsed": false
   },
   "outputs": [
    {
     "name": "stdout",
     "output_type": "stream",
     "text": [
      "           Multipl. number m_P\n",
      "Cliques    1  2  3  4  5  6      tuple\n",
      "--------------------------------------------------\n",
      "X^4        1  0  0  0  0  0      (4,)\n",
      "X^3 Y      0  4  0  0  0  0      (3, 1)\n",
      "X^2 Y^2    0  5  1  0  0  0      (2, 2)\n",
      "X^2 Y Z    0 20 34  6  0  0      (2, 1, 1)\n",
      "X Y Z U    0  2 55 59 15  1      (1, 1, 1, 1)\n"
     ]
    }
   ],
   "source": [
    "dim = 6\n",
    "\n",
    "# Generate all possible iterations (only upper triangular matrices)\n",
    "assert dim <= 6, \"Larger dimension take too long.\"\n",
    "red_dim = dim * (dim - 1) / 2\n",
    "entries_all = [a for  a in it.product([True, False], repeat = red_dim)]\n",
    "Ps_all = []\n",
    "for entries in entries_all:\n",
    "    P = np.zeros((dim, dim), dtype=bool)\n",
    "    for i in range(dim - 1):\n",
    "        si = sum(range(dim - 1 - i, dim - 1))\n",
    "        P[i, i+1:] = entries[i + si: si + dim - 1]\n",
    "    Ps_all.append(P)\n",
    "\n",
    "# Throw away inconsistent ones\n",
    "Ps = []\n",
    "for P in Ps_all:\n",
    "    append_cond = True\n",
    "    for x in range(dim-1):\n",
    "        for y in range(x + 1, dim):\n",
    "            for z in range(y + 1, dim):\n",
    "#                 print(x, y, z)\n",
    "                if P[x, y] or P[x, z]:\n",
    "#                     print(P[x, y], P[x, z], (P[x, y] and P[x, z]), P[y, z])\n",
    "                    if (P[x, y] and P[x, z]) != P[y, z]:\n",
    "                        append_cond *= False\n",
    "    if append_cond:\n",
    "        np.fill_diagonal(P, True)\n",
    "        Ps.append(P)\n",
    "del Ps_all\n",
    "\n",
    "# Calculate multiplicity\n",
    "m_Ps = np.zeros(len(Ps), dtype=int)\n",
    "\n",
    "for j, P in enumerate(Ps):\n",
    "    indices = set(range(dim))\n",
    "\n",
    "    # Initial clique containing the first index\n",
    "    cliques = [set([y for y, P_0_y in enumerate(P[0]) if P_0_y])]\n",
    "    \n",
    "    # Form other cliques\n",
    "    while set.union(*cliques) != indices:\n",
    "        idx = min(indices - set.union(*cliques))\n",
    "        P_idx = P[idx, idx: ]\n",
    "        cliques.append(set([y + idx for y, P_idx_y in enumerate(P_idx) if P_idx_y]))\n",
    "\n",
    "    # Collapse cliques\n",
    "    m_Ps[j] = len(np.sort([len(clique) for clique in cliques]))\n",
    "    \n",
    "# For denominator: collapse 6d to 4d\n",
    "dim_R = 4\n",
    "Rs = np.zeros((len(Ps), dim_R, dim_R), dtype=bool)\n",
    "for j, P in enumerate(Ps):\n",
    "    R = np.zeros((dim_R, dim_R), dtype=bool)\n",
    "    \n",
    "    R[0, 1] = P[0, 4] and P[1, 4] #R[1, 1]\n",
    "    R[0, 2] = P[0, 2] and P[4, 5] #R[0, 2]\n",
    "    R[0, 3] = P[0, 5] and P[3, 4] #R[0, 3]\n",
    "    R[1, 2] = P[2, 4] and P[1, 5] #R[1, 2]\n",
    "    R[1, 3] = P[4, 5] and P[1, 3] #R[1, 3]\n",
    "    R[2, 3] = P[2, 5] and P[3, 5] #R[2, 3]\n",
    "\n",
    "    np.fill_diagonal(R, True)\n",
    "    Rs[j] = R\n",
    "    \n",
    "# Project to clique lengths\n",
    "sorted_clique_lens = []\n",
    "\n",
    "for R in Rs:\n",
    "    indices = set(range(dim_R))\n",
    "\n",
    "    # Initial clique containing the first index\n",
    "    cliques = [set([y for y, R_0_y in enumerate(R[0]) if R_0_y])]\n",
    "    \n",
    "    # Form other cliques\n",
    "    while set.union(*cliques) != indices:\n",
    "        idx = min(indices - set.union(*cliques))\n",
    "        R_idx = R[idx, idx: ]\n",
    "        cliques.append(set([y + idx for y, R_idx_y in enumerate(R_idx) if R_idx_y]))\n",
    "\n",
    "    # Collapse cliques\n",
    "    sorted_clique_lens.append(tuple(np.sort([len(clique) for clique in cliques])[::-1]))\n",
    "    \n",
    "unique_scls = set(sorted_clique_lens)\n",
    "list_scl_m_c = []\n",
    "for unique_scl in unique_scls:\n",
    "    # Indices where the unique sorted clique length equals that of P in the list Ps\n",
    "    idx = [j for j, scl in enumerate(sorted_clique_lens) if scl == unique_scl]\n",
    "    \n",
    "    # Get the number of appearence of multiplicity factors S, S-1, S-2, ..., S-5\n",
    "    unique_m_P, counts = np.unique(m_Ps[idx], return_counts=True)\n",
    "    m_factors = np.zeros(dim, dtype=int)\n",
    "    m_factors[unique_m_P - 1] = counts\n",
    "    \n",
    "    # Append to a list containing the sored clique lengths and corresponding multiplicity factors\n",
    "    list_scl_m_c.append([unique_scl, m_factors])\n",
    "#     print(unique_scl, m_factors)\n",
    "\n",
    "# Print the results in a nice way (to understand what's going on)\n",
    "names                           = ['X^4    ','X^3 Y  ', 'X^2 Y^2', 'X^2 Y Z', 'X Y Z U',    ]\n",
    "corresponding_clique_lengths    = [(4,),     (3, 1),    (2, 2),    (2, 1, 1), (1, 1, 1, 1), ]\n",
    "\n",
    "print(\" \"*11 + \"Multipl. number m_P\")\n",
    "m_p_str_title = \"\"\n",
    "for i in range(dim):\n",
    "    m_p_str_title += \"%3d\"%(i+1)\n",
    "print(\"Cliques  \" + m_p_str_title + \" \"*5 + \" tuple\")\n",
    "print(\"-\"*50)\n",
    "\n",
    "m_factors_all = []\n",
    "for name, cl in zip(names, corresponding_clique_lengths):\n",
    "    for scl_m_c in list_scl_m_c:\n",
    "        if scl_m_c[0] == cl:\n",
    "            m_str = \"\"\n",
    "            for m_c in scl_m_c[1]:\n",
    "                m_str += \"%3d\"%m_c\n",
    "            print(name + \"  \" + m_str + \" \"*5, scl_m_c[0])\n",
    "            m_factors_all.append(scl_m_c[1])\n",
    "m_factors_all = np.asarray(m_factors_all)"
   ]
  },
  {
   "cell_type": "markdown",
   "metadata": {},
   "source": [
    "To get the multiplicity of each clique, take $\\frac{S!}{(S - m_P)!} = S (S-1) (S-2)...(S - (m_P - 1))$ times the factor shown in the list."
   ]
  },
  {
   "cell_type": "code",
   "execution_count": 3,
   "metadata": {
    "collapsed": false
   },
   "outputs": [
    {
     "name": "stdout",
     "output_type": "stream",
     "text": [
      "Checksum == S**6\n",
      "Checksum =  S**6\n",
      "\n",
      "Multiplicity factors:\n",
      "a_0 =  S\n",
      "a_1 =  4*S**2 - 4*S\n",
      "a_2 =  S**3 + 2*S**2 - 3*S\n",
      "a_3 =  6*S**4 - 2*S**3 - 16*S**2 + 12*S\n",
      "a_4 =  S**6 - 6*S**4 + S**3 + 10*S**2 - 6*S\n",
      "\n",
      "Terms to multiply with:\n",
      "mu3:  4*S**2\n",
      "mu2:  6*S**4\n",
      "mu1:  S**6\n",
      "\n",
      "E(d^2):\n",
      "S**8*mu**4 + 6*S**6*mu**2*mu2 + S**5*mu2**2 + 4*S**4*mu*mu3 + 2*S**4*mu2**2 - 3*S**3*mu2**2 + S**3*mu4\n"
     ]
    }
   ],
   "source": [
    "# Symbolic calculations\n",
    "S = sympy.symbols('S')\n",
    "j = sympy.symbols('j', integer=True)\n",
    "\n",
    "# Check-sum\n",
    "sum_S = 0\n",
    "for i in range(dim):\n",
    "    prod_S = sympy.product(S-j, (j, 0, i))\n",
    "    sum_S += prod_S * np.sum(m_factors_all, axis=0)[i]\n",
    "print(\"Checksum == S**%d\"%dim)\n",
    "print(\"Checksum = \", sympy.expand(sum_S)) # == S**6???\n",
    "\n",
    "# Calculate factors for expected value\n",
    "a = []\n",
    "for k in range(len(m_factors_all)):\n",
    "    sum_S = 0\n",
    "    for i in range(dim):\n",
    "        prod_S = sympy.product(S-j, (j, 0, i))\n",
    "        sum_S += prod_S * m_factors_all[k, i]\n",
    "    a.append(sympy.expand(sum_S))\n",
    "print(\"\\nMultiplicity factors:\")\n",
    "for i, ai in enumerate(a):\n",
    "    print(\"a_%d = \"%i, ai)\n",
    "\n",
    "# Calculate specific terms\n",
    "mu3_term = 4 * a[0] + 1 * a[1]\n",
    "mu2_term = 6 * a[0] + 3 * a[1] + 2 * a[2] + 1 * a[3]\n",
    "mu1_term = sum(a)\n",
    "print(\"\\nTerms to multiply with:\")\n",
    "print(\"mu3: \", mu3_term)\n",
    "print(\"mu2: \", mu2_term)\n",
    "print(\"mu1: \", mu1_term)\n",
    "\n",
    "# Print out the entire term\n",
    "mu4, mu3, mu2, mu = sympy.symbols('mu4 mu3 mu2 mu')\n",
    "E_d_sq = S**2 * (mu4 * a[0] + \n",
    "                 mu3 * mu * (4*a[0] + a[1]) + \n",
    "                 mu2 * mu**2 * (6*a[0] + 3*a[1] + 2*a[2] + a[3]) + \n",
    "                 mu2**2 * a[2] + \n",
    "                 mu**4 * sum(a))\n",
    "print(\"\\nE(d^2):\")\n",
    "print(sympy.expand(E_d_sq))\n"
   ]
  },
  {
   "cell_type": "markdown",
   "metadata": {},
   "source": [
    "##  Numerator\n",
    "\n",
    "Reduced to 4d, but running over $M = S^2$ entries. "
   ]
  },
  {
   "cell_type": "code",
   "execution_count": 4,
   "metadata": {
    "collapsed": false
   },
   "outputs": [
    {
     "name": "stdout",
     "output_type": "stream",
     "text": [
      "           Multipl. number m_P\n",
      "Cliques    1  2  3  4      tuple\n",
      "--------------------------------------------------\n",
      "X^4        1  0  0  0      (4,)\n",
      "X^3 Y      0  4  0  0      (3, 1)\n",
      "X^2 Y^2    0  3  0  0      (2, 2)\n",
      "X^2 Y Z    0  0  6  0      (2, 1, 1)\n",
      "X Y Z U    0  0  0  1      (1, 1, 1, 1)\n"
     ]
    }
   ],
   "source": [
    "dim = 4\n",
    "\n",
    "# Generate all possible iterations (only upper triangular matrices)\n",
    "assert dim <= 6, \"Larger dimension take too long.\"\n",
    "red_dim = dim * (dim - 1) / 2\n",
    "entries_all = [a for  a in it.product([True, False], repeat = red_dim)]\n",
    "Ps_all = []\n",
    "for entries in entries_all:\n",
    "    P = np.zeros((dim, dim), dtype=bool)\n",
    "    for i in range(dim - 1):\n",
    "        si = sum(range(dim - 1 - i, dim - 1))\n",
    "        P[i, i+1:] = entries[i + si: si + dim - 1]\n",
    "    Ps_all.append(P)\n",
    "\n",
    "# Throw away inconsistent ones\n",
    "Ps = []\n",
    "for P in Ps_all:\n",
    "    append_cond = True\n",
    "    for x in range(dim-1):\n",
    "        for y in range(x + 1, dim):\n",
    "            for z in range(y + 1, dim):\n",
    "#                 print(x, y, z)\n",
    "                if P[x, y] or P[x, z]:\n",
    "#                     print(P[x, y], P[x, z], (P[x, y] and P[x, z]), P[y, z])\n",
    "                    if (P[x, y] and P[x, z]) != P[y, z]:\n",
    "                        append_cond *= False\n",
    "    if append_cond:\n",
    "        np.fill_diagonal(P, True)\n",
    "        Ps.append(P)\n",
    "del Ps_all\n",
    "\n",
    "### Calculate multiplicity\n",
    "sorted_clique_lens = []\n",
    "m_Ps = np.zeros(len(Ps), dtype=int)\n",
    "\n",
    "for j, P in enumerate(Ps):\n",
    "    indices = set(range(dim))\n",
    "    # Initial clique containing the first index\n",
    "    cliques = [set([y for y, P_0_y in enumerate(P[0]) if P_0_y])]\n",
    "    \n",
    "    # Form other cliques\n",
    "    while set.union(*cliques) != indices:\n",
    "        idx = min(indices - set.union(*cliques))\n",
    "        P_idx = P[idx, idx: ]\n",
    "        cliques.append(set([y + idx for y, P_idx_y in enumerate(P_idx) if P_idx_y]))\n",
    "\n",
    "    # Collapse cliques\n",
    "    sorted_clique_len = np.sort([len(clique) for clique in cliques])[::-1]\n",
    "    sorted_clique_lens.append(tuple(sorted_clique_len))\n",
    "    m_Ps[j] = len(sorted_clique_len)\n",
    "    \n",
    "    \n",
    "### Get unique sorted cliques\n",
    "unique_scls = set(sorted_clique_lens)\n",
    "list_scl_m_c = []\n",
    "for unique_scl in unique_scls:\n",
    "    # Indices where the unique sorted clique length equals that of P in the list Ps\n",
    "    idx = [j for j, scl in enumerate(sorted_clique_lens) if scl == unique_scl]\n",
    "    \n",
    "    # Get the number of appearence of multiplicity factors S, S-1, S-2, ..., S-5\n",
    "    unique_m_P, counts = np.unique(m_Ps[idx], return_counts=True)\n",
    "    m_factors = np.zeros(dim, dtype=int)\n",
    "    m_factors[unique_m_P - 1] = counts\n",
    "    \n",
    "    # Append to a list containing the sored clique lengths and corresponding multiplicity factors\n",
    "    list_scl_m_c.append([unique_scl, m_factors])\n",
    "    # print(unique_scl, m_factors)\n",
    "\n",
    "### Print the results in a nice way (to understand what's going on)\n",
    "names                           = ['X^4    ','X^3 Y  ', 'X^2 Y^2', 'X^2 Y Z', 'X Y Z U',    ]\n",
    "corresponding_clique_lengths    = [(4,),     (3, 1),    (2, 2),    (2, 1, 1), (1, 1, 1, 1), ]\n",
    "\n",
    "print(\" \"*11 + \"Multipl. number m_P\")\n",
    "m_p_str_title = \"\"\n",
    "for i in range(dim):\n",
    "    m_p_str_title += \"%3d\"%(i+1)\n",
    "print(\"Cliques  \" + m_p_str_title + \" \"*5 + \" tuple\")\n",
    "print(\"-\"*50)\n",
    "\n",
    "m_factors_all = []\n",
    "for name, cl in zip(names, corresponding_clique_lengths):\n",
    "    for scl_m_c in list_scl_m_c:\n",
    "        if scl_m_c[0] == cl:\n",
    "            m_str = \"\"\n",
    "            for m_c in scl_m_c[1]:\n",
    "                m_str += \"%3d\"%m_c\n",
    "            print(name + \"  \" + m_str + \" \"*5, scl_m_c[0])\n",
    "            m_factors_all.append(scl_m_c[1])\n",
    "m_factors_all = np.asarray(m_factors_all)"
   ]
  },
  {
   "cell_type": "code",
   "execution_count": 5,
   "metadata": {
    "collapsed": false
   },
   "outputs": [
    {
     "name": "stdout",
     "output_type": "stream",
     "text": [
      "Checksum == M**4\n",
      "Checksum =  S**8\n",
      "\n",
      "Multiplicity factors:\n",
      "a_0 =  S**2\n",
      "a_1 =  4*S**4 - 4*S**2\n",
      "a_2 =  3*S**4 - 3*S**2\n",
      "a_3 =  6*S**6 - 18*S**4 + 12*S**2\n",
      "a_4 =  S**8 - 6*S**6 + 11*S**4 - 6*S**2\n",
      "\n",
      "Terms to multiply with:\n",
      "mu3:  4*S**4\n",
      "mu2:  6*S**6\n",
      "mu1:  S**8\n",
      "E(n^2):\n",
      "S**8*mu**4 + 6*S**6*mu**2*mu2 + 4*S**4*mu*mu3 + 3*S**4*mu2**2 - 3*S**2*mu2**2 + S**2*mu4\n"
     ]
    }
   ],
   "source": [
    "# Symbolic calculations\n",
    "S = sympy.symbols('S')\n",
    "M = S**2\n",
    "j = sympy.symbols('j', integer=True)\n",
    "\n",
    "# Check-sum\n",
    "sum_M = 0\n",
    "for i in range(dim):\n",
    "    prod_M = sympy.product(M-j, (j, 0, i))\n",
    "    sum_M += prod_M * np.sum(m_factors_all, axis=0)[i]\n",
    "    \n",
    "print(\"Checksum == M**%d\"%dim)\n",
    "print(\"Checksum = \", sympy.expand(sum_M)) # == M**6???\n",
    "\n",
    "# Calculate factors for expected value\n",
    "a = []\n",
    "for k in range(len(m_factors_all)):\n",
    "    sum_M = 0\n",
    "    for i in range(dim):\n",
    "        prod_M = sympy.product(M-j, (j, 0, i))\n",
    "        sum_M += prod_M * m_factors_all[k, i]\n",
    "    a.append(sympy.expand(sum_M))\n",
    "    \n",
    "print(\"\\nMultiplicity factors:\")\n",
    "for i, ai in enumerate(a):\n",
    "    print(\"a_%d = \"%i, ai)\n",
    "\n",
    "# Calculate specific terms\n",
    "mu3_term = 4 * a[0] + 1 * a[1]\n",
    "mu2_term = 6 * a[0] + 3 * a[1] + 2 * a[2] + 1 * a[3]\n",
    "mu1_term = sum(a)\n",
    "\n",
    "print(\"\\nTerms to multiply with:\")\n",
    "print(\"mu3: \", mu3_term)\n",
    "print(\"mu2: \", mu2_term)\n",
    "print(\"mu1: \", mu1_term)\n",
    "\n",
    "# Print out the entire term\n",
    "mu4, mu3, mu2, mu = sympy.symbols('mu4 mu3 mu2 mu')\n",
    "E_n_sq = (mu4 * a[0] + \n",
    "          mu3 * mu * (4*a[0] + a[1]) + \n",
    "          mu2 * mu**2 * (6*a[0] + 3*a[1] + 2*a[2] + a[3]) + \n",
    "          mu2**2 * a[2] + \n",
    "          mu**4 * sum(a))\n",
    "print(\"E(n^2):\")\n",
    "print(sympy.expand(E_n_sq))\n"
   ]
  },
  {
   "cell_type": "markdown",
   "metadata": {},
   "source": [
    "## Putting numerator and denominator together"
   ]
  },
  {
   "cell_type": "code",
   "execution_count": 6,
   "metadata": {
    "collapsed": false
   },
   "outputs": [
    {
     "name": "stdout",
     "output_type": "stream",
     "text": [
      "E(n^2) / S**2:\n",
      "S**6*mu**4 + 6*S**4*mu**2*mu2 + 4*S**2*mu*mu3 + 3*S**2*mu2**2 - 3*mu2**2 + mu4\n",
      "\n",
      "E(d^2) / S**2:\n",
      "S**6*mu**4 + 6*S**4*mu**2*mu2 + S**3*mu2**2 + 4*S**2*mu*mu3 + 2*S**2*mu2**2 - 3*S*mu2**2 + S*mu4\n",
      "\n",
      "(E(n^2) - E(d^2)) / S**2:\n",
      "-S**3*mu2**2 + S**2*mu2**2 + 3*S*mu2**2 - S*mu4 - 3*mu2**2 + mu4\n"
     ]
    },
    {
     "data": {
      "text/plain": [
       "(-S**3*mu2**2 + S**2*mu2**2 + 3*S*mu2**2 - S*mu4 - 3*mu2**2 + mu4)/(S*(S**5*mu**4 + 6*S**3*mu**2*mu2 + S**2*mu2**2 + 4*S*mu*mu3 + 2*S*mu2**2 - 3*mu2**2 + mu4))"
      ]
     },
     "execution_count": 6,
     "metadata": {},
     "output_type": "execute_result"
    }
   ],
   "source": [
    "# Putting everything together\n",
    "\n",
    "print(\"E(n^2) / S**2:\")\n",
    "print(sympy.expand(E_n_sq / S**2))\n",
    "\n",
    "print(\"\\nE(d^2) / S**2:\")\n",
    "print(sympy.expand(E_d_sq / S**2))\n",
    "\n",
    "print(\"\\n(E(n^2) - E(d^2)) / S**2:\")\n",
    "print(sympy.expand((E_n_sq - E_d_sq) / S**2))\n",
    "\n",
    "Var_err = E_n_sq / E_d_sq - 1\n",
    "sympy.simplify(Var_err)"
   ]
  },
  {
   "cell_type": "code",
   "execution_count": null,
   "metadata": {
    "collapsed": true
   },
   "outputs": [],
   "source": []
  }
 ],
 "metadata": {
  "kernelspec": {
   "display_name": "Python 2",
   "language": "python",
   "name": "python2"
  },
  "language_info": {
   "codemirror_mode": {
    "name": "ipython",
    "version": 2
   },
   "file_extension": ".py",
   "mimetype": "text/x-python",
   "name": "python",
   "nbconvert_exporter": "python",
   "pygments_lexer": "ipython2",
   "version": "2.7.10"
  }
 },
 "nbformat": 4,
 "nbformat_minor": 0
}
