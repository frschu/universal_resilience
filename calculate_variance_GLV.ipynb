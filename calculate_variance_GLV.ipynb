{
 "cells": [
  {
   "cell_type": "markdown",
   "metadata": {},
   "source": [
    "## Calculate the variance of the error for GLV\n",
    "\n",
    "We are interested in the accuracy of the dimensional reduction proposed by Gao et al.\n",
    "In order to determine the accuracy, we define an error as the distance between a reduced \n",
    "fixed point and the fixed point of the reduced system. We then calculate the expected value and the \n",
    "fluctuation of this error analytically for a system of generalized Lotka-Volterra equations \n",
    "and specific random interaction matrices $A$. \n",
    "\n",
    "Define errors in $x$ and $\\beta$ direction:\n",
    "\n",
    "> $\\mathrm{err}_x = 1 - \\frac{x(\\beta_\\mathrm{eff})}{x_\\mathrm{eff}}$\n",
    "\n",
    "> $\\mathrm{err}_\\beta = 1 - \\frac{\\beta(x_\\mathrm{eff})}{\\beta_\\mathrm{eff}}$\n",
    "\n",
    "For the GLV they coincide since  the fixed point in the reduced system is\n",
    "\n",
    "> $x(\\beta_\\mathrm{eff}) = - \\frac{\\alpha}{\\beta_\\mathrm{eff}}$, \n",
    "\n",
    "such that both errors become\n",
    "\n",
    "> $ \\mathrm{err} = 1 + \\frac{\\alpha}{x_\\mathrm{eff} \\beta_\\mathrm{eff}}$ .\n",
    "\n",
    "Inserting the definitions of $x_\\mathrm{eff}$ and $\\beta_\\mathrm{eff}$ from Gao et al.'s paper, \n",
    "\n",
    "> $ x_\\mathrm{eff} = \\frac{\\sum_{ij} A_{ij} x_j}{\\sum_{mn} A_{mn}}  $, \n",
    "\n",
    "> $ \\beta_\\mathrm{eff} = \\frac{\\sum_{ijk} A_{ij} A_{jk} }{\\sum_{mn} A_{mn}} $, \n",
    "\n",
    "we get \n",
    "\n",
    "> $\n",
    "    \\mathrm{err} = 1 + \\frac{\n",
    "        \\alpha \\left(\\sum_{mn} A_{mn}\\right) \\left(\\sum_{mn} A_{mn}\\right) \n",
    "        }{\n",
    "        - \\alpha \\left( \\sum_{ijk} A_{ij} {A^{-1}}_{jk} \\right) \\left(\\sum_{ijk} A_{ij} A_{jk}\\right)} = 1 - \\frac{\\sum_{ijkl} A_{ij} A_{kl} }{ S \\sum_{ijk} A_{ij} A_{jk} } \n",
    "        = 1 - \\frac{n}{d}\n",
    "        $\n",
    "        \n",
    "where we define\n",
    "\n",
    "> $ n := \\sum_{ijkl} A_{ij}A_{kl}$ ,\n",
    "\n",
    "> $ d := S \\cdot \\sum_{ijk} A_{ij}A_{jk}$ ,\n",
    "\n",
    "and the $A_{ij}$ are the entries of the interaction matrix $A$.\n",
    "\n",
    "In order to calculate the expected value and variance analytically, \n",
    "we make one key assumption, namely that the expected values of numerator and denominator \n",
    "of the error and its square can be taken independently of each other. This approximation \n",
    "should work well for strictly positive entries $A_{ij} > 0$ with vanishing probability density \n",
    "close to 0. For $A_{ij}$ not following this constraint, the actual analytical expected value is\n",
    "expected to explode. Note that this behaviour may not be observed when sampling $A_{ij}$, because \n",
    "the probability associated with the denominator being zero may be very small. \n",
    "\n",
    "Making this approximation, we get\n",
    "\n",
    "> $ \\mathbb{E}[\\mathrm{err}] = \\mathbb{E}\\left[1 - \\frac{n}{d}\\right] \\approx 1 - \\frac{\\mathbb{E}[n]}{\\mathbb{E}[d]}$\n",
    "\n",
    "and for the variance\n",
    "\n",
    "> $ \\mathrm{Var}(\\mathrm{err}) = \\mathbb{E}\\left[\\left(\\mathrm{err} - \\mathbb{E}[\\mathrm{err}]\\right)^2\\right]\n",
    " = \\mathbb{E}\\left[\\left(\n",
    " \\frac{d \\mathbb{E}[n] - n \\mathbb{E}[d]}{d \\mathbb{E}[d]}\n",
    " \\right)^2\\right]\n",
    "$\n",
    "\n",
    "we have\n",
    " \n",
    "> $\\mathrm{Var}(\\mathrm{err}) \\approx \n",
    "\\frac{\\mathbb{E}[d^2]\\mathbb{E}[n]^2 - 2 \\mathbb{E}[nd]\\mathbb{E}[n] \\mathbb{E}[d] + \\mathbb{E}[n^2]\\mathbb{E}[d]^2}\n",
    "{\\mathbb{E}[d^2]\\mathbb{E}[d]^2}\n",
    "$.\n",
    "\n",
    "\n",
    "By automatizing the combinatorial problems associated with the sums, we calculate both values.\n",
    "\n",
    "The results to the highest order in the species number $S$ are listed in the following table:\n",
    "\n",
    "### Results:\n",
    "\n",
    "| $\\mathrm{Case}\\qquad\\qquad\\qquad$ | $\\mathbb{E}[\\mathrm{err}] \\qquad\\qquad\\qquad\\qquad$ | $\\mathrm{Var}(\\mathrm{err}) \\qquad\\qquad\\qquad\\qquad\\qquad\\qquad\\qquad\\qquad$             |\n",
    "| ------------------------------------------- | ------------------------------- | ------------------------------ |  \n",
    "| $A_{ij}$ iid, $\\rho = 0$                    | $0$ (exact)                     | $\\frac{\\sigma^4}{S^3 \\mu^4}$   |   \n",
    "| Correlated Gaussians $\\rho \\in [-1, 1]$     | $\\frac{\\rho \\sigma^2}{S\\mu^2}$ | $\\frac{\\sigma^4 \\left(2\\frac{\\mu^2}{\\sigma^2} \\rho + (\\rho - 1)^2\\right) }{S^3 \\mu^4} $   |   \n",
    "| Constant diagonal: $A_{ii} = -d$ of order $1$ or $\\sqrt{S}$ | $\\frac{\\sigma^2\\left((S - 2)\\rho - 1\\right)}{S^2\\mu^2}$ | $\\frac{\\sigma^4 \\left(2\\frac{\\mu^2}{\\sigma^2} \\rho + (\\rho - 1)^2\\right)}{S^3 \\mu^4} $   |   \n",
    "| $\\qquad$ for $\\rho = 0$   | -$\\frac{\\sigma^2}{S^2\\mu^2}$ | $\\frac{\\sigma^4}{S^3 \\mu^4} $   |   \n",
    "| $\\qquad$ for $\\rho \\ne 0$ | $\\frac{\\sigma^2\\rho}{S\\mu^2}$ | $\\frac{\\sigma^4 \\left(2\\frac{\\mu^2}{\\sigma^2} \\rho + (\\rho - 1)^2\\right)}{S^3 \\mu^4} $   |   \n",
    "| Constant diagonal: $A_{ii} = -\\alpha d_c$ | $\\frac{\\sigma^2\\left((S - 2)\\rho - 1\\right)}{S^2\\mu^2(\\alpha - 1)^2}$ | $\\frac{\\sigma^4 \\left(2\\frac{\\mu^2}{\\sigma^2} \\rho + (\\rho - 1)^2\\right)}{S^3 \\mu^4(\\alpha - 1)^4} $   |   \n",
    "| $\\qquad$ for $\\rho = 0$   | -$\\frac{\\sigma^2}{S^2\\mu^2(\\alpha - 1)^2}$ | $\\frac{\\sigma^4 }{S^3 \\mu^4(\\alpha - 1)^4} $   |   \n",
    "| $\\qquad$ for $\\rho \\ne 0$ | $\\frac{\\sigma^2\\rho}{S\\mu^2(\\alpha - 1)^2}$ | $\\frac{\\sigma^4 \\left(2\\frac{\\mu^2}{\\sigma^2} \\rho + (\\rho - 1)^2\\right)}{S^3 \\mu^4(\\alpha - 1)^4} $   |   \n",
    "\n",
    "\n",
    "where $d_c = (S - 1) \\mu$ corresponds to the value of $d$ where the interaction matrix becomes stable and non-reactive for positive $\\mu$.  \n",
    "\n",
    "A few observations: \n",
    "\n",
    " * In all cases, the error (or its fluctuations) grows without bound if the ratio $\\frac{\\mu}{\\sigma}$ goes to zero \n",
    " for a given network size $S$.\n",
    " \n",
    " * The order of the fluctuations (namely $S^{-\\frac{3}{2}}$) remains the same for all cases while that of the\n",
    " expected value changes. Thus\n",
    "  * for interaction matrices $A$ without correlation ($\\rho = 0$), the term dominating the error for large $S$ are the fluctuations while the mean value is either zero (for iid entries $A_{ij}$) or of order $S^{-2}$ (in case of a constant diagonal);\n",
    "  * for networks with non-zero correlation, the mean becomes the dominating term of order $S^{-1}$.  \n",
    "\n",
    " * At the critical value for the diagonal, both mean and expected value explode. \n",
    " "
   ]
  },
  {
   "cell_type": "markdown",
   "metadata": {},
   "source": [
    "# Description of the algorithm\n",
    "\n",
    "As stated above, we want assess the expected value\n",
    "\n",
    "> $ \\mathbb{E}[\\mathrm{err}] \\approx 1 - \\frac{\\mathbb{E}[n]}{\\mathbb{E}[d]}$\n",
    "\n",
    "and variance\n",
    "\n",
    "> $\\mathrm{Var}(\\mathrm{err}) \\approx \n",
    "\\frac{\\mathbb{E}[d^2]\\mathbb{E}[n]^2 - 2 \\mathbb{E}[nd]\\mathbb{E}[n] \\mathbb{E}[d] + \\mathbb{E}[n^2]\\mathbb{E}[d]^2}\n",
    "{\\mathbb{E}[d^2]\\mathbb{E}[d]^2}\n",
    "$\n",
    "\n",
    "of the error. Hence, we need to calculate the terms\n",
    "\n",
    "> $ \\mathbb{E}[d]         = S \\cdot \\mathbb{E}\\left[ \\sum_{ija} A_{ia}A_{aj} \\right] $\n",
    "\n",
    "> $ \\mathbb{E}[n]         = \\mathbb{E} \\left[ \\sum_{ijkl} A_{ij}A_{kl} \\right]  $  \n",
    "\n",
    "> $ \\mathbb{E}[d^2]       = S^2 \\cdot \\mathbb{E} \\left[ \\sum_{ijklab} A_{ia}A_{aj}A_{kb}A_{bj} \\right]  $  \n",
    "\n",
    "> $ \\mathbb{E}[n \\cdot d] = S \\cdot \\mathbb{E} \\left[ \\sum_{ijklmna} A_{ij}A_{kl}A_{ma}A_{an} \\right]  $  \n",
    "\n",
    "> $ \\mathbb{E}[n^2]       = \\mathbb{E} \\left[ \\sum_{ijklmnop} A_{ij}A_{kl}A_{mn}A_{op} \\right]  $  \n",
    "\n",
    "where all indices are iterated over $\\{1, 2, ..., S\\}$. In the simplest version of interaction matrix $A$, \n",
    "the entries $A_{ij}$ are all i.d.d. and we need to separate out pairs $A_{ij}^2$ as they will lead to contributions \n",
    "other than $\\mu^2$, where $\\mu = \\mathbb{E}[A_{ij}]$ (and similarly for higher order tuples).\n",
    "In order to do so, we devised an algorithm which is described for the simple example of $\\mathbb{E}[n]$, \n",
    "which may even be calculated by hand quite easily. It consists of the following steps: \n",
    "\n",
    "\\1. Generation of a feasible index combination.  \n",
    "Such a combination like $(i = j \\ne k \\ne l, i \\ne l)$ is encoded in the upper triangle of a $4 \\times 4$ \n",
    "boolean matrix, which in this case would look like  \n",
    "\n",
    "> $P = \\begin{bmatrix}\n",
    "  - & T & F & F\\\\\n",
    "  - & - & F & F\\\\\n",
    "  - & - & - & F\\\\\n",
    "  - & - & - & - \n",
    " \\end{bmatrix}$.\n",
    " \n",
    "Here, $P_{ij} = T$ implies that the $i$-th index is equal to the $j$-th index ($F$ for $\\ne$), numbering\n",
    "the indices as $(i, j, k, l) \\sim (0, 1, 2, 3)$. We dump non-feasible combinations such as   \n",
    "\n",
    "> $P_\\mathrm{illegal} = \\begin{bmatrix}\n",
    "  - & T & F & F\\\\\n",
    "  - & - & F & T\\\\\n",
    "  - & - & - & F\\\\\n",
    "  - & - & - & - \n",
    " \\end{bmatrix}$.  \n",
    " \n",
    "\\2. Calculating the number of terms $n_P$ associated with $P$.  \n",
    "In order to do so, we sort the indices into cliques containing only equal ones. The number of cliques, called multiplicity factor $m_P$ is directly related to the number of terms by\n",
    "\n",
    "> $ n_P = S (S - 1) ... (S - m_P) = \\prod_{\\alpha = 0}^{m_P - 1} (S - \\alpha)$.  \n",
    "\n",
    "\\3. Project the matrix $P$ down to a $2 \\times 2$ boolean matrix $R_P$.  \n",
    "This matrix encodes whether the actual random variables $X = A_{ij}$ and $Y = A_{kl}$ are equal. \n",
    "We have $X = Y$ only if $i = k$ and $j = l$, which in terms of the matrices $P$ and $R_P$ is\n",
    "stated as\n",
    "\n",
    "> $ R_P[0, 1] = P[0, 2] \\land P[1, 3]$. \n",
    " \n",
    "\\4. Calculating actual cliques $\\mathcal{Cl}(R_P)$.    \n",
    "In this case, the only possible cliques are $XY$ or $X^2$, trivially encoded by $R_P[0, 1]$. \n",
    "\n",
    "\\5. Add contribution to overall sum.  \n",
    "Each clique is associated with a specific factor arising from taking the expected value. \n",
    "In this case, we only have  \n",
    "\n",
    ">$\\mathbb{E}[XY] = \\mu^2$  \n",
    "\n",
    "and \n",
    "\n",
    ">$\\mathbb{E}[X^2] = \\sigma^2 + \\mu^2$.  \n",
    "\n",
    "We sum each term multiplied by the multiplicity $n_P$, iterating over all feasible index matrices $P$\n",
    "to get the corresponding expected value\n",
    "\n",
    ">$\\mathbb{E}[d] = S \\cdot \\sum_P n_P \\, \\mathbb{E}[\\mathcal{}{Cl}(R_P)] $.\n",
    "\n",
    " \n",
    "**To incorporate** correlation of transposed entries, we make use of the lower triangle of $R$. \n",
    "In this example, we have $A_{ij} = X$ and $A_{kl} = A_{ji} = X^T$ only if $i = l$, $j = k$ \n",
    "and $(i, j) \\ne (k, l)$, that is\n",
    "\n",
    "> $ R_P[1, 0] = P[0, 3] \\land P[1, 2] \\land \\lnot R_P[0, 1]$. \n",
    " \n",
    "The associated clique has the expected value\n",
    "\n",
    "> $\\mathbb{E}[X X^T] = \\rho \\sigma^2 + \\mu^2$.\n",
    "\n",
    "If we finally want to allow for the diagonal elements to be drawn from a different distribution, \n",
    "we employ the free diagonal in a similar manner. In this example:\n",
    "\n",
    "> $ R_P[0, 0] = P[0, 1], \\qquad \\qquad R_P[1, 1] = P[2, 3]$,  \n",
    "\n",
    "and the associated expected values\n",
    "\n",
    ">$\\mathbb{E}[XY_d] = \\mu\\mu_d, \\qquad \\qquad \\mathbb{E}[X_dY_d] = \\mu_d^2, \\qquad \\qquad \\mathbb{E}[X_d^2] = \\sigma_d^2 + \\mu_d^2$.  \n",
    "\n",
    "\n",
    "For the second order terms, $R$ becomes a $4 \\times 4$ boolean matrix, and the full set of possible cliques\n",
    "becomes both larger (30 terms for both correlation and specific diagonal) and more complicated \n",
    "(incorporating higher moments such as $\\mathbb{E}[X^3Y]$). \n",
    "\n"
   ]
  },
  {
   "cell_type": "code",
   "execution_count": 486,
   "metadata": {
    "collapsed": false
   },
   "outputs": [],
   "source": [
    "from __future__ import print_function\n",
    "import numpy as np\n",
    "import itertools as it\n",
    "import sympy\n",
    "import time\n",
    "\n",
    "# Pretty latex printing (only for output, not for \"print()\")\n",
    "# init_printing(use_unicode=False, wrap_line=False, no_global=True)\n",
    "\n",
    "# Define sympy symbols\n",
    "# Symbolic variable for network size\n",
    "S = sympy.symbols('S')\n",
    "# Moments of off-diagonal elements\n",
    "mu4, mu3, mu2, mu           = sympy.symbols('mu4 mu3 mu2 mu')\n",
    "# Moments of diagonal elements\n",
    "mu_d4, mu_d3, mu_d2, mu_d   = sympy.symbols('mu_d4 mu_d3 mu_d2 mu_d')\n",
    "# Correlation terms (check code for the definition of rho_21, rho_22, rho_31)\n",
    "rho, rho_21, rho_22, rho_31 = sympy.symbols('rho rho_21 rho_22 rho_31')\n"
   ]
  },
  {
   "cell_type": "markdown",
   "metadata": {},
   "source": [
    "## Define functions"
   ]
  },
  {
   "cell_type": "code",
   "execution_count": 2,
   "metadata": {
    "collapsed": false
   },
   "outputs": [],
   "source": [
    "def calc_multiplicity(P):\n",
    "    dim_P = len(P)\n",
    "\n",
    "    indices = set(range(dim_P))\n",
    "\n",
    "    # Initial clique containing the first index\n",
    "    cliques = [set([i for i in range(0, dim_P) if (i == 0 or P[0, i])])]\n",
    "\n",
    "    # Form other cliques\n",
    "    for i in range(dim_P):\n",
    "        if set.union(*cliques) == indices:\n",
    "            break\n",
    "        else:\n",
    "            idx = min(indices - set.union(*cliques))\n",
    "            cliques.append(set([i for i in range(idx, dim_P) if (i == idx or P[idx, i])]))\n",
    "\n",
    "    # Collapse cliques\n",
    "    sorted_clique_len   = np.sort([len(clique) for clique in cliques])[::-1]\n",
    "    multiplicity        = len(sorted_clique_len)\n",
    "    \n",
    "    return multiplicity"
   ]
  },
  {
   "cell_type": "code",
   "execution_count": 406,
   "metadata": {
    "collapsed": true
   },
   "outputs": [],
   "source": [
    "def collapse(P):\n",
    "    dim_P = len(P)\n",
    "    \n",
    "    if dim_P in [3, 4]:\n",
    "        dim_R = 2\n",
    "    elif dim_P in [6, 7, 8]:\n",
    "        dim_R = 4\n",
    "    else: \n",
    "        raise Exception, \"P has wrong dimension!\"\n",
    "    \n",
    "    R = np.zeros((dim_R, dim_R), dtype=bool)\n",
    "    \n",
    "    if dim_P == 3:\n",
    "        # For denominator: collapse 6d to 4d: \n",
    "        # A_ia A_aj\n",
    "        #     i, j  = 0, 1\n",
    "        #     a     = 2\n",
    "\n",
    "        # Upper triangle: equality\n",
    "        R[0, 1] = P[0, 2] and P[1, 2]\n",
    "\n",
    "        # Diagonal: diagonal entry A_ii\n",
    "        R[0, 0] = P[0, 2]\n",
    "        R[1, 1] = P[1, 2]\n",
    "\n",
    "        # Lower triangle: transposed entries\n",
    "        R[1, 0] = P[0, 1] and ~R[0, 1]\n",
    "    \n",
    "    if dim_P == 4:\n",
    "        # For denominator: collapse 6d to 4d: \n",
    "        # A_ij A_kl\n",
    "        #     i, j, k, l  = 0, 1, 2, 3\n",
    "\n",
    "        # Upper triangle: equality\n",
    "        R[0, 1] = P[0, 2] and P[1, 3]\n",
    "\n",
    "        # Diagonal: diagonal entry A_ii\n",
    "        R[0, 0] = P[0, 1]\n",
    "        R[1, 1] = P[2, 3]\n",
    "\n",
    "        # Lower triangle: transposed entries\n",
    "        R[1, 0] = P[0, 3] and P[1, 2] and ~R[0, 1]\n",
    "        \n",
    "    if dim_P == 6:\n",
    "        # For denominator: collapse 6d to 4d: \n",
    "        # A_ia A_aj A_kb A_bl\n",
    "        #     i, j, k, l = 0, 1, 2, 3\n",
    "        #     a, b       = 4, 5\n",
    "\n",
    "        # Upper triangle: equality\n",
    "        R[0, 1] = P[0, 4] and P[1, 4]\n",
    "        R[0, 2] = P[0, 2] and P[4, 5]\n",
    "        R[0, 3] = P[0, 5] and P[3, 4]\n",
    "        R[1, 2] = P[2, 4] and P[1, 5]\n",
    "        R[1, 3] = P[4, 5] and P[1, 3]\n",
    "        R[2, 3] = P[2, 5] and P[3, 5]\n",
    "\n",
    "        # Diagonal: diagonal entry A_ii\n",
    "        R[0, 0] = P[0, 4]\n",
    "        R[1, 1] = P[1, 4]\n",
    "        R[2, 2] = P[2, 5]\n",
    "        R[3, 3] = P[3, 5]\n",
    "\n",
    "        # Lower triangle: transposed entries\n",
    "        R[1, 0] = P[0, 1]             and ~R[0, 1]\n",
    "        R[2, 0] = P[0, 5] and P[2, 4] and ~R[0, 2] \n",
    "        R[3, 0] = P[0, 3] and P[4, 5] and ~R[0, 3]\n",
    "        R[2, 1] = P[1, 2] and P[4, 5] and ~R[1, 2]\n",
    "        R[3, 1] = P[1, 5] and P[3, 4] and ~R[1, 3]\n",
    "        R[3, 2] = P[2, 3]             and ~R[2, 3]\n",
    "\n",
    "    if dim_P == 7:\n",
    "        # For den * num term: collapse 7d to 4d\n",
    "        # A_ij A_kl A_ma A_an\n",
    "        #   i, j, k, l, m, n = 0, 1, 2, 3, 4, 5\n",
    "        #   a                = 6\n",
    "\n",
    "        # Upper triangle: equality\n",
    "        R[0, 1] = P[0, 2] and P[1, 3] #R[0, 1]\n",
    "        R[0, 2] = P[0, 4] and P[1, 6] #R[0, 2]\n",
    "        R[0, 3] = P[0, 6] and P[1, 5] #R[0, 3]\n",
    "        R[1, 2] = P[2, 4] and P[3, 6] #R[1, 2]\n",
    "        R[1, 3] = P[2, 6] and P[3, 5] #R[1, 3]\n",
    "        R[2, 3] = P[4, 6] and P[5, 6] #R[2, 3]\n",
    "\n",
    "        # Diagonal: diagonal entry A_ii\n",
    "        R[0, 0] = P[0, 1]\n",
    "        R[1, 1] = P[2, 3]\n",
    "        R[2, 2] = P[4, 6]\n",
    "        R[3, 3] = P[5, 6]\n",
    "\n",
    "        # Lower triangle: transposed entries\n",
    "        R[1, 0] = P[0, 3] and P[1, 2] and ~R[0, 1]\n",
    "        R[2, 0] = P[0, 6] and P[1, 4] and ~R[0, 2]\n",
    "        R[3, 0] = P[0, 5] and P[1, 6] and ~R[0, 3]\n",
    "        R[2, 1] = P[2, 6] and P[3, 4] and ~R[1, 2]\n",
    "        R[3, 1] = P[2, 5] and P[3, 6] and ~R[1, 3]\n",
    "        R[3, 2] = P[4, 5]             and ~R[2, 3]\n",
    "\n",
    "    if dim_P == 8:\n",
    "        # For num^2 term: collapse 8d to 4d\n",
    "        # A_ij A_kl A_mn A_op\n",
    "        #   i, j, k, l, m, n, o, p = 0, 1, 2, 3, 4, 5, 6, 7\n",
    "\n",
    "        # Upper triangle: equality\n",
    "        R[0, 1] = P[0, 2] and P[1, 3] #R[0, 1]\n",
    "        R[0, 2] = P[0, 4] and P[1, 5] #R[0, 2]\n",
    "        R[0, 3] = P[0, 6] and P[1, 7] #R[0, 3]\n",
    "        R[1, 2] = P[2, 4] and P[3, 5] #R[1, 2]\n",
    "        R[1, 3] = P[2, 6] and P[3, 7] #R[1, 3]\n",
    "        R[2, 3] = P[4, 6] and P[5, 7] #R[2, 3]\n",
    "\n",
    "        # Diagonal: diagonal entry A_ii\n",
    "        R[0, 0] = P[0, 1]\n",
    "        R[1, 1] = P[2, 3]\n",
    "        R[2, 2] = P[4, 5]\n",
    "        R[3, 3] = P[6, 7]\n",
    "\n",
    "        # Lower triangle: transposed entries\n",
    "        R[1, 0] = P[0, 3] and P[1, 2] and ~R[0, 1]\n",
    "        R[2, 0] = P[0, 5] and P[1, 4] and ~R[0, 2]\n",
    "        R[3, 0] = P[0, 7] and P[1, 6] and ~R[0, 3]\n",
    "        R[2, 1] = P[2, 5] and P[3, 4] and ~R[1, 2]\n",
    "        R[3, 1] = P[2, 7] and P[3, 6] and ~R[1, 3]\n",
    "        R[3, 2] = P[4, 7] and P[5, 6] and ~R[2, 3]\n",
    "\n",
    "    return R\n",
    "    "
   ]
  },
  {
   "cell_type": "code",
   "execution_count": 407,
   "metadata": {
    "collapsed": false
   },
   "outputs": [],
   "source": [
    "def calc_indicators(P):\n",
    "\n",
    "    dim_P   = len(P)\n",
    "    idxs_all= np.arange(dim_P)\n",
    "    # Final indicators\n",
    "    i_all = []\n",
    "\n",
    "    ### Off-diagonals\n",
    "    # Separate as encoded by the diagonal of P. \n",
    "    idxs = set(idxs_all[~np.diag(P)])\n",
    "    if len(idxs) > 0:\n",
    "\n",
    "        # Get sorted clique lengths\n",
    "        # Start with initial clique\n",
    "        # Index of entry to refer to\n",
    "        i_ref   = min(idxs)\n",
    "        i_refs  = [i_ref]\n",
    "        # All indices for which the correspoding random variables are equal, \n",
    "        # as encoded by the upper triangle of P. \n",
    "        cliques = [set([j for j in idxs if (i_ref == j or P[i_ref, j])])]\n",
    "\n",
    "        # Form other cliques\n",
    "        while(set.union(*cliques) != idxs):\n",
    "            # Take only those indices not yet assigned to cliques\n",
    "            idxs_red    = idxs - set.union(*cliques)\n",
    "            # Reference: the minimum of the remaining. \n",
    "            i_ref       = min(idxs_red)\n",
    "            i_refs.append(i_ref)\n",
    "            cliques.append(set([j for j in idxs_red if (i_ref == j or P[i_ref, j])]))\n",
    "\n",
    "        # Sorted clique lengths (largest ones first)\n",
    "        scl = np.sort([len(clique) for clique in cliques])[::-1]\n",
    "\n",
    "        i_refs = np.asarray(i_refs)\n",
    "\n",
    "\n",
    "        # Check for transposes\n",
    "        uscl = np.sort(np.unique(scl))[::-1]\n",
    "        prev_js = []\n",
    "        # Break up in blocks of equal clique length (descending)\n",
    "        for cl in uscl:\n",
    "            # Temporary indicators for this clique length\n",
    "            i_temp = np.asarray([])\n",
    "            for i in i_refs[scl == cl]: \n",
    "                if not i in prev_js:\n",
    "                    # List of all indices from other cliques whose variable \n",
    "                    # is the transpose of the i-th variale (as encoded inthe lower triangle of P)\n",
    "                    # Note: Only descending indices are taken to avoid double counting.\n",
    "                    js = [j for j in i_refs[i_refs > i] if P[j, i]]\n",
    "                    prev_js.append(js)\n",
    "                    if len(js) > 0:\n",
    "                        # Prepend this variable(s) and corresponding partner(s) (according to each clique lenght). \n",
    "                        # The previous indicators are raised by one. \n",
    "                        i_temp += 1.\n",
    "                        i_temp = np.concatenate((\n",
    "                                np.repeat([0., 0.1], [cl, scl[np.where(i_refs == min(js))[0]]]), \n",
    "                                i_temp))\n",
    "                    elif len(i_temp) > 0:\n",
    "                        # No partners. Append the clique, indicator is 1 + the maximal existing. \n",
    "                        i_temp = np.append(i_temp, np.repeat(np.max(np.floor(i_temp)) + 1., cl))\n",
    "                    else:\n",
    "                        # No partners and no existing indicators. Start with 0. \n",
    "                        i_temp = np.repeat(0., cl)\n",
    "        #             print(cl, i, js, i_temp)\n",
    "\n",
    "            # Add to list of indicators from higher clique lengths. \n",
    "            if len(i_all) > 0:\n",
    "                # Raise indices to be added by 1 + maximal existing.\n",
    "                i_temp += np.max(np.floor(i_all)) + 1.\n",
    "            i_all = np.append(i_all, i_temp)\n",
    "\n",
    "#     print(\"Before adding diagonal elements: i_all = \", i_all)\n",
    "\n",
    "    ### Diagonal elements\n",
    "    # Separate as encoded by the diagonal of P. \n",
    "    idxs = set(idxs_all[np.diag(P)])\n",
    "    if len(idxs) > 0:\n",
    "\n",
    "        ### Get sorted clique lengths\n",
    "        # Initial clique containing the first index\n",
    "        # Index of entry to refer to\n",
    "        i_ref   = min(idxs)\n",
    "        # All indices for which the correspoding random variables are equal, \n",
    "        # as encoded by the upper triangle of P. \n",
    "        cliques = [set([j for j in idxs if (i_ref == j or P[i_ref, j])])]\n",
    "\n",
    "        # Form other cliques\n",
    "        while(set.union(*cliques) != idxs):\n",
    "            # Take only those indices not yet assigned to cliques\n",
    "            idxs_red    = idxs - set.union(*cliques)\n",
    "            # Reference: the minimum of the remaining. \n",
    "            i_ref       = min(idxs_red)\n",
    "            cliques.append(set([j for j in idxs_red if (i_ref == j or P[i_ref, j])]))\n",
    "\n",
    "        # Sorted clique lengths (largest ones first)\n",
    "        scl = np.sort([len(clique) for clique in cliques])[::-1]\n",
    "\n",
    "        # Indicators for diagonal elements: cliques sorted by desceding length\n",
    "        i_diag = np.repeat(np.arange(len(cliques), dtype = float), scl)\n",
    "        if len(i_all) > 0:\n",
    "            # Raise indices to be added by 1 + maximal existing.\n",
    "            i_diag += np.max(np.floor(i_all)) + 1.\n",
    "\n",
    "        i_all = np.append(i_all, i_diag)\n",
    "\n",
    "    # Add tag for the number of diagonal elements to the indicators\n",
    "#     i_all = np.int_(i_all * 10)\n",
    "    indicators = np.append(i_all, np.sum(np.diag(P)))\n",
    "\n",
    "#     print(\"After adding diagonal elements: i_all = \", i_all)\n",
    "#     print(\"Number of diagonal elements: %d\"%n_diags)\n",
    "    \n",
    "    return tuple(indicators)"
   ]
  },
  {
   "cell_type": "code",
   "execution_count": 408,
   "metadata": {
    "collapsed": true
   },
   "outputs": [],
   "source": [
    "def calc_all(dim_P):\n",
    "    \"\"\" Generate all possible iterations (only upper triangular matrices) \n",
    "    and throw away all inconsistent ones. If matrix is kept, set diagonal elements to `True`.\n",
    "    \"\"\"\n",
    "    \n",
    "    # Initialize list for saving indicators\n",
    "    indicators = []\n",
    "    \n",
    "    # Make sure you're not filling the memory completely...\n",
    "    assert dim_P <= 8, \"Larger dim_P takes too long.\"\n",
    "    \n",
    "    \n",
    "    # Number of entries in upper triangular matrix without diagonal\n",
    "    red_dim = dim_P * (dim_P - 1) / 2\n",
    "    # Iterate over all possible realizations\n",
    "    time0 = time.time()\n",
    "    for entries in it.product([True, False], repeat = red_dim):\n",
    "        P = np.zeros((dim_P, dim_P), dtype=bool)\n",
    "        for i in range(dim_P - 1):\n",
    "            si = sum(range(dim_P - 1 - i, dim_P - 1))\n",
    "            P[i, i+1:] = entries[i + si: si + dim_P - 1]\n",
    "    \n",
    "        # Throw away inconsistent ones\n",
    "        throw_away = False\n",
    "        for x in range(dim_P-1):\n",
    "            for y in range(x + 1, dim_P):\n",
    "                for z in range(y + 1, dim_P):\n",
    "                    if P[x, y] or P[x, z]:\n",
    "                        if (P[x, y] and P[x, z]) != P[y, z]:\n",
    "                            throw_away = True\n",
    "                            break\n",
    "                if throw_away:\n",
    "                    break\n",
    "            if throw_away:\n",
    "                break\n",
    "                \n",
    "        if not throw_away:\n",
    "            \n",
    "            m_P = calc_multiplicity(P)\n",
    "            \n",
    "            R   = collapse(P)\n",
    "            \n",
    "            ind = calc_indicators(R)\n",
    "            \n",
    "            indicators.append([ind, m_P])\n",
    "        \n",
    "    print(\"For dim_P = %d -> red_dim = %d, the calculation took %.1f sec.\\n\"%(dim_P, red_dim, time.time() - time0))\n",
    "    return np.asarray(indicators)\n"
   ]
  },
  {
   "cell_type": "code",
   "execution_count": 417,
   "metadata": {
    "collapsed": false
   },
   "outputs": [],
   "source": [
    "def print_results(indicators, dim_P):\n",
    "    \"\"\" Print the results in a nice way (to understand what's going on).\n",
    "    \"\"\"\n",
    "    dim_R = len(indicators[0, 0]) - 1\n",
    "    \n",
    "#     tuples = [\n",
    "#         # Ordered by (1.) n_d, (2.) highest clique length\n",
    "\n",
    "#         (0  , 1  , 2  , 3  , 0),\n",
    "#         (0  , 0  , 1  , 2  , 0),\n",
    "#         (0  , 0  , 1  , 1  , 0),\n",
    "#         (0  , 0  , 0  , 1  , 0),\n",
    "#         (0  , 0  , 0  , 0  , 0),\n",
    "#         (0  , 0.1, 1  , 2  , 0),\n",
    "#         (0  , 0.1, 1  , 1.1, 0),\n",
    "#         (0  , 0  , 1  , 1.1, 0),\n",
    "#         (0  , 0  , 0.1, 1  , 0),\n",
    "#         (0  , 0  , 0.1, 0.1, 0),\n",
    "#         (0  , 0  , 0  , 0.1, 0),\n",
    "\n",
    "#         (0  , 1  , 2  , 3  , 1),\n",
    "#         (0  , 0  , 1  , 2  , 1),\n",
    "#         (0  , 0  , 0  , 1  , 1),\n",
    "#         (0  , 0.1, 1  , 2  , 1),\n",
    "#         (0  , 0  , 0.1, 1  , 1),\n",
    "\n",
    "#         (0  , 1  , 2  , 3  , 2),\n",
    "#         (0  , 0  , 1  , 2  , 2),\n",
    "#         (0  , 1  , 2  , 2  , 2),\n",
    "#         (0  , 0  , 1  , 1  , 2),\n",
    "#         (0  , 0.1, 1  , 2  , 2),\n",
    "#         (0  , 0.1, 1  , 1  , 2),\n",
    "\n",
    "#         (0  , 1  , 2  , 3  , 3),\n",
    "#         (0  , 1  , 1  , 2  , 3),\n",
    "#         (0  , 1  , 1  , 1  , 3),\n",
    "\n",
    "#         (0  , 1  , 2  , 3  , 4),\n",
    "#         (0  , 0  , 1  , 2  , 4),\n",
    "#         (0  , 0  , 1  , 1  , 4),\n",
    "#         (0  , 0  , 0  , 1  , 4),\n",
    "#         (0  , 0  , 0  , 0  , 4),\n",
    "#     ]\n",
    "\n",
    "    from collections import OrderedDict\n",
    "\n",
    "    if dim_R == 2:\n",
    "        factors = OrderedDict([\n",
    "            # Ordered by (1.) n_d, (2.) highest clique length\n",
    "\n",
    "            ((0  , 1  , 0), mu**2),\n",
    "            ((0  , 0.1, 0), rho * mu2 + mu**2),\n",
    "            ((0  , 0  , 0), mu2 + mu**2),\n",
    "\n",
    "            ((0  , 1  , 1), mu * mu_d),\n",
    "\n",
    "            ((0  , 1  , 2), mu_d**2),\n",
    "            ((0  , 0  , 2), mu_d2 + mu_d**2),\n",
    "        ])\n",
    "    elif dim_R == 4:\n",
    "        factors = OrderedDict([\n",
    "            # Ordered by (1.) n_d, (2.) highest clique length\n",
    "\n",
    "            ((0  , 1  , 2  , 3  , 0), mu**4), \n",
    "            ((0  , 0  , 1  , 2  , 0), (mu2 + mu**2) * mu**2),\n",
    "            ((0  , 0  , 1  , 1  , 0), (mu2 + mu**2)**2),\n",
    "            ((0  , 0  , 0  , 1  , 0), (mu3 + 3 * mu2 * mu + mu**3) * mu),\n",
    "            ((0  , 0  , 0  , 0  , 0), mu4 + 4 * mu3 * mu + 6 * mu2 * mu**2 + mu**4),\n",
    "            ((0  , 0.1, 1  , 2  , 0), (rho * mu2 + mu**2) * mu**2),\n",
    "            ((0  , 0.1, 1  , 1.1, 0), (rho * mu2 + mu**2)**2),\n",
    "            ((0  , 0  , 1  , 1.1, 0), (mu2 + mu**2) * (rho * mu2 + mu**2)),\n",
    "            ((0  , 0  , 0.1, 1  , 0), ((mu2 + mu**2) * mu + mu2 * mu * rho_21) * mu),\n",
    "            ((0  , 0  , 0.1, 0.1, 0), (mu2 + mu**2)**2 + rho_22),\n",
    "            ((0  , 0  , 0  , 0.1, 0), (mu3 + 3 * mu2 * mu + mu**3) * mu + rho_31), \n",
    "\n",
    "            ((0  , 1  , 2  , 3  , 1), mu**3 * mu_d),\n",
    "            ((0  , 0  , 1  , 2  , 1), (mu2 + mu**2) * mu * mu_d),\n",
    "            ((0  , 0  , 0  , 1  , 1), (mu3 + 3 * mu2 * mu + mu**3) * mu_d),\n",
    "            ((0  , 0.1, 1  , 2  , 1), (rho * mu2 + mu**2) * mu * mu_d),\n",
    "            ((0  , 0  , 0.1, 1  , 1), ((mu2 + mu**2) * mu + mu2 * mu * rho_21) * mu_d),\n",
    "\n",
    "            ((0  , 1  , 2  , 3  , 2), mu**2 * mu_d**2),\n",
    "            ((0  , 0  , 1  , 2  , 2), (mu2 + mu**2) * mu_d**2),\n",
    "            ((0  , 1  , 2  , 2  , 2), mu**2 * (mu_d2 + mu_d**2)),\n",
    "            ((0  , 0  , 1  , 1  , 2), (mu2 + mu**2) * (mu_d2 + mu_d**2)),\n",
    "            ((0  , 0.1, 1  , 2  , 2), (rho * mu2 + mu**2) * mu_d**2),\n",
    "            ((0  , 0.1, 1  , 1  , 2), (rho * mu2 + mu**2) * (mu_d2 + mu_d**2)),\n",
    "\n",
    "            ((0  , 1  , 2  , 3  , 3), mu * mu_d**3),\n",
    "            ((0  , 1  , 1  , 2  , 3), mu * (mu_d2 + mu_d**2) * mu_d),\n",
    "            ((0  , 1  , 1  , 1  , 3), mu * (mu_d3 + 3 * mu_d2 * mu_d + mu_d**3)),\n",
    "\n",
    "            ((0  , 1  , 2  , 3  , 4), mu_d**4),\n",
    "            ((0  , 0  , 1  , 2  , 4), (mu_d2 + mu_d**2) * mu_d**2),\n",
    "            ((0  , 0  , 1  , 1  , 4), (mu_d2 + mu_d**2)**2),\n",
    "            ((0  , 0  , 0  , 1  , 4), (mu_d3 + 3 * mu_d2 * mu_d + mu_d**3) * mu_d),\n",
    "            ((0  , 0  , 0  , 0  , 4), mu_d4 + 4 * mu_d3 * mu_d + 6 * mu_d2 * mu_d**2 + mu_d**4),\n",
    "\n",
    "            # ((0  , 0  , 0.1, 1  , 0), (mu**3 + mu2 * mu * (2 * rho + 1)) * mu), # GAUSS-SPECIFIC X X X^T Y\n",
    "            # ((0  , 0  , 0.1, 0.1, 0), mu**4 + 2 * mu**2 * mu2 + mu2**2 + 2 * rho * (2 * mu**2 * mu2 + mu2**2 * rho)), # GAUSS-SPECIFIC X X X^T X^T\n",
    "            # ((0  , 0  , 0  , 0.1, 0), mu**4 + 3 * mu2 * (rho * (mu2 + mu**2) + mu**2)), # GAUSS-SPECIFIC X X X X^T\n",
    "            # ((0  , 0  , 0.1, 1  , 1), (mu**3 + mu2 * mu * (2 * rho + 1)) * mu_d), # GAUSS-SPECIFIC X X X^T Y_d\n",
    "        ])\n",
    "    \n",
    "    tuples = factors.keys()\n",
    "\n",
    "    print(\" \"*(dim_R + 1)*5 + \"Multiplicity number m_P\")\n",
    "    m_p_str_title = \"\"\n",
    "    for i in range(dim_P):\n",
    "        m_p_str_title += \"%5d\"%(i+1)\n",
    "    print(\"Cliques              \" + m_p_str_title)\n",
    "    print(\"-\"*60)\n",
    "\n",
    "    # Check if comparison works:\n",
    "    for ind in indicators:\n",
    "        if not ind[0] in tuples:\n",
    "            print(ind)\n",
    "            raise Exception, \"Not in tuples!\"\n",
    "\n",
    "    m_all = np.zeros((len(tuples), dim_P), dtype=int)\n",
    "    for j, ind_tuple in enumerate(tuples):\n",
    "        # Get multiplicities\n",
    "        multiplicities = np.zeros(dim_P, dtype=int)\n",
    "        for ind in indicators:\n",
    "            if ind[0] == ind_tuple:\n",
    "                multiplicities[ind[1] - 1] += 1\n",
    "\n",
    "        # Generate indicator name\n",
    "        i_str = \"\"\n",
    "        nd = int(ind_tuple[-1])\n",
    "        for i in range(dim_R):\n",
    "            i_str += ['X', 'Y', 'Z', 'U'][int(np.floor(ind_tuple[i]))]\n",
    "\n",
    "            if i < dim_R - nd:\n",
    "                # Off-diagonals\n",
    "                ind_i = ind_tuple[i]\n",
    "                if round(ind_i - round(ind_i, 0), 1) == 0.1:\n",
    "                    i_str += '^T'\n",
    "                else:\n",
    "                    i_str += '  '\n",
    "            else:\n",
    "                # Diagonals\n",
    "                i_str += '_d'\n",
    "\n",
    "            i_str += '  '\n",
    "\n",
    "        # Generate string with multiplicities\n",
    "        m_str = \"\"\n",
    "        for m_c in multiplicities:\n",
    "            if m_c == 0:\n",
    "                m_str += \"    -\"\n",
    "            else:\n",
    "                m_str += \"%5d\"%m_c\n",
    "\n",
    "        print(i_str + \" \" + m_str)\n",
    "\n",
    "        m_all[j] = multiplicities\n",
    "            \n",
    "    return m_all, factors\n"
   ]
  },
  {
   "cell_type": "code",
   "execution_count": 419,
   "metadata": {
    "collapsed": false
   },
   "outputs": [],
   "source": [
    "def calc_expected_value(m_factors_all, factors):\n",
    "    \n",
    "    dim_P = m_factors_all.shape[1]\n",
    "    j = sympy.symbols('j', integer=True)\n",
    "    \n",
    "    # Check-sum\n",
    "    check_sum = 0\n",
    "    m_factor_column_sum = np.sum(m_factors_all, axis=0)\n",
    "    for i in range(dim_P):\n",
    "        prod_S = sympy.product(S-j, (j, 0, i))\n",
    "        check_sum += prod_S * m_factor_column_sum[i]\n",
    "    \n",
    "    if 1.0 * S**dim_P == sympy.expand(check_sum) or S**dim_P == sympy.expand(check_sum):\n",
    "        print(\"\\nChecksum = \", sympy.expand(check_sum), \"is ok!\") # == S**6???\n",
    "    else:\n",
    "        raise Exception, \"Checksum not ok!\"\n",
    "\n",
    "    # Calculate factors for expected value\n",
    "    a = []\n",
    "#     for k in range(len(m_factors_all)):\n",
    "    for m_factors in m_factors_all:\n",
    "        sum_S = 0\n",
    "        for i in range(dim_P):\n",
    "            prod_S = sympy.product(S-j, (j, 0, i))\n",
    "            sum_S += prod_S * m_factors[i]\n",
    "        a.append(sympy.expand(sum_S))\n",
    "\n",
    "    # Expected_value \n",
    "    expected_value = 0\n",
    "    for j, factor in enumerate(factors.values()):\n",
    "        expected_value += factor * a[j]\n",
    "        \n",
    "    dim_R = len(factors.keys()[0]) - 1\n",
    "    prefactor = S**(2 * dim_R - dim_P)\n",
    "        \n",
    "    return prefactor * expected_value"
   ]
  },
  {
   "cell_type": "markdown",
   "metadata": {},
   "source": [
    "## Calculate expected values of $n$, $d$, $n^2$, $d^2$ and $n \\cdot d$."
   ]
  },
  {
   "cell_type": "code",
   "execution_count": 420,
   "metadata": {
    "collapsed": false,
    "scrolled": true
   },
   "outputs": [
    {
     "name": "stdout",
     "output_type": "stream",
     "text": [
      "Calculate d term\n",
      "\n",
      "For dim_P = 3 -> red_dim = 3, the calculation took 0.0 sec.\n",
      "\n",
      "               Multiplicity number m_P\n",
      "Cliques                  1    2    3\n",
      "------------------------------------------------------------\n",
      "X    Y         -    -    1\n",
      "X    X^T       -    1    -\n",
      "X    X         -    -    -\n",
      "X    Y_d       -    2    -\n",
      "X_d  Y_d       -    -    -\n",
      "X_d  X_d       1    -    -\n",
      "\n",
      "Checksum =  S**3 is ok!\n",
      "\n",
      "E[d]:\n"
     ]
    },
    {
     "data": {
      "image/png": "[encoded data removed]",
      "text/latex": [
       "$$S^{4} \\mu^{2} - 2 S^{3} \\mu^{2} + 2 S^{3} \\mu \\mu_{d} + S^{3} \\mu_{2} \\rho + S^{2} \\mu^{2} - 2 S^{2} \\mu \\mu_{d} - S^{2} \\mu_{2} \\rho + S^{2} \\mu_{d}^{2} + S^{2} \\mu_{d2}$$"
      ],
      "text/plain": [
       " 4   2      3   2      3            3            2   2      2            2            2     2    2      \n",
       "S *mu  - 2*S *mu  + 2*S *mu*mu_d + S *mu2*rho + S *mu  - 2*S *mu*mu_d - S *mu2*rho + S *mu_d  + S *mu_d2"
      ]
     },
     "execution_count": 420,
     "metadata": {},
     "output_type": "execute_result"
    }
   ],
   "source": [
    "# Calculate d term\n",
    "print(\"Calculate d term\\n\")\n",
    "\n",
    "dim = 3\n",
    "\n",
    "indicators = calc_all(dim)\n",
    "\n",
    "m_factors_all, factors = print_results(indicators, dim_P=dim)\n",
    "\n",
    "E_d = calc_expected_value(m_factors_all, factors)\n",
    "\n",
    "print(\"\\nE[d]:\")\n",
    "sympy.expand(E_d)\n"
   ]
  },
  {
   "cell_type": "code",
   "execution_count": 421,
   "metadata": {
    "collapsed": false,
    "scrolled": true
   },
   "outputs": [
    {
     "name": "stdout",
     "output_type": "stream",
     "text": [
      "Calculate n term\n",
      "\n",
      "For dim_P = 4 -> red_dim = 6, the calculation took 0.0 sec.\n",
      "\n",
      "               Multiplicity number m_P\n",
      "Cliques                  1    2    3    4\n",
      "------------------------------------------------------------\n",
      "X    Y         -    -    4    1\n",
      "X    X^T       -    1    -    -\n",
      "X    X         -    1    -    -\n",
      "X    Y_d       -    4    2    -\n",
      "X_d  Y_d       -    1    -    -\n",
      "X_d  X_d       1    -    -    -\n",
      "\n",
      "Checksum =  S**4 is ok!\n",
      "\n",
      "E[n]:\n"
     ]
    },
    {
     "data": {
      "image/png": "[encoded data removed]",
      "text/latex": [
       "$$S^{4} \\mu^{2} - 2 S^{3} \\mu^{2} + 2 S^{3} \\mu \\mu_{d} + S^{2} \\mu^{2} - 2 S^{2} \\mu \\mu_{d} + S^{2} \\mu_{2} \\rho + S^{2} \\mu_{2} + S^{2} \\mu_{d}^{2} - S \\mu_{2} \\rho - S \\mu_{2} + S \\mu_{d2}$$"
      ],
      "text/plain": [
       " 4   2      3   2      3            2   2      2            2            2        2     2                              \n",
       "S *mu  - 2*S *mu  + 2*S *mu*mu_d + S *mu  - 2*S *mu*mu_d + S *mu2*rho + S *mu2 + S *mu_d  - S*mu2*rho - S*mu2 + S*mu_d2"
      ]
     },
     "execution_count": 421,
     "metadata": {},
     "output_type": "execute_result"
    }
   ],
   "source": [
    "# Calculate n term\n",
    "print(\"Calculate n term\\n\")\n",
    "\n",
    "dim = 4\n",
    "\n",
    "indicators = calc_all(dim)\n",
    "\n",
    "m_factors_all, factors = print_results(indicators, dim_P=dim)\n",
    "\n",
    "E_n = calc_expected_value(m_factors_all, factors)\n",
    "\n",
    "print(\"\\nE[n]:\")\n",
    "sympy.expand(E_n)\n"
   ]
  },
  {
   "cell_type": "code",
   "execution_count": 422,
   "metadata": {
    "collapsed": false,
    "scrolled": true
   },
   "outputs": [
    {
     "name": "stdout",
     "output_type": "stream",
     "text": [
      "Calculate d^2 term\n",
      "\n",
      "For dim_P = 6 -> red_dim = 15, the calculation took 1.0 sec.\n",
      "\n",
      "                         Multiplicity number m_P\n",
      "Cliques                  1    2    3    4    5    6\n",
      "------------------------------------------------------------\n",
      "X    Y    Z    U         -    -    -   10    9    1\n",
      "X    X    Y    Z         -    -    2    4    -    -\n",
      "X    X    Y    Y         -    -    1    -    -    -\n",
      "X    X    X    Y         -    -    -    -    -    -\n",
      "X    X    X    X         -    -    -    -    -    -\n",
      "X    X^T  Y    Z         -    -    6   16    2    -\n",
      "X    X^T  Y    Y^T       -    -    5    1    -    -\n",
      "X    X    Y    Y^T       -    -    2    -    -    -\n",
      "X    X    X^T  Y         -    -    6    -    -    -\n",
      "X    X    X^T  X^T       -    2    -    -    -    -\n",
      "X    X    X    X^T       -    -    -    -    -    -\n",
      "X    Y    Z    U_d       -    -    8   24    4    -\n",
      "X    X    Y    Z_d       -    -    8    -    -    -\n",
      "X    X    X    Y_d       -    -    -    -    -    -\n",
      "X    X^T  Y    Z_d       -    -   24    4    -    -\n",
      "X    X    X^T  Y_d       -    8    -    -    -    -\n",
      "X    Y    Z_d  U_d       -    -   12    4    -    -\n",
      "X    X    Y_d  Z_d       -    2    -    -    -    -\n",
      "X    Y    Z_d  Z_d       -    -   10    2    -    -\n",
      "X    X    Y_d  Y_d       -    2    -    -    -    -\n",
      "X    X^T  Y_d  Z_d       -    2    -    -    -    -\n",
      "X    X^T  Y_d  Y_d       -    6    2    -    -    -\n",
      "X    Y_d  Z_d  U_d       -    -    -    -    -    -\n",
      "X    Y_d  Y_d  Z_d       -    4    4    -    -    -\n",
      "X    Y_d  Y_d  Y_d       -    4    -    -    -    -\n",
      "X_d  Y_d  Z_d  U_d       -    -    -    -    -    -\n",
      "X_d  X_d  Y_d  Z_d       -    -    -    -    -    -\n",
      "X_d  X_d  Y_d  Y_d       -    1    -    -    -    -\n",
      "X_d  X_d  X_d  Y_d       -    -    -    -    -    -\n",
      "X_d  X_d  X_d  X_d       1    -    -    -    -    -\n",
      "\n",
      "Checksum =  S**6 is ok!\n",
      "\n",
      "E[d^2]:\n"
     ]
    },
    {
     "data": {
      "image/png": "[encoded data removed]",
      "text/latex": [
       "$$S^{8} \\mu^{4} - 4 S^{7} \\mu^{4} + 4 S^{7} \\mu^{3} \\mu_{d} + 2 S^{7} \\mu^{2} \\mu_{2} \\rho + 6 S^{6} \\mu^{4} - 12 S^{6} \\mu^{3} \\mu_{d} - 2 S^{6} \\mu^{2} \\mu_{2} \\rho + 4 S^{6} \\mu^{2} \\mu_{2} + 6 S^{6} \\mu^{2} \\mu_{d}^{2} + 2 S^{6} \\mu^{2} \\mu_{d2} + 4 S^{6} \\mu \\mu_{2} \\mu_{d} \\rho + S^{6} \\mu_{2}^{2} \\rho^{2} - 4 S^{5} \\mu^{4} + 12 S^{5} \\mu^{3} \\mu_{d} - 20 S^{5} \\mu^{2} \\mu_{2} \\rho - 12 S^{5} \\mu^{2} \\mu_{2} - 12 S^{5} \\mu^{2} \\mu_{d}^{2} + 8 S^{5} \\mu \\mu_{2} \\mu_{d} + 4 S^{5} \\mu \\mu_{d}^{3} + 4 S^{5} \\mu \\mu_{d} \\mu_{d2} + 6 S^{5} \\mu \\rho_{21} - S^{5} \\mu_{2}^{2} \\rho^{2} + 2 S^{5} \\mu_{2}^{2} \\rho + S^{5} \\mu_{2}^{2} + 2 S^{5} \\mu_{2} \\mu_{d}^{2} \\rho + 2 S^{5} \\mu_{2} \\mu_{d2} \\rho + S^{4} \\mu^{4} - 4 S^{4} \\mu^{3} \\mu_{d} + 44 S^{4} \\mu^{2} \\mu_{2} \\rho + 12 S^{4} \\mu^{2} \\mu_{2} + 6 S^{4} \\mu^{2} \\mu_{d}^{2} - 6 S^{4} \\mu^{2} \\mu_{d2} - 28 S^{4} \\mu \\mu_{2} \\mu_{d} \\rho - 16 S^{4} \\mu \\mu_{2} \\mu_{d} - 4 S^{4} \\mu \\mu_{d}^{3} + 4 S^{4} \\mu \\mu_{d} \\mu_{d2} + 4 S^{4} \\mu \\mu_{d3} - 18 S^{4} \\mu \\rho_{21} - 4 S^{4} \\mu_{2}^{2} \\rho^{2} - 6 S^{4} \\mu_{2}^{2} \\rho - S^{4} \\mu_{2}^{2} + 2 S^{4} \\mu_{2} \\mu_{d}^{2} \\rho + 4 S^{4} \\mu_{2} \\mu_{d}^{2} + 2 S^{4} \\mu_{2} \\mu_{d2} + S^{4} \\mu_{d}^{4} + 2 S^{4} \\mu_{d}^{2} \\mu_{d2} + 8 S^{4} \\mu_{d} \\rho_{21} + S^{4} \\mu_{d2}^{2} + 2 S^{4} \\rho_{22} - 24 S^{3} \\mu^{2} \\mu_{2} \\rho - 4 S^{3} \\mu^{2} \\mu_{2} + 4 S^{3} \\mu^{2} \\mu_{d2} + 24 S^{3} \\mu \\mu_{2} \\mu_{d} \\rho + 8 S^{3} \\mu \\mu_{2} \\mu_{d} - 8 S^{3} \\mu \\mu_{d} \\mu_{d2} - 4 S^{3} \\mu \\mu_{d3} + 12 S^{3} \\mu \\rho_{21} + 4 S^{3} \\mu_{2}^{2} \\rho^{2} + 4 S^{3} \\mu_{2}^{2} \\rho - 4 S^{3} \\mu_{2} \\mu_{d}^{2} \\rho - 4 S^{3} \\mu_{2} \\mu_{d}^{2} - 2 S^{3} \\mu_{2} \\mu_{d2} \\rho - 2 S^{3} \\mu_{2} \\mu_{d2} + 4 S^{3} \\mu_{d}^{2} \\mu_{d2} + 4 S^{3} \\mu_{d} \\mu_{d3} - 8 S^{3} \\mu_{d} \\rho_{21} - S^{3} \\mu_{d2}^{2} + S^{3} \\mu_{d4} - 2 S^{3} \\rho_{22}$$"
      ],
      "text/plain": [
       " 8   4      7   4      7   3           7   2              6   4       6   3           6   2              6   2          6   2     2      6   2            6                    6    2    2      5   4       5   3            5   2               5   2           5   2     2      5                  5        3      5                    5              5    2    2      5    2        5    2      5         2          5                  4   4      4   3            4   2               4   2          4   2     2      4   2             4                       4                  4        3      4                    4                4                4    2    2      4    2        4    2      4         2          4         2      4              4     4      4     2            4                4      2      4              3   2              3   2          3   2             3                      3                  3                    3                3                3    2    2      3    2          3         2          3         2      3                    3                3     2            3                 3                3      2    3            3       \n",
       "S *mu  - 4*S *mu  + 4*S *mu *mu_d + 2*S *mu *mu2*rho + 6*S *mu  - 12*S *mu *mu_d - 2*S *mu *mu2*rho + 4*S *mu *mu2 + 6*S *mu *mu_d  + 2*S *mu *mu_d2 + 4*S *mu*mu2*mu_d*rho + S *mu2 *rho  - 4*S *mu  + 12*S *mu *mu_d - 20*S *mu *mu2*rho - 12*S *mu *mu2 - 12*S *mu *mu_d  + 8*S *mu*mu2*mu_d + 4*S *mu*mu_d  + 4*S *mu*mu_d*mu_d2 + 6*S *mu*rho_21 - S *mu2 *rho  + 2*S *mu2 *rho + S *mu2  + 2*S *mu2*mu_d *rho + 2*S *mu2*mu_d2*rho + S *mu  - 4*S *mu *mu_d + 44*S *mu *mu2*rho + 12*S *mu *mu2 + 6*S *mu *mu_d  - 6*S *mu *mu_d2 - 28*S *mu*mu2*mu_d*rho - 16*S *mu*mu2*mu_d - 4*S *mu*mu_d  + 4*S *mu*mu_d*mu_d2 + 4*S *mu*mu_d3 - 18*S *mu*rho_21 - 4*S *mu2 *rho  - 6*S *mu2 *rho - S *mu2  + 2*S *mu2*mu_d *rho + 4*S *mu2*mu_d  + 2*S *mu2*mu_d2 + S *mu_d  + 2*S *mu_d *mu_d2 + 8*S *mu_d*rho_21 + S *mu_d2  + 2*S *rho_22 - 24*S *mu *mu2*rho - 4*S *mu *mu2 + 4*S *mu *mu_d2 + 24*S *mu*mu2*mu_d*rho + 8*S *mu*mu2*mu_d - 8*S *mu*mu_d*mu_d2 - 4*S *mu*mu_d3 + 12*S *mu*rho_21 + 4*S *mu2 *rho  + 4*S *mu2 *rho - 4*S *mu2*mu_d *rho - 4*S *mu2*mu_d  - 2*S *mu2*mu_d2*rho - 2*S *mu2*mu_d2 + 4*S *mu_d *mu_d2 + 4*S *mu_d*mu_d3 - 8*S *mu_d*rho_21 - S *mu_d2  + S *mu_d4 - 2*S *rho_22"
      ]
     },
     "execution_count": 422,
     "metadata": {},
     "output_type": "execute_result"
    }
   ],
   "source": [
    "# Calculate d^2 term\n",
    "print(\"Calculate d^2 term\\n\")\n",
    "\n",
    "dim = 6\n",
    "\n",
    "indicators = calc_all(dim)\n",
    "\n",
    "m_factors_all, tuples = print_results(indicators, dim_P=dim)\n",
    "\n",
    "E_d_sq = calc_expected_value(m_factors_all, tuples)\n",
    "\n",
    "print(\"\\nE[d^2]:\")\n",
    "sympy.expand(E_d_sq)\n"
   ]
  },
  {
   "cell_type": "code",
   "execution_count": 292,
   "metadata": {
    "collapsed": false,
    "scrolled": true
   },
   "outputs": [
    {
     "name": "stdout",
     "output_type": "stream",
     "text": [
      "Calculate n * d term\n",
      "\n",
      "For dim_P = 7 -> red_dim = 21, the calculation took 64.9 sec.\n",
      "\n",
      "                         Multiplicity number m_P\n",
      "Cliques                  1    2    3    4    5    6    7\n",
      "------------------------------------------------------------\n",
      "X    Y    Z    U         -    -    -   48   64   16    1\n",
      "X    X    Y    Z         -    -   10   30    5    -    -\n",
      "X    X    Y    Y         -    -    2    -    -    -    -\n",
      "X    X    X    Y         -    -    2    -    -    -    -\n",
      "X    X    X    X         -    -    -    -    -    -    -\n",
      "X    X^T  Y    Z         -    -   18   62   17    1    -\n",
      "X    X^T  Y    Y^T       -    -    6    1    -    -    -\n",
      "X    X    Y    Y^T       -    -   14    3    -    -    -\n",
      "X    X    X^T  Y         -    -   16    2    -    -    -\n",
      "X    X    X^T  X^T       -    2    -    -    -    -    -\n",
      "X    X    X    X^T       -    2    -    -    -    -    -\n",
      "X    Y    Z    U_d       -    -   28  116   46    4    -\n",
      "X    X    Y    Z_d       -    -   36   10    -    -    -\n",
      "X    X    X    Y_d       -    2    -    -    -    -    -\n",
      "X    X^T  Y    Z_d       -    -   60   26    2    -    -\n",
      "X    X    X^T  Y_d       -   14    4    -    -    -    -\n",
      "X    Y    Z_d  U_d       -    -   38   34    5    -    -\n",
      "X    X    Y_d  Z_d       -    4    4    -    -    -    -\n",
      "X    Y    Z_d  Z_d       -    -   31   13    1    -    -\n",
      "X    X    Y_d  Y_d       -    6    1    -    -    -    -\n",
      "X    X^T  Y_d  Z_d       -    6    8    1    -    -    -\n",
      "X    X^T  Y_d  Y_d       -    8    2    -    -    -    -\n",
      "X    Y_d  Z_d  U_d       -    -    4    2    -    -    -\n",
      "X    Y_d  Y_d  Z_d       -   10   14    2    -    -    -\n",
      "X    Y_d  Y_d  Y_d       -    6    2    -    -    -    -\n",
      "X_d  Y_d  Z_d  U_d       -    -    -    -    -    -    -\n",
      "X_d  X_d  Y_d  Z_d       -    -    1    -    -    -    -\n",
      "X_d  X_d  Y_d  Y_d       -    1    -    -    -    -    -\n",
      "X_d  X_d  X_d  Y_d       -    2    -    -    -    -    -\n",
      "X_d  X_d  X_d  X_d       1    -    -    -    -    -    -\n",
      "\n",
      "Checksum =  S**7 is ok!\n",
      "\n",
      "E[n*d]:\n"
     ]
    },
    {
     "data": {
      "image/png": "[encoded data removed]",
      "text/latex": [
       "$$S^{8} \\mu^{4} - 4 S^{7} \\mu^{4} + 4 S^{7} \\mu^{3} \\mu_{d} + S^{7} \\mu^{2} \\mu_{2} \\rho + 6 S^{6} \\mu^{4} - 12 S^{6} \\mu^{3} \\mu_{d} + 2 S^{6} \\mu^{2} \\mu_{2} \\rho + 5 S^{6} \\mu^{2} \\mu_{2} + 6 S^{6} \\mu^{2} \\mu_{d}^{2} + S^{6} \\mu^{2} \\mu_{d2} + 2 S^{6} \\mu \\mu_{2} \\mu_{d} \\rho - 4 S^{5} \\mu^{4} + 12 S^{5} \\mu^{3} \\mu_{d} - 18 S^{5} \\mu^{2} \\mu_{2} \\rho - 15 S^{5} \\mu^{2} \\mu_{2} - 12 S^{5} \\mu^{2} \\mu_{d}^{2} + 3 S^{5} \\mu^{2} \\mu_{d2} + 6 S^{5} \\mu \\mu_{2} \\mu_{d} \\rho + 10 S^{5} \\mu \\mu_{2} \\mu_{d} + 4 S^{5} \\mu \\mu_{d}^{3} + 2 S^{5} \\mu \\mu_{d} \\mu_{d2} + 2 S^{5} \\mu \\rho_{21} + S^{5} \\mu_{2}^{2} \\rho^{2} + 3 S^{5} \\mu_{2}^{2} \\rho + S^{5} \\mu_{2} \\mu_{d}^{2} \\rho + S^{4} \\mu^{4} - 4 S^{4} \\mu^{3} \\mu_{d} + 12 S^{4} \\mu^{2} \\mu_{2} \\rho + 15 S^{4} \\mu^{2} \\mu_{2} + 6 S^{4} \\mu^{2} \\mu_{d}^{2} - 9 S^{4} \\mu^{2} \\mu_{d2} - 26 S^{4} \\mu \\mu_{2} \\mu_{d} \\rho - 20 S^{4} \\mu \\mu_{2} \\mu_{d} + 2 S^{4} \\mu \\mu_{3} - 4 S^{4} \\mu \\mu_{d}^{3} + 8 S^{4} \\mu \\mu_{d} \\mu_{d2} + 2 S^{4} \\mu \\mu_{d3} + 4 S^{4} \\mu \\rho_{21} - 4 S^{4} \\mu_{2}^{2} \\rho + 2 S^{4} \\mu_{2}^{2} + 4 S^{4} \\mu_{2} \\mu_{d}^{2} \\rho + 5 S^{4} \\mu_{2} \\mu_{d}^{2} + 2 S^{4} \\mu_{2} \\mu_{d2} \\rho + S^{4} \\mu_{2} \\mu_{d2} + S^{4} \\mu_{d}^{4} + S^{4} \\mu_{d}^{2} \\mu_{d2} + 4 S^{4} \\mu_{d} \\rho_{21} + 29 S^{3} \\mu^{2} \\mu_{2} \\rho - 5 S^{3} \\mu^{2} \\mu_{2} + 5 S^{3} \\mu^{2} \\mu_{d2} + 6 S^{3} \\mu \\mu_{2} \\mu_{d} \\rho + 10 S^{3} \\mu \\mu_{2} \\mu_{d} - 4 S^{3} \\mu \\mu_{3} - 10 S^{3} \\mu \\mu_{d} \\mu_{d2} - 26 S^{3} \\mu \\rho_{21} - 7 S^{3} \\mu_{2}^{2} \\rho^{2} - 9 S^{3} \\mu_{2}^{2} \\rho - 4 S^{3} \\mu_{2}^{2} - 5 S^{3} \\mu_{2} \\mu_{d}^{2} \\rho - 5 S^{3} \\mu_{2} \\mu_{d}^{2} + 2 S^{3} \\mu_{2} \\mu_{d2} \\rho + 3 S^{3} \\mu_{2} \\mu_{d2} + 2 S^{3} \\mu_{3} \\mu_{d} + 5 S^{3} \\mu_{d}^{2} \\mu_{d2} + 2 S^{3} \\mu_{d} \\mu_{d3} + 2 S^{3} \\mu_{d} \\rho_{21} + S^{3} \\mu_{d2}^{2} + 2 S^{3} \\rho_{22} + 2 S^{3} \\rho_{31} - 26 S^{2} \\mu^{2} \\mu_{2} \\rho + 12 S^{2} \\mu \\mu_{2} \\mu_{d} \\rho + 2 S^{2} \\mu \\mu_{3} - 2 S^{2} \\mu \\mu_{d3} + 20 S^{2} \\mu \\rho_{21} + 6 S^{2} \\mu_{2}^{2} \\rho^{2} + 10 S^{2} \\mu_{2}^{2} \\rho + 2 S^{2} \\mu_{2}^{2} - 4 S^{2} \\mu_{2} \\mu_{d2} \\rho - 4 S^{2} \\mu_{2} \\mu_{d2} - 2 S^{2} \\mu_{3} \\mu_{d} + 2 S^{2} \\mu_{d} \\mu_{d3} - 6 S^{2} \\mu_{d} \\rho_{21} - S^{2} \\mu_{d2}^{2} + S^{2} \\mu_{d4} - 2 S^{2} \\rho_{22} - 2 S^{2} \\rho_{31}$$"
      ],
      "text/plain": [
       " 8   4      7   4      7   3         7   2              6   4       6   3           6   2              6   2          6   2     2    6   2            6                      5   4       5   3            5   2               5   2           5   2     2      5   2            5                       5                  5        3      5                    5              5    2    2      5    2        5         2        4   4      4   3            4   2               4   2          4   2     2      4   2             4                       4                  4             4        3      4                    4               4                4    2          4    2      4         2          4         2      4                  4              4     4    4     2            4                   3   2              3   2          3   2            3                       3                  3              3                     3                3    2    2      3    2          3    2      3         2          3         2      3                    3                3               3     2            3                 3                3      2      3             3              2   2               2                      2             2                2                2    2    2       2    2          2    2      2                    2                2               2                 2                2      2    2            2             2       \n",
       "S *mu  - 4*S *mu  + 4*S *mu *mu_d + S *mu *mu2*rho + 6*S *mu  - 12*S *mu *mu_d + 2*S *mu *mu2*rho + 5*S *mu *mu2 + 6*S *mu *mu_d  + S *mu *mu_d2 + 2*S *mu*mu2*mu_d*rho - 4*S *mu  + 12*S *mu *mu_d - 18*S *mu *mu2*rho - 15*S *mu *mu2 - 12*S *mu *mu_d  + 3*S *mu *mu_d2 + 6*S *mu*mu2*mu_d*rho + 10*S *mu*mu2*mu_d + 4*S *mu*mu_d  + 2*S *mu*mu_d*mu_d2 + 2*S *mu*rho_21 + S *mu2 *rho  + 3*S *mu2 *rho + S *mu2*mu_d *rho + S *mu  - 4*S *mu *mu_d + 12*S *mu *mu2*rho + 15*S *mu *mu2 + 6*S *mu *mu_d  - 9*S *mu *mu_d2 - 26*S *mu*mu2*mu_d*rho - 20*S *mu*mu2*mu_d + 2*S *mu*mu3 - 4*S *mu*mu_d  + 8*S *mu*mu_d*mu_d2 + 2*S *mu*mu_d3 + 4*S *mu*rho_21 - 4*S *mu2 *rho + 2*S *mu2  + 4*S *mu2*mu_d *rho + 5*S *mu2*mu_d  + 2*S *mu2*mu_d2*rho + S *mu2*mu_d2 + S *mu_d  + S *mu_d *mu_d2 + 4*S *mu_d*rho_21 + 29*S *mu *mu2*rho - 5*S *mu *mu2 + 5*S *mu *mu_d2 + 6*S *mu*mu2*mu_d*rho + 10*S *mu*mu2*mu_d - 4*S *mu*mu3 - 10*S *mu*mu_d*mu_d2 - 26*S *mu*rho_21 - 7*S *mu2 *rho  - 9*S *mu2 *rho - 4*S *mu2  - 5*S *mu2*mu_d *rho - 5*S *mu2*mu_d  + 2*S *mu2*mu_d2*rho + 3*S *mu2*mu_d2 + 2*S *mu3*mu_d + 5*S *mu_d *mu_d2 + 2*S *mu_d*mu_d3 + 2*S *mu_d*rho_21 + S *mu_d2  + 2*S *rho_22 + 2*S *rho_31 - 26*S *mu *mu2*rho + 12*S *mu*mu2*mu_d*rho + 2*S *mu*mu3 - 2*S *mu*mu_d3 + 20*S *mu*rho_21 + 6*S *mu2 *rho  + 10*S *mu2 *rho + 2*S *mu2  - 4*S *mu2*mu_d2*rho - 4*S *mu2*mu_d2 - 2*S *mu3*mu_d + 2*S *mu_d*mu_d3 - 6*S *mu_d*rho_21 - S *mu_d2  + S *mu_d4 - 2*S *rho_22 - 2*S *rho_31"
      ]
     },
     "execution_count": 292,
     "metadata": {},
     "output_type": "execute_result"
    }
   ],
   "source": [
    "# Calculate n*d term\n",
    "print(\"Calculate n * d term\\n\")\n",
    "\n",
    "dim = 7\n",
    "\n",
    "indicators = calc_all(dim)\n",
    "\n",
    "m_factors_all, tuples = print_results(indicators, dim_P=dim)\n",
    "\n",
    "E_nd = calc_expected_value(m_factors_all, tuples)\n",
    "\n",
    "print(\"\\nE[n*d]:\")\n",
    "sympy.expand(E_nd)\n",
    "\n"
   ]
  },
  {
   "cell_type": "code",
   "execution_count": 238,
   "metadata": {
    "collapsed": false
   },
   "outputs": [
    {
     "name": "stdout",
     "output_type": "stream",
     "text": [
      "Calculate n^2 term\n",
      "\n",
      "                         Multiplicity number m_P\n",
      "Cliques                  1    2    3    4    5    6    7    8\n",
      "------------------------------------------------------------\n",
      "X    Y    Z    U         -    -    -  240  432  176   24    1\n",
      "X    X    Y    Z         -    -   48  192   72    6    -    -\n",
      "X    X    Y    Y         -    -   12    3    -    -    -    -\n",
      "X    X    X    Y         -    -   16    4    -    -    -    -\n",
      "X    X    X    X         -    1    -    -    -    -    -    -\n",
      "X    X^T  Y    Z         -    -   48  192   72    6    -    -\n",
      "X    X^T  Y    Y^T       -    -   12    3    -    -    -    -\n",
      "X    X    Y    Y^T       -    -   24    6    -    -    -    -\n",
      "X    X    X^T  Y         -    -   48   12    -    -    -    -\n",
      "X    X    X^T  X^T       -    3    -    -    -    -    -    -\n",
      "X    X    X    X^T       -    4    -    -    -    -    -    -\n",
      "X    Y    Z    U_d       -    -   96  544  368   72    4    -\n",
      "X    X    Y    Z_d       -    -  144   96   12    -    -    -\n",
      "X    X    X    Y_d       -    8    4    -    -    -    -    -\n",
      "X    X^T  Y    Z_d       -    -  144   96   12    -    -    -\n",
      "X    X    X^T  Y_d       -   24   12    -    -    -    -    -\n",
      "X    Y    Z_d  U_d       -    -  144  216   72    6    -    -\n",
      "X    X    Y_d  Z_d       -   12   24    6    -    -    -    -\n",
      "X    Y    Z_d  Z_d       -    -   72   48    6    -    -    -\n",
      "X    X    Y_d  Y_d       -   12    6    -    -    -    -    -\n",
      "X    X^T  Y_d  Z_d       -   12   24    6    -    -    -    -\n",
      "X    X^T  Y_d  Y_d       -   12    6    -    -    -    -    -\n",
      "X    Y_d  Z_d  U_d       -    -   24   24    4    -    -    -\n",
      "X    Y_d  Y_d  Z_d       -   24   48   12    -    -    -    -\n",
      "X    Y_d  Y_d  Y_d       -    8    4    -    -    -    -    -\n",
      "X_d  Y_d  Z_d  U_d       -    -    -    1    -    -    -    -\n",
      "X_d  X_d  Y_d  Z_d       -    -    6    -    -    -    -    -\n",
      "X_d  X_d  Y_d  Y_d       -    3    -    -    -    -    -    -\n",
      "X_d  X_d  X_d  Y_d       -    4    -    -    -    -    -    -\n",
      "X_d  X_d  X_d  X_d       1    -    -    -    -    -    -    -\n",
      "\n",
      "Checksum =  S**8 is ok!\n",
      "\n",
      "E[n^2]:\n"
     ]
    },
    {
     "data": {
      "image/png": "[encoded data removed]",
      "text/latex": [
       "$$S^{8} \\mu^{4} - 4 S^{7} \\mu^{4} + 4 S^{7} \\mu^{3} \\mu_{d} + 6 S^{6} \\mu^{4} - 12 S^{6} \\mu^{3} \\mu_{d} + 6 S^{6} \\mu^{2} \\mu_{2} \\rho + 6 S^{6} \\mu^{2} \\mu_{2} + 6 S^{6} \\mu^{2} \\mu_{d}^{2} - 4 S^{5} \\mu^{4} + 12 S^{5} \\mu^{3} \\mu_{d} - 18 S^{5} \\mu^{2} \\mu_{2} \\rho - 18 S^{5} \\mu^{2} \\mu_{2} - 12 S^{5} \\mu^{2} \\mu_{d}^{2} + 6 S^{5} \\mu^{2} \\mu_{d2} + 12 S^{5} \\mu \\mu_{2} \\mu_{d} \\rho + 12 S^{5} \\mu \\mu_{2} \\mu_{d} + 4 S^{5} \\mu \\mu_{d}^{3} + S^{4} \\mu^{4} - 4 S^{4} \\mu^{3} \\mu_{d} - 6 S^{4} \\mu^{2} \\mu_{2} \\rho + 18 S^{4} \\mu^{2} \\mu_{2} + 6 S^{4} \\mu^{2} \\mu_{d}^{2} - 12 S^{4} \\mu^{2} \\mu_{d2} - 24 S^{4} \\mu \\mu_{2} \\mu_{d} \\rho - 24 S^{4} \\mu \\mu_{2} \\mu_{d} + 4 S^{4} \\mu \\mu_{3} - 4 S^{4} \\mu \\mu_{d}^{3} + 12 S^{4} \\mu \\mu_{d} \\mu_{d2} + 12 S^{4} \\mu \\rho_{21} + 3 S^{4} \\mu_{2}^{2} \\rho^{2} + 6 S^{4} \\mu_{2}^{2} \\rho + 3 S^{4} \\mu_{2}^{2} + 6 S^{4} \\mu_{2} \\mu_{d}^{2} \\rho + 6 S^{4} \\mu_{2} \\mu_{d}^{2} + S^{4} \\mu_{d}^{4} + 42 S^{3} \\mu^{2} \\mu_{2} \\rho - 6 S^{3} \\mu^{2} \\mu_{2} + 6 S^{3} \\mu^{2} \\mu_{d2} - 12 S^{3} \\mu \\mu_{2} \\mu_{d} \\rho + 12 S^{3} \\mu \\mu_{2} \\mu_{d} - 8 S^{3} \\mu \\mu_{3} - 12 S^{3} \\mu \\mu_{d} \\mu_{d2} + 4 S^{3} \\mu \\mu_{d3} - 24 S^{3} \\mu \\rho_{21} - 6 S^{3} \\mu_{2}^{2} \\rho^{2} - 12 S^{3} \\mu_{2}^{2} \\rho - 6 S^{3} \\mu_{2}^{2} - 6 S^{3} \\mu_{2} \\mu_{d}^{2} \\rho - 6 S^{3} \\mu_{2} \\mu_{d}^{2} + 6 S^{3} \\mu_{2} \\mu_{d2} \\rho + 6 S^{3} \\mu_{2} \\mu_{d2} + 4 S^{3} \\mu_{3} \\mu_{d} + 6 S^{3} \\mu_{d}^{2} \\mu_{d2} + 12 S^{3} \\mu_{d} \\rho_{21} + 24 S^{2} \\mu \\mu_{2} \\mu_{d} \\rho + 4 S^{2} \\mu \\mu_{3} - 4 S^{2} \\mu \\mu_{d3} - 12 S^{2} \\mu \\rho_{21} - 3 S^{2} \\mu_{2}^{2} \\rho^{2} - 6 S^{2} \\mu_{2}^{2} \\rho - 6 S^{2} \\mu_{2} \\mu_{d2} \\rho - 6 S^{2} \\mu_{2} \\mu_{d2} - 4 S^{2} \\mu_{3} \\mu_{d} + S^{2} \\mu_{4} + 4 S^{2} \\mu_{d} \\mu_{d3} - 12 S^{2} \\mu_{d} \\rho_{21} + 3 S^{2} \\mu_{d2}^{2} + 3 S^{2} \\rho_{22} + 4 S^{2} \\rho_{31} - 24 S \\mu^{2} \\mu_{2} \\rho + 24 S \\mu \\rho_{21} + 6 S \\mu_{2}^{2} \\rho^{2} + 12 S \\mu_{2}^{2} \\rho + 3 S \\mu_{2}^{2} - S \\mu_{4} - 3 S \\mu_{d2}^{2} + S \\mu_{d4} - 3 S \\rho_{22} - 4 S \\rho_{31}$$"
      ],
      "text/plain": [
       " 8   4      7   4      7   3           6   4       6   3           6   2              6   2          6   2     2      5   4       5   3            5   2               5   2           5   2     2      5   2             5                       5                  5        3    4   4      4   3           4   2               4   2          4   2     2       4   2             4                       4                  4             4        3       4                     4                4    2    2      4    2          4    2      4         2          4         2    4     4       3   2              3   2          3   2             3                       3                  3              3                    3                3                3    2    2       3    2          3    2      3         2          3         2      3                    3                3               3     2             3                   2                      2             2                2                2    2    2      2    2          2                    2                2             2          2                  2                  2      2      2             2                 2                                   2    2           2              2                    2                                    \n",
       "S *mu  - 4*S *mu  + 4*S *mu *mu_d + 6*S *mu  - 12*S *mu *mu_d + 6*S *mu *mu2*rho + 6*S *mu *mu2 + 6*S *mu *mu_d  - 4*S *mu  + 12*S *mu *mu_d - 18*S *mu *mu2*rho - 18*S *mu *mu2 - 12*S *mu *mu_d  + 6*S *mu *mu_d2 + 12*S *mu*mu2*mu_d*rho + 12*S *mu*mu2*mu_d + 4*S *mu*mu_d  + S *mu  - 4*S *mu *mu_d - 6*S *mu *mu2*rho + 18*S *mu *mu2 + 6*S *mu *mu_d  - 12*S *mu *mu_d2 - 24*S *mu*mu2*mu_d*rho - 24*S *mu*mu2*mu_d + 4*S *mu*mu3 - 4*S *mu*mu_d  + 12*S *mu*mu_d*mu_d2 + 12*S *mu*rho_21 + 3*S *mu2 *rho  + 6*S *mu2 *rho + 3*S *mu2  + 6*S *mu2*mu_d *rho + 6*S *mu2*mu_d  + S *mu_d  + 42*S *mu *mu2*rho - 6*S *mu *mu2 + 6*S *mu *mu_d2 - 12*S *mu*mu2*mu_d*rho + 12*S *mu*mu2*mu_d - 8*S *mu*mu3 - 12*S *mu*mu_d*mu_d2 + 4*S *mu*mu_d3 - 24*S *mu*rho_21 - 6*S *mu2 *rho  - 12*S *mu2 *rho - 6*S *mu2  - 6*S *mu2*mu_d *rho - 6*S *mu2*mu_d  + 6*S *mu2*mu_d2*rho + 6*S *mu2*mu_d2 + 4*S *mu3*mu_d + 6*S *mu_d *mu_d2 + 12*S *mu_d*rho_21 + 24*S *mu*mu2*mu_d*rho + 4*S *mu*mu3 - 4*S *mu*mu_d3 - 12*S *mu*rho_21 - 3*S *mu2 *rho  - 6*S *mu2 *rho - 6*S *mu2*mu_d2*rho - 6*S *mu2*mu_d2 - 4*S *mu3*mu_d + S *mu4 + 4*S *mu_d*mu_d3 - 12*S *mu_d*rho_21 + 3*S *mu_d2  + 3*S *rho_22 + 4*S *rho_31 - 24*S*mu *mu2*rho + 24*S*mu*rho_21 + 6*S*mu2 *rho  + 12*S*mu2 *rho + 3*S*mu2  - S*mu4 - 3*S*mu_d2  + S*mu_d4 - 3*S*rho_22 - 4*S*rho_31"
      ]
     },
     "execution_count": 238,
     "metadata": {},
     "output_type": "execute_result"
    }
   ],
   "source": [
    "# Calculate n^2 term\n",
    "print(\"Calculate n^2 term\\n\")\n",
    "\n",
    "dim = 8\n",
    "\n",
    "indicators = calc_all(dim)\n",
    "\n",
    "m_factors_all, tuples = print_results(indicators, dim_P=dim)\n",
    "\n",
    "E_n_sq = calc_expected_value(m_factors_all, tuples)\n",
    "\n",
    "print(\"\\nE[n^2]:\")\n",
    "sympy.expand(E_n_sq)\n"
   ]
  },
  {
   "cell_type": "markdown",
   "metadata": {},
   "source": [
    "## Put everything together to get \n",
    "\n",
    "## $\\mathrm{Var}(err) \\approx \n",
    "\\frac{\\mathbb{E}[d^2]\\mathbb{E}[n]^2 - 2 \\mathbb{E}[nd]\\mathbb{E}[n] \\mathbb{E}[d] + \\mathbb{E}[n^2]\\mathbb{E}[d]^2}\n",
    "{\\mathbb{E}[d^2]\\mathbb{E}[d]^2}$\n",
    "\n",
    "### We approximate for different cases:\n",
    "\n",
    " * 0.)  Full variance, no further conditions. \n",
    "  \n",
    "  \n",
    " * 1.)  All $A_{ij}$ iid, no correlation (test case).  \n",
    "    $\\mu_d = \\mu, \\quad \\sigma_d = \\sigma, \\quad \\rho = 0$ \n",
    "\n",
    "\n",
    " * 2.)  Constant diagonal, no correlation  \n",
    "    $\\mu_d = -d, \\quad \\sigma_d = 0, \\quad \\rho = 0$  \n",
    "\n",
    "  * 2a) Non-reactivity / D-stability for $\\mu > 0 \\sim$ cooperation:   \n",
    "    $ d = (S - 1)\\mu $\n",
    " \n",
    "  * 2b) Non-reactivity / D-stability for $\\mu \\le 0 \\sim$ competition:   \n",
    "    $ d = \\sigma \\sqrt{2S(1 + \\rho)} - \\mu$\n",
    "\n",
    "\n",
    " * 3.) Mutualisitic correlation, no specific diagonal  \n",
    "    $\\mu_d = \\mu, \\quad \\sigma_d = \\sigma, \\quad \\rho \\ne 0$ \n",
    "\n",
    "\n",
    "For each case, the variance is approximated to the highest and next to highest order. "
   ]
  },
  {
   "cell_type": "code",
   "execution_count": 423,
   "metadata": {
    "collapsed": true
   },
   "outputs": [],
   "source": [
    "# Creating full numerator and denominator\n",
    "full_num = sympy.expand(E_d_sq * E_n**2 - 2 * E_nd * E_n * E_d + E_n_sq * E_d**2)\n",
    "full_den = sympy.expand(E_d_sq * E_d**2)\n"
   ]
  },
  {
   "cell_type": "code",
   "execution_count": 464,
   "metadata": {
    "collapsed": false
   },
   "outputs": [],
   "source": [
    "# Get highest order contribution.\n",
    "def eval_specific_case(full_n, full_d, full_num, full_den, cond, show_order=0):\n",
    "    \n",
    "    # Make results more readable: exchange sigma**2 for mu2\n",
    "    sigma, sigma_d = sympy.symbols('sigma sigma_d')\n",
    "    cond_sigma = [(mu2, sigma**2), (mu_d2, sigma_d**2)]\n",
    "    \n",
    "    # Apply conditions \n",
    "    d_n = sympy.expand((full_d - full_n).subs(cond + cond_sigma))\n",
    "    d   = sympy.expand(full_d.subs(cond + cond_sigma))\n",
    "    num = sympy.expand(full_num.subs(cond + cond_sigma))\n",
    "    den = sympy.expand(full_den.subs(cond + cond_sigma))\n",
    "\n",
    "    # Get highest order of term (expected value or variance)\n",
    "    def approx(num, den, order=0):\n",
    "        if num == 0:\n",
    "            deg_num = 0\n",
    "        else:\n",
    "            deg_num = sympy.degree(num, gen=S) - order\n",
    "        num_approx  = num - (num + sympy.O(S**deg_num)).removeO()\n",
    "        \n",
    "        if den == 0:\n",
    "            print(\"Deminator is zero!\")\n",
    "            return 0\n",
    "        else:\n",
    "            deg_den     = sympy.degree(den, gen=S) - order\n",
    "        den_approx  = den - (den + sympy.O(S**deg_den)).removeO()\n",
    "        \n",
    "        min_deg     = min(deg_num, deg_den)\n",
    "        if num == 0:\n",
    "            min_deg_mu = 0\n",
    "        else:\n",
    "            min_deg_mu  = min(sympy.O(num_approx, (mu, 0)).getn(), sympy.O(den_approx, (mu, 0)).getn())\n",
    "#         approx      = (sympy.expand(num_approx / (S**min_deg * mu**min_deg_mu)) / \n",
    "#                        sympy.expand(den_approx / (S**min_deg * mu**min_deg_mu)))\n",
    "        approx      = (sympy.factor(num_approx / (S**min_deg * mu**min_deg_mu)) / \n",
    "                       sympy.factor(den_approx / (S**min_deg * mu**min_deg_mu)))\n",
    "        return approx\n",
    "    \n",
    "    if show_order == 0:\n",
    "        print(\"\\nExpected value: 1st order; Variance: 1st order.\")\n",
    "        return (approx(d_n, d, order=0), \n",
    "                approx(num, den, order=0),\n",
    "                )\n",
    "    \n",
    "    elif show_order == 1:\n",
    "        print(\"\\nExpected value: 1st & 2nd order; Variance: 1st & 2nd order.\")\n",
    "        return (approx(d_n, d, order=0), \n",
    "                approx(d_n, d, order=1), \n",
    "                approx(num, den, order=0),\n",
    "                approx(num, den, order=1),\n",
    "                )\n",
    "    \n",
    "\n",
    "    elif show_order == 2:\n",
    "        print(\"\\nExpected value: 1st & 2nd order, full; Variance: 1st & 2nd order, full.\")\n",
    "        return (approx(d_n, d, order=0), \n",
    "                approx(d_n, d, order=1), \n",
    "                d_n / n,\n",
    "                approx(num, den, order=0),\n",
    "                approx(num, den, order=1),\n",
    "                num / den,\n",
    "                )\n"
   ]
  },
  {
   "cell_type": "code",
   "execution_count": 478,
   "metadata": {
    "collapsed": false
   },
   "outputs": [
    {
     "name": "stdout",
     "output_type": "stream",
     "text": [
      "Case 0: Full variance, no further conditions.\n",
      "\n",
      "Expected value: 1st & 2nd order; Variance: 1st & 2nd order.\n"
     ]
    },
    {
     "data": {
      "image/png": "[encoded data removed]",
      "text/latex": [
       "$$\\left ( \\frac{\\rho \\sigma^{2}}{S \\mu^{2}}, \\quad \\frac{S \\rho \\sigma^{2} - 2 \\rho \\sigma^{2} - \\sigma^{2} + \\sigma_{d}^{2}}{S \\left(S \\mu^{2} - 2 \\mu^{2} + 2 \\mu \\mu_{d} + \\rho \\sigma^{2}\\right)}, \\quad \\frac{1}{S^{3} \\mu^{4}} \\left(- 2 \\mu^{2} \\rho \\sigma^{2} + 2 \\mu \\rho_{21} + \\rho^{2} \\sigma^{4} - 2 \\rho \\sigma^{4} + \\sigma^{4}\\right), \\quad \\frac{1}{S^{3} \\mu^{4} \\left(S \\mu^{2} - 8 \\mu^{2} + 8 \\mu \\mu_{d} + 4 \\rho \\sigma^{2}\\right)} \\left(- 2 S \\mu^{4} \\rho \\sigma^{2} + 2 S \\mu^{3} \\rho_{21} + S \\mu^{2} \\rho^{2} \\sigma^{4} - 2 S \\mu^{2} \\rho \\sigma^{4} + S \\mu^{2} \\sigma^{4} + 22 \\mu^{4} \\rho \\sigma^{2} - 8 \\mu^{3} \\mu_{d} \\rho \\sigma^{2} - 22 \\mu^{3} \\rho_{21} + 8 \\mu^{2} \\mu_{d} \\rho_{21} + \\mu^{2} \\rho^{2} \\sigma^{4} + 10 \\mu^{2} \\rho \\sigma^{4} + 2 \\mu^{2} \\rho \\sigma^{2} \\sigma_{d}^{2} + 2 \\mu^{2} \\rho_{22} - 7 \\mu^{2} \\sigma^{4} + 2 \\mu^{2} \\sigma^{2} \\sigma_{d}^{2} + 4 \\mu \\mu_{d} \\rho^{2} \\sigma^{4} - 8 \\mu \\mu_{d} \\rho \\sigma^{4} + 4 \\mu \\mu_{d} \\sigma^{4} - 4 \\mu \\rho \\rho_{21} \\sigma^{2} + 4 \\rho^{3} \\sigma^{6}\\right)\\right )$$"
      ],
      "text/plain": [
       "          2             2              2        2          2        2          2                    2      4              4        4          4          2         3              2    2      4         2          4       2      4        4          2       3               2        3              2                 2    2      4        2          4       2          2        2       2              2      4       2      2        2                2      4                      4                  4                        2        3      6 \n",
       " rho*sigma   S*rho*sigma  - 2*rho*sigma  - sigma  + sigma_d   - 2*mu *rho*sigma  + 2*mu*rho_21 + rho *sigma  - 2*rho*sigma  + sigma   - 2*S*mu *rho*sigma  + 2*S*mu *rho_21 + S*mu *rho *sigma  - 2*S*mu *rho*sigma  + S*mu *sigma  + 22*mu *rho*sigma  - 8*mu *mu_d*rho*sigma  - 22*mu *rho_21 + 8*mu *mu_d*rho_21 + mu *rho *sigma  + 10*mu *rho*sigma  + 2*mu *rho*sigma *sigma_d  + 2*mu *rho_22 - 7*mu *sigma  + 2*mu *sigma *sigma_d  + 4*mu*mu_d*rho *sigma  - 8*mu*mu_d*rho*sigma  + 4*mu*mu_d*sigma  - 4*mu*rho*rho_21*sigma  + 4*rho *sigma  \n",
       "(----------, -----------------------------------------------, ----------------------------------------------------------------------, ----------------------------------------------------------------------------------------------------------------------------------------------------------------------------------------------------------------------------------------------------------------------------------------------------------------------------------------------------------------------------------------------------------------)\n",
       "       2          /    2       2                        2\\                                     3   4                                                                                                                                                                                                                  3   4 /    2       2                          2\\                                                                                                                                                                                 \n",
       "   S*mu         S*\\S*mu  - 2*mu  + 2*mu*mu_d + rho*sigma /                                    S *mu                                                                                                                                                                                                                  S *mu *\\S*mu  - 8*mu  + 8*mu*mu_d + 4*rho*sigma /                                                                                                                                                                                 "
      ]
     },
     "execution_count": 478,
     "metadata": {},
     "output_type": "execute_result"
    }
   ],
   "source": [
    "# 0.\n",
    "print(\"Case 0: Full variance, no further conditions.\")\n",
    "\n",
    "cond = []\n",
    "\n",
    "eval_specific_case(E_n, E_d, full_num, full_den, cond, show_order=1)"
   ]
  },
  {
   "cell_type": "code",
   "execution_count": 482,
   "metadata": {
    "collapsed": false
   },
   "outputs": [
    {
     "name": "stdout",
     "output_type": "stream",
     "text": [
      "Case 1: All A_ij iid.\n",
      "\n",
      "Expected value: 1st & 2nd order; Variance: 1st & 2nd order.\n"
     ]
    },
    {
     "data": {
      "image/png": "[encoded data removed]",
      "text/latex": [
       "$$\\left ( 0, \\quad 0, \\quad \\frac{\\sigma^{4}}{S^{3} \\mu^{4}}, \\quad \\frac{\\sigma^{4} \\left(S - 1\\right)}{S^{4} \\mu^{4}}\\right )$$"
      ],
      "text/plain": [
       "            4       4         \n",
       "       sigma   sigma *(S - 1) \n",
       "(0, 0, ------, --------------)\n",
       "        3   4       4   4     \n",
       "       S *mu       S *mu      "
      ]
     },
     "execution_count": 482,
     "metadata": {},
     "output_type": "execute_result"
    }
   ],
   "source": [
    "# 1.\n",
    "print(\"Case 1: All A_ij iid.\")\n",
    "cond = [(mu_d, mu), (mu_d2, mu2), (mu_d3, mu3), (mu_d4, mu4), (rho, 0), (rho_21, 0), (rho_22, 0), (rho_31, 0)]\n",
    "\n",
    "eval_specific_case(E_n, E_d, full_num, full_den, cond, show_order=1)"
   ]
  },
  {
   "cell_type": "code",
   "execution_count": 479,
   "metadata": {
    "collapsed": false
   },
   "outputs": [
    {
     "name": "stdout",
     "output_type": "stream",
     "text": [
      "Case 2: correlation variables, no specific diagonal.\n",
      "\n",
      "Expected value: 1st & 2nd order; Variance: 1st & 2nd order.\n"
     ]
    },
    {
     "data": {
      "image/png": "[encoded data removed]",
      "text/latex": [
       "$$\\left ( \\frac{\\rho \\sigma^{2}}{S \\mu^{2}}, \\quad \\frac{\\rho \\sigma^{2} \\left(S - 2\\right)}{S \\left(S \\mu^{2} + \\rho \\sigma^{2}\\right)}, \\quad \\frac{1}{S^{3} \\mu^{4}} \\left(- 2 \\mu^{2} \\rho \\sigma^{2} + 2 \\mu \\rho_{21} + \\rho^{2} \\sigma^{4} - 2 \\rho \\sigma^{4} + \\sigma^{4}\\right), \\quad \\frac{1}{S^{3} \\mu^{4} \\left(S \\mu^{2} + 4 \\rho \\sigma^{2}\\right)} \\left(- 2 S \\mu^{4} \\rho \\sigma^{2} + 2 S \\mu^{3} \\rho_{21} + S \\mu^{2} \\rho^{2} \\sigma^{4} - 2 S \\mu^{2} \\rho \\sigma^{4} + S \\mu^{2} \\sigma^{4} + 14 \\mu^{4} \\rho \\sigma^{2} - 14 \\mu^{3} \\rho_{21} + 5 \\mu^{2} \\rho^{2} \\sigma^{4} + 4 \\mu^{2} \\rho \\sigma^{4} + 2 \\mu^{2} \\rho_{22} - \\mu^{2} \\sigma^{4} - 4 \\mu \\rho \\rho_{21} \\sigma^{2} + 4 \\rho^{3} \\sigma^{6}\\right)\\right )$$"
      ],
      "text/plain": [
       "          2             2                  2          2                    2      4              4        4          4          2         3              2    2      4         2          4       2      4        4          2        3              2    2      4       2          4       2            2      4                        2        3      6 \n",
       " rho*sigma     rho*sigma *(S - 2)    - 2*mu *rho*sigma  + 2*mu*rho_21 + rho *sigma  - 2*rho*sigma  + sigma   - 2*S*mu *rho*sigma  + 2*S*mu *rho_21 + S*mu *rho *sigma  - 2*S*mu *rho*sigma  + S*mu *sigma  + 14*mu *rho*sigma  - 14*mu *rho_21 + 5*mu *rho *sigma  + 4*mu *rho*sigma  + 2*mu *rho_22 - mu *sigma  - 4*mu*rho*rho_21*sigma  + 4*rho *sigma  \n",
       "(----------, ----------------------, ----------------------------------------------------------------------, ---------------------------------------------------------------------------------------------------------------------------------------------------------------------------------------------------------------------------------------------)\n",
       "       2       /    2            2\\                                   3   4                                                                                                                                           3   4 /    2              2\\                                                                                                         \n",
       "   S*mu      S*\\S*mu  + rho*sigma /                                  S *mu                                                                                                                                           S *mu *\\S*mu  + 4*rho*sigma /                                                                                                         "
      ]
     },
     "execution_count": 479,
     "metadata": {},
     "output_type": "execute_result"
    }
   ],
   "source": [
    "# 2.\n",
    "print(\"Case 2: correlation variables, no specific diagonal.\")\n",
    "cond = [(mu_d, mu), (mu_d2, mu2), (mu_d3, mu3), (mu_d4, mu4)]\n",
    "\n",
    "eval_specific_case(E_n, E_d, full_num, full_den, cond, show_order=1)"
   ]
  },
  {
   "cell_type": "code",
   "execution_count": 480,
   "metadata": {
    "collapsed": false
   },
   "outputs": [
    {
     "name": "stdout",
     "output_type": "stream",
     "text": [
      "Case 2a: correlation with Gaussian variables, no specific diagonal.\n",
      "\n",
      "Expected value: 1st & 2nd order; Variance: 1st & 2nd order.\n"
     ]
    },
    {
     "data": {
      "image/png": "[encoded data removed]",
      "text/latex": [
       "$$\\left ( \\frac{\\rho \\sigma^{2}}{S \\mu^{2}}, \\quad \\frac{\\rho \\sigma^{2} \\left(S - 2\\right)}{S \\left(S \\mu^{2} + \\rho \\sigma^{2}\\right)}, \\quad \\frac{\\sigma^{2}}{S^{3} \\mu^{4}} \\left(2 \\mu^{2} \\rho + \\rho^{2} \\sigma^{2} - 2 \\rho \\sigma^{2} + \\sigma^{2}\\right), \\quad \\frac{\\sigma^{2}}{S^{3} \\mu^{4} \\left(S \\mu^{2} + 4 \\rho \\sigma^{2}\\right)} \\left(2 S \\mu^{4} \\rho + S \\mu^{2} \\rho^{2} \\sigma^{2} - 2 S \\mu^{2} \\rho \\sigma^{2} + S \\mu^{2} \\sigma^{2} - 6 \\mu^{4} \\rho + \\mu^{2} \\rho^{2} \\sigma^{2} + 4 \\mu^{2} \\rho \\sigma^{2} - \\mu^{2} \\sigma^{2} + 4 \\rho^{3} \\sigma^{4}\\right)\\right )$$"
      ],
      "text/plain": [
       "          2             2                 2 /    2          2      2              2        2\\       2 /      4           2    2      2         2          2       2      2       4         2    2      2       2          2     2      2        3      4\\ \n",
       " rho*sigma     rho*sigma *(S - 2)    sigma *\\2*mu *rho + rho *sigma  - 2*rho*sigma  + sigma /  sigma *\\2*S*mu *rho + S*mu *rho *sigma  - 2*S*mu *rho*sigma  + S*mu *sigma  - 6*mu *rho + mu *rho *sigma  + 4*mu *rho*sigma  - mu *sigma  + 4*rho *sigma / \n",
       "(----------, ----------------------, --------------------------------------------------------, ----------------------------------------------------------------------------------------------------------------------------------------------------------)\n",
       "       2       /    2            2\\                            3   4                                                                                          3   4 /    2              2\\                                                                \n",
       "   S*mu      S*\\S*mu  + rho*sigma /                           S *mu                                                                                          S *mu *\\S*mu  + 4*rho*sigma /                                                                "
      ]
     },
     "execution_count": 480,
     "metadata": {},
     "output_type": "execute_result"
    }
   ],
   "source": [
    "# 2a.\n",
    "print(\"Case 2a: correlation with Gaussian variables, no specific diagonal.\")\n",
    "cond = [(mu_d, mu), (mu_d2, mu2), (mu_d3, mu3), (mu_d4, mu4)]\n",
    "cond_rho = [\n",
    "#             (rho_21, 2 * rho), \n",
    "            (rho_21, 2 * rho * mu * mu2), \n",
    "            (rho_22, 2 * (2 * mu2 * mu**2 * rho + (mu2 * rho)**2)), \n",
    "            (rho_31, -mu3 * mu + 3 * mu2 * mu**2 + 3 * mu2 * rho * (mu2 + mu**2))]\n",
    "cond += cond_rho\n",
    "\n",
    "eval_specific_case(E_n, E_d, full_num, full_den, cond, show_order=1)"
   ]
  },
  {
   "cell_type": "code",
   "execution_count": 481,
   "metadata": {
    "collapsed": false
   },
   "outputs": [
    {
     "name": "stdout",
     "output_type": "stream",
     "text": [
      "Case 3: Constant diagonal `d` of order 1.\n",
      "\n",
      "Expected value: 1st & 2nd order; Variance: 1st & 2nd order.\n"
     ]
    },
    {
     "data": {
      "image/png": "[encoded data removed]",
      "text/latex": [
       "$$\\left ( \\frac{\\rho \\sigma^{2}}{S \\mu^{2}}, \\quad - \\frac{\\sigma^{2} \\left(S \\rho - 2 \\rho - 1\\right)}{S \\left(- S \\mu^{2} + 2 d \\mu + 2 \\mu^{2} - \\rho \\sigma^{2}\\right)}, \\quad \\frac{\\sigma^{2}}{S^{3} \\mu^{4}} \\left(2 \\mu^{2} \\rho + \\rho^{2} \\sigma^{2} - 2 \\rho \\sigma^{2} + \\sigma^{2}\\right), \\quad \\frac{\\sigma^{2}}{S^{3} \\mu^{4} \\left(- S \\mu^{2} + 8 d \\mu + 8 \\mu^{2} - 4 \\rho \\sigma^{2}\\right)} \\left(- 2 S \\mu^{4} \\rho - S \\mu^{2} \\rho^{2} \\sigma^{2} + 2 S \\mu^{2} \\rho \\sigma^{2} - S \\mu^{2} \\sigma^{2} + 8 d \\mu^{3} \\rho + 4 d \\mu \\rho^{2} \\sigma^{2} - 8 d \\mu \\rho \\sigma^{2} + 4 d \\mu \\sigma^{2} + 14 \\mu^{4} \\rho + 3 \\mu^{2} \\rho^{2} \\sigma^{2} - 10 \\mu^{2} \\rho \\sigma^{2} + 7 \\mu^{2} \\sigma^{2} - 4 \\rho^{3} \\sigma^{4}\\right)\\right )$$"
      ],
      "text/plain": [
       "          2               2                                  2 /    2          2      2              2        2\\       2 /        4           2    2      2         2          2       2      2         3                 2      2                   2               2        4           2    2      2        2          2       2      2        3      4\\ \n",
       " rho*sigma          -sigma *(S*rho - 2*rho - 1)         sigma *\\2*mu *rho + rho *sigma  - 2*rho*sigma  + sigma /  sigma *\\- 2*S*mu *rho - S*mu *rho *sigma  + 2*S*mu *rho*sigma  - S*mu *sigma  + 8*d*mu *rho + 4*d*mu*rho *sigma  - 8*d*mu*rho*sigma  + 4*d*mu*sigma  + 14*mu *rho + 3*mu *rho *sigma  - 10*mu *rho*sigma  + 7*mu *sigma  - 4*rho *sigma / \n",
       "(----------, -----------------------------------------, --------------------------------------------------------, -----------------------------------------------------------------------------------------------------------------------------------------------------------------------------------------------------------------------------------------)\n",
       "       2       /      2                2            2\\                            3   4                                                                                                                         3   4 /      2                2              2\\                                                                                             \n",
       "   S*mu      S*\\- S*mu  + 2*d*mu + 2*mu  - rho*sigma /                           S *mu                                                                                                                         S *mu *\\- S*mu  + 8*d*mu + 8*mu  - 4*rho*sigma /                                                                                             "
      ]
     },
     "execution_count": 481,
     "metadata": {},
     "output_type": "execute_result"
    }
   ],
   "source": [
    "# 3.\n",
    "print(\"Case 3: Constant diagonal `d` of order 1.\")\n",
    "d = sympy.symbols('d')\n",
    "cond = [(mu_d, -d), (mu_d2, 0), (mu_d3, 0), (mu_d4, 0)]\n",
    "cond_rho = [\n",
    "#             (rho_21, 2 * rho), \n",
    "            (rho_21, 2 * rho * mu * mu2), \n",
    "            (rho_22, 2 * (2 * mu2 * mu**2 * rho + (mu2 * rho)**2)), \n",
    "            (rho_31, -mu3 * mu + 3 * mu2 * mu**2 + 3 * mu2 * rho * (mu2 + mu**2))]\n",
    "cond += cond_rho\n",
    "\n",
    "eval_specific_case(E_n, E_d, full_num, full_den, cond, show_order=1)"
   ]
  },
  {
   "cell_type": "code",
   "execution_count": 477,
   "metadata": {
    "collapsed": false
   },
   "outputs": [
    {
     "name": "stdout",
     "output_type": "stream",
     "text": [
      "Case 3a: Constant diagonal A_{ii} = -alpha * d_c\n",
      "where d_c = (S - 1) * mu = critical d for mu > 0 ~ coorperation\n",
      "\n",
      "Expected value: 1st & 2nd order; Variance: 1st & 2nd order.\n"
     ]
    },
    {
     "data": {
      "image/png": "[encoded data removed]",
      "text/latex": [
       "$$\\left ( \\frac{\\rho \\sigma^{2}}{S \\mu^{2} \\left(\\alpha - 1\\right)^{2}}, \\quad \\frac{\\sigma^{2} \\left(S \\rho - 2 \\rho - 1\\right)}{S \\left(S \\alpha^{2} \\mu^{2} - 2 S \\alpha \\mu^{2} + S \\mu^{2} - 2 \\alpha^{2} \\mu^{2} + 4 \\alpha \\mu^{2} - 2 \\mu^{2} + \\rho \\sigma^{2}\\right)}, \\quad \\frac{\\sigma^{2}}{S^{3} \\mu^{4} \\left(\\alpha - 1\\right)^{4}} \\left(2 \\mu^{2} \\rho + \\rho^{2} \\sigma^{2} - 2 \\rho \\sigma^{2} + \\sigma^{2}\\right), \\quad \\frac{\\sigma^{2}}{S^{3} \\mu^{4} \\left(\\alpha - 1\\right)^{4} \\left(S \\alpha^{2} \\mu^{2} - 2 S \\alpha \\mu^{2} + S \\mu^{2} - 8 \\alpha^{2} \\mu^{2} + 16 \\alpha \\mu^{2} - 8 \\mu^{2} + 4 \\rho \\sigma^{2}\\right)} \\left(2 S \\alpha^{2} \\mu^{4} \\rho + S \\alpha^{2} \\mu^{2} \\rho^{2} \\sigma^{2} - 2 S \\alpha^{2} \\mu^{2} \\rho \\sigma^{2} + S \\alpha^{2} \\mu^{2} \\sigma^{2} - 4 S \\alpha \\mu^{4} \\rho - 2 S \\alpha \\mu^{2} \\rho^{2} \\sigma^{2} + 4 S \\alpha \\mu^{2} \\rho \\sigma^{2} - 2 S \\alpha \\mu^{2} \\sigma^{2} + 2 S \\mu^{4} \\rho + S \\mu^{2} \\rho^{2} \\sigma^{2} - 2 S \\mu^{2} \\rho \\sigma^{2} + S \\mu^{2} \\sigma^{2} - 14 \\alpha^{2} \\mu^{4} \\rho - 7 \\alpha^{2} \\mu^{2} \\rho^{2} \\sigma^{2} + 10 \\alpha^{2} \\mu^{2} \\rho \\sigma^{2} - 7 \\alpha^{2} \\mu^{2} \\sigma^{2} + 28 \\alpha \\mu^{4} \\rho + 14 \\alpha \\mu^{2} \\rho^{2} \\sigma^{2} - 20 \\alpha \\mu^{2} \\rho \\sigma^{2} + 14 \\alpha \\mu^{2} \\sigma^{2} - 14 \\mu^{4} \\rho - 3 \\mu^{2} \\rho^{2} \\sigma^{2} + 10 \\mu^{2} \\rho \\sigma^{2} - 7 \\mu^{2} \\sigma^{2} + 4 \\rho^{3} \\sigma^{4}\\right)\\right )$$"
      ],
      "text/plain": [
       "              2                                           2                                                           2 /    2          2      2              2        2\\       2 /         2   4              2   2    2      2            2   2          2          2   2      2               4                   2    2      2               2          2               2      2         4           2    2      2         2          2       2      2           2   4              2   2    2      2           2   2          2          2   2      2              4                  2    2      2              2          2              2      2        4           2    2      2        2          2       2      2        3      4\\ \n",
       "     rho*sigma                                       sigma *(S*rho - 2*rho - 1)                                  sigma *\\2*mu *rho + rho *sigma  - 2*rho*sigma  + sigma /  sigma *\\2*S*alpha *mu *rho + S*alpha *mu *rho *sigma  - 2*S*alpha *mu *rho*sigma  + S*alpha *mu *sigma  - 4*S*alpha*mu *rho - 2*S*alpha*mu *rho *sigma  + 4*S*alpha*mu *rho*sigma  - 2*S*alpha*mu *sigma  + 2*S*mu *rho + S*mu *rho *sigma  - 2*S*mu *rho*sigma  + S*mu *sigma  - 14*alpha *mu *rho - 7*alpha *mu *rho *sigma  + 10*alpha *mu *rho*sigma  - 7*alpha *mu *sigma  + 28*alpha*mu *rho + 14*alpha*mu *rho *sigma  - 20*alpha*mu *rho*sigma  + 14*alpha*mu *sigma  - 14*mu *rho - 3*mu *rho *sigma  + 10*mu *rho*sigma  - 7*mu *sigma  + 4*rho *sigma / \n",
       "(------------------, ------------------------------------------------------------------------------------------, --------------------------------------------------------, ------------------------------------------------------------------------------------------------------------------------------------------------------------------------------------------------------------------------------------------------------------------------------------------------------------------------------------------------------------------------------------------------------------------------------------------------------------------------------------------------------------------------------------------------------------------)\n",
       "     2            2    /       2   2               2       2          2   2             2       2            2\\                     3   4            4                                                                                                                                                                                                                                               3   4            4 /       2   2               2       2          2   2              2       2              2\\                                                                                                                                                                                                                           \n",
       " S*mu *(alpha - 1)   S*\\S*alpha *mu  - 2*S*alpha*mu  + S*mu  - 2*alpha *mu  + 4*alpha*mu  - 2*mu  + rho*sigma /                    S *mu *(alpha - 1)                                                                                                                                                                                                                                               S *mu *(alpha - 1) *\\S*alpha *mu  - 2*S*alpha*mu  + S*mu  - 8*alpha *mu  + 16*alpha*mu  - 8*mu  + 4*rho*sigma /                                                                                                                                                                                                                           "
      ]
     },
     "execution_count": 477,
     "metadata": {},
     "output_type": "execute_result"
    }
   ],
   "source": [
    "# 3a.\n",
    "print(\"Case 3a: Constant diagonal A_{ii} = -alpha * d_c\")\n",
    "print(\"where d_c = (S - 1) * mu = critical d for mu > 0 ~ coorperation\")\n",
    "\n",
    "# Critical d:\n",
    "d_c     = (S - 1) * mu\n",
    "# Factor on d_c\n",
    "alpha   = sympy.symbols('alpha')\n",
    "cond = [(mu_d, -alpha * d_c), (mu_d2, 0), (mu_d3, 0), (mu_d4, 0)]\n",
    "cond_rho = [\n",
    "#             (rho_21, 2 * rho), \n",
    "            (rho_21, 2 * rho * mu * mu2), \n",
    "            (rho_22, 2 * (2 * mu2 * mu**2 * rho + (mu2 * rho)**2)), \n",
    "            (rho_31, -mu3 * mu + 3 * mu2 * mu**2 + 3 * mu2 * rho * (mu2 + mu**2))]\n",
    "cond += cond_rho\n",
    "\n",
    "eval_specific_case(E_n, E_d, full_num, full_den, cond, show_order=1)"
   ]
  },
  {
   "cell_type": "code",
   "execution_count": 483,
   "metadata": {
    "collapsed": false
   },
   "outputs": [
    {
     "name": "stdout",
     "output_type": "stream",
     "text": [
      "Case 3b: Constant diagonal A_{ii} = -alpha * d_c\n",
      "where d_c = sqrt(sigma**2 * 2 * S) - mu = critical d for mu < 0 ~ competition\n",
      "\n",
      "Expected value: 1st & 2nd order; Variance: 1st & 2nd order.\n"
     ]
    },
    {
     "data": {
      "image/png": "[encoded data removed]",
      "text/latex": [
       "$$\\left ( \\frac{\\rho \\sigma^{2}}{S \\mu^{2}}, \\quad \\frac{\\sigma^{2} \\left(S \\rho - 2 \\rho - 1\\right)}{S \\left(S \\mu^{2} + 2 \\alpha^{2} \\sigma^{2} + 2 \\alpha \\mu^{2} - 2 \\sqrt{2} \\alpha \\mu \\sqrt{S \\sigma^{2}} - 2 \\mu^{2} + \\rho \\sigma^{2}\\right)}, \\quad \\frac{\\sigma^{2}}{S^{3} \\mu^{4}} \\left(2 \\mu^{2} \\rho + \\rho^{2} \\sigma^{2} - 2 \\rho \\sigma^{2} + \\sigma^{2}\\right), \\quad \\frac{\\sigma^{2}}{S^{3} \\mu^{4} \\left(S \\mu^{2} + 56 \\alpha^{2} \\sigma^{2} + 8 \\alpha \\mu^{2} - 8 \\sqrt{2} \\alpha \\mu \\sqrt{S \\sigma^{2}} - 8 \\mu^{2} + 4 \\rho \\sigma^{2}\\right)} \\left(2 S \\mu^{4} \\rho + S \\mu^{2} \\rho^{2} \\sigma^{2} - 2 S \\mu^{2} \\rho \\sigma^{2} + S \\mu^{2} \\sigma^{2} + 24 \\alpha^{2} \\mu^{2} \\rho \\sigma^{2} + 12 \\alpha^{2} \\rho^{2} \\sigma^{4} - 24 \\alpha^{2} \\rho \\sigma^{4} + 12 \\alpha^{2} \\sigma^{4} + 8 \\alpha \\mu^{4} \\rho - 8 \\sqrt{2} \\alpha \\mu^{3} \\rho \\sqrt{S \\sigma^{2}} + 4 \\alpha \\mu^{2} \\rho^{2} \\sigma^{2} - 8 \\alpha \\mu^{2} \\rho \\sigma^{2} + 4 \\alpha \\mu^{2} \\sigma^{2} - 4 \\sqrt{2} \\alpha \\mu \\rho^{2} \\sigma^{2} \\sqrt{S \\sigma^{2}} + 8 \\sqrt{2} \\alpha \\mu \\rho \\sigma^{2} \\sqrt{S \\sigma^{2}} - 4 \\sqrt{2} \\alpha \\mu \\sigma^{2} \\sqrt{S \\sigma^{2}} - 14 \\mu^{4} \\rho - 3 \\mu^{2} \\rho^{2} \\sigma^{2} + 10 \\mu^{2} \\rho \\sigma^{2} - 7 \\mu^{2} \\sigma^{2} + 4 \\rho^{3} \\sigma^{4}\\right)\\right )$$"
      ],
      "text/plain": [
       "                                                                                                                                                                               /                                                                                                                                                                                                              __________                                                                                                           __________                                  __________                              __________                                                                                    \\ \n",
       "          2                                          2                                                             2 /    2          2      2              2        2\\       2 |      4           2    2      2         2          2       2      2           2   2          2           2    2      4           2          4           2      4             4           ___         3       /        2              2    2      2             2          2             2      2       ___             2      2   /        2        ___                   2   /        2        ___               2   /        2         4           2    2      2        2          2       2      2        3      4| \n",
       " rho*sigma                                      sigma *(S*rho - 2*rho - 1)                                    sigma *\\2*mu *rho + rho *sigma  - 2*rho*sigma  + sigma /  sigma *\\2*S*mu *rho + S*mu *rho *sigma  - 2*S*mu *rho*sigma  + S*mu *sigma  + 24*alpha *mu *rho*sigma  + 12*alpha *rho *sigma  - 24*alpha *rho*sigma  + 12*alpha *sigma  + 8*alpha*mu *rho - 8*\\/ 2 *alpha*mu *rho*\\/  S*sigma   + 4*alpha*mu *rho *sigma  - 8*alpha*mu *rho*sigma  + 4*alpha*mu *sigma  - 4*\\/ 2 *alpha*mu*rho *sigma *\\/  S*sigma   + 8*\\/ 2 *alpha*mu*rho*sigma *\\/  S*sigma   - 4*\\/ 2 *alpha*mu*sigma *\\/  S*sigma   - 14*mu *rho - 3*mu *rho *sigma  + 10*mu *rho*sigma  - 7*mu *sigma  + 4*rho *sigma / \n",
       "(----------, -----------------------------------------------------------------------------------------------, --------------------------------------------------------, ------------------------------------------------------------------------------------------------------------------------------------------------------------------------------------------------------------------------------------------------------------------------------------------------------------------------------------------------------------------------------------------------------------------------------------------------------------------------------------------------------------------------------)\n",
       "       2       /                                                            __________                     \\                            3   4                                                                                                                                                                                                                                             /                                                             __________                       \\                                                                                                                                                                                                             \n",
       "   S*mu        |    2          2      2             2       ___            /        2        2            2|                           S *mu                                                                                                                                                                                                                                        3   4 |    2           2      2             2       ___            /        2        2              2|                                                                                                                                                                                                             \n",
       "             S*\\S*mu  + 2*alpha *sigma  + 2*alpha*mu  - 2*\\/ 2 *alpha*mu*\\/  S*sigma   - 2*mu  + rho*sigma /                                                                                                                                                                                                                                                                       S *mu *\\S*mu  + 56*alpha *sigma  + 8*alpha*mu  - 8*\\/ 2 *alpha*mu*\\/  S*sigma   - 8*mu  + 4*rho*sigma /                                                                                                                                                                                                             "
      ]
     },
     "execution_count": 483,
     "metadata": {},
     "output_type": "execute_result"
    }
   ],
   "source": [
    "# 3b.\n",
    "print(\"Case 3b: Constant diagonal A_{ii} = -alpha * d_c\")\n",
    "print(\"where d_c = sqrt(sigma**2 * 2 * S) - mu = critical d for mu < 0 ~ competition\")\n",
    "\n",
    "# Critical d:\n",
    "d_c     = sympy.sqrt(mu2 * 2 * S) - mu\n",
    "# Factor on d_c\n",
    "alpha   = sympy.symbols('alpha')\n",
    "cond = [(mu_d, -alpha * d_c), (mu_d2, 0), (mu_d3, 0), (mu_d4, 0)]\n",
    "cond_rho = [\n",
    "#             (rho_21, 2 * rho), \n",
    "            (rho_21, 2 * rho * mu * mu2), \n",
    "            (rho_22, 2 * (2 * mu2 * mu**2 * rho + (mu2 * rho)**2)), \n",
    "            (rho_31, -mu3 * mu + 3 * mu2 * mu**2 + 3 * mu2 * rho * (mu2 + mu**2))]\n",
    "cond += cond_rho\n",
    "\n",
    "eval_specific_case(E_n, E_d, full_num, full_den, cond, show_order=1)"
   ]
  },
  {
   "cell_type": "code",
   "execution_count": null,
   "metadata": {
    "collapsed": true
   },
   "outputs": [],
   "source": []
  },
  {
   "cell_type": "code",
   "execution_count": 445,
   "metadata": {
    "collapsed": false
   },
   "outputs": [
    {
     "name": "stdout",
     "output_type": "stream",
     "text": [
      "Case 3a: correlation with Gaussian variables, no specific diagonal.\n",
      "\n",
      "Expected value: 1st order; Variance: 1st order.\n"
     ]
    },
    {
     "data": {
      "image/png": "[encoded data removed]",
      "text/latex": [
       "$$\\left ( \\frac{\\rho \\sigma^{2}}{S \\mu^{2}}, \\quad \\frac{1}{S^{3} \\mu^{4}} \\left(2 \\mu^{2} \\rho \\sigma^{2} + \\rho^{2} \\sigma^{4} - 2 \\rho \\sigma^{4} + \\sigma^{4}\\right)\\right )$$"
      ],
      "text/plain": [
       "          2      2          2      2      4              4        4 \n",
       " rho*sigma   2*mu *rho*sigma  + rho *sigma  - 2*rho*sigma  + sigma  \n",
       "(----------, ------------------------------------------------------)\n",
       "       2                              3   4                         \n",
       "   S*mu                              S *mu                          "
      ]
     },
     "execution_count": 445,
     "metadata": {},
     "output_type": "execute_result"
    }
   ],
   "source": [
    "# 3.a\n",
    "print(\"Case 3a: correlation with Gaussian variables, no specific diagonal.\")\n",
    "cond = [(mu_d, mu), (mu_d2, mu2), (mu_d3, mu3), (mu_d4, mu4)]\n",
    "cond_rho = [(rho_21, 2 * rho), \n",
    "            (rho_22, 2 * (2 * mu2 * mu**2 * rho + (mu2 * rho)**2)), \n",
    "            (rho_31, -mu3 * mu + 3 * mu2 * mu**2 + 3 * mu2 * rho * (mu2 + mu**2))]\n",
    "cond += cond_rho\n",
    "\n",
    "eval_specific_case(E_n, E_d, full_num, full_den, cond, show_order=0)"
   ]
  },
  {
   "cell_type": "code",
   "execution_count": null,
   "metadata": {
    "collapsed": true
   },
   "outputs": [],
   "source": []
  },
  {
   "cell_type": "markdown",
   "metadata": {
    "collapsed": true
   },
   "source": [
    "# Previous results (only $A_{ij}$ iid) -- remain here for comparison."
   ]
  },
  {
   "cell_type": "code",
   "execution_count": 241,
   "metadata": {
    "collapsed": false
   },
   "outputs": [],
   "source": [
    "### Define functions\n",
    "\n",
    "\n",
    "def generate_consistent_index_matrices(dim_P):\n",
    "    \"\"\" Generate all possible iterations (only upper triangular matrices) \n",
    "    and throw away all inconsistent ones. If matrix is kept, set diagonal elements to `True`.\n",
    "    \"\"\"\n",
    "    # Make sure you're not filling the memory completely...\n",
    "    assert dim_P <= 7, \"Larger dim_P takes too long.\"\n",
    "    # Number of entries in upper triangular matrix without diagonal\n",
    "    red_dim = dim_P * (dim_P - 1) / 2\n",
    "    # Iterate over all possible realizations\n",
    "    Ps = []\n",
    "    for entries in it.product([True, False], repeat = red_dim):\n",
    "        P = np.zeros((dim_P, dim_P), dtype=bool)\n",
    "        for i in range(dim_P - 1):\n",
    "            si = sum(range(dim_P - 1 - i, dim_P - 1))\n",
    "            P[i, i+1:] = entries[i + si: si + dim_P - 1]\n",
    "    \n",
    "        # Throw away inconsistent ones\n",
    "        throw_away = False\n",
    "        for x in range(dim_P-1):\n",
    "            for y in range(x + 1, dim_P):\n",
    "                for z in range(y + 1, dim_P):\n",
    "                    if P[x, y] or P[x, z]:\n",
    "                        if (P[x, y] and P[x, z]) != P[y, z]:\n",
    "                            throw_away = True\n",
    "                            break\n",
    "                if throw_away:\n",
    "                    break\n",
    "            if throw_away:\n",
    "                break\n",
    "        if not throw_away:\n",
    "            np.fill_diagonal(P, True)\n",
    "            Ps.append(P)\n",
    "            \n",
    "    return Ps\n",
    "\n",
    "def calc_cliques(Ps):\n",
    "    sorted_clique_lengths = []\n",
    "    m_Ps = np.zeros(len(Ps), dtype=int)\n",
    "    \n",
    "    dim_P = len(Ps[0])\n",
    "\n",
    "    for j, P in enumerate(Ps):\n",
    "        indices = set(range(dim_P))\n",
    "        \n",
    "        # Initial clique containing the first index\n",
    "        cliques = [set([y for y, P_0_y in enumerate(P[0]) if P_0_y])]\n",
    "\n",
    "        # Form other cliques\n",
    "        for i in range(dim_P):\n",
    "            if set.union(*cliques) == indices:\n",
    "                break\n",
    "            else:\n",
    "                idx = min(indices - set.union(*cliques))\n",
    "                P_idx = P[idx, idx: ]\n",
    "                cliques.append(set([y + idx for y, P_idx_y in enumerate(P_idx) if P_idx_y]))\n",
    "\n",
    "        # Collapse cliques\n",
    "        sorted_clique_len = np.sort([len(clique) for clique in cliques])[::-1]\n",
    "        sorted_clique_lengths.append(tuple(sorted_clique_len))\n",
    "        m_Ps[j] = len(sorted_clique_len)\n",
    "    \n",
    "    return sorted_clique_lengths, m_Ps\n",
    "        \n",
    "def collapse_to_4d(Ps):\n",
    "    dim_P = len(Ps[0])\n",
    "    dim_R = 4\n",
    "    Rs = np.zeros((len(Ps), dim_R, dim_R), dtype=bool)\n",
    "    \n",
    "    \n",
    "    if dim_P == 6:\n",
    "        # For denominator: collapse 6d to 4d\n",
    "        for j, P in enumerate(Ps):\n",
    "            R = np.zeros((dim_R, dim_R), dtype=bool)\n",
    "\n",
    "            R[0, 1] = P[0, 4] and P[1, 4] #R[0, 1]\n",
    "            R[0, 2] = P[0, 2] and P[4, 5] #R[0, 2]\n",
    "            R[0, 3] = P[0, 5] and P[3, 4] #R[0, 3]\n",
    "            R[1, 2] = P[2, 4] and P[1, 5] #R[1, 2]\n",
    "            R[1, 3] = P[4, 5] and P[1, 3] #R[1, 3]\n",
    "            R[2, 3] = P[2, 5] and P[3, 5] #R[2, 3]\n",
    "\n",
    "            np.fill_diagonal(R, True)\n",
    "            Rs[j] = R\n",
    "    \n",
    "    if dim_P == 7:\n",
    "        # For den * num term: collapse 7d to 4d\n",
    "        for j, P in enumerate(Ps):\n",
    "            R = np.zeros((dim_R, dim_R), dtype=bool)\n",
    "\n",
    "            R[0, 1] = P[0, 2] and P[1, 3] #R[0, 1]\n",
    "            R[0, 2] = P[0, 4] and P[1, 6] #R[0, 2]\n",
    "            R[0, 3] = P[0, 6] and P[1, 5] #R[0, 3]\n",
    "            R[1, 2] = P[2, 4] and P[3, 6] #R[1, 2]\n",
    "            R[1, 3] = P[2, 6] and P[3, 5] #R[1, 3]\n",
    "            R[2, 3] = P[4, 6] and P[5, 6] #R[2, 3]\n",
    "\n",
    "            np.fill_diagonal(R, True)\n",
    "            Rs[j] = R\n",
    "            \n",
    "    return Rs\n",
    "    \n",
    "def get_unique_cliques_and_multiplicities(sorted_clique_lengths, m_Ps, dim_P):\n",
    "    unique_scls = set(sorted_clique_lengths)\n",
    "    list_scl_m_c = []\n",
    "    m_factors_all = []\n",
    "    for unique_scl in unique_scls:\n",
    "        # Indices where the unique sorted clique length equals that of P in the list Ps\n",
    "        idx = [j for j, scl in enumerate(sorted_clique_lengths) if scl == unique_scl]\n",
    "\n",
    "        # Get the number of appearence of multiplicity factors S, S-1, S-2, ..., S-(dim_P-1)\n",
    "        unique_m_P, counts = np.unique(m_Ps[idx], return_counts=True)\n",
    "        m_factors = np.zeros(dim_P, dtype=int)\n",
    "        m_factors[unique_m_P - 1] = counts\n",
    "\n",
    "        # Append to a list containing the sored clique lengths and corresponding multiplicity factors\n",
    "        list_scl_m_c.append([unique_scl, m_factors])\n",
    "    #     print(unique_scl, m_factors)\n",
    "        m_factors_all.append(m_factors)\n",
    "    \n",
    "    m_factors_all = np.asarray(m_factors_all)\n",
    "    \n",
    "    # Sort multiplicity factors\n",
    "    m_factors_all = m_factors_all[np.argsort(list(unique_scls))[::-1]]\n",
    "    return list_scl_m_c, m_factors_all\n",
    "\n",
    "def print_results(list_scl_m_c):\n",
    "    \"\"\" Print the results in a nice way (to understand what's going on).\n",
    "    \"\"\"\n",
    "    dim_P = len(list_scl_m_c[0][1])\n",
    "\n",
    "    names                           = ['X^4    ','X^3 Y  ', 'X^2 Y^2', 'X^2 Y Z', 'X Y Z U',    ]\n",
    "    corresponding_clique_lengths    = [(4,),     (3, 1),    (2, 2),    (2, 1, 1), (1, 1, 1, 1), ]\n",
    "\n",
    "    print(\" \"*11 + \"Multipl. number m_P\")\n",
    "    m_p_str_title = \"\"\n",
    "    for i in range(dim_P):\n",
    "        m_p_str_title += \"%5d\"%(i+1)\n",
    "    print(\"Cliques  \" + m_p_str_title + \" \"*5 + \" tuple\")\n",
    "    print(\"-\"*60)\n",
    "\n",
    "    for name, cl in zip(names, corresponding_clique_lengths):\n",
    "        for scl_m_c in list_scl_m_c:\n",
    "            if scl_m_c[0] == cl:\n",
    "                m_str = \"\"\n",
    "                for m_c in scl_m_c[1]:\n",
    "                    m_str += \"%5d\"%m_c\n",
    "                print(name + \"  \" + m_str + \" \"*5, scl_m_c[0])\n",
    "    \n",
    "\n",
    "def calc_expected_value(m_factors_all, S):\n",
    "    dim_P = m_factors_all.shape[1]\n",
    "    j = sympy.symbols('j', integer=True)\n",
    "\n",
    "    # Check-sum\n",
    "    sum_S = 0\n",
    "    for i in range(dim_P):\n",
    "        prod_S = sympy.product(S-j, (j, 0, i))\n",
    "        sum_S += prod_S * np.sum(m_factors_all, axis=0)[i]\n",
    "    \n",
    "    if S**dim_P == sympy.expand(sum_S):\n",
    "        print(\"Checksum = \", sympy.expand(sum_S), \"is ok!\") # == S**6???\n",
    "\n",
    "    # Calculate factors for expected value\n",
    "    a = []\n",
    "    for k in range(len(m_factors_all)):\n",
    "        sum_S = 0\n",
    "        for i in range(dim_P):\n",
    "            prod_S = sympy.product(S-j, (j, 0, i))\n",
    "            sum_S += prod_S * m_factors_all[k, i]\n",
    "        a.append(sympy.expand(sum_S))\n",
    "        \n",
    "    print(\"\\nMultiplicity factors:\")\n",
    "    for i, ai in enumerate(a):\n",
    "        print(\"a_%d = \"%i, ai)\n",
    "\n",
    "    # Print out the entire term\n",
    "    mu4, mu3, mu2, mu = sympy.symbols('mu4 mu3 mu2 mu')\n",
    "    \n",
    "    expected_value = (mu4         * a[0] + \n",
    "                      mu3 * mu    * (4*a[0] + a[1]) + \n",
    "                      mu2**2      * a[2] + \n",
    "                      mu2 * mu**2 * (6*a[0] + 3*a[1] + 2*a[2] + a[3]) + \n",
    "                      mu**4       * sum(a))\n",
    "    \n",
    "    return expected_value\n"
   ]
  },
  {
   "cell_type": "markdown",
   "metadata": {},
   "source": [
    "## Calculate expected values of $n^2$, $d^2$ and $n \\cdot d$."
   ]
  },
  {
   "cell_type": "code",
   "execution_count": 243,
   "metadata": {
    "collapsed": false
   },
   "outputs": [
    {
     "name": "stdout",
     "output_type": "stream",
     "text": [
      "Calculate n^2 term\n",
      "\n",
      "           Multipl. number m_P\n",
      "Cliques      1    2    3    4      tuple\n",
      "------------------------------------------------------------\n",
      "X^4          1    0    0    0      (4,)\n",
      "X^3 Y        0    4    0    0      (3, 1)\n",
      "X^2 Y^2      0    3    0    0      (2, 2)\n",
      "X^2 Y Z      0    0    6    0      (2, 1, 1)\n",
      "X Y Z U      0    0    0    1      (1, 1, 1, 1)\n",
      "Checksum =  S**8 is ok!\n",
      "\n",
      "Multiplicity factors:\n",
      "a_0 =  S**2\n",
      "a_1 =  4*S**4 - 4*S**2\n",
      "a_2 =  3*S**4 - 3*S**2\n",
      "a_3 =  6*S**6 - 18*S**4 + 12*S**2\n",
      "a_4 =  S**8 - 6*S**6 + 11*S**4 - 6*S**2\n",
      "\n",
      "E[n^2]:\n"
     ]
    },
    {
     "data": {
      "image/png": "[encoded data removed]",
      "text/latex": [
       "$$S^{8} \\mu^{4} + 6 S^{6} \\mu^{2} \\mu_{2} + 4 S^{4} \\mu \\mu_{3} + 3 S^{4} \\mu_{2}^{2} - 3 S^{2} \\mu_{2}^{2} + S^{2} \\mu_{4}$$"
      ],
      "text/plain": [
       " 8   4      6   2          4             4    2      2    2    2    \n",
       "S *mu  + 6*S *mu *mu2 + 4*S *mu*mu3 + 3*S *mu2  - 3*S *mu2  + S *mu4"
      ]
     },
     "execution_count": 243,
     "metadata": {},
     "output_type": "execute_result"
    }
   ],
   "source": [
    "# Calculate n^2 term\n",
    "# Reduced to 4d, but running over $M = S^2$ entries. \n",
    "print(\"Calculate n^2 term\\n\")\n",
    "\n",
    "dim = 4\n",
    "\n",
    "Ps                          = generate_consistent_index_matrices(dim)\n",
    "\n",
    "sorted_clique_lengths, m_Ps = calc_cliques(Ps)\n",
    "        \n",
    "list_scl_m_c, m_factors_all = get_unique_cliques_and_multiplicities(sorted_clique_lengths, m_Ps, dim)\n",
    "\n",
    "print_results(list_scl_m_c)\n",
    "    \n",
    "M = S**2\n",
    "E_n_sq = calc_expected_value(m_factors_all, M)\n",
    "\n",
    "print(\"\\nE[n^2]:\")\n",
    "sympy.expand(E_n_sq)"
   ]
  },
  {
   "cell_type": "code",
   "execution_count": 244,
   "metadata": {
    "collapsed": false
   },
   "outputs": [
    {
     "name": "stdout",
     "output_type": "stream",
     "text": [
      "Calculate d^2 term\n",
      "\n",
      "           Multipl. number m_P\n",
      "Cliques      1    2    3    4    5    6      tuple\n",
      "------------------------------------------------------------\n",
      "X^4          1    0    0    0    0    0      (4,)\n",
      "X^3 Y        0    4    0    0    0    0      (3, 1)\n",
      "X^2 Y^2      0    5    1    0    0    0      (2, 2)\n",
      "X^2 Y Z      0   20   34    6    0    0      (2, 1, 1)\n",
      "X Y Z U      0    2   55   59   15    1      (1, 1, 1, 1)\n",
      "Checksum =  S**6 is ok!\n",
      "\n",
      "Multiplicity factors:\n",
      "a_0 =  S\n",
      "a_1 =  4*S**2 - 4*S\n",
      "a_2 =  S**3 + 2*S**2 - 3*S\n",
      "a_3 =  6*S**4 - 2*S**3 - 16*S**2 + 12*S\n",
      "a_4 =  S**6 - 6*S**4 + S**3 + 10*S**2 - 6*S\n",
      "\n",
      "E[d^2]:\n"
     ]
    },
    {
     "data": {
      "image/png": "[encoded data removed]",
      "text/latex": [
       "$$S^{8} \\mu^{4} + 6 S^{6} \\mu^{2} \\mu_{2} + S^{5} \\mu_{2}^{2} + 4 S^{4} \\mu \\mu_{3} + 2 S^{4} \\mu_{2}^{2} - 3 S^{3} \\mu_{2}^{2} + S^{3} \\mu_{4}$$"
      ],
      "text/plain": [
       " 8   4      6   2        5    2      4             4    2      3    2    3    \n",
       "S *mu  + 6*S *mu *mu2 + S *mu2  + 4*S *mu*mu3 + 2*S *mu2  - 3*S *mu2  + S *mu4"
      ]
     },
     "execution_count": 244,
     "metadata": {},
     "output_type": "execute_result"
    }
   ],
   "source": [
    "# Calculate d^2 term\n",
    "print(\"Calculate d^2 term\\n\")\n",
    "\n",
    "dim = 6\n",
    "\n",
    "Ps                          = generate_consistent_index_matrices(dim)\n",
    "\n",
    "_, m_Ps                     = calc_cliques(Ps)\n",
    "        \n",
    "Rs                          = collapse_to_4d(Ps)\n",
    "    \n",
    "sorted_clique_lengths, _    = calc_cliques(Rs)\n",
    "\n",
    "list_scl_m_c, m_factors_all = get_unique_cliques_and_multiplicities(sorted_clique_lengths, m_Ps, dim)\n",
    "\n",
    "print_results(list_scl_m_c)\n",
    "    \n",
    "E_d_sq = S**2 * calc_expected_value(m_factors_all, S)\n",
    "\n",
    "print(\"\\nE[d^2]:\")\n",
    "sympy.expand(E_d_sq)"
   ]
  },
  {
   "cell_type": "code",
   "execution_count": 245,
   "metadata": {
    "collapsed": false
   },
   "outputs": [
    {
     "name": "stdout",
     "output_type": "stream",
     "text": [
      "Calculate n * d term\n",
      "\n",
      "           Multipl. number m_P\n",
      "Cliques      1    2    3    4    5    6    7      tuple\n",
      "------------------------------------------------------------\n",
      "X^4          1    0    0    0    0    0    0      (4,)\n",
      "X^3 Y        0   12    4    0    0    0    0      (3, 1)\n",
      "X^2 Y^2      0    9    3    0    0    0    0      (2, 2)\n",
      "X^2 Y Z      0   36  132   60    6    0    0      (2, 1, 1)\n",
      "X Y Z U      0    6  162  290  134   21    1      (1, 1, 1, 1)\n",
      "Checksum =  S**7 is ok!\n",
      "\n",
      "Multiplicity factors:\n",
      "a_0 =  S\n",
      "a_1 =  4*S**3 - 4*S\n",
      "a_2 =  3*S**3 - 3*S\n",
      "a_3 =  6*S**5 - 18*S**3 + 12*S\n",
      "a_4 =  S**7 - 6*S**5 + 11*S**3 - 6*S\n",
      "\n",
      "E[n*d]:\n"
     ]
    },
    {
     "data": {
      "image/png": "[encoded data removed]",
      "text/latex": [
       "$$S^{8} \\mu^{4} + 6 S^{6} \\mu^{2} \\mu_{2} + 4 S^{4} \\mu \\mu_{3} + 3 S^{4} \\mu_{2}^{2} - 3 S^{2} \\mu_{2}^{2} + S^{2} \\mu_{4}$$"
      ],
      "text/plain": [
       " 8   4      6   2          4             4    2      2    2    2    \n",
       "S *mu  + 6*S *mu *mu2 + 4*S *mu*mu3 + 3*S *mu2  - 3*S *mu2  + S *mu4"
      ]
     },
     "execution_count": 245,
     "metadata": {},
     "output_type": "execute_result"
    }
   ],
   "source": [
    "# Calculate n*d term\n",
    "print(\"Calculate n * d term\\n\")\n",
    "\n",
    "dim = 7\n",
    "\n",
    "Ps                          = generate_consistent_index_matrices(dim)\n",
    "\n",
    "_, m_Ps                     = calc_cliques(Ps)\n",
    "\n",
    "Rs                          = collapse_to_4d(Ps)\n",
    "    \n",
    "sorted_clique_lengths, _    = calc_cliques(Rs)\n",
    "\n",
    "list_scl_m_c, m_factors_all = get_unique_cliques_and_multiplicities(sorted_clique_lengths, m_Ps, dim)\n",
    "\n",
    "print_results(list_scl_m_c)\n",
    "    \n",
    "E_nd = S * calc_expected_value(m_factors_all, S)\n",
    "\n",
    "print(\"\\nE[n*d]:\")\n",
    "sympy.expand(E_nd)"
   ]
  },
  {
   "cell_type": "markdown",
   "metadata": {},
   "source": [
    "## Put everything together to get $\\mathbb{E}[err^2] \\approx \\frac{\\mathbb{E}[n^2 - 2nd + d^2]}{\\mathbb{E}[d^2]}$"
   ]
  },
  {
   "cell_type": "code",
   "execution_count": 246,
   "metadata": {
    "collapsed": false
   },
   "outputs": [
    {
     "name": "stdout",
     "output_type": "stream",
     "text": [
      "\n",
      "E[n^2 - 2*n*d + d^2]:\n",
      "S**5*mu2**2 - S**4*mu2**2 - 3*S**3*mu2**2 + S**3*mu4 + 3*S**2*mu2**2 - S**2*mu4\n",
      "\n",
      "E[d^2]:\n",
      "S**8*mu**4 + 6*S**6*mu**2*mu2 + S**5*mu2**2 + 4*S**4*mu*mu3 + 2*S**4*mu2**2 - 3*S**3*mu2**2 + S**3*mu4\n",
      "\n",
      "Variance: (to highest order, to second order, full):\n"
     ]
    },
    {
     "data": {
      "image/png": "[encoded data removed]",
      "text/latex": [
       "$$\\left ( \\frac{\\sigma^{4}}{S^{3} \\mu^{4}}, \\quad \\frac{1}{S^{8} \\mu^{4}} \\left(S^{5} \\sigma^{4} - S^{4} \\sigma^{4}\\right), \\quad \\frac{S^{5} \\sigma^{4} - S^{4} \\sigma^{4} + S^{3} \\mu_{4} - 3 S^{3} \\sigma^{4} - S^{2} \\mu_{4} + 3 S^{2} \\sigma^{4}}{S^{8} \\mu^{4} + 6 S^{6} \\mu^{2} \\sigma^{2} + S^{5} \\sigma^{4} + 4 S^{4} \\mu \\mu_{3} + 2 S^{4} \\sigma^{4} + S^{3} \\mu_{4} - 3 S^{3} \\sigma^{4}}\\right )$$"
      ],
      "text/plain": [
       "      4   5      4    4      4             5      4    4      4    3          3      4    2          2      4           \n",
       " sigma   S *sigma  - S *sigma             S *sigma  - S *sigma  + S *mu4 - 3*S *sigma  - S *mu4 + 3*S *sigma            \n",
       "(------, ---------------------, ---------------------------------------------------------------------------------------)\n",
       "  3   4           8   4          8   4      6   2      2    5      4      4             4      4    3          3      4 \n",
       " S *mu           S *mu          S *mu  + 6*S *mu *sigma  + S *sigma  + 4*S *mu*mu3 + 2*S *sigma  + S *mu4 - 3*S *sigma  "
      ]
     },
     "execution_count": 246,
     "metadata": {},
     "output_type": "execute_result"
    }
   ],
   "source": [
    "# Putting everything together\n",
    "print(\"\\nE[n^2 - 2*n*d + d^2]:\")\n",
    "num = sympy.expand((E_n_sq - 2 * E_nd + E_d_sq))\n",
    "print(num)\n",
    "\n",
    "print(\"\\nE[d^2]:\")\n",
    "den = sympy.expand(E_d_sq)\n",
    "print(den)\n",
    "\n",
    "eval_specific_case(num, den, [])\n"
   ]
  },
  {
   "cell_type": "code",
   "execution_count": null,
   "metadata": {
    "collapsed": true
   },
   "outputs": [],
   "source": []
  },
  {
   "cell_type": "code",
   "execution_count": null,
   "metadata": {
    "collapsed": true
   },
   "outputs": [],
   "source": []
  },
  {
   "cell_type": "code",
   "execution_count": null,
   "metadata": {
    "collapsed": true
   },
   "outputs": [],
   "source": []
  },
  {
   "cell_type": "markdown",
   "metadata": {},
   "source": [
    "# Snippets, old stuff"
   ]
  },
  {
   "cell_type": "markdown",
   "metadata": {},
   "source": [
    "### Compute the expected value for $A_{ij}$ iid manually: \n",
    "\n",
    "Define errors in $x$ and $\\beta$ direction:\n",
    "\n",
    "> $\\mathrm{err}_x = 1 - \\frac{x(\\beta_\\mathrm{eff})}{x_\\mathrm{eff}}$\n",
    "\n",
    "> $\\mathrm{err}_\\beta = 1 - \\frac{\\beta(x_\\mathrm{eff})}{\\beta_\\mathrm{eff}}$\n",
    "\n",
    "For the GLV, the coincide:\n",
    "\n",
    "> $x(\\beta_\\mathrm{eff}) = - \\frac{\\alpha}{\\beta_\\mathrm{eff}}$, \n",
    "\n",
    "such that \n",
    "\n",
    "> $ \\mathrm{err} = 1 + \\frac{\\alpha}{x_\\mathrm{eff} \\beta_\\mathrm{eff}}$ .\n",
    "\n",
    "Inserting the definitions of $x_\\mathrm{eff}$ and $\\beta_\\mathrm{eff}$ from Gao et al.'s paper, \n",
    "\n",
    "> $ x_\\mathrm{eff} = \\frac{\\sum_{ij} A_{ij} x_j}{\\sum_{mn} A_{mn}}  $, \n",
    "\n",
    "> $ \\beta_\\mathrm{eff} = \\frac{\\sum_{ijk} A_{ij} A_{jk} }{\\sum_{mn} A_{mn}} $, \n",
    "\n",
    "we get \n",
    "\n",
    "> $\n",
    "    \\mathrm{err} = 1 + \\frac{\n",
    "        \\alpha \\left(\\sum_{mn} A_{mn}\\right) \\left(\\sum_{mn} A_{mn}\\right) \n",
    "        }{\n",
    "        - \\alpha \\left( \\sum_{ijk} A_{ij} {A^{-1}}_{jk} \\right) \\left(\\sum_{ijk} A_{ij} A_{jk}\\right)} = 1 - \\frac{\\sum_{ijkl} A_{ij} A_{kl} }{ S \\sum_{ijk} A_{ij} A_{jk} }$\n",
    "\n",
    "\n",
    "Now, if all entries are drawn independently from one distribution, $A_{ij} \\sim p(\\mu, \\sigma^2)$,\n",
    "one can calculate the expected value \n",
    "\n",
    "> $\\mathbb{E}\\left[ \\mathrm{err} \\right] \n",
    "    = 1 - \\mathbb{E} \\left[\\frac{\\sum_{ijkl} A_{ij} A_{kl} }{ S \\sum_{ijk} A_{ij} A_{jk} }\\right]   $ .\n",
    "    \n",
    "This cannot be calculated directly. If, however, we assume the denominator ot be much larger than zero, we might be able to approximate by taking the expected values separately -- this is what we shall test numerically. However, doing this separation yields\n",
    "\n",
    "> $ \\mathbb{E} \\left[ \\sum_{ijkl} A_{ij} A_{kl} \\right]\n",
    "    = \\mathbb{E} \\left[\n",
    "    \\sum_{(i, j) \\ne (k, l)} A_{ij} A_{jk} + \\sum_{(i, j)} A_{ij}^2 \\right]\n",
    "    = (S^4  - S^2) \\mu^2 + S^2(\\sigma^2 + \\mu^2)\n",
    "    = S^2(S^2 \\mu^2 + \\sigma^2)\n",
    "$\n",
    "\n",
    "and\n",
    "\n",
    "> $ \\mathbb{E} \\left[ \\sum_{ijk} A_{ij} A_{jk} \\right] \n",
    "    = \\mathbb{E} \\left[\\sum_{j, i \\ne k} A_{ij} A_{jk} + \\sum_{j \\ne i} A_{ij} A_{ji} + \\sum_{i} A_{ii}^2 \\right]\n",
    "    = S^2 (S - 1) \\mu^2 + S (S - 1) \\mu^2 + S (\\sigma^2 + \\mu ^ 2) \n",
    "    = S(S^2 \\mu^2 + \\sigma^2) $\n",
    "\n",
    "which gives \n",
    "\n",
    "> $ 1 - \\frac{ \\mathbb{E} \\left[ \\sum_{ijkl} A_{ij} A_{kl} \\right]} \n",
    "{S \\mathbb{E} \\left[ \\sum_{ijk} A_{ij} A_{jk} \\right]}\n",
    "= 1 - \\frac{S^2(S^2 \\mu^2 + \\sigma^2)}{S^2 (S^2 \\mu^2 + \\sigma^2)} = 0 $.\n",
    "\n",
    "So, either this approximation does not hold or higher order terms are important."
   ]
  },
  {
   "cell_type": "code",
   "execution_count": 446,
   "metadata": {
    "collapsed": false
   },
   "outputs": [],
   "source": [
    "def print_unique_indicators(indicators):\n",
    "    sa = set(indicators[:, 0])\n",
    "    lsa = list(sa)\n",
    "\n",
    "    print(\"#    Indicator tuple       n_diags     Variable combination\")\n",
    "    print(\"___________________________________________________________\")\n",
    "    for j, ind in enumerate(lsa):\n",
    "        i_str = \"\"\n",
    "        nd = int(ind[-1])\n",
    "        for i in range(4):\n",
    "            i_str += ['X', 'Y', 'Z', 'U'][int(np.floor(ind[i]))]\n",
    "\n",
    "            if i < 4 - nd:\n",
    "                # Off-diagonals\n",
    "                ind_i = ind[i]\n",
    "                if round(ind_i - round(ind_i, 0), 1) == 0.1:\n",
    "                    i_str += '^T'\n",
    "                else:\n",
    "                    i_str += '  '\n",
    "            else:\n",
    "                # Diagonals\n",
    "                i_str += '_d'\n",
    "\n",
    "            i_str += '  '\n",
    "\n",
    "        print(\"%2d   (%.1f, %.1f, %.1f, %.1f)        %1d       %s\"%(\n",
    "                j, ind[0], ind[1], ind[2], ind[3], ind[4], i_str))"
   ]
  },
  {
   "cell_type": "code",
   "execution_count": null,
   "metadata": {
    "collapsed": true
   },
   "outputs": [],
   "source": []
  }
 ],
 "metadata": {
  "kernelspec": {
   "display_name": "Python 2",
   "language": "python",
   "name": "python2"
  },
  "language_info": {
   "codemirror_mode": {
    "name": "ipython",
    "version": 2
   },
   "file_extension": ".py",
   "mimetype": "text/x-python",
   "name": "python",
   "nbconvert_exporter": "python",
   "pygments_lexer": "ipython2",
   "version": "2.7.10"
  }
 },
 "nbformat": 4,
 "nbformat_minor": 0
}
