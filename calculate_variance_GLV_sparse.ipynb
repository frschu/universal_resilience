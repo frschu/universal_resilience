{
 "cells": [
  {
   "cell_type": "markdown",
   "metadata": {},
   "source": [
    "# Calculating the variance of $err$ for sparse matrices. \n",
    "\n",
    "For a description of the algorithm, see the original notebook for non-sparse matrices"
   ]
  },
  {
   "cell_type": "code",
   "execution_count": 1,
   "metadata": {
    "collapsed": false
   },
   "outputs": [],
   "source": [
    "from __future__ import print_function\n",
    "import numpy as np\n",
    "import itertools as it\n",
    "import sympy\n",
    "import time\n",
    "\n",
    "# Pretty latex printing (only for output, not for \"print()\")\n",
    "sympy.init_printing(use_unicode=False, wrap_line=False, no_global=True)\n",
    "\n",
    "# Define sympy symbols\n",
    "# Symbolic variable for network size\n",
    "S = sympy.symbols('S')\n",
    "# Moments of off-diagonal elements\n",
    "mu4, mu3, mu2, mu           = sympy.symbols('mu4 mu3 mu2 mu')\n",
    "# Moments of diagonal elements\n",
    "mu_d4, mu_d3, mu_d2, mu_d   = sympy.symbols('mu_d4 mu_d3 mu_d2 mu_d')\n",
    "# Correlation terms (check code for the definition of rho_21, rho_22, rho_31)\n",
    "rho, rho_21, rho_22, rho_31 = sympy.symbols('rho rho_21 rho_22 rho_31')\n",
    "\n",
    "# Sparsity / connectivity / density\n",
    "C = sympy.symbols('C')\n"
   ]
  },
  {
   "cell_type": "markdown",
   "metadata": {},
   "source": [
    "## Define functions"
   ]
  },
  {
   "cell_type": "code",
   "execution_count": 2,
   "metadata": {
    "collapsed": false
   },
   "outputs": [],
   "source": [
    "def calc_multiplicity(P):\n",
    "    dim_P = len(P)\n",
    "\n",
    "    indices = set(range(dim_P))\n",
    "\n",
    "    # Initial clique containing the first index\n",
    "    cliques = [set([i for i in range(0, dim_P) if (i == 0 or P[0, i])])]\n",
    "\n",
    "    # Form other cliques\n",
    "    for i in range(dim_P):\n",
    "        if set.union(*cliques) == indices:\n",
    "            break\n",
    "        else:\n",
    "            idx = min(indices - set.union(*cliques))\n",
    "            cliques.append(set([i for i in range(idx, dim_P) if (i == idx or P[idx, i])]))\n",
    "\n",
    "    # Collapse cliques\n",
    "    sorted_clique_len   = np.sort([len(clique) for clique in cliques])[::-1]\n",
    "    multiplicity        = len(sorted_clique_len)\n",
    "    \n",
    "    return multiplicity"
   ]
  },
  {
   "cell_type": "code",
   "execution_count": 3,
   "metadata": {
    "collapsed": false
   },
   "outputs": [],
   "source": [
    "def collapse(P):\n",
    "    dim_P = len(P)\n",
    "    \n",
    "    if dim_P in [3, 4]:\n",
    "        dim_R = 2\n",
    "    elif dim_P in [6, 7, 8]:\n",
    "        dim_R = 4\n",
    "    else: \n",
    "        raise Exception(\"P has wrong dimension!\")\n",
    "    \n",
    "    R = np.zeros((dim_R, dim_R), dtype=bool)\n",
    "    \n",
    "    if dim_P == 3:\n",
    "        # For denominator: collapse 6d to 4d: \n",
    "        # A_ia A_aj\n",
    "        #     i, j  = 0, 1\n",
    "        #     a     = 2\n",
    "\n",
    "        # Upper triangle: equality\n",
    "        R[0, 1] = P[0, 2] and P[1, 2]\n",
    "\n",
    "        # Diagonal: diagonal entry A_ii\n",
    "        R[0, 0] = P[0, 2]\n",
    "        R[1, 1] = P[1, 2]\n",
    "\n",
    "        # Lower triangle: transposed entries\n",
    "        R[1, 0] = P[0, 1] and ~R[0, 1]\n",
    "    \n",
    "    if dim_P == 4:\n",
    "        # For denominator: collapse 6d to 4d: \n",
    "        # A_ij A_kl\n",
    "        #     i, j, k, l  = 0, 1, 2, 3\n",
    "\n",
    "        # Upper triangle: equality\n",
    "        R[0, 1] = P[0, 2] and P[1, 3]\n",
    "\n",
    "        # Diagonal: diagonal entry A_ii\n",
    "        R[0, 0] = P[0, 1]\n",
    "        R[1, 1] = P[2, 3]\n",
    "\n",
    "        # Lower triangle: transposed entries\n",
    "        R[1, 0] = P[0, 3] and P[1, 2] and ~R[0, 1]\n",
    "        \n",
    "    if dim_P == 6:\n",
    "        # For denominator: collapse 6d to 4d: \n",
    "        # A_ia A_aj A_kb A_bl\n",
    "        #     i, j, k, l = 0, 1, 2, 3\n",
    "        #     a, b       = 4, 5\n",
    "\n",
    "        # Upper triangle: equality\n",
    "        R[0, 1] = P[0, 4] and P[1, 4]\n",
    "        R[0, 2] = P[0, 2] and P[4, 5]\n",
    "        R[0, 3] = P[0, 5] and P[3, 4]\n",
    "        R[1, 2] = P[2, 4] and P[1, 5]\n",
    "        R[1, 3] = P[4, 5] and P[1, 3]\n",
    "        R[2, 3] = P[2, 5] and P[3, 5]\n",
    "\n",
    "        # Diagonal: diagonal entry A_ii\n",
    "        R[0, 0] = P[0, 4]\n",
    "        R[1, 1] = P[1, 4]\n",
    "        R[2, 2] = P[2, 5]\n",
    "        R[3, 3] = P[3, 5]\n",
    "\n",
    "        # Lower triangle: transposed entries\n",
    "        R[1, 0] = P[0, 1]             and ~R[0, 1]\n",
    "        R[2, 0] = P[0, 5] and P[2, 4] and ~R[0, 2] \n",
    "        R[3, 0] = P[0, 3] and P[4, 5] and ~R[0, 3]\n",
    "        R[2, 1] = P[1, 2] and P[4, 5] and ~R[1, 2]\n",
    "        R[3, 1] = P[1, 5] and P[3, 4] and ~R[1, 3]\n",
    "        R[3, 2] = P[2, 3]             and ~R[2, 3]\n",
    "\n",
    "    if dim_P == 7:\n",
    "        # For den * num term: collapse 7d to 4d\n",
    "        # A_ij A_kl A_ma A_an\n",
    "        #   i, j, k, l, m, n = 0, 1, 2, 3, 4, 5\n",
    "        #   a                = 6\n",
    "\n",
    "        # Upper triangle: equality\n",
    "        R[0, 1] = P[0, 2] and P[1, 3] #R[0, 1]\n",
    "        R[0, 2] = P[0, 4] and P[1, 6] #R[0, 2]\n",
    "        R[0, 3] = P[0, 6] and P[1, 5] #R[0, 3]\n",
    "        R[1, 2] = P[2, 4] and P[3, 6] #R[1, 2]\n",
    "        R[1, 3] = P[2, 6] and P[3, 5] #R[1, 3]\n",
    "        R[2, 3] = P[4, 6] and P[5, 6] #R[2, 3]\n",
    "\n",
    "        # Diagonal: diagonal entry A_ii\n",
    "        R[0, 0] = P[0, 1]\n",
    "        R[1, 1] = P[2, 3]\n",
    "        R[2, 2] = P[4, 6]\n",
    "        R[3, 3] = P[5, 6]\n",
    "\n",
    "        # Lower triangle: transposed entries\n",
    "        R[1, 0] = P[0, 3] and P[1, 2] and ~R[0, 1]\n",
    "        R[2, 0] = P[0, 6] and P[1, 4] and ~R[0, 2]\n",
    "        R[3, 0] = P[0, 5] and P[1, 6] and ~R[0, 3]\n",
    "        R[2, 1] = P[2, 6] and P[3, 4] and ~R[1, 2]\n",
    "        R[3, 1] = P[2, 5] and P[3, 6] and ~R[1, 3]\n",
    "        R[3, 2] = P[4, 5]             and ~R[2, 3]\n",
    "\n",
    "    if dim_P == 8:\n",
    "        # For num^2 term: collapse 8d to 4d\n",
    "        # A_ij A_kl A_mn A_op\n",
    "        #   i, j, k, l, m, n, o, p = 0, 1, 2, 3, 4, 5, 6, 7\n",
    "\n",
    "        # Upper triangle: equality\n",
    "        R[0, 1] = P[0, 2] and P[1, 3] #R[0, 1]\n",
    "        R[0, 2] = P[0, 4] and P[1, 5] #R[0, 2]\n",
    "        R[0, 3] = P[0, 6] and P[1, 7] #R[0, 3]\n",
    "        R[1, 2] = P[2, 4] and P[3, 5] #R[1, 2]\n",
    "        R[1, 3] = P[2, 6] and P[3, 7] #R[1, 3]\n",
    "        R[2, 3] = P[4, 6] and P[5, 7] #R[2, 3]\n",
    "\n",
    "        # Diagonal: diagonal entry A_ii\n",
    "        R[0, 0] = P[0, 1]\n",
    "        R[1, 1] = P[2, 3]\n",
    "        R[2, 2] = P[4, 5]\n",
    "        R[3, 3] = P[6, 7]\n",
    "\n",
    "        # Lower triangle: transposed entries\n",
    "        R[1, 0] = P[0, 3] and P[1, 2] and ~R[0, 1]\n",
    "        R[2, 0] = P[0, 5] and P[1, 4] and ~R[0, 2]\n",
    "        R[3, 0] = P[0, 7] and P[1, 6] and ~R[0, 3]\n",
    "        R[2, 1] = P[2, 5] and P[3, 4] and ~R[1, 2]\n",
    "        R[3, 1] = P[2, 7] and P[3, 6] and ~R[1, 3]\n",
    "        R[3, 2] = P[4, 7] and P[5, 6] and ~R[2, 3]\n",
    "\n",
    "    return R\n",
    "    "
   ]
  },
  {
   "cell_type": "code",
   "execution_count": 4,
   "metadata": {
    "collapsed": false
   },
   "outputs": [],
   "source": [
    "def calc_indicators(P):\n",
    "\n",
    "    dim_P   = len(P)\n",
    "    idxs_all= np.arange(dim_P)\n",
    "    # Final indicators\n",
    "    i_all = []\n",
    "\n",
    "    ### Off-diagonals\n",
    "    # Separate as encoded by the diagonal of P. \n",
    "    idxs = set(idxs_all[~np.diag(P)])\n",
    "    if len(idxs) > 0:\n",
    "\n",
    "        # Get sorted clique lengths\n",
    "        # Start with initial clique\n",
    "        # Index of entry to refer to\n",
    "        i_ref   = min(idxs)\n",
    "        i_refs  = [i_ref]\n",
    "        # All indices for which the correspoding random variables are equal, \n",
    "        # as encoded by the upper triangle of P. \n",
    "        cliques = [set([j for j in idxs if (i_ref == j or P[i_ref, j])])]\n",
    "\n",
    "        # Form other cliques\n",
    "        while(set.union(*cliques) != idxs):\n",
    "            # Take only those indices not yet assigned to cliques\n",
    "            idxs_red    = idxs - set.union(*cliques)\n",
    "            # Reference: the minimum of the remaining. \n",
    "            i_ref       = min(idxs_red)\n",
    "            i_refs.append(i_ref)\n",
    "            cliques.append(set([j for j in idxs_red if (i_ref == j or P[i_ref, j])]))\n",
    "\n",
    "        # Sorted clique lengths (largest ones first)\n",
    "        scl = np.sort([len(clique) for clique in cliques])[::-1]\n",
    "\n",
    "        i_refs = np.asarray(i_refs)\n",
    "\n",
    "\n",
    "        # Check for transposes\n",
    "        uscl = np.sort(np.unique(scl))[::-1]\n",
    "        prev_js = []\n",
    "        # Break up in blocks of equal clique length (descending)\n",
    "        for cl in uscl:\n",
    "            # Temporary indicators for this clique length\n",
    "            i_temp = np.asarray([])\n",
    "            for i in i_refs[scl == cl]: \n",
    "                if not i in prev_js:\n",
    "                    # List of all indices from other cliques whose variable \n",
    "                    # is the transpose of the i-th variale (as encoded inthe lower triangle of P)\n",
    "                    # Note: Only descending indices are taken to avoid double counting.\n",
    "                    js = [j for j in i_refs[i_refs > i] if P[j, i]]\n",
    "                    prev_js.append(js)\n",
    "                    if len(js) > 0:\n",
    "                        # Prepend this variable(s) and corresponding partner(s) (according to each clique lenght). \n",
    "                        # The previous indicators are raised by one. \n",
    "                        i_temp += 1.\n",
    "                        i_temp = np.concatenate((\n",
    "                                np.repeat([0., 0.1], [cl, scl[np.where(i_refs == min(js))[0]]]), \n",
    "                                i_temp))\n",
    "                    elif len(i_temp) > 0:\n",
    "                        # No partners. Append the clique, indicator is 1 + the maximal existing. \n",
    "                        i_temp = np.append(i_temp, np.repeat(np.max(np.floor(i_temp)) + 1., cl))\n",
    "                    else:\n",
    "                        # No partners and no existing indicators. Start with 0. \n",
    "                        i_temp = np.repeat(0., cl)\n",
    "        #             print(cl, i, js, i_temp)\n",
    "\n",
    "            # Add to list of indicators from higher clique lengths. \n",
    "            if len(i_all) > 0:\n",
    "                # Raise indices to be added by 1 + maximal existing.\n",
    "                i_temp += np.max(np.floor(i_all)) + 1.\n",
    "            i_all = np.append(i_all, i_temp)\n",
    "\n",
    "#     print(\"Before adding diagonal elements: i_all = \", i_all)\n",
    "\n",
    "    ### Diagonal elements\n",
    "    # Separate as encoded by the diagonal of P. \n",
    "    idxs = set(idxs_all[np.diag(P)])\n",
    "    if len(idxs) > 0:\n",
    "\n",
    "        ### Get sorted clique lengths\n",
    "        # Initial clique containing the first index\n",
    "        # Index of entry to refer to\n",
    "        i_ref   = min(idxs)\n",
    "        # All indices for which the correspoding random variables are equal, \n",
    "        # as encoded by the upper triangle of P. \n",
    "        cliques = [set([j for j in idxs if (i_ref == j or P[i_ref, j])])]\n",
    "\n",
    "        # Form other cliques\n",
    "        while(set.union(*cliques) != idxs):\n",
    "            # Take only those indices not yet assigned to cliques\n",
    "            idxs_red    = idxs - set.union(*cliques)\n",
    "            # Reference: the minimum of the remaining. \n",
    "            i_ref       = min(idxs_red)\n",
    "            cliques.append(set([j for j in idxs_red if (i_ref == j or P[i_ref, j])]))\n",
    "\n",
    "        # Sorted clique lengths (largest ones first)\n",
    "        scl = np.sort([len(clique) for clique in cliques])[::-1]\n",
    "\n",
    "        # Indicators for diagonal elements: cliques sorted by desceding length\n",
    "        i_diag = np.repeat(np.arange(len(cliques), dtype = float), scl)\n",
    "        if len(i_all) > 0:\n",
    "            # Raise indices to be added by 1 + maximal existing.\n",
    "            i_diag += np.max(np.floor(i_all)) + 1.\n",
    "\n",
    "        i_all = np.append(i_all, i_diag)\n",
    "\n",
    "    # Add tag for the number of diagonal elements to the indicators\n",
    "#     i_all = np.int_(i_all * 10)\n",
    "    indicators = np.append(i_all, np.sum(np.diag(P)))\n",
    "\n",
    "#     print(\"After adding diagonal elements: i_all = \", i_all)\n",
    "#     print(\"Number of diagonal elements: %d\"%n_diags)\n",
    "    \n",
    "    return tuple(indicators)"
   ]
  },
  {
   "cell_type": "code",
   "execution_count": 5,
   "metadata": {
    "collapsed": true
   },
   "outputs": [],
   "source": [
    "def calc_all(dim_P):\n",
    "    \"\"\" Generate all possible iterations (only upper triangular matrices) \n",
    "    and throw away all inconsistent ones. If matrix is kept, set diagonal elements to `True`.\n",
    "    \"\"\"\n",
    "    \n",
    "    # Initialize list for saving indicators\n",
    "    indicators = []\n",
    "    \n",
    "    # Make sure you're not filling the memory completely...\n",
    "    assert dim_P <= 8, \"Larger dim_P takes too long.\"\n",
    "    \n",
    "    \n",
    "    # Number of entries in upper triangular matrix without diagonal\n",
    "    red_dim = int(dim_P * (dim_P - 1) / 2.)\n",
    "                  \n",
    "    # Iterate over all possible realizations\n",
    "    time0 = time.time()\n",
    "    for entries in it.product([True, False], repeat = red_dim):\n",
    "        P = np.zeros((dim_P, dim_P), dtype=bool)\n",
    "        for i in range(dim_P - 1):\n",
    "            si = sum(range(dim_P - 1 - i, dim_P - 1))\n",
    "            P[i, i+1:] = entries[i + si: si + dim_P - 1]\n",
    "    \n",
    "        # Throw away inconsistent ones\n",
    "        throw_away = False\n",
    "        for x in range(dim_P-1):\n",
    "            for y in range(x + 1, dim_P):\n",
    "                for z in range(y + 1, dim_P):\n",
    "                    if P[x, y] or P[x, z]:\n",
    "                        if (P[x, y] and P[x, z]) != P[y, z]:\n",
    "                            throw_away = True\n",
    "                            break\n",
    "                if throw_away:\n",
    "                    break\n",
    "            if throw_away:\n",
    "                break\n",
    "                \n",
    "        if not throw_away:\n",
    "            \n",
    "            m_P = calc_multiplicity(P)\n",
    "            \n",
    "            R   = collapse(P)\n",
    "            \n",
    "            ind = calc_indicators(R)\n",
    "            \n",
    "            indicators.append([ind, m_P])\n",
    "        \n",
    "    print(\"For dim_P = %d -> red_dim = %d, the calculation took %.1f sec.\\n\"%(dim_P, red_dim, time.time() - time0))\n",
    "    return np.asarray(indicators)\n"
   ]
  },
  {
   "cell_type": "code",
   "execution_count": 6,
   "metadata": {
    "collapsed": false
   },
   "outputs": [],
   "source": [
    "def print_results(indicators, dim_P):\n",
    "    \"\"\" Print the results in a nice way (to understand what's going on).\n",
    "    \"\"\"\n",
    "    dim_R = len(indicators[0, 0]) - 1\n",
    "    \n",
    "    from collections import OrderedDict\n",
    "\n",
    "    if dim_R == 2:\n",
    "        factors = OrderedDict([\n",
    "            # Ordered by (1.) n_d, (2.) highest clique length\n",
    "\n",
    "            ((0  , 1  , 0), C**2 * mu**2),\n",
    "            ((0  , 0.1, 0), C**2 * (rho * mu2 + mu**2)),\n",
    "            ((0  , 0  , 0), C    * (mu2 + mu**2)),\n",
    "\n",
    "            ((0  , 1  , 1), C**2 * mu * mu_d),\n",
    "                \n",
    "            ((0  , 1  , 2), C**2 * mu_d**2),\n",
    "            ((0  , 0  , 2), C    * (mu_d2 + mu_d**2)),\n",
    "        ])\n",
    "    elif dim_R == 4:\n",
    "        factors = OrderedDict([\n",
    "            # Ordered by (1.) n_d, (2.) highest clique length\n",
    "\n",
    "            ((0  , 1  , 2  , 3  , 0), C**4 * mu**4), \n",
    "            ((0  , 0  , 1  , 2  , 0), C**3 * (mu2 + mu**2) * mu**2),\n",
    "            ((0  , 0  , 1  , 1  , 0), C**2 * (mu2 + mu**2)**2),\n",
    "            ((0  , 0  , 0  , 1  , 0), C**2 * (mu3 + 3 * mu2 * mu + mu**3) * mu),\n",
    "            ((0  , 0  , 0  , 0  , 0), C    * (mu4 + 4 * mu3 * mu + 6 * mu2 * mu**2 + mu**4)),\n",
    "            ((0  , 0.1, 1  , 2  , 0), C**4 * (rho * mu2 + mu**2) * mu**2),\n",
    "            ((0  , 0.1, 1  , 1.1, 0), C**4 * (rho * mu2 + mu**2)**2),\n",
    "            ((0  , 0  , 1  , 1.1, 0), C**3 * (mu2 + mu**2) * (rho * mu2 + mu**2)),\n",
    "            ((0  , 0  , 0.1, 1  , 0), C**3 * (mu2 * (1 + rho_21) + mu**2) * mu**2),\n",
    "            ((0  , 0  , 0.1, 0.1, 0), C**2 * ((mu2 + mu**2)**2 + rho_22)),\n",
    "            ((0  , 0  , 0  , 0.1, 0), C**2 * ((mu3 + 3 * mu2 * mu + mu**3) * mu + rho_31)),   #\n",
    "                \n",
    "            ((0  , 1  , 2  , 3  , 1), C**4 * mu**3 * mu_d),\n",
    "            ((0  , 0  , 1  , 2  , 1), C**3 * (mu2 + mu**2) * mu * mu_d),\n",
    "            ((0  , 0  , 0  , 1  , 1), C**2 * (mu3 + 3 * mu2 * mu + mu**3) * mu_d),\n",
    "            ((0  , 0.1, 1  , 2  , 1), C**4 * (rho * mu2 + mu**2) * mu * mu_d),\n",
    "            ((0  , 0  , 0.1, 1  , 1), C**3 * (mu2 * (1 + rho_21) + mu**2) * mu * mu_d),   # \n",
    "                \n",
    "            ((0  , 1  , 2  , 3  , 2), C**4 * mu**2 * mu_d**2),\n",
    "            ((0  , 0  , 1  , 2  , 2), C**3 * (mu2 + mu**2) * mu_d**2),\n",
    "            ((0  , 1  , 2  , 2  , 2), C**3 * mu**2 * (mu_d2 + mu_d**2)),\n",
    "            ((0  , 0  , 1  , 1  , 2), C**2 * (mu2 + mu**2) * (mu_d2 + mu_d**2)),\n",
    "            ((0  , 0.1, 1  , 2  , 2), C**4 * (rho * mu2 + mu**2) * mu_d**2),\n",
    "            ((0  , 0.1, 1  , 1  , 2), C**3 * (rho * mu2 + mu**2) * (mu_d2 + mu_d**2)),   # \n",
    "                \n",
    "            ((0  , 1  , 2  , 3  , 3), C**4 * mu * mu_d**3),\n",
    "            ((0  , 1  , 1  , 2  , 3), C**3 * mu * (mu_d2 + mu_d**2) * mu_d),\n",
    "            ((0  , 1  , 1  , 1  , 3), C**2 * mu * (mu_d3 + 3 * mu_d2 * mu_d + mu_d**3)),  # \n",
    "                \n",
    "            ((0  , 1  , 2  , 3  , 4), C**4 * mu_d**4),\n",
    "            ((0  , 0  , 1  , 2  , 4), C**3 * (mu_d2 + mu_d**2) * mu_d**2),\n",
    "            ((0  , 0  , 1  , 1  , 4), C**2 * (mu_d2 + mu_d**2)**2),\n",
    "            ((0  , 0  , 0  , 1  , 4), C**2 * (mu_d3 + 3 * mu_d2 * mu_d + mu_d**3) * mu_d),\n",
    "            ((0  , 0  , 0  , 0  , 4), C    * (mu_d4 + 4 * mu_d3 * mu_d + 6 * mu_d2 * mu_d**2 + mu_d**4)),\n",
    "\n",
    "            # ((0  , 0  , 0.1, 1  , 0), (mu**3 + mu2 * mu * (2 * rho + 1)) * mu), # GAUSS-SPECIFIC X X X^T Y\n",
    "            # ((0  , 0  , 0.1, 0.1, 0), mu**4 + 2 * mu**2 * mu2 + mu2**2 + 2 * rho * (2 * mu**2 * mu2 + mu2**2 * rho)), # GAUSS-SPECIFIC X X X^T X^T\n",
    "            # ((0  , 0  , 0  , 0.1, 0), mu**4 + 3 * mu2 * (rho * (mu2 + mu**2) + mu**2)), # GAUSS-SPECIFIC X X X X^T\n",
    "            # ((0  , 0  , 0.1, 1  , 1), (mu**3 + mu2 * mu * (2 * rho + 1)) * mu_d), # GAUSS-SPECIFIC X X X^T Y_d\n",
    "        ])\n",
    "    \n",
    "    tuples = factors.keys()\n",
    "\n",
    "    print(\" \"*(dim_R + 1)*5 + \"Multiplicity number m_P\")\n",
    "    m_p_str_title = \"\"\n",
    "    for i in range(dim_P):\n",
    "        m_p_str_title += \"%5d\"%(i+1)\n",
    "    print(\"Cliques              \" + m_p_str_title)\n",
    "    print(\"-\"*60)\n",
    "\n",
    "    # Check if comparison works:\n",
    "    for ind in indicators:\n",
    "        if not ind[0] in tuples:\n",
    "            print(ind)\n",
    "            raise Exception(\"Not in tuples!\")\n",
    "\n",
    "    m_all = np.zeros((len(tuples), dim_P), dtype=int)\n",
    "    for j, ind_tuple in enumerate(tuples):\n",
    "        # Get multiplicities\n",
    "        multiplicities = np.zeros(dim_P, dtype=int)\n",
    "        for ind in indicators:\n",
    "            if ind[0] == ind_tuple:\n",
    "                multiplicities[ind[1] - 1] += 1\n",
    "\n",
    "        # Generate indicator name\n",
    "        i_str = \"\"\n",
    "        nd = int(ind_tuple[-1])\n",
    "        for i in range(dim_R):\n",
    "            i_str += ['X', 'Y', 'Z', 'U'][int(np.floor(ind_tuple[i]))]\n",
    "\n",
    "            if i < dim_R - nd:\n",
    "                # Off-diagonals\n",
    "                ind_i = ind_tuple[i]\n",
    "                if round(ind_i - round(ind_i, 0), 1) == 0.1:\n",
    "                    i_str += '^T'\n",
    "                else:\n",
    "                    i_str += '  '\n",
    "            else:\n",
    "                # Diagonals\n",
    "                i_str += '_d'\n",
    "\n",
    "            i_str += '  '\n",
    "\n",
    "        # Generate string with multiplicities\n",
    "        m_str = \"\"\n",
    "        for m_c in multiplicities:\n",
    "            if m_c == 0:\n",
    "                m_str += \"    -\"\n",
    "            else:\n",
    "                m_str += \"%5d\"%m_c\n",
    "\n",
    "        print(i_str + \" \" + m_str)\n",
    "\n",
    "        m_all[j] = multiplicities\n",
    "            \n",
    "    return m_all, factors\n"
   ]
  },
  {
   "cell_type": "code",
   "execution_count": 7,
   "metadata": {
    "collapsed": false
   },
   "outputs": [],
   "source": [
    "def calc_expected_value(m_factors_all, factors):\n",
    "    \n",
    "    dim_P = m_factors_all.shape[1]\n",
    "    j = sympy.symbols('j', integer=True)\n",
    "    \n",
    "    # Check-sum\n",
    "    check_sum = 0\n",
    "    m_factor_column_sum = np.sum(m_factors_all, axis=0)\n",
    "    for i in range(dim_P):\n",
    "        prod_S = sympy.product(S-j, (j, 0, i))\n",
    "        check_sum += prod_S * m_factor_column_sum[i]\n",
    "    \n",
    "    if 1.0 * S**dim_P == sympy.expand(check_sum) or S**dim_P == sympy.expand(check_sum):\n",
    "        print(\"\\nChecksum = \", sympy.expand(check_sum), \"is ok!\") # == S**6???\n",
    "    else:\n",
    "        raise Exception(\"Checksum not ok!\")\n",
    "\n",
    "    # Calculate factors for expected value\n",
    "    a = []\n",
    "#     for k in range(len(m_factors_all)):\n",
    "    for m_factors in m_factors_all:\n",
    "        sum_S = 0\n",
    "        for i in range(dim_P):\n",
    "            prod_S = sympy.product(S-j, (j, 0, i))\n",
    "            sum_S += prod_S * m_factors[i]\n",
    "        a.append(sympy.expand(sum_S))\n",
    "\n",
    "    # Expected_value \n",
    "    expected_value = 0\n",
    "    for j, factor in enumerate(factors.values()):\n",
    "        expected_value += factor * a[j]\n",
    "        \n",
    "    dim_R = len(factors.keys()[0]) - 1\n",
    "    prefactor = S**(2 * dim_R - dim_P)\n",
    "        \n",
    "    return prefactor * expected_value"
   ]
  },
  {
   "cell_type": "markdown",
   "metadata": {},
   "source": [
    "## Calculate expected values of $n$, $d$, $n^2$, $d^2$ and $n \\cdot d$."
   ]
  },
  {
   "cell_type": "code",
   "execution_count": 8,
   "metadata": {
    "collapsed": false,
    "scrolled": true
   },
   "outputs": [
    {
     "name": "stdout",
     "output_type": "stream",
     "text": [
      "Calculate d term\n",
      "\n",
      "For dim_P = 3 -> red_dim = 3, the calculation took 0.0 sec.\n",
      "\n",
      "               Multiplicity number m_P\n",
      "Cliques                  1    2    3\n",
      "------------------------------------------------------------\n",
      "X    Y         -    -    1\n",
      "X    X^T       -    1    -\n",
      "X    X         -    -    -\n",
      "X    Y_d       -    2    -\n",
      "X_d  Y_d       -    -    -\n",
      "X_d  X_d       1    -    -\n",
      "\n",
      "Checksum =  S**3 is ok!\n"
     ]
    }
   ],
   "source": [
    "# Calculate d term\n",
    "print(\"Calculate d term\\n\")\n",
    "\n",
    "dim = 3\n",
    "\n",
    "indicators = calc_all(dim)\n",
    "\n",
    "m_factors_all, factors = print_results(indicators, dim_P=dim)\n",
    "\n",
    "E_d = calc_expected_value(m_factors_all, factors)\n",
    "\n",
    "# print(\"\\nE[d]:\")\n",
    "# sympy.expand(E_d)\n"
   ]
  },
  {
   "cell_type": "code",
   "execution_count": 9,
   "metadata": {
    "collapsed": false,
    "scrolled": true
   },
   "outputs": [
    {
     "name": "stdout",
     "output_type": "stream",
     "text": [
      "Calculate n term\n",
      "\n",
      "For dim_P = 4 -> red_dim = 6, the calculation took 0.0 sec.\n",
      "\n",
      "               Multiplicity number m_P\n",
      "Cliques                  1    2    3    4\n",
      "------------------------------------------------------------\n",
      "X    Y         -    -    4    1\n",
      "X    X^T       -    1    -    -\n",
      "X    X         -    1    -    -\n",
      "X    Y_d       -    4    2    -\n",
      "X_d  Y_d       -    1    -    -\n",
      "X_d  X_d       1    -    -    -\n",
      "\n",
      "Checksum =  S**4 is ok!\n"
     ]
    }
   ],
   "source": [
    "# Calculate n term\n",
    "print(\"Calculate n term\\n\")\n",
    "\n",
    "dim = 4\n",
    "\n",
    "indicators = calc_all(dim)\n",
    "\n",
    "m_factors_all, factors = print_results(indicators, dim_P=dim)\n",
    "\n",
    "E_n = calc_expected_value(m_factors_all, factors)\n",
    "\n",
    "# print(\"\\nE[n]:\")\n",
    "# sympy.expand(E_n)\n"
   ]
  },
  {
   "cell_type": "code",
   "execution_count": 10,
   "metadata": {
    "collapsed": false,
    "scrolled": true
   },
   "outputs": [
    {
     "name": "stdout",
     "output_type": "stream",
     "text": [
      "Calculate d^2 term\n",
      "\n",
      "For dim_P = 6 -> red_dim = 15, the calculation took 1.0 sec.\n",
      "\n",
      "                         Multiplicity number m_P\n",
      "Cliques                  1    2    3    4    5    6\n",
      "------------------------------------------------------------\n",
      "X    Y    Z    U         -    -    -   10    9    1\n",
      "X    X    Y    Z         -    -    2    4    -    -\n",
      "X    X    Y    Y         -    -    1    -    -    -\n",
      "X    X    X    Y         -    -    -    -    -    -\n",
      "X    X    X    X         -    -    -    -    -    -\n",
      "X    X^T  Y    Z         -    -    6   16    2    -\n",
      "X    X^T  Y    Y^T       -    -    5    1    -    -\n",
      "X    X    Y    Y^T       -    -    2    -    -    -\n",
      "X    X    X^T  Y         -    -    6    -    -    -\n",
      "X    X    X^T  X^T       -    2    -    -    -    -\n",
      "X    X    X    X^T       -    -    -    -    -    -\n",
      "X    Y    Z    U_d       -    -    8   24    4    -\n",
      "X    X    Y    Z_d       -    -    8    -    -    -\n",
      "X    X    X    Y_d       -    -    -    -    -    -\n",
      "X    X^T  Y    Z_d       -    -   24    4    -    -\n",
      "X    X    X^T  Y_d       -    8    -    -    -    -\n",
      "X    Y    Z_d  U_d       -    -   12    4    -    -\n",
      "X    X    Y_d  Z_d       -    2    -    -    -    -\n",
      "X    Y    Z_d  Z_d       -    -   10    2    -    -\n",
      "X    X    Y_d  Y_d       -    2    -    -    -    -\n",
      "X    X^T  Y_d  Z_d       -    2    -    -    -    -\n",
      "X    X^T  Y_d  Y_d       -    6    2    -    -    -\n",
      "X    Y_d  Z_d  U_d       -    -    -    -    -    -\n",
      "X    Y_d  Y_d  Z_d       -    4    4    -    -    -\n",
      "X    Y_d  Y_d  Y_d       -    4    -    -    -    -\n",
      "X_d  Y_d  Z_d  U_d       -    -    -    -    -    -\n",
      "X_d  X_d  Y_d  Z_d       -    -    -    -    -    -\n",
      "X_d  X_d  Y_d  Y_d       -    1    -    -    -    -\n",
      "X_d  X_d  X_d  Y_d       -    -    -    -    -    -\n",
      "X_d  X_d  X_d  X_d       1    -    -    -    -    -\n",
      "\n",
      "Checksum =  S**6 is ok!\n"
     ]
    }
   ],
   "source": [
    "# Calculate d^2 term\n",
    "print(\"Calculate d^2 term\\n\")\n",
    "\n",
    "dim = 6\n",
    "\n",
    "indicators = calc_all(dim)\n",
    "\n",
    "m_factors_all, tuples = print_results(indicators, dim_P=dim)\n",
    "\n",
    "E_d_sq = calc_expected_value(m_factors_all, tuples)\n",
    "\n",
    "# print(\"\\nE[d^2]:\")\n",
    "# sympy.expand(E_d_sq)\n"
   ]
  },
  {
   "cell_type": "code",
   "execution_count": 11,
   "metadata": {
    "collapsed": false,
    "scrolled": true
   },
   "outputs": [
    {
     "name": "stdout",
     "output_type": "stream",
     "text": [
      "Calculate n * d term\n",
      "\n",
      "For dim_P = 7 -> red_dim = 21, the calculation took 62.5 sec.\n",
      "\n",
      "                         Multiplicity number m_P\n",
      "Cliques                  1    2    3    4    5    6    7\n",
      "------------------------------------------------------------\n",
      "X    Y    Z    U         -    -    -   48   64   16    1\n",
      "X    X    Y    Z         -    -   10   30    5    -    -\n",
      "X    X    Y    Y         -    -    2    -    -    -    -\n",
      "X    X    X    Y         -    -    2    -    -    -    -\n",
      "X    X    X    X         -    -    -    -    -    -    -\n",
      "X    X^T  Y    Z         -    -   18   62   17    1    -\n",
      "X    X^T  Y    Y^T       -    -    6    1    -    -    -\n",
      "X    X    Y    Y^T       -    -   14    3    -    -    -\n",
      "X    X    X^T  Y         -    -   16    2    -    -    -\n",
      "X    X    X^T  X^T       -    2    -    -    -    -    -\n",
      "X    X    X    X^T       -    2    -    -    -    -    -\n",
      "X    Y    Z    U_d       -    -   28  116   46    4    -\n",
      "X    X    Y    Z_d       -    -   36   10    -    -    -\n",
      "X    X    X    Y_d       -    2    -    -    -    -    -\n",
      "X    X^T  Y    Z_d       -    -   60   26    2    -    -\n",
      "X    X    X^T  Y_d       -   14    4    -    -    -    -\n",
      "X    Y    Z_d  U_d       -    -   38   34    5    -    -\n",
      "X    X    Y_d  Z_d       -    4    4    -    -    -    -\n",
      "X    Y    Z_d  Z_d       -    -   31   13    1    -    -\n",
      "X    X    Y_d  Y_d       -    6    1    -    -    -    -\n",
      "X    X^T  Y_d  Z_d       -    6    8    1    -    -    -\n",
      "X    X^T  Y_d  Y_d       -    8    2    -    -    -    -\n",
      "X    Y_d  Z_d  U_d       -    -    4    2    -    -    -\n",
      "X    Y_d  Y_d  Z_d       -   10   14    2    -    -    -\n",
      "X    Y_d  Y_d  Y_d       -    6    2    -    -    -    -\n",
      "X_d  Y_d  Z_d  U_d       -    -    -    -    -    -    -\n",
      "X_d  X_d  Y_d  Z_d       -    -    1    -    -    -    -\n",
      "X_d  X_d  Y_d  Y_d       -    1    -    -    -    -    -\n",
      "X_d  X_d  X_d  Y_d       -    2    -    -    -    -    -\n",
      "X_d  X_d  X_d  X_d       1    -    -    -    -    -    -\n",
      "\n",
      "Checksum =  S**7 is ok!\n"
     ]
    }
   ],
   "source": [
    "# Calculate n*d term\n",
    "print(\"Calculate n * d term\\n\")\n",
    "\n",
    "dim = 7\n",
    "\n",
    "indicators = calc_all(dim)\n",
    "\n",
    "m_factors_all, tuples = print_results(indicators, dim_P=dim)\n",
    "\n",
    "E_nd = calc_expected_value(m_factors_all, tuples)\n",
    "\n",
    "# print(\"\\nE[n*d]:\")\n",
    "# sympy.expand(E_nd)\n",
    "\n"
   ]
  },
  {
   "cell_type": "code",
   "execution_count": 12,
   "metadata": {
    "collapsed": false
   },
   "outputs": [
    {
     "name": "stdout",
     "output_type": "stream",
     "text": [
      "Calculate n^2 term\n",
      "\n",
      "For dim_P = 8 -> red_dim = 28, the calculation took 8808.1 sec.\n",
      "\n",
      "                         Multiplicity number m_P\n",
      "Cliques                  1    2    3    4    5    6    7    8\n",
      "------------------------------------------------------------\n",
      "X    Y    Z    U         -    -    -  240  432  176   24    1\n",
      "X    X    Y    Z         -    -   48  192   72    6    -    -\n",
      "X    X    Y    Y         -    -   12    3    -    -    -    -\n",
      "X    X    X    Y         -    -   16    4    -    -    -    -\n",
      "X    X    X    X         -    1    -    -    -    -    -    -\n",
      "X    X^T  Y    Z         -    -   48  192   72    6    -    -\n",
      "X    X^T  Y    Y^T       -    -   12    3    -    -    -    -\n",
      "X    X    Y    Y^T       -    -   24    6    -    -    -    -\n",
      "X    X    X^T  Y         -    -   48   12    -    -    -    -\n",
      "X    X    X^T  X^T       -    3    -    -    -    -    -    -\n",
      "X    X    X    X^T       -    4    -    -    -    -    -    -\n",
      "X    Y    Z    U_d       -    -   96  544  368   72    4    -\n",
      "X    X    Y    Z_d       -    -  144   96   12    -    -    -\n",
      "X    X    X    Y_d       -    8    4    -    -    -    -    -\n",
      "X    X^T  Y    Z_d       -    -  144   96   12    -    -    -\n",
      "X    X    X^T  Y_d       -   24   12    -    -    -    -    -\n",
      "X    Y    Z_d  U_d       -    -  144  216   72    6    -    -\n",
      "X    X    Y_d  Z_d       -   12   24    6    -    -    -    -\n",
      "X    Y    Z_d  Z_d       -    -   72   48    6    -    -    -\n",
      "X    X    Y_d  Y_d       -   12    6    -    -    -    -    -\n",
      "X    X^T  Y_d  Z_d       -   12   24    6    -    -    -    -\n",
      "X    X^T  Y_d  Y_d       -   12    6    -    -    -    -    -\n",
      "X    Y_d  Z_d  U_d       -    -   24   24    4    -    -    -\n",
      "X    Y_d  Y_d  Z_d       -   24   48   12    -    -    -    -\n",
      "X    Y_d  Y_d  Y_d       -    8    4    -    -    -    -    -\n",
      "X_d  Y_d  Z_d  U_d       -    -    -    1    -    -    -    -\n",
      "X_d  X_d  Y_d  Z_d       -    -    6    -    -    -    -    -\n",
      "X_d  X_d  Y_d  Y_d       -    3    -    -    -    -    -    -\n",
      "X_d  X_d  X_d  Y_d       -    4    -    -    -    -    -    -\n",
      "X_d  X_d  X_d  X_d       1    -    -    -    -    -    -    -\n",
      "\n",
      "Checksum =  S**8 is ok!\n"
     ]
    }
   ],
   "source": [
    "# Calculate n^2 term\n",
    "print(\"Calculate n^2 term\\n\")\n",
    "\n",
    "dim = 8\n",
    "\n",
    "indicators = calc_all(dim)\n",
    "\n",
    "m_factors_all, tuples = print_results(indicators, dim_P=dim)\n",
    "\n",
    "E_n_sq = calc_expected_value(m_factors_all, tuples)\n",
    "\n",
    "# print(\"\\nE[n^2]:\")\n",
    "# sympy.expand(E_n_sq)\n"
   ]
  },
  {
   "cell_type": "markdown",
   "metadata": {},
   "source": [
    "## Put everything together to get \n",
    "\n",
    "## $\\mathrm{Var}(err) \\approx \n",
    "\\frac{\\mathbb{E}[d^2]\\mathbb{E}[n]^2 - 2 \\mathbb{E}[nd]\\mathbb{E}[n] \\mathbb{E}[d] + \\mathbb{E}[n^2]\\mathbb{E}[d]^2}\n",
    "{\\mathbb{E}[d^2]\\mathbb{E}[d]^2}$\n",
    "\n",
    "### We approximate for different cases:\n",
    "\n",
    " * 0.)  Full variance, no further conditions. \n",
    "  \n",
    "  \n",
    " * 1.)  All $A_{ij}$ iid, no correlation (test case).  \n",
    "    $\\mu_d = \\mu, \\quad \\sigma_d = \\sigma, \\quad \\rho = 0$ \n",
    "\n",
    "\n",
    " * 2.)  Constant diagonal, no correlation  \n",
    "    $\\mu_d = -d, \\quad \\sigma_d = 0, \\quad \\rho = 0$  \n",
    "\n",
    "  * 2a) Non-reactivity / D-stability for $\\mu > 0 \\sim$ cooperation:   \n",
    "    $ d = (S - 1)\\mu $\n",
    " \n",
    "  * 2b) Non-reactivity / D-stability for $\\mu \\le 0 \\sim$ competition:   \n",
    "    $ d = \\sigma \\sqrt{2S(1 + \\rho)} - \\mu$\n",
    "\n",
    "\n",
    " * 3.) Mutualisitic correlation, no specific diagonal  \n",
    "    $\\mu_d = \\mu, \\quad \\sigma_d = \\sigma, \\quad \\rho \\ne 0$ \n",
    "\n",
    "\n",
    "For each case, the variance is approximated to the highest and next to highest order. "
   ]
  },
  {
   "cell_type": "code",
   "execution_count": 13,
   "metadata": {
    "collapsed": true
   },
   "outputs": [],
   "source": [
    "# Creating full numerator and denominator\n",
    "full_num = sympy.expand(E_d_sq * E_n**2 - 2 * E_nd * E_n * E_d + E_n_sq * E_d**2)\n",
    "full_den = sympy.expand(E_d_sq * E_d**2)\n"
   ]
  },
  {
   "cell_type": "code",
   "execution_count": 14,
   "metadata": {
    "collapsed": false
   },
   "outputs": [],
   "source": [
    "# Get highest order contribution.\n",
    "def eval_specific_case(full_n, full_d, full_num, full_den, cond, show_order=0):\n",
    "    \n",
    "    # Make results more readable: exchange sigma**2 for mu2\n",
    "    sigma, sigma_d = sympy.symbols('sigma sigma_d')\n",
    "    cond_sigma = [(mu2, sigma**2), (mu_d2, sigma_d**2)]\n",
    "    \n",
    "    # Apply conditions \n",
    "    d_n = sympy.expand((full_d - full_n).subs(cond + cond_sigma))\n",
    "    d   = sympy.expand(full_d.subs(cond + cond_sigma))\n",
    "    num = sympy.expand(full_num.subs(cond + cond_sigma))\n",
    "    den = sympy.expand(full_den.subs(cond + cond_sigma))\n",
    "\n",
    "    # Get highest order of term (expected value or variance)\n",
    "    def approx(num, den, order=0):\n",
    "        if num == 0:\n",
    "            deg_num = 0\n",
    "        else:\n",
    "            deg_num = sympy.degree(num, gen=S) - order\n",
    "        num_approx  = num - (num + sympy.O(S**deg_num)).removeO()\n",
    "        \n",
    "        if den == 0:\n",
    "            print(\"Deminator is zero!\")\n",
    "            return 0\n",
    "        else:\n",
    "            deg_den     = sympy.degree(den, gen=S) - order\n",
    "        den_approx  = den - (den + sympy.O(S**deg_den)).removeO()\n",
    "        \n",
    "        min_deg     = min(deg_num, deg_den)\n",
    "        if num == 0:\n",
    "            min_deg_mu = 0\n",
    "        else:\n",
    "            min_deg_mu  = min(sympy.O(num_approx, (mu, 0)).getn(), sympy.O(den_approx, (mu, 0)).getn())\n",
    "        approx      = (sympy.factor(num_approx / (S**min_deg * mu**min_deg_mu)) / \n",
    "                       sympy.factor(den_approx / (S**min_deg * mu**min_deg_mu)))\n",
    "        return approx\n",
    "    \n",
    "    if show_order == 0:\n",
    "        print(\"\\nExpected value: 1st order; Variance: 1st order.\")\n",
    "        return (approx(d_n, d, order=0), \n",
    "                approx(num, den, order=0),\n",
    "                )\n",
    "    \n",
    "    elif show_order == 1:\n",
    "        print(\"\\nExpected value: 1st & 2nd order; Variance: 1st & 2nd order.\")\n",
    "        return (approx(d_n, d, order=0), \n",
    "                approx(d_n, d, order=1), \n",
    "                approx(num, den, order=0),\n",
    "                approx(num, den, order=1),\n",
    "                )\n",
    "    \n",
    "\n",
    "    elif show_order == 2:\n",
    "        print(\"\\nExpected value: 1st & 2nd order, full; Variance: 1st & 2nd order, full.\")\n",
    "        return (approx(d_n, d, order=0), \n",
    "                approx(d_n, d, order=1), \n",
    "                d_n / d,\n",
    "                approx(num, den, order=0),\n",
    "                approx(num, den, order=1),\n",
    "                num / den,\n",
    "                )\n"
   ]
  },
  {
   "cell_type": "code",
   "execution_count": 15,
   "metadata": {
    "collapsed": false
   },
   "outputs": [
    {
     "name": "stdout",
     "output_type": "stream",
     "text": [
      "Case 0: Full variance, no further conditions.\n",
      "\n",
      "Expected value: 1st & 2nd order; Variance: 1st & 2nd order.\n"
     ]
    },
    {
     "data": {
      "image/png": "[encoded data removed]",
      "text/latex": [
       "$$\\left ( \\frac{\\rho \\sigma^{2}}{S \\mu^{2}}, \\quad \\frac{C S \\rho \\sigma^{2} + C \\mu^{2} - C \\mu_{d}^{2} - 2 C \\rho \\sigma^{2} - \\mu^{2} + \\mu_{d}^{2} - \\sigma^{2} + \\sigma_{d}^{2}}{C S \\left(S \\mu^{2} - 2 \\mu^{2} + 2 \\mu \\mu_{d} + \\rho \\sigma^{2}\\right)}, \\quad \\frac{1}{C^{2} S^{3} \\mu^{4}} \\left(C^{2} \\mu^{4} + C^{2} \\rho^{2} \\sigma^{4} - 2 C \\mu^{4} - 2 C \\mu^{2} \\rho \\sigma^{2} + 2 C \\mu^{2} \\rho_{21} \\sigma^{2} - 2 C \\mu^{2} \\sigma^{2} - 2 C \\rho \\sigma^{4} + \\mu^{4} + 2 \\mu^{2} \\sigma^{2} + \\sigma^{4}\\right), \\quad \\frac{1}{C^{2} S^{3} \\mu^{4} \\left(S \\mu^{2} - 8 \\mu^{2} + 8 \\mu \\mu_{d} + 4 \\rho \\sigma^{2}\\right)} \\left(C^{2} S \\mu^{6} + C^{2} S \\mu^{2} \\rho^{2} \\sigma^{4} - 7 C^{2} \\mu^{6} + 4 C^{2} \\mu^{5} \\mu_{d} + 2 C^{2} \\mu^{4} \\mu_{d}^{2} + 12 C^{2} \\mu^{4} \\rho \\sigma^{2} - 2 C^{2} \\mu^{2} \\mu_{d}^{2} \\rho \\sigma^{2} + C^{2} \\mu^{2} \\rho^{2} \\sigma^{4} + 4 C^{2} \\mu \\mu_{d} \\rho^{2} \\sigma^{4} + 4 C^{2} \\rho^{3} \\sigma^{6} - 2 C S \\mu^{6} - 2 C S \\mu^{4} \\rho \\sigma^{2} + 2 C S \\mu^{4} \\rho_{21} \\sigma^{2} - 2 C S \\mu^{4} \\sigma^{2} - 2 C S \\mu^{2} \\rho \\sigma^{4} + 14 C \\mu^{6} - 8 C \\mu^{5} \\mu_{d} - 4 C \\mu^{4} \\mu_{d}^{2} + 10 C \\mu^{4} \\rho \\sigma^{2} - 22 C \\mu^{4} \\rho_{21} \\sigma^{2} + 14 C \\mu^{4} \\sigma^{2} - 2 C \\mu^{4} \\sigma_{d}^{2} - 8 C \\mu^{3} \\mu_{d} \\rho \\sigma^{2} + 8 C \\mu^{3} \\mu_{d} \\rho_{21} \\sigma^{2} - 8 C \\mu^{3} \\mu_{d} \\sigma^{2} + 2 C \\mu^{2} \\mu_{d}^{2} \\rho \\sigma^{2} - 2 C \\mu^{2} \\mu_{d}^{2} \\sigma^{2} - 4 C \\mu^{2} \\rho \\rho_{21} \\sigma^{4} + 10 C \\mu^{2} \\rho \\sigma^{4} + 2 C \\mu^{2} \\rho \\sigma^{2} \\sigma_{d}^{2} - 8 C \\mu \\mu_{d} \\rho \\sigma^{4} + S \\mu^{6} + 2 S \\mu^{4} \\sigma^{2} + S \\mu^{2} \\sigma^{4} - 7 \\mu^{6} + 4 \\mu^{5} \\mu_{d} + 2 \\mu^{4} \\mu_{d}^{2} - 14 \\mu^{4} \\sigma^{2} + 2 \\mu^{4} \\sigma_{d}^{2} + 8 \\mu^{3} \\mu_{d} \\sigma^{2} + 2 \\mu^{2} \\mu_{d}^{2} \\sigma^{2} + 2 \\mu^{2} \\rho_{22} - 7 \\mu^{2} \\sigma^{4} + 2 \\mu^{2} \\sigma^{2} \\sigma_{d}^{2} + 4 \\mu \\mu_{d} \\sigma^{4}\\right)\\right )$$"
      ],
      "text/plain": [
       "          2               2       2         2                2     2       2        2          2   2   4    2    2      4         4         2          2         2             2         2      2                4     4       2      2        4   2     6    2     2    2      4      2   6      2   5           2   4     2       2   4          2      2   2     2          2    2   2    2      4      2            2      4      2    3      6           6           4          2           4             2           4      2           2          4          6         5              4     2          4          2          4             2          4      2         4        2         3               2         3                  2         3           2         2     2          2         2     2      2         2                 4          2          4         2          2        2                        4       6         4      2       2      4       6       5            4     2        4      2       4        2       3           2       2     2      2       2              2      4       2      2        2                  4 \n",
       " rho*sigma   C*S*rho*sigma  + C*mu  - C*mu_d  - 2*C*rho*sigma  - mu  + mu_d  - sigma  + sigma_d   C *mu  + C *rho *sigma  - 2*C*mu  - 2*C*mu *rho*sigma  + 2*C*mu *rho_21*sigma  - 2*C*mu *sigma  - 2*C*rho*sigma  + mu  + 2*mu *sigma  + sigma   C *S*mu  + C *S*mu *rho *sigma  - 7*C *mu  + 4*C *mu *mu_d + 2*C *mu *mu_d  + 12*C *mu *rho*sigma  - 2*C *mu *mu_d *rho*sigma  + C *mu *rho *sigma  + 4*C *mu*mu_d*rho *sigma  + 4*C *rho *sigma  - 2*C*S*mu  - 2*C*S*mu *rho*sigma  + 2*C*S*mu *rho_21*sigma  - 2*C*S*mu *sigma  - 2*C*S*mu *rho*sigma  + 14*C*mu  - 8*C*mu *mu_d - 4*C*mu *mu_d  + 10*C*mu *rho*sigma  - 22*C*mu *rho_21*sigma  + 14*C*mu *sigma  - 2*C*mu *sigma_d  - 8*C*mu *mu_d*rho*sigma  + 8*C*mu *mu_d*rho_21*sigma  - 8*C*mu *mu_d*sigma  + 2*C*mu *mu_d *rho*sigma  - 2*C*mu *mu_d *sigma  - 4*C*mu *rho*rho_21*sigma  + 10*C*mu *rho*sigma  + 2*C*mu *rho*sigma *sigma_d  - 8*C*mu*mu_d*rho*sigma  + S*mu  + 2*S*mu *sigma  + S*mu *sigma  - 7*mu  + 4*mu *mu_d + 2*mu *mu_d  - 14*mu *sigma  + 2*mu *sigma_d  + 8*mu *mu_d*sigma  + 2*mu *mu_d *sigma  + 2*mu *rho_22 - 7*mu *sigma  + 2*mu *sigma *sigma_d  + 4*mu*mu_d*sigma  \n",
       "(----------, -----------------------------------------------------------------------------------, ----------------------------------------------------------------------------------------------------------------------------------------------, ------------------------------------------------------------------------------------------------------------------------------------------------------------------------------------------------------------------------------------------------------------------------------------------------------------------------------------------------------------------------------------------------------------------------------------------------------------------------------------------------------------------------------------------------------------------------------------------------------------------------------------------------------------------------------------------------------------------------------------------------------------------------------------------------------------------------------------------------------------------------------------------------------------)\n",
       "       2                             /    2       2                        2\\                                                                                        2  3   4                                                                                                                                                                                                                                                                                                                                                                                                                                                                                                  2  3   4 /    2       2                          2\\                                                                                                                                                                                                                                                                                                                                                                                                                             \n",
       "   S*mu                          C*S*\\S*mu  - 2*mu  + 2*mu*mu_d + rho*sigma /                                                                                       C *S *mu                                                                                                                                                                                                                                                                                                                                                                                                                                                                                                  C *S *mu *\\S*mu  - 8*mu  + 8*mu*mu_d + 4*rho*sigma /                                                                                                                                                                                                                                                                                                                                                                                                                             "
      ]
     },
     "execution_count": 15,
     "metadata": {},
     "output_type": "execute_result"
    }
   ],
   "source": [
    "# 0.\n",
    "print(\"Case 0: Full variance, no further conditions.\")\n",
    "\n",
    "cond = []\n",
    "\n",
    "eval_specific_case(E_n, E_d, full_num, full_den, cond, show_order=1)"
   ]
  },
  {
   "cell_type": "code",
   "execution_count": 16,
   "metadata": {
    "collapsed": false
   },
   "outputs": [
    {
     "name": "stdout",
     "output_type": "stream",
     "text": [
      "Case 1: All A_ij iid.\n",
      "\n",
      "Expected value: 1st & 2nd order; Variance: 1st & 2nd order.\n"
     ]
    },
    {
     "data": {
      "image/png": "[encoded data removed]",
      "text/latex": [
       "$$\\left ( 0, \\quad 0, \\quad \\frac{\\left(C \\mu^{2} - \\mu^{2} - \\sigma^{2}\\right)^{2}}{C^{2} S^{3} \\mu^{4}}, \\quad \\frac{\\left(C \\mu^{2} - \\mu^{2} - \\sigma^{2}\\right)^{2}}{C^{2} S^{4} \\mu^{4}} \\left(S - 1\\right)\\right )$$"
      ],
      "text/plain": [
       "                             2                                2 \n",
       "       /    2     2        2\\           /    2     2        2\\  \n",
       "       \\C*mu  - mu  - sigma /   (S - 1)*\\C*mu  - mu  - sigma /  \n",
       "(0, 0, -----------------------, -------------------------------)\n",
       "               2  3   4                     2  4   4            \n",
       "              C *S *mu                     C *S *mu             "
      ]
     },
     "execution_count": 16,
     "metadata": {},
     "output_type": "execute_result"
    }
   ],
   "source": [
    "# 1.\n",
    "print(\"Case 1: All A_ij iid.\")\n",
    "cond = [(mu_d, mu), (mu_d2, mu2), (mu_d3, mu3), (mu_d4, mu4), (rho, 0), (rho_21, 0), (rho_22, 0), (rho_31, 0)]\n",
    "\n",
    "eval_specific_case(E_n, E_d, full_num, full_den, cond, show_order=1)"
   ]
  },
  {
   "cell_type": "code",
   "execution_count": 17,
   "metadata": {
    "collapsed": false
   },
   "outputs": [
    {
     "name": "stdout",
     "output_type": "stream",
     "text": [
      "Case 2: correlation variables, no specific diagonal.\n",
      "\n",
      "Expected value: 1st & 2nd order; Variance: 1st & 2nd order.\n"
     ]
    },
    {
     "data": {
      "image/png": "[encoded data removed]",
      "text/latex": [
       "$$\\left ( \\frac{\\rho \\sigma^{2}}{S \\mu^{2}}, \\quad \\frac{\\rho \\sigma^{2} \\left(S - 2\\right)}{S \\left(S \\mu^{2} + \\rho \\sigma^{2}\\right)}, \\quad \\frac{1}{C^{2} S^{3} \\mu^{4}} \\left(C^{2} \\mu^{4} + C^{2} \\rho^{2} \\sigma^{4} - 2 C \\mu^{4} - 2 C \\mu^{2} \\rho \\sigma^{2} + 2 C \\mu^{2} \\rho_{21} \\sigma^{2} - 2 C \\mu^{2} \\sigma^{2} - 2 C \\rho \\sigma^{4} + \\mu^{4} + 2 \\mu^{2} \\sigma^{2} + \\sigma^{4}\\right), \\quad \\frac{1}{C^{2} S^{3} \\mu^{4} \\left(S \\mu^{2} + 4 \\rho \\sigma^{2}\\right)} \\left(C^{2} S \\mu^{6} + C^{2} S \\mu^{2} \\rho^{2} \\sigma^{4} - C^{2} \\mu^{6} + 10 C^{2} \\mu^{4} \\rho \\sigma^{2} + 5 C^{2} \\mu^{2} \\rho^{2} \\sigma^{4} + 4 C^{2} \\rho^{3} \\sigma^{6} - 2 C S \\mu^{6} - 2 C S \\mu^{4} \\rho \\sigma^{2} + 2 C S \\mu^{4} \\rho_{21} \\sigma^{2} - 2 C S \\mu^{4} \\sigma^{2} - 2 C S \\mu^{2} \\rho \\sigma^{4} + 2 C \\mu^{6} + 4 C \\mu^{4} \\rho \\sigma^{2} - 14 C \\mu^{4} \\rho_{21} \\sigma^{2} + 2 C \\mu^{4} \\sigma^{2} - 4 C \\mu^{2} \\rho \\rho_{21} \\sigma^{4} + 4 C \\mu^{2} \\rho \\sigma^{4} + S \\mu^{6} + 2 S \\mu^{4} \\sigma^{2} + S \\mu^{2} \\sigma^{4} - \\mu^{6} - 2 \\mu^{4} \\sigma^{2} + 2 \\mu^{2} \\rho_{22} - \\mu^{2} \\sigma^{4}\\right)\\right )$$"
      ],
      "text/plain": [
       "          2             2             2   4    2    2      4         4         2          2         2             2         2      2                4     4       2      2        4   2     6    2     2    2      4    2   6       2   4          2      2   2    2      4      2    3      6           6           4          2           4             2           4      2           2          4         6         4          2          4             2         4      2         2                 4         2          4       6         4      2       2      4     6       4      2       2            2      4 \n",
       " rho*sigma     rho*sigma *(S - 2)    C *mu  + C *rho *sigma  - 2*C*mu  - 2*C*mu *rho*sigma  + 2*C*mu *rho_21*sigma  - 2*C*mu *sigma  - 2*C*rho*sigma  + mu  + 2*mu *sigma  + sigma   C *S*mu  + C *S*mu *rho *sigma  - C *mu  + 10*C *mu *rho*sigma  + 5*C *mu *rho *sigma  + 4*C *rho *sigma  - 2*C*S*mu  - 2*C*S*mu *rho*sigma  + 2*C*S*mu *rho_21*sigma  - 2*C*S*mu *sigma  - 2*C*S*mu *rho*sigma  + 2*C*mu  + 4*C*mu *rho*sigma  - 14*C*mu *rho_21*sigma  + 2*C*mu *sigma  - 4*C*mu *rho*rho_21*sigma  + 4*C*mu *rho*sigma  + S*mu  + 2*S*mu *sigma  + S*mu *sigma  - mu  - 2*mu *sigma  + 2*mu *rho_22 - mu *sigma  \n",
       "(----------, ----------------------, ----------------------------------------------------------------------------------------------------------------------------------------------, -----------------------------------------------------------------------------------------------------------------------------------------------------------------------------------------------------------------------------------------------------------------------------------------------------------------------------------------------------------------------------------------------------------------------------------)\n",
       "       2       /    2            2\\                                                                     2  3   4                                                                                                                                                                                                                                                                        2  3   4 /    2              2\\                                                                                                                                                                                                  \n",
       "   S*mu      S*\\S*mu  + rho*sigma /                                                                    C *S *mu                                                                                                                                                                                                                                                                        C *S *mu *\\S*mu  + 4*rho*sigma /                                                                                                                                                                                                  "
      ]
     },
     "execution_count": 17,
     "metadata": {},
     "output_type": "execute_result"
    }
   ],
   "source": [
    "# 2.\n",
    "print(\"Case 2: correlation variables, no specific diagonal.\")\n",
    "cond = [(mu_d, mu), (mu_d2, mu2), (mu_d3, mu3), (mu_d4, mu4)]\n",
    "\n",
    "eval_specific_case(E_n, E_d, full_num, full_den, cond, show_order=1)"
   ]
  },
  {
   "cell_type": "code",
   "execution_count": 18,
   "metadata": {
    "collapsed": false
   },
   "outputs": [
    {
     "name": "stdout",
     "output_type": "stream",
     "text": [
      "Case 2a: correlation with Gaussian variables, no specific diagonal.\n",
      "\n",
      "Expected value: 1st & 2nd order; Variance: 1st & 2nd order.\n"
     ]
    },
    {
     "data": {
      "image/png": "[encoded data removed]",
      "text/latex": [
       "$$\\left ( \\frac{\\rho \\sigma^{2}}{S \\mu^{2}}, \\quad \\frac{\\rho \\sigma^{2} \\left(S - 2\\right)}{S \\left(S \\mu^{2} + \\rho \\sigma^{2}\\right)}, \\quad \\frac{1}{C^{2} S^{3} \\mu^{4}} \\left(C^{2} \\mu^{4} + C^{2} \\rho^{2} \\sigma^{4} - 2 C \\mu^{4} + 2 C \\mu^{2} \\rho \\sigma^{2} - 2 C \\mu^{2} \\sigma^{2} - 2 C \\rho \\sigma^{4} + \\mu^{4} + 2 \\mu^{2} \\sigma^{2} + \\sigma^{4}\\right), \\quad \\frac{1}{C^{2} S^{3} \\mu^{4} \\left(S \\mu^{2} + 4 \\rho \\sigma^{2}\\right)} \\left(C^{2} S \\mu^{6} + C^{2} S \\mu^{2} \\rho^{2} \\sigma^{4} - C^{2} \\mu^{6} + 10 C^{2} \\mu^{4} \\rho \\sigma^{2} + 5 C^{2} \\mu^{2} \\rho^{2} \\sigma^{4} + 4 C^{2} \\rho^{3} \\sigma^{6} - 2 C S \\mu^{6} + 2 C S \\mu^{4} \\rho \\sigma^{2} - 2 C S \\mu^{4} \\sigma^{2} - 2 C S \\mu^{2} \\rho \\sigma^{4} + 2 C \\mu^{6} - 24 C \\mu^{4} \\rho \\sigma^{2} + 2 C \\mu^{4} \\sigma^{2} - 8 C \\mu^{2} \\rho^{2} \\sigma^{4} + 4 C \\mu^{2} \\rho \\sigma^{4} + S \\mu^{6} + 2 S \\mu^{4} \\sigma^{2} + S \\mu^{2} \\sigma^{4} - \\mu^{6} + 8 \\mu^{4} \\rho \\sigma^{2} - 2 \\mu^{4} \\sigma^{2} + 4 \\mu^{2} \\rho^{2} \\sigma^{4} - \\mu^{2} \\sigma^{4}\\right)\\right )$$"
      ],
      "text/plain": [
       "          2             2             2   4    2    2      4         4         2          2         2      2                4     4       2      2        4   2     6    2     2    2      4    2   6       2   4          2      2   2    2      4      2    3      6           6           4          2           4      2           2          4         6          4          2         4      2         2    2      4         2          4       6         4      2       2      4     6       4          2       4      2       2    2      4     2      4 \n",
       " rho*sigma     rho*sigma *(S - 2)    C *mu  + C *rho *sigma  - 2*C*mu  + 2*C*mu *rho*sigma  - 2*C*mu *sigma  - 2*C*rho*sigma  + mu  + 2*mu *sigma  + sigma   C *S*mu  + C *S*mu *rho *sigma  - C *mu  + 10*C *mu *rho*sigma  + 5*C *mu *rho *sigma  + 4*C *rho *sigma  - 2*C*S*mu  + 2*C*S*mu *rho*sigma  - 2*C*S*mu *sigma  - 2*C*S*mu *rho*sigma  + 2*C*mu  - 24*C*mu *rho*sigma  + 2*C*mu *sigma  - 8*C*mu *rho *sigma  + 4*C*mu *rho*sigma  + S*mu  + 2*S*mu *sigma  + S*mu *sigma  - mu  + 8*mu *rho*sigma  - 2*mu *sigma  + 4*mu *rho *sigma  - mu *sigma  \n",
       "(----------, ----------------------, ----------------------------------------------------------------------------------------------------------------------, ---------------------------------------------------------------------------------------------------------------------------------------------------------------------------------------------------------------------------------------------------------------------------------------------------------------------------------------------------------------------------------------------------)\n",
       "       2       /    2            2\\                                                         2  3   4                                                                                                                                                                                                                                            2  3   4 /    2              2\\                                                                                                                                                                                  \n",
       "   S*mu      S*\\S*mu  + rho*sigma /                                                        C *S *mu                                                                                                                                                                                                                                            C *S *mu *\\S*mu  + 4*rho*sigma /                                                                                                                                                                                  "
      ]
     },
     "execution_count": 18,
     "metadata": {},
     "output_type": "execute_result"
    }
   ],
   "source": [
    "# 2a.\n",
    "print(\"Case 2a: correlation with Gaussian variables, no specific diagonal.\")\n",
    "cond = [(mu_d, mu), (mu_d2, mu2), (mu_d3, mu3), (mu_d4, mu4)]\n",
    "cond_rho = [\n",
    "            (rho_21, 2 * rho), \n",
    "#             (rho_21, 2 * rho * mu * mu2), \n",
    "            (rho_22, 2 * (2 * mu2 * mu**2 * rho + (mu2 * rho)**2)), \n",
    "            (rho_31, -mu3 * mu + 3 * mu2 * mu**2 + 3 * mu2 * rho * (mu2 + mu**2))]\n",
    "cond += cond_rho\n",
    "\n",
    "eval_specific_case(E_n, E_d, full_num, full_den, cond, show_order=1)"
   ]
  },
  {
   "cell_type": "code",
   "execution_count": 19,
   "metadata": {
    "collapsed": false
   },
   "outputs": [
    {
     "name": "stdout",
     "output_type": "stream",
     "text": [
      "Case 3: Constant diagonal `d` of order 1.\n",
      "\n",
      "Expected value: 1st & 2nd order; Variance: 1st & 2nd order.\n"
     ]
    },
    {
     "data": {
      "image/png": "[encoded data removed]",
      "text/latex": [
       "$$\\left ( \\frac{\\rho \\sigma^{2}}{S \\mu^{2}}, \\quad \\frac{- C S \\rho \\sigma^{2} + C d^{2} - C \\mu^{2} + 2 C \\rho \\sigma^{2} - d^{2} + \\mu^{2} + \\sigma^{2}}{C S \\left(- S \\mu^{2} + 2 d \\mu + 2 \\mu^{2} - \\rho \\sigma^{2}\\right)}, \\quad \\frac{1}{C^{2} S^{3} \\mu^{4}} \\left(C^{2} \\mu^{4} + C^{2} \\rho^{2} \\sigma^{4} - 2 C \\mu^{4} + 2 C \\mu^{2} \\rho \\sigma^{2} - 2 C \\mu^{2} \\sigma^{2} - 2 C \\rho \\sigma^{4} + \\mu^{4} + 2 \\mu^{2} \\sigma^{2} + \\sigma^{4}\\right), \\quad - \\frac{1}{C^{2} S^{3} \\mu^{4} \\left(- S \\mu^{2} + 8 d \\mu + 8 \\mu^{2} - 4 \\rho \\sigma^{2}\\right)} \\left(C^{2} S \\mu^{6} + C^{2} S \\mu^{2} \\rho^{2} \\sigma^{4} + 2 C^{2} d^{2} \\mu^{4} - 2 C^{2} d^{2} \\mu^{2} \\rho \\sigma^{2} - 4 C^{2} d \\mu^{5} - 4 C^{2} d \\mu \\rho^{2} \\sigma^{4} - 7 C^{2} \\mu^{6} + 12 C^{2} \\mu^{4} \\rho \\sigma^{2} + C^{2} \\mu^{2} \\rho^{2} \\sigma^{4} + 4 C^{2} \\rho^{3} \\sigma^{6} - 2 C S \\mu^{6} + 2 C S \\mu^{4} \\rho \\sigma^{2} - 2 C S \\mu^{4} \\sigma^{2} - 2 C S \\mu^{2} \\rho \\sigma^{4} - 4 C d^{2} \\mu^{4} + 2 C d^{2} \\mu^{2} \\rho \\sigma^{2} - 2 C d^{2} \\mu^{2} \\sigma^{2} + 8 C d \\mu^{5} - 8 C d \\mu^{3} \\rho \\sigma^{2} + 8 C d \\mu^{3} \\sigma^{2} + 8 C d \\mu \\rho \\sigma^{4} + 14 C \\mu^{6} - 34 C \\mu^{4} \\rho \\sigma^{2} + 14 C \\mu^{4} \\sigma^{2} - 8 C \\mu^{2} \\rho^{2} \\sigma^{4} + 10 C \\mu^{2} \\rho \\sigma^{4} + S \\mu^{6} + 2 S \\mu^{4} \\sigma^{2} + S \\mu^{2} \\sigma^{4} + 2 d^{2} \\mu^{4} + 2 d^{2} \\mu^{2} \\sigma^{2} - 4 d \\mu^{5} - 8 d \\mu^{3} \\sigma^{2} - 4 d \\mu \\sigma^{4} - 7 \\mu^{6} + 8 \\mu^{4} \\rho \\sigma^{2} - 14 \\mu^{4} \\sigma^{2} + 4 \\mu^{2} \\rho^{2} \\sigma^{4} - 7 \\mu^{2} \\sigma^{4}\\right)\\right )$$"
      ],
      "text/plain": [
       "          2                 2      2       2                2    2     2        2   2   4    2    2      4         4         2          2         2      2                4     4       2      2        4   / 2     6    2     2    2      4      2  2   4      2  2   2          2      2     5      2         2      4      2   6       2   4          2    2   2    2      4      2    3      6           6           4          2           4      2           2          4        2   4        2   2          2        2   2      2           5           3          2           3      2                     4          6          4          2          4      2         2    2      4          2          4       6         4      2       2      4      2   4      2   2      2         5         3      2               4       6       4          2        4      2       2    2      4       2      4\\  \n",
       " rho*sigma   - C*S*rho*sigma  + C*d  - C*mu  + 2*C*rho*sigma  - d  + mu  + sigma   C *mu  + C *rho *sigma  - 2*C*mu  + 2*C*mu *rho*sigma  - 2*C*mu *sigma  - 2*C*rho*sigma  + mu  + 2*mu *sigma  + sigma   -\\C *S*mu  + C *S*mu *rho *sigma  + 2*C *d *mu  - 2*C *d *mu *rho*sigma  - 4*C *d*mu  - 4*C *d*mu*rho *sigma  - 7*C *mu  + 12*C *mu *rho*sigma  + C *mu *rho *sigma  + 4*C *rho *sigma  - 2*C*S*mu  + 2*C*S*mu *rho*sigma  - 2*C*S*mu *sigma  - 2*C*S*mu *rho*sigma  - 4*C*d *mu  + 2*C*d *mu *rho*sigma  - 2*C*d *mu *sigma  + 8*C*d*mu  - 8*C*d*mu *rho*sigma  + 8*C*d*mu *sigma  + 8*C*d*mu*rho*sigma  + 14*C*mu  - 34*C*mu *rho*sigma  + 14*C*mu *sigma  - 8*C*mu *rho *sigma  + 10*C*mu *rho*sigma  + S*mu  + 2*S*mu *sigma  + S*mu *sigma  + 2*d *mu  + 2*d *mu *sigma  - 4*d*mu  - 8*d*mu *sigma  - 4*d*mu*sigma  - 7*mu  + 8*mu *rho*sigma  - 14*mu *sigma  + 4*mu *rho *sigma  - 7*mu *sigma /  \n",
       "(----------, --------------------------------------------------------------------, ----------------------------------------------------------------------------------------------------------------------, --------------------------------------------------------------------------------------------------------------------------------------------------------------------------------------------------------------------------------------------------------------------------------------------------------------------------------------------------------------------------------------------------------------------------------------------------------------------------------------------------------------------------------------------------------------------------------------------------------------------------------------------------------------------------------------------------------)\n",
       "       2                     /      2                2            2\\                                                                      2  3   4                                                                                                                                                                                                                                                                                                                                                                                    2  3   4 /      2                2              2\\                                                                                                                                                                                                                                                                                                                            \n",
       "   S*mu                  C*S*\\- S*mu  + 2*d*mu + 2*mu  - rho*sigma /                                                                     C *S *mu                                                                                                                                                                                                                                                                                                                                                                                    C *S *mu *\\- S*mu  + 8*d*mu + 8*mu  - 4*rho*sigma /                                                                                                                                                                                                                                                                                                                            "
      ]
     },
     "execution_count": 19,
     "metadata": {},
     "output_type": "execute_result"
    }
   ],
   "source": [
    "# 3.\n",
    "print(\"Case 3: Constant diagonal `d` of order 1.\")\n",
    "d = sympy.symbols('d')\n",
    "cond = [(mu_d, -d), (mu_d2, 0), (mu_d3, 0), (mu_d4, 0)]\n",
    "cond_rho = [\n",
    "            (rho_21, 2 * rho), \n",
    "#             (rho_21, 2 * rho * mu * mu2), \n",
    "            (rho_22, 2 * (2 * mu2 * mu**2 * rho + (mu2 * rho)**2)), \n",
    "            (rho_31, -mu3 * mu + 3 * mu2 * mu**2 + 3 * mu2 * rho * (mu2 + mu**2))]\n",
    "cond += cond_rho\n",
    "\n",
    "eval_specific_case(E_n, E_d, full_num, full_den, cond, show_order=1)"
   ]
  },
  {
   "cell_type": "code",
   "execution_count": 20,
   "metadata": {
    "collapsed": false
   },
   "outputs": [
    {
     "name": "stdout",
     "output_type": "stream",
     "text": [
      "Case 3a: Constant diagonal A_{ii} = -alpha * d_c\n",
      "where d_c = (S - 1) * mu = critical d for mu > 0 ~ coorperation\n",
      "\n",
      "Expected value: 1st & 2nd order; Variance: 1st & 2nd order.\n"
     ]
    },
    {
     "data": {
      "image/png": "[encoded data removed]",
      "text/latex": [
       "$$\\left ( \\frac{\\eta^{2} \\left(C - 1\\right)}{2 C \\eta - C - \\eta^{2}}, \\quad \\frac{C S \\eta^{2} \\mu^{2} - 3 C \\eta^{2} \\mu^{2} - C \\rho \\sigma^{2} - S \\eta^{2} \\mu^{2} + 3 \\eta^{2} \\mu^{2}}{2 C S \\eta \\mu^{2} - C S \\mu^{2} - 4 C \\eta \\mu^{2} + 2 C \\mu^{2} - C \\rho \\sigma^{2} - S \\eta^{2} \\mu^{2} + 2 \\eta^{2} \\mu^{2}}, \\quad - \\frac{C \\eta^{4} \\left(C - 1\\right) \\left(\\eta - 1\\right)^{2} \\left(2 C - \\eta - 1\\right)^{2}}{S \\left(2 C \\eta - C - \\eta^{2}\\right)^{4}}, \\quad - \\frac{C \\eta^{2}}{S \\left(2 C \\eta - C - \\eta^{2}\\right)^{2} \\left(4 C^{3} S \\eta^{2} \\mu^{2} - 4 C^{3} S \\eta \\mu^{2} + C^{3} S \\mu^{2} - 36 C^{3} \\eta^{2} \\mu^{2} + 32 C^{3} \\eta \\mu^{2} - 8 C^{3} \\eta \\rho \\sigma^{2} - 8 C^{3} \\mu^{2} + 4 C^{3} \\rho \\sigma^{2} - 4 C^{2} S \\eta^{3} \\mu^{2} + 2 C^{2} S \\eta^{2} \\mu^{2} + 36 C^{2} \\eta^{3} \\mu^{2} - 12 C^{2} \\eta^{2} \\mu^{2} + 4 C^{2} \\eta^{2} \\rho \\sigma^{2} + C S \\eta^{4} \\mu^{2} - 9 C \\eta^{4} \\mu^{2} - 4 C \\eta^{3} \\mu^{2} + \\eta^{4} \\mu^{2}\\right)} \\left(C - 1\\right) \\left(4 C^{3} S \\eta^{4} \\mu^{2} - 8 C^{3} S \\eta^{3} \\mu^{2} + 4 C^{3} S \\eta^{2} \\mu^{2} - 46 C^{3} \\eta^{4} \\mu^{2} - 2 C^{3} \\eta^{4} \\rho \\sigma^{2} + 88 C^{3} \\eta^{3} \\mu^{2} - 8 C^{3} \\eta^{3} \\rho \\sigma^{2} - 50 C^{3} \\eta^{2} \\mu^{2} + 24 C^{3} \\eta^{2} \\rho \\sigma^{2} + 8 C^{3} \\eta \\mu^{2} - 16 C^{3} \\eta \\rho \\sigma^{2} - 2 C^{3} \\mu^{2} + 2 C^{3} \\rho \\sigma^{2} - 4 C^{2} S \\eta^{5} \\mu^{2} + 4 C^{2} S \\eta^{4} \\mu^{2} + 4 C^{2} S \\eta^{3} \\mu^{2} - 4 C^{2} S \\eta^{2} \\mu^{2} + 48 C^{2} \\eta^{5} \\mu^{2} - 42 C^{2} \\eta^{4} \\mu^{2} + 8 C^{2} \\eta^{4} \\rho \\sigma^{2} - 2 C^{2} \\eta^{4} \\sigma^{2} - 40 C^{2} \\eta^{3} \\mu^{2} - 12 C^{2} \\eta^{3} \\rho \\sigma^{2} + 46 C^{2} \\eta^{2} \\mu^{2} + 8 C^{2} \\eta^{2} \\sigma^{2} - 8 C^{2} \\eta \\mu^{2} + 4 C^{2} \\eta \\rho \\sigma^{2} - 8 C^{2} \\eta \\sigma^{2} + 2 C^{2} \\mu^{2} + 2 C^{2} \\sigma^{2} + C S \\eta^{6} \\mu^{2} - 2 C S \\eta^{4} \\mu^{2} + C S \\eta^{2} \\mu^{2} - 12 C \\eta^{6} \\mu^{2} - 8 C \\eta^{5} \\mu^{2} + 28 C \\eta^{4} \\mu^{2} + 4 C \\eta^{4} \\sigma^{2} - 8 C \\eta^{3} \\mu^{2} - 8 C \\eta^{3} \\sigma^{2} - 6 C \\eta^{2} \\mu^{2} + 4 C \\eta^{2} \\sigma^{2} + 2 \\eta^{6} \\mu^{2}\\right)\\right )$$"
      ],
      "text/plain": [
       "       2                              2   2          2   2              2        2   2        2   2                  4                  2                2         2         /   3      4   2      3      3   2      3      2   2       3    4   2      3    4          2       3    3   2      3    3          2       3    2   2       3    2          2      3       2       3              2      3   2      3          2      2      5   2      2      4   2      2      3   2      2      2   2       2    5   2       2    4   2      2    4          2      2    4      2       2    3   2       2    3          2       2    2   2      2    2      2      2       2      2              2      2          2      2   2      2      2          6   2            4   2          2   2           6   2          5   2           4   2          4      2          3   2          3      2          2   2          2      2        6   2\\  \n",
       "    eta *(C - 1)               C*S*eta *mu  - 3*C*eta *mu  - C*rho*sigma  - S*eta *mu  + 3*eta *mu             -C*eta *(C - 1)*(eta - 1) *(2*C - eta - 1)    -C*eta *(C - 1)*\\4*C *S*eta *mu  - 8*C *S*eta *mu  + 4*C *S*eta *mu  - 46*C *eta *mu  - 2*C *eta *rho*sigma  + 88*C *eta *mu  - 8*C *eta *rho*sigma  - 50*C *eta *mu  + 24*C *eta *rho*sigma  + 8*C *eta*mu  - 16*C *eta*rho*sigma  - 2*C *mu  + 2*C *rho*sigma  - 4*C *S*eta *mu  + 4*C *S*eta *mu  + 4*C *S*eta *mu  - 4*C *S*eta *mu  + 48*C *eta *mu  - 42*C *eta *mu  + 8*C *eta *rho*sigma  - 2*C *eta *sigma  - 40*C *eta *mu  - 12*C *eta *rho*sigma  + 46*C *eta *mu  + 8*C *eta *sigma  - 8*C *eta*mu  + 4*C *eta*rho*sigma  - 8*C *eta*sigma  + 2*C *mu  + 2*C *sigma  + C*S*eta *mu  - 2*C*S*eta *mu  + C*S*eta *mu  - 12*C*eta *mu  - 8*C*eta *mu  + 28*C*eta *mu  + 4*C*eta *sigma  - 8*C*eta *mu  - 8*C*eta *sigma  - 6*C*eta *mu  + 4*C*eta *sigma  + 2*eta *mu /  \n",
       "(------------------, ----------------------------------------------------------------------------------------, --------------------------------------------, ----------------------------------------------------------------------------------------------------------------------------------------------------------------------------------------------------------------------------------------------------------------------------------------------------------------------------------------------------------------------------------------------------------------------------------------------------------------------------------------------------------------------------------------------------------------------------------------------------------------------------------------------------------------------------------------------------------------------------------------------------------------------------------)\n",
       "                  2              2         2             2         2              2        2   2        2   2                                  4                                                                                                                                                                                                                                                                     2                                                                                                                                                                                                                                                                                                                                                                                                                                                                                                                          \n",
       " 2*C*eta - C - eta   2*C*S*eta*mu  - C*S*mu  - 4*C*eta*mu  + 2*C*mu  - C*rho*sigma  - S*eta *mu  + 2*eta *mu               /                 2\\                                                                                                                                                                                                                                                  /                 2\\  /   3      2   2      3         2    3     2       3    2   2       3       2      3              2      3   2      3          2      2      3   2      2      2   2       2    3   2       2    2   2      2    2          2          4   2          4   2          3   2      4   2\\                                                                                                                                                                                                                                   \n",
       "                                                                                                                         S*\\2*C*eta - C - eta /                                                                                                                                                                                                                                                S*\\2*C*eta - C - eta / *\\4*C *S*eta *mu  - 4*C *S*eta*mu  + C *S*mu  - 36*C *eta *mu  + 32*C *eta*mu  - 8*C *eta*rho*sigma  - 8*C *mu  + 4*C *rho*sigma  - 4*C *S*eta *mu  + 2*C *S*eta *mu  + 36*C *eta *mu  - 12*C *eta *mu  + 4*C *eta *rho*sigma  + C*S*eta *mu  - 9*C*eta *mu  - 4*C*eta *mu  + eta *mu /                                                                                                                                                                                                                                   "
      ]
     },
     "execution_count": 20,
     "metadata": {},
     "output_type": "execute_result"
    }
   ],
   "source": [
    "# 3a.\n",
    "print(\"Case 3a: Constant diagonal A_{ii} = -eta * d_c\")\n",
    "print(\"where d_c = (S - 1) * mu = critical d for mu > 0 ~ coorperation\")\n",
    "\n",
    "# Critical d:\n",
    "d_c     = (S - 1) * mu\n",
    "# Factor on d_c\n",
    "eta   = sympy.symbols('eta')\n",
    "cond = [(mu_d, -eta * d_c), (mu_d2, 0), (mu_d3, 0), (mu_d4, 0)]\n",
    "cond_rho = [\n",
    "            (rho_21, 2 * rho), \n",
    "#             (rho_21, 2 * rho * mu * mu2), \n",
    "            (rho_22, 2 * (2 * mu2 * mu**2 * rho + (mu2 * rho)**2)), \n",
    "            (rho_31, -mu3 * mu + 3 * mu2 * mu**2 + 3 * mu2 * rho * (mu2 + mu**2))]\n",
    "cond += cond_rho\n",
    "\n",
    "eval_specific_case(E_n, E_d, full_num, full_den, cond, show_order=1)"
   ]
  },
  {
   "cell_type": "code",
   "execution_count": 21,
   "metadata": {
    "collapsed": true
   },
   "outputs": [
    {
     "name": "stdout",
     "output_type": "stream",
     "text": [
      "Case 3b: Constant diagonal A_{ii} = -alpha * d_c\n",
      "where d_c = sqrt(sigma**2 * 2 * S) - mu = critical d for mu < 0 ~ competition\n",
      "\n",
      "Expected value: 1st & 2nd order; Variance: 1st & 2nd order.\n"
     ]
    },
    {
     "data": {
      "image/png": "[encoded data removed]",
      "text/latex": [
       "$$\\left ( - \\frac{\\sigma^{2}}{C S \\mu^{2}} \\left(2 C \\eta^{2} - C \\rho - 2 \\eta^{2}\\right), \\quad - \\frac{2 C S \\eta^{2} \\sigma^{2} - C S \\rho \\sigma^{2} + C \\eta^{2} \\mu^{2} - 2 \\sqrt{2} C \\eta^{2} \\mu \\sqrt{S \\sigma^{2}} - 2 C \\eta^{2} \\sigma^{2} - C \\mu^{2} + 2 C \\rho \\sigma^{2} - 2 S \\eta^{2} \\sigma^{2} - \\eta^{2} \\mu^{2} + 2 \\sqrt{2} \\eta^{2} \\mu \\sqrt{S \\sigma^{2}} + 2 \\eta^{2} \\sigma^{2} + \\mu^{2} + \\sigma^{2}}{S \\left(C S \\mu^{2} + 2 C \\eta \\mu^{2} - 2 \\sqrt{2} C \\eta \\mu \\sqrt{S \\sigma^{2}} - 2 C \\mu^{2} + C \\rho \\sigma^{2} + 2 \\eta^{2} \\sigma^{2}\\right)}, \\quad - \\frac{1}{C^{3} S^{3} \\mu^{4}} \\left(16 C^{3} \\eta^{4} \\sigma^{4} - 4 C^{3} \\eta^{2} \\mu^{2} \\sigma^{2} + 4 C^{3} \\eta^{2} \\rho \\sigma^{4} - C^{3} \\mu^{4} - C^{3} \\rho^{2} \\sigma^{4} - 32 C^{2} \\eta^{4} \\sigma^{4} + 8 C^{2} \\eta^{2} \\mu^{2} \\sigma^{2} - 4 C^{2} \\eta^{2} \\rho \\sigma^{4} + 4 C^{2} \\eta^{2} \\sigma^{4} + 2 C^{2} \\mu^{4} - 2 C^{2} \\mu^{2} \\rho \\sigma^{2} + 2 C^{2} \\mu^{2} \\sigma^{2} + 2 C^{2} \\rho \\sigma^{4} + 20 C \\eta^{4} \\sigma^{4} - 4 C \\eta^{2} \\mu^{2} \\sigma^{2} - 4 C \\eta^{2} \\sigma^{4} - C \\mu^{4} - 2 C \\mu^{2} \\sigma^{2} - C \\sigma^{4} - 4 \\eta^{4} \\sigma^{4}\\right), \\quad - \\frac{1}{C^{2} S^{5} \\mu^{4} \\left(C S \\mu^{2} + 48 C \\eta^{2} \\sigma^{2} + 8 C \\eta \\mu^{2} - 8 \\sqrt{2} C \\eta \\mu \\sqrt{S \\sigma^{2}} - 8 C \\mu^{2} + 4 C \\rho \\sigma^{2} + 8 \\eta^{2} \\sigma^{2}\\right)} \\left(16 C^{3} S^{3} \\eta^{4} \\mu^{2} \\sigma^{4} - 4 C^{3} S^{3} \\eta^{2} \\mu^{4} \\sigma^{2} + 4 C^{3} S^{3} \\eta^{2} \\mu^{2} \\rho \\sigma^{4} - C^{3} S^{3} \\mu^{6} - C^{3} S^{3} \\mu^{2} \\rho^{2} \\sigma^{4} + 32 C^{3} S^{2} \\eta^{6} \\sigma^{6} + 160 C^{3} S^{2} \\eta^{5} \\mu^{2} \\sigma^{4} + 48 C^{3} S^{2} \\eta^{4} \\mu^{4} \\sigma^{2} - 136 C^{3} S^{2} \\eta^{4} \\mu^{2} \\sigma^{4} + 96 C^{3} S^{2} \\eta^{4} \\rho \\sigma^{6} - 48 C^{3} S^{2} \\eta^{3} \\mu^{4} \\sigma^{2} + 96 C^{3} S^{2} \\eta^{3} \\mu^{2} \\rho \\sigma^{4} - 2 C^{3} S^{2} \\eta^{2} \\mu^{6} + 4 \\sqrt{2} C^{3} S^{2} \\eta^{2} \\mu^{5} \\sqrt{S \\sigma^{2}} + 2 C^{3} S^{2} \\eta^{2} \\mu^{4} \\rho \\sigma^{2} + 16 C^{3} S^{2} \\eta^{2} \\mu^{4} \\sigma^{2} - 4 \\sqrt{2} C^{3} S^{2} \\eta^{2} \\mu^{3} \\rho \\sigma^{2} \\sqrt{S \\sigma^{2}} - 12 C^{3} S^{2} \\eta^{2} \\mu^{2} \\rho \\sigma^{4} + 12 C^{3} S^{2} \\eta^{2} \\rho^{2} \\sigma^{6} - 4 C^{3} S^{2} \\eta \\mu^{6} + 4 \\sqrt{2} C^{3} S^{2} \\eta \\mu^{5} \\sqrt{S \\sigma^{2}} - 4 C^{3} S^{2} \\eta \\mu^{2} \\rho^{2} \\sigma^{4} + 4 \\sqrt{2} C^{3} S^{2} \\eta \\mu \\rho^{2} \\sigma^{4} \\sqrt{S \\sigma^{2}} + 7 C^{3} S^{2} \\mu^{6} - 12 C^{3} S^{2} \\mu^{4} \\rho \\sigma^{2} - C^{3} S^{2} \\mu^{2} \\rho^{2} \\sigma^{4} - 4 C^{3} S^{2} \\rho^{3} \\sigma^{6} - 32 \\sqrt{2} C^{3} S \\eta^{4} \\mu^{3} \\left(S \\sigma^{2}\\right)^{\\frac{3}{2}} + 16 \\sqrt{2} C^{3} S \\eta^{3} \\mu^{3} \\left(S \\sigma^{2}\\right)^{\\frac{3}{2}} - 32 \\sqrt{2} C^{3} S \\eta^{3} \\mu \\rho \\sigma^{2} \\left(S \\sigma^{2}\\right)^{\\frac{3}{2}} - 32 \\sqrt{2} C^{3} \\eta^{5} \\mu \\left(S \\sigma^{2}\\right)^{\\frac{5}{2}} - 32 C^{2} S^{3} \\eta^{4} \\mu^{2} \\sigma^{4} + 8 C^{2} S^{3} \\eta^{2} \\mu^{4} \\sigma^{2} - 4 C^{2} S^{3} \\eta^{2} \\mu^{2} \\rho \\sigma^{4} + 4 C^{2} S^{3} \\eta^{2} \\mu^{2} \\sigma^{4} + 2 C^{2} S^{3} \\mu^{6} - 2 C^{2} S^{3} \\mu^{4} \\rho \\sigma^{2} + 2 C^{2} S^{3} \\mu^{4} \\sigma^{2} + 2 C^{2} S^{3} \\mu^{2} \\rho \\sigma^{4} - 240 C^{2} S^{2} \\eta^{5} \\mu^{2} \\sigma^{4} - 96 C^{2} S^{2} \\eta^{4} \\mu^{4} \\sigma^{2} + 256 C^{2} S^{2} \\eta^{4} \\mu^{2} \\sigma^{4} - 96 C^{2} S^{2} \\eta^{4} \\rho \\sigma^{6} + 32 C^{2} S^{2} \\eta^{4} \\sigma^{6} + 96 C^{2} S^{2} \\eta^{3} \\mu^{4} \\sigma^{2} - 120 C^{2} S^{2} \\eta^{3} \\mu^{2} \\rho \\sigma^{4} + 48 C^{2} S^{2} \\eta^{3} \\mu^{2} \\sigma^{4} + 4 C^{2} S^{2} \\eta^{2} \\mu^{6} - 8 \\sqrt{2} C^{2} S^{2} \\eta^{2} \\mu^{5} \\sqrt{S \\sigma^{2}} - 2 C^{2} S^{2} \\eta^{2} \\mu^{4} \\rho \\sigma^{2} - 30 C^{2} S^{2} \\eta^{2} \\mu^{4} \\sigma^{2} + 4 \\sqrt{2} C^{2} S^{2} \\eta^{2} \\mu^{3} \\rho \\sigma^{2} \\sqrt{S \\sigma^{2}} - 4 \\sqrt{2} C^{2} S^{2} \\eta^{2} \\mu^{3} \\sigma^{2} \\sqrt{S \\sigma^{2}} - 20 C^{2} S^{2} \\eta^{2} \\mu^{2} \\rho \\sigma^{4} - 4 C^{2} S^{2} \\eta^{2} \\mu^{2} \\sigma^{4} - 24 C^{2} S^{2} \\eta^{2} \\rho^{2} \\sigma^{6} + 32 C^{2} S^{2} \\eta^{2} \\rho \\sigma^{6} + 8 C^{2} S^{2} \\eta \\mu^{6} - 8 \\sqrt{2} C^{2} S^{2} \\eta \\mu^{5} \\sqrt{S \\sigma^{2}} - 8 C^{2} S^{2} \\eta \\mu^{4} \\rho \\sigma^{2} + 8 C^{2} S^{2} \\eta \\mu^{4} \\sigma^{2} + 8 \\sqrt{2} C^{2} S^{2} \\eta \\mu^{3} \\rho \\sigma^{2} \\sqrt{S \\sigma^{2}} - 8 \\sqrt{2} C^{2} S^{2} \\eta \\mu^{3} \\sigma^{2} \\sqrt{S \\sigma^{2}} + 8 C^{2} S^{2} \\eta \\mu^{2} \\rho \\sigma^{4} - 8 \\sqrt{2} C^{2} S^{2} \\eta \\mu \\rho \\sigma^{4} \\sqrt{S \\sigma^{2}} - 14 C^{2} S^{2} \\mu^{6} + 34 C^{2} S^{2} \\mu^{4} \\rho \\sigma^{2} - 14 C^{2} S^{2} \\mu^{4} \\sigma^{2} + 8 C^{2} S^{2} \\mu^{2} \\rho^{2} \\sigma^{4} - 10 C^{2} S^{2} \\mu^{2} \\rho \\sigma^{4} + 64 \\sqrt{2} C^{2} S \\eta^{4} \\mu^{3} \\left(S \\sigma^{2}\\right)^{\\frac{3}{2}} - 32 \\sqrt{2} C^{2} S \\eta^{3} \\mu^{3} \\left(S \\sigma^{2}\\right)^{\\frac{3}{2}} + 40 \\sqrt{2} C^{2} S \\eta^{3} \\mu \\rho \\sigma^{2} \\left(S \\sigma^{2}\\right)^{\\frac{3}{2}} - 16 \\sqrt{2} C^{2} S \\eta^{3} \\mu \\sigma^{2} \\left(S \\sigma^{2}\\right)^{\\frac{3}{2}} + 48 \\sqrt{2} C^{2} \\eta^{5} \\mu \\left(S \\sigma^{2}\\right)^{\\frac{5}{2}} + 20 C S^{3} \\eta^{4} \\mu^{2} \\sigma^{4} - 4 C S^{3} \\eta^{2} \\mu^{4} \\sigma^{2} - 4 C S^{3} \\eta^{2} \\mu^{2} \\sigma^{4} - C S^{3} \\mu^{6} - 2 C S^{3} \\mu^{4} \\sigma^{2} - C S^{3} \\mu^{2} \\sigma^{4} - 48 C S^{2} \\eta^{6} \\sigma^{6} + 80 C S^{2} \\eta^{5} \\mu^{2} \\sigma^{4} + 60 C S^{2} \\eta^{4} \\mu^{4} \\sigma^{2} - 128 C S^{2} \\eta^{4} \\mu^{2} \\sigma^{4} - 16 C S^{2} \\eta^{4} \\sigma^{6} - 48 C S^{2} \\eta^{3} \\mu^{4} \\sigma^{2} + 24 C S^{2} \\eta^{3} \\mu^{2} \\rho \\sigma^{4} - 48 C S^{2} \\eta^{3} \\mu^{2} \\sigma^{4} - 2 C S^{2} \\eta^{2} \\mu^{6} + 4 \\sqrt{2} C S^{2} \\eta^{2} \\mu^{5} \\sqrt{S \\sigma^{2}} + 14 C S^{2} \\eta^{2} \\mu^{4} \\sigma^{2} + 4 \\sqrt{2} C S^{2} \\eta^{2} \\mu^{3} \\sigma^{2} \\sqrt{S \\sigma^{2}} + 8 C S^{2} \\eta^{2} \\mu^{2} \\rho \\sigma^{4} + 4 C S^{2} \\eta^{2} \\mu^{2} \\sigma^{4} - 8 C S^{2} \\eta^{2} \\rho \\sigma^{6} - 12 C S^{2} \\eta^{2} \\sigma^{6} - 4 C S^{2} \\eta \\mu^{6} + 4 \\sqrt{2} C S^{2} \\eta \\mu^{5} \\sqrt{S \\sigma^{2}} - 8 C S^{2} \\eta \\mu^{4} \\sigma^{2} + 8 \\sqrt{2} C S^{2} \\eta \\mu^{3} \\sigma^{2} \\sqrt{S \\sigma^{2}} - 4 C S^{2} \\eta \\mu^{2} \\sigma^{4} + 4 \\sqrt{2} C S^{2} \\eta \\mu \\sigma^{4} \\sqrt{S \\sigma^{2}} + 7 C S^{2} \\mu^{6} - 8 C S^{2} \\mu^{4} \\rho \\sigma^{2} + 14 C S^{2} \\mu^{4} \\sigma^{2} - 4 C S^{2} \\mu^{2} \\rho^{2} \\sigma^{4} + 7 C S^{2} \\mu^{2} \\sigma^{4} - 40 \\sqrt{2} C S \\eta^{4} \\mu^{3} \\left(S \\sigma^{2}\\right)^{\\frac{3}{2}} + 16 \\sqrt{2} C S \\eta^{3} \\mu^{3} \\left(S \\sigma^{2}\\right)^{\\frac{3}{2}} - 8 \\sqrt{2} C S \\eta^{3} \\mu \\rho \\sigma^{2} \\left(S \\sigma^{2}\\right)^{\\frac{3}{2}} + 16 \\sqrt{2} C S \\eta^{3} \\mu \\sigma^{2} \\left(S \\sigma^{2}\\right)^{\\frac{3}{2}} - 16 \\sqrt{2} C \\eta^{5} \\mu \\left(S \\sigma^{2}\\right)^{\\frac{5}{2}} - 4 S^{3} \\eta^{4} \\mu^{2} \\sigma^{4} + 16 S^{2} \\eta^{6} \\sigma^{6} - 12 S^{2} \\eta^{4} \\mu^{4} \\sigma^{2} + 8 S^{2} \\eta^{4} \\mu^{2} \\sigma^{4} - 16 S^{2} \\eta^{4} \\sigma^{6} + 8 \\sqrt{2} S \\eta^{4} \\mu^{3} \\left(S \\sigma^{2}\\right)^{\\frac{3}{2}}\\right)\\right )$$"
      ],
      "text/plain": [
       "                                        /                                                                       __________                                                                                              __________                               \\                                                                                                                                                                                                                                                                                                                                                                            /                                                                                                                                                                                                                                                                                                                                                                   __________                                                                                                 __________                                                                                                         __________                                                                     __________                                                                                                                          3/2                                    3/2                                              3/2                                 5/2                                                                                                                                                                                                                                                                                                                                                                                                                                                                             __________                                                                                                 __________                                    __________                                                                                                                                                              __________                                                                                             __________                                   __________                                                                   __________                                                                                                                                                       3/2                                    3/2                                              3/2                                          3/2                                 5/2                                                                                                                                                                                                                                                                                                                                                                                        __________                                                             __________                                                                                                                                                 __________                                                          __________                                                         __________                                                                                                                                          3/2                                   3/2                                            3/2                                         3/2                                5/2                                                                                                                                              3/2\\  \n",
       "       2 /       2                2\\    |         2      2                2        2   2       ___      2      /        2           2      2       2                2          2      2      2   2       ___    2      /        2         2      2     2        2|    /    3    4      4      3    2   2      2      3    2          4    3   4    3    2      4       2    4      4      2    2   2      2      2    2          4      2    2      4      2   4      2   2          2      2   2      2      2          4           4      4          2   2      2          2      4       4         2      2          4        4      4\\    |    3  3    4   2      4      3  3    2   4      2      3  3    2   2          4    3  3   6    3  3   2    2      4       3  2    6      6        3  2    5   2      4       3  2    4   4      2        3  2    4   2      4       3  2    4          6       3  2    3   4      2       3  2    3   2          4      3  2    2   6       ___  3  2    2   5   /        2       3  2    2   4          2       3  2    2   4      2       ___  3  2    2   3          2   /        2        3  2    2   2          4       3  2    2    2      6      3  2       6       ___  3  2       5   /        2       3  2       2    2      4       ___  3  2           2      4   /        2       3  2   6       3  2   4          2    3  2   2    2      4      3  2    3      6        ___  3      4   3 /       2\\           ___  3      3   3 /       2\\           ___  3      3             2 /       2\\           ___  3    5    /       2\\          2  3    4   2      4      2  3    2   4      2      2  3    2   2          4      2  3    2   2      4      2  3   6      2  3   4          2      2  3   4      2      2  3   2          4        2  2    5   2      4       2  2    4   4      2        2  2    4   2      4       2  2    4          6       2  2    4      6       2  2    3   4      2        2  2    3   2          4       2  2    3   2      4      2  2    2   6       ___  2  2    2   5   /        2       2  2    2   4          2       2  2    2   4      2       ___  2  2    2   3          2   /        2        ___  2  2    2   3      2   /        2        2  2    2   2          4      2  2    2   2      4       2  2    2    2      6       2  2    2          6      2  2       6       ___  2  2       5   /        2       2  2       4          2      2  2       4      2       ___  2  2       3          2   /        2        ___  2  2       3      2   /        2       2  2       2          4       ___  2  2                 4   /        2        2  2   6       2  2   4          2       2  2   4      2      2  2   2    2      4       2  2   2          4        ___  2      4   3 /       2\\           ___  2      3   3 /       2\\           ___  2      3             2 /       2\\           ___  2      3         2 /       2\\           ___  2    5    /       2\\            3    4   2      4        3    2   4      2        3    2   2      4      3   6        3   4      2      3   2      4         2    6      6         2    5   2      4         2    4   4      2          2    4   2      4         2    4      6         2    3   4      2         2    3   2          4         2    3   2      4        2    2   6       ___    2    2   5   /        2          2    2   4      2       ___    2    2   3      2   /        2         2    2   2          4        2    2   2      4        2    2          6         2    2      6        2       6       ___    2       5   /        2         2       4      2       ___    2       3      2   /        2         2       2      4       ___    2             4   /        2         2   6        2   4          2         2   4      2        2   2    2      4        2   2      4        ___        4   3 /       2\\           ___        3   3 /       2\\          ___        3             2 /       2\\           ___        3         2 /       2\\           ___      5    /       2\\         3    4   2      4       2    6      6       2    4   4      2      2    4   2      4       2    4      6       ___      4   3 /       2\\   |  \n",
       " -sigma *\\2*C*eta  - C*rho - 2*eta /   -\\2*C*S*eta *sigma  - C*S*rho*sigma  + C*eta *mu  - 2*\\/ 2 *C*eta *mu*\\/  S*sigma   - 2*C*eta *sigma  - C*mu  + 2*C*rho*sigma  - 2*S*eta *sigma  - eta *mu  + 2*\\/ 2 *eta *mu*\\/  S*sigma   + 2*eta *sigma  + mu  + sigma /   -\\16*C *eta *sigma  - 4*C *eta *mu *sigma  + 4*C *eta *rho*sigma  - C *mu  - C *rho *sigma  - 32*C *eta *sigma  + 8*C *eta *mu *sigma  - 4*C *eta *rho*sigma  + 4*C *eta *sigma  + 2*C *mu  - 2*C *mu *rho*sigma  + 2*C *mu *sigma  + 2*C *rho*sigma  + 20*C*eta *sigma  - 4*C*eta *mu *sigma  - 4*C*eta *sigma  - C*mu  - 2*C*mu *sigma  - C*sigma  - 4*eta *sigma /   -\\16*C *S *eta *mu *sigma  - 4*C *S *eta *mu *sigma  + 4*C *S *eta *mu *rho*sigma  - C *S *mu  - C *S *mu *rho *sigma  + 32*C *S *eta *sigma  + 160*C *S *eta *mu *sigma  + 48*C *S *eta *mu *sigma  - 136*C *S *eta *mu *sigma  + 96*C *S *eta *rho*sigma  - 48*C *S *eta *mu *sigma  + 96*C *S *eta *mu *rho*sigma  - 2*C *S *eta *mu  + 4*\\/ 2 *C *S *eta *mu *\\/  S*sigma   + 2*C *S *eta *mu *rho*sigma  + 16*C *S *eta *mu *sigma  - 4*\\/ 2 *C *S *eta *mu *rho*sigma *\\/  S*sigma   - 12*C *S *eta *mu *rho*sigma  + 12*C *S *eta *rho *sigma  - 4*C *S *eta*mu  + 4*\\/ 2 *C *S *eta*mu *\\/  S*sigma   - 4*C *S *eta*mu *rho *sigma  + 4*\\/ 2 *C *S *eta*mu*rho *sigma *\\/  S*sigma   + 7*C *S *mu  - 12*C *S *mu *rho*sigma  - C *S *mu *rho *sigma  - 4*C *S *rho *sigma  - 32*\\/ 2 *C *S*eta *mu *\\S*sigma /    + 16*\\/ 2 *C *S*eta *mu *\\S*sigma /    - 32*\\/ 2 *C *S*eta *mu*rho*sigma *\\S*sigma /    - 32*\\/ 2 *C *eta *mu*\\S*sigma /    - 32*C *S *eta *mu *sigma  + 8*C *S *eta *mu *sigma  - 4*C *S *eta *mu *rho*sigma  + 4*C *S *eta *mu *sigma  + 2*C *S *mu  - 2*C *S *mu *rho*sigma  + 2*C *S *mu *sigma  + 2*C *S *mu *rho*sigma  - 240*C *S *eta *mu *sigma  - 96*C *S *eta *mu *sigma  + 256*C *S *eta *mu *sigma  - 96*C *S *eta *rho*sigma  + 32*C *S *eta *sigma  + 96*C *S *eta *mu *sigma  - 120*C *S *eta *mu *rho*sigma  + 48*C *S *eta *mu *sigma  + 4*C *S *eta *mu  - 8*\\/ 2 *C *S *eta *mu *\\/  S*sigma   - 2*C *S *eta *mu *rho*sigma  - 30*C *S *eta *mu *sigma  + 4*\\/ 2 *C *S *eta *mu *rho*sigma *\\/  S*sigma   - 4*\\/ 2 *C *S *eta *mu *sigma *\\/  S*sigma   - 20*C *S *eta *mu *rho*sigma  - 4*C *S *eta *mu *sigma  - 24*C *S *eta *rho *sigma  + 32*C *S *eta *rho*sigma  + 8*C *S *eta*mu  - 8*\\/ 2 *C *S *eta*mu *\\/  S*sigma   - 8*C *S *eta*mu *rho*sigma  + 8*C *S *eta*mu *sigma  + 8*\\/ 2 *C *S *eta*mu *rho*sigma *\\/  S*sigma   - 8*\\/ 2 *C *S *eta*mu *sigma *\\/  S*sigma   + 8*C *S *eta*mu *rho*sigma  - 8*\\/ 2 *C *S *eta*mu*rho*sigma *\\/  S*sigma   - 14*C *S *mu  + 34*C *S *mu *rho*sigma  - 14*C *S *mu *sigma  + 8*C *S *mu *rho *sigma  - 10*C *S *mu *rho*sigma  + 64*\\/ 2 *C *S*eta *mu *\\S*sigma /    - 32*\\/ 2 *C *S*eta *mu *\\S*sigma /    + 40*\\/ 2 *C *S*eta *mu*rho*sigma *\\S*sigma /    - 16*\\/ 2 *C *S*eta *mu*sigma *\\S*sigma /    + 48*\\/ 2 *C *eta *mu*\\S*sigma /    + 20*C*S *eta *mu *sigma  - 4*C*S *eta *mu *sigma  - 4*C*S *eta *mu *sigma  - C*S *mu  - 2*C*S *mu *sigma  - C*S *mu *sigma  - 48*C*S *eta *sigma  + 80*C*S *eta *mu *sigma  + 60*C*S *eta *mu *sigma  - 128*C*S *eta *mu *sigma  - 16*C*S *eta *sigma  - 48*C*S *eta *mu *sigma  + 24*C*S *eta *mu *rho*sigma  - 48*C*S *eta *mu *sigma  - 2*C*S *eta *mu  + 4*\\/ 2 *C*S *eta *mu *\\/  S*sigma   + 14*C*S *eta *mu *sigma  + 4*\\/ 2 *C*S *eta *mu *sigma *\\/  S*sigma   + 8*C*S *eta *mu *rho*sigma  + 4*C*S *eta *mu *sigma  - 8*C*S *eta *rho*sigma  - 12*C*S *eta *sigma  - 4*C*S *eta*mu  + 4*\\/ 2 *C*S *eta*mu *\\/  S*sigma   - 8*C*S *eta*mu *sigma  + 8*\\/ 2 *C*S *eta*mu *sigma *\\/  S*sigma   - 4*C*S *eta*mu *sigma  + 4*\\/ 2 *C*S *eta*mu*sigma *\\/  S*sigma   + 7*C*S *mu  - 8*C*S *mu *rho*sigma  + 14*C*S *mu *sigma  - 4*C*S *mu *rho *sigma  + 7*C*S *mu *sigma  - 40*\\/ 2 *C*S*eta *mu *\\S*sigma /    + 16*\\/ 2 *C*S*eta *mu *\\S*sigma /    - 8*\\/ 2 *C*S*eta *mu*rho*sigma *\\S*sigma /    + 16*\\/ 2 *C*S*eta *mu*sigma *\\S*sigma /    - 16*\\/ 2 *C*eta *mu*\\S*sigma /    - 4*S *eta *mu *sigma  + 16*S *eta *sigma  - 12*S *eta *mu *sigma  + 8*S *eta *mu *sigma  - 16*S *eta *sigma  + 8*\\/ 2 *S*eta *mu *\\S*sigma /   /  \n",
       "(------------------------------------, ----------------------------------------------------------------------------------------------------------------------------------------------------------------------------------------------------------------------------, ----------------------------------------------------------------------------------------------------------------------------------------------------------------------------------------------------------------------------------------------------------------------------------------------------------------------------------------------------------------------, ------------------------------------------------------------------------------------------------------------------------------------------------------------------------------------------------------------------------------------------------------------------------------------------------------------------------------------------------------------------------------------------------------------------------------------------------------------------------------------------------------------------------------------------------------------------------------------------------------------------------------------------------------------------------------------------------------------------------------------------------------------------------------------------------------------------------------------------------------------------------------------------------------------------------------------------------------------------------------------------------------------------------------------------------------------------------------------------------------------------------------------------------------------------------------------------------------------------------------------------------------------------------------------------------------------------------------------------------------------------------------------------------------------------------------------------------------------------------------------------------------------------------------------------------------------------------------------------------------------------------------------------------------------------------------------------------------------------------------------------------------------------------------------------------------------------------------------------------------------------------------------------------------------------------------------------------------------------------------------------------------------------------------------------------------------------------------------------------------------------------------------------------------------------------------------------------------------------------------------------------------------------------------------------------------------------------------------------------------------------------------------------------------------------------------------------------------------------------------------------------------------------------------------------------------------------------------------------------------------------------------------------------------------------------------------------------------------------------------------------------------------------------------------------------------------------------------------------------------------------------------------------------------------------------------------------------------------------------------------------------------------------------------------------------------------------------------------------------------------------------------------------------------------------------------------------------------------------------------------------------------------------------------------------------------------------------------------------------------------------------------------------------------------------------------------------------------------------------------------------------------------------------------------------------------------------------------------------------)\n",
       "                     2                                                                               /                                            __________                                         \\                                                                                                                                                                                                                                              3  3   4                                                                                                                                                                                                                                                                                                                                                                                                                                                                                                                                                                                                                                                                                                                                                                                                                                                                                                                                                                                                                                                                                                                                                                                                                                                                                                                                                                                                                                                                                                                                                                                                                                                                                                                                                                                                                                                                                                                           /                                                               __________                                           \\                                                                                                                                                                                                                                                                                                                                                                                                                                                                                                                                                                                                                                                                                                                                                                                                                                                                                                                                                                                                                                                                                                                                                                                                                                                                                                                                                                                                                                                                                                                                                                                                                                                                                                                                 \n",
       "               C*S*mu                                                                                |      2             2       ___            /        2          2              2        2      2|                                                                                                                                                                                                                                             C *S *mu                                                                                                                                                                                                                                                                                                                                                                                                                                                                                                                                                                                                                                                                                                                                                                                                                                                                                                                                                                                                                                                                                                                                                                                                                                                                                                                                                                                                                                                                                                                                                                                                                                                                                                                                                                                                                                                                                                                   2  5   4 |      2           2      2             2       ___            /        2          2                2        2      2|                                                                                                                                                                                                                                                                                                                                                                                                                                                                                                                                                                                                                                                                                                                                                                                                                                                                                                                                                                                                                                                                                                                                                                                                                                                                                                                                                                                                                                                                                                                                                                                                                                                                                                                                 \n",
       "                                                                                                   S*\\C*S*mu  + 2*C*eta*mu  - 2*\\/ 2 *C*eta*mu*\\/  S*sigma   - 2*C*mu  + C*rho*sigma  + 2*eta *sigma /                                                                                                                                                                                                                                                                                                                                                                                                                                                                                                                                                                                                                                                                                                                                                                                                                                                                                                                                                                                                                                                                                                                                                                                                                                                                                                                                                                                                                                                                                                                                                                                                                                                                                                                                                                                                                                                                                                                                                                                                                                                                                                                                                                       C *S *mu *\\C*S*mu  + 48*C*eta *sigma  + 8*C*eta*mu  - 8*\\/ 2 *C*eta*mu*\\/  S*sigma   - 8*C*mu  + 4*C*rho*sigma  + 8*eta *sigma /                                                                                                                                                                                                                                                                                                                                                                                                                                                                                                                                                                                                                                                                                                                                                                                                                                                                                                                                                                                                                                                                                                                                                                                                                                                                                                                                                                                                                                                                                                                                                                                                                                                                                                                                 "
      ]
     },
     "execution_count": 21,
     "metadata": {},
     "output_type": "execute_result"
    }
   ],
   "source": [
    "# 3b.\n",
    "print(\"Case 3b: Constant diagonal A_{ii} = -alpha * d_c\")\n",
    "print(\"where d_c = sqrt(sigma**2 * 2 * S) - mu = critical d for mu < 0 ~ competition\")\n",
    "\n",
    "# Critical d:\n",
    "d_c     = sympy.sqrt(mu2 * 2 * S) - mu\n",
    "# Factor on d_c\n",
    "eta   = sympy.symbols('eta')\n",
    "cond = [(mu_d, -eta * d_c), (mu_d2, 0), (mu_d3, 0), (mu_d4, 0)]\n",
    "cond_rho = [\n",
    "            (rho_21, 2 * rho), \n",
    "#             (rho_21, 2 * rho * mu * mu2), \n",
    "            (rho_22, 2 * (2 * mu2 * mu**2 * rho + (mu2 * rho)**2)), \n",
    "            (rho_31, -mu3 * mu + 3 * mu2 * mu**2 + 3 * mu2 * rho * (mu2 + mu**2))]\n",
    "cond += cond_rho\n",
    "\n",
    "eval_specific_case(E_n, E_d, full_num, full_den, cond, show_order=1)"
   ]
  },
  {
   "cell_type": "code",
   "execution_count": 22,
   "metadata": {
    "collapsed": false
   },
   "outputs": [],
   "source": [
    "# Save results in pickle file\n",
    "\n",
    "results = {\"E_d\":      E_d, \n",
    "           \"E_n\":      E_n,\n",
    "           \"E_d_sq\":   E_d_sq,\n",
    "           \"E_nd\":     E_nd,\n",
    "           \"E_n_sq\":   E_n_sq}\n",
    "\n",
    "import sys\n",
    "if int(sys.version[0]) == 2:\n",
    "    import cPickle as pickle\n",
    "else:\n",
    "    import pickle\n",
    "\n",
    "results_file = 'sympy_results_sparse.pkl'\n",
    "\n",
    "with open(results_file, 'wb') as f:\n",
    "    pickle.dump(results, f)\n",
    "    \n",
    "# # Test    \n",
    "# with open(results_file, 'rb') as f:\n",
    "#     lr = pickle.load(f)\n",
    "    \n",
    "# ed = lr['E_d']\n",
    "# type(ed)\n"
   ]
  },
  {
   "cell_type": "code",
   "execution_count": null,
   "metadata": {
    "collapsed": true
   },
   "outputs": [],
   "source": []
  },
  {
   "cell_type": "markdown",
   "metadata": {},
   "source": [
    "# Non-sparse: $C = 1$"
   ]
  },
  {
   "cell_type": "code",
   "execution_count": 23,
   "metadata": {
    "collapsed": true
   },
   "outputs": [],
   "source": [
    "cond_non_sparse = [(C, 1)]\n"
   ]
  },
  {
   "cell_type": "code",
   "execution_count": 24,
   "metadata": {
    "collapsed": false
   },
   "outputs": [
    {
     "name": "stdout",
     "output_type": "stream",
     "text": [
      "Case 0: Full variance, no further conditions.\n",
      "\n",
      "Expected value: 1st & 2nd order; Variance: 1st & 2nd order.\n"
     ]
    },
    {
     "data": {
      "image/png": "[encoded data removed]",
      "text/latex": [
       "$$\\left ( \\frac{\\rho \\sigma^{2}}{S \\mu^{2}}, \\quad \\frac{S \\rho \\sigma^{2} - 2 \\rho \\sigma^{2} - \\sigma^{2} + \\sigma_{d}^{2}}{S \\left(S \\mu^{2} - 2 \\mu^{2} + 2 \\mu \\mu_{d} + \\rho \\sigma^{2}\\right)}, \\quad - \\frac{\\sigma^{2}}{S^{3} \\mu^{4}} \\left(2 \\mu^{2} \\rho - 2 \\mu^{2} \\rho_{21} - \\rho^{2} \\sigma^{2} + 2 \\rho \\sigma^{2} - \\sigma^{2}\\right), \\quad \\frac{1}{S^{3} \\mu^{4} \\left(S \\mu^{2} - 8 \\mu^{2} + 8 \\mu \\mu_{d} + 4 \\rho \\sigma^{2}\\right)} \\left(- 2 S \\mu^{4} \\rho \\sigma^{2} + 2 S \\mu^{4} \\rho_{21} \\sigma^{2} + S \\mu^{2} \\rho^{2} \\sigma^{4} - 2 S \\mu^{2} \\rho \\sigma^{4} + S \\mu^{2} \\sigma^{4} + 22 \\mu^{4} \\rho \\sigma^{2} - 22 \\mu^{4} \\rho_{21} \\sigma^{2} - 8 \\mu^{3} \\mu_{d} \\rho \\sigma^{2} + 8 \\mu^{3} \\mu_{d} \\rho_{21} \\sigma^{2} + \\mu^{2} \\rho^{2} \\sigma^{4} - 4 \\mu^{2} \\rho \\rho_{21} \\sigma^{4} + 10 \\mu^{2} \\rho \\sigma^{4} + 2 \\mu^{2} \\rho \\sigma^{2} \\sigma_{d}^{2} + 2 \\mu^{2} \\rho_{22} - 7 \\mu^{2} \\sigma^{4} + 2 \\mu^{2} \\sigma^{2} \\sigma_{d}^{2} + 4 \\mu \\mu_{d} \\rho^{2} \\sigma^{4} - 8 \\mu \\mu_{d} \\rho \\sigma^{4} + 4 \\mu \\mu_{d} \\sigma^{4} + 4 \\rho^{3} \\sigma^{6}\\right)\\right )$$"
      ],
      "text/plain": [
       "          2             2              2        2          2        2 /    2           2             2      2              2        2\\           4          2         4             2       2    2      4         2          4       2      4        4          2        4             2       3               2       3                  2     2    2      4       2                 4        2          4       2          2        2       2              2      4       2      2        2                2      4                      4                  4        3      6 \n",
       " rho*sigma   S*rho*sigma  - 2*rho*sigma  - sigma  + sigma_d   -sigma *\\2*mu *rho - 2*mu *rho_21 - rho *sigma  + 2*rho*sigma  - sigma /   - 2*S*mu *rho*sigma  + 2*S*mu *rho_21*sigma  + S*mu *rho *sigma  - 2*S*mu *rho*sigma  + S*mu *sigma  + 22*mu *rho*sigma  - 22*mu *rho_21*sigma  - 8*mu *mu_d*rho*sigma  + 8*mu *mu_d*rho_21*sigma  + mu *rho *sigma  - 4*mu *rho*rho_21*sigma  + 10*mu *rho*sigma  + 2*mu *rho*sigma *sigma_d  + 2*mu *rho_22 - 7*mu *sigma  + 2*mu *sigma *sigma_d  + 4*mu*mu_d*rho *sigma  - 8*mu*mu_d*rho*sigma  + 4*mu*mu_d*sigma  + 4*rho *sigma  \n",
       "(----------, -----------------------------------------------, -------------------------------------------------------------------------, --------------------------------------------------------------------------------------------------------------------------------------------------------------------------------------------------------------------------------------------------------------------------------------------------------------------------------------------------------------------------------------------------------------------------------------)\n",
       "       2          /    2       2                        2\\                                       3   4                                                                                                                                                                                                                              3   4 /    2       2                          2\\                                                                                                                                                                                            \n",
       "   S*mu         S*\\S*mu  - 2*mu  + 2*mu*mu_d + rho*sigma /                                      S *mu                                                                                                                                                                                                                              S *mu *\\S*mu  - 8*mu  + 8*mu*mu_d + 4*rho*sigma /                                                                                                                                                                                            "
      ]
     },
     "execution_count": 24,
     "metadata": {},
     "output_type": "execute_result"
    }
   ],
   "source": [
    "# 0.\n",
    "print(\"Case 0: Full variance, no further conditions.\")\n",
    "\n",
    "cond = cond_non_sparse\n",
    "\n",
    "eval_specific_case(E_n, E_d, full_num, full_den, cond, show_order=1)"
   ]
  },
  {
   "cell_type": "code",
   "execution_count": 25,
   "metadata": {
    "collapsed": false
   },
   "outputs": [
    {
     "name": "stdout",
     "output_type": "stream",
     "text": [
      "Case 1: All A_ij iid.\n",
      "\n",
      "Expected value: 1st & 2nd order; Variance: 1st & 2nd order.\n"
     ]
    },
    {
     "data": {
      "image/png": "[encoded data removed]",
      "text/latex": [
       "$$\\left ( 0, \\quad 0, \\quad \\frac{\\sigma^{4}}{S^{3} \\mu^{4}}, \\quad \\frac{\\sigma^{4} \\left(S - 1\\right)}{S^{4} \\mu^{4}}\\right )$$"
      ],
      "text/plain": [
       "            4       4         \n",
       "       sigma   sigma *(S - 1) \n",
       "(0, 0, ------, --------------)\n",
       "        3   4       4   4     \n",
       "       S *mu       S *mu      "
      ]
     },
     "execution_count": 25,
     "metadata": {},
     "output_type": "execute_result"
    }
   ],
   "source": [
    "# 1.\n",
    "print(\"Case 1: All A_ij iid.\")\n",
    "cond = [(mu_d, mu), (mu_d2, mu2), (mu_d3, mu3), (mu_d4, mu4), (rho, 0), (rho_21, 0), (rho_22, 0), (rho_31, 0)]\n",
    "cond += cond_non_sparse\n",
    "\n",
    "eval_specific_case(E_n, E_d, full_num, full_den, cond, show_order=1)"
   ]
  },
  {
   "cell_type": "code",
   "execution_count": 26,
   "metadata": {
    "collapsed": false
   },
   "outputs": [
    {
     "name": "stdout",
     "output_type": "stream",
     "text": [
      "Case 2: correlation variables, no specific diagonal, Gaussian random matrix.\n",
      "\n",
      "Expected value: 1st & 2nd order; Variance: 1st & 2nd order.\n"
     ]
    },
    {
     "data": {
      "image/png": "[encoded data removed]",
      "text/latex": [
       "$$\\left ( \\frac{\\rho \\sigma^{2}}{S \\mu^{2}}, \\quad \\frac{\\rho \\sigma^{2} \\left(S - 2\\right)}{S \\left(S \\mu^{2} + \\rho \\sigma^{2}\\right)}, \\quad \\frac{\\sigma^{2}}{S^{3} \\mu^{4}} \\left(2 \\mu^{2} \\rho + \\rho^{2} \\sigma^{2} - 2 \\rho \\sigma^{2} + \\sigma^{2}\\right), \\quad \\frac{\\sigma^{2}}{S^{3} \\mu^{4} \\left(S \\mu^{2} + 4 \\rho \\sigma^{2}\\right)} \\left(2 S \\mu^{4} \\rho + S \\mu^{2} \\rho^{2} \\sigma^{2} - 2 S \\mu^{2} \\rho \\sigma^{2} + S \\mu^{2} \\sigma^{2} - 6 \\mu^{4} \\rho + \\mu^{2} \\rho^{2} \\sigma^{2} + 4 \\mu^{2} \\rho \\sigma^{2} - \\mu^{2} \\sigma^{2} + 4 \\rho^{3} \\sigma^{4}\\right)\\right )$$"
      ],
      "text/plain": [
       "          2             2                 2 /    2          2      2              2        2\\       2 /      4           2    2      2         2          2       2      2       4         2    2      2       2          2     2      2        3      4\\ \n",
       " rho*sigma     rho*sigma *(S - 2)    sigma *\\2*mu *rho + rho *sigma  - 2*rho*sigma  + sigma /  sigma *\\2*S*mu *rho + S*mu *rho *sigma  - 2*S*mu *rho*sigma  + S*mu *sigma  - 6*mu *rho + mu *rho *sigma  + 4*mu *rho*sigma  - mu *sigma  + 4*rho *sigma / \n",
       "(----------, ----------------------, --------------------------------------------------------, ----------------------------------------------------------------------------------------------------------------------------------------------------------)\n",
       "       2       /    2            2\\                            3   4                                                                                          3   4 /    2              2\\                                                                \n",
       "   S*mu      S*\\S*mu  + rho*sigma /                           S *mu                                                                                          S *mu *\\S*mu  + 4*rho*sigma /                                                                "
      ]
     },
     "execution_count": 26,
     "metadata": {},
     "output_type": "execute_result"
    }
   ],
   "source": [
    "# 2.\n",
    "print(\"Case 2: correlation variables, no specific diagonal, Gaussian random matrix.\")\n",
    "cond = [(mu_d, mu), (mu_d2, mu2), (mu_d3, mu3), (mu_d4, mu4)]\n",
    "cond_rho = [\n",
    "            (rho_21, 2 * rho), \n",
    "#             (rho_21, 2 * rho * mu * mu2), \n",
    "            (rho_22, 2 * (2 * mu2 * mu**2 * rho + (mu2 * rho)**2)), \n",
    "            (rho_31, -mu3 * mu + 3 * mu2 * mu**2 + 3 * mu2 * rho * (mu2 + mu**2))]\n",
    "cond += cond_rho\n",
    "cond += cond_non_sparse\n",
    "\n",
    "eval_specific_case(E_n, E_d, full_num, full_den, cond, show_order=1)"
   ]
  },
  {
   "cell_type": "code",
   "execution_count": 28,
   "metadata": {
    "collapsed": false
   },
   "outputs": [
    {
     "name": "stdout",
     "output_type": "stream",
     "text": [
      "Case 3: Constant diagonal `d` of order 1.\n",
      "\n",
      "Expected value: 1st & 2nd order; Variance: 1st & 2nd order.\n"
     ]
    },
    {
     "data": {
      "image/png": "[encoded data removed]",
      "text/latex": [
       "$$\\left ( \\frac{\\rho \\sigma^{2}}{S \\mu^{2}}, \\quad - \\frac{\\sigma^{2} \\left(S \\rho - 2 \\rho - 1\\right)}{S \\left(- S \\mu^{2} + 2 d \\mu + 2 \\mu^{2} - \\rho \\sigma^{2}\\right)}, \\quad \\frac{\\sigma^{2}}{S^{3} \\mu^{4}} \\left(2 \\mu^{2} \\rho + \\rho^{2} \\sigma^{2} - 2 \\rho \\sigma^{2} + \\sigma^{2}\\right), \\quad \\frac{\\sigma^{2}}{S^{3} \\mu^{4} \\left(- S \\mu^{2} + 8 d \\mu + 8 \\mu^{2} - 4 \\rho \\sigma^{2}\\right)} \\left(- 2 S \\mu^{4} \\rho - S \\mu^{2} \\rho^{2} \\sigma^{2} + 2 S \\mu^{2} \\rho \\sigma^{2} - S \\mu^{2} \\sigma^{2} + 8 d \\mu^{3} \\rho + 4 d \\mu \\rho^{2} \\sigma^{2} - 8 d \\mu \\rho \\sigma^{2} + 4 d \\mu \\sigma^{2} + 14 \\mu^{4} \\rho + 3 \\mu^{2} \\rho^{2} \\sigma^{2} - 10 \\mu^{2} \\rho \\sigma^{2} + 7 \\mu^{2} \\sigma^{2} - 4 \\rho^{3} \\sigma^{4}\\right)\\right )$$"
      ],
      "text/plain": [
       "          2               2                                  2 /    2          2      2              2        2\\       2 /        4           2    2      2         2          2       2      2         3                 2      2                   2               2        4           2    2      2        2          2       2      2        3      4\\ \n",
       " rho*sigma          -sigma *(S*rho - 2*rho - 1)         sigma *\\2*mu *rho + rho *sigma  - 2*rho*sigma  + sigma /  sigma *\\- 2*S*mu *rho - S*mu *rho *sigma  + 2*S*mu *rho*sigma  - S*mu *sigma  + 8*d*mu *rho + 4*d*mu*rho *sigma  - 8*d*mu*rho*sigma  + 4*d*mu*sigma  + 14*mu *rho + 3*mu *rho *sigma  - 10*mu *rho*sigma  + 7*mu *sigma  - 4*rho *sigma / \n",
       "(----------, -----------------------------------------, --------------------------------------------------------, -----------------------------------------------------------------------------------------------------------------------------------------------------------------------------------------------------------------------------------------)\n",
       "       2       /      2                2            2\\                            3   4                                                                                                                         3   4 /      2                2              2\\                                                                                             \n",
       "   S*mu      S*\\- S*mu  + 2*d*mu + 2*mu  - rho*sigma /                           S *mu                                                                                                                         S *mu *\\- S*mu  + 8*d*mu + 8*mu  - 4*rho*sigma /                                                                                             "
      ]
     },
     "execution_count": 28,
     "metadata": {},
     "output_type": "execute_result"
    }
   ],
   "source": [
    "# 3.\n",
    "print(\"Case 3: Constant diagonal `d` of order 1.\")\n",
    "d = sympy.symbols('d')\n",
    "cond = [(mu_d, -d), (mu_d2, 0), (mu_d3, 0), (mu_d4, 0)]\n",
    "cond_rho = [\n",
    "            (rho_21, 2 * rho), \n",
    "#             (rho_21, 2 * rho * mu * mu2), \n",
    "            (rho_22, 2 * (2 * mu2 * mu**2 * rho + (mu2 * rho)**2)), \n",
    "            (rho_31, -mu3 * mu + 3 * mu2 * mu**2 + 3 * mu2 * rho * (mu2 + mu**2))]\n",
    "cond += cond_rho\n",
    "cond += cond_non_sparse\n",
    "\n",
    "eval_specific_case(E_n, E_d, full_num, full_den, cond, show_order=1)"
   ]
  },
  {
   "cell_type": "code",
   "execution_count": 29,
   "metadata": {
    "collapsed": false
   },
   "outputs": [
    {
     "name": "stdout",
     "output_type": "stream",
     "text": [
      "Case 3a: Constant diagonal A_{ii} = -eta * d_c\n",
      "where d_c = (S - 1) * mu = critical d for mu > 0 ~ coorperation\n",
      "\n",
      "Expected value: 1st & 2nd order; Variance: 1st & 2nd order.\n"
     ]
    },
    {
     "data": {
      "image/png": "[encoded data removed]",
      "text/latex": [
       "$$\\left ( \\frac{\\rho \\sigma^{2}}{S \\mu^{2} \\left(\\eta - 1\\right)^{2}}, \\quad \\frac{\\sigma^{2} \\left(S \\rho - 2 \\rho - 1\\right)}{S \\left(S \\eta^{2} \\mu^{2} - 2 S \\eta \\mu^{2} + S \\mu^{2} - 2 \\eta^{2} \\mu^{2} + 4 \\eta \\mu^{2} - 2 \\mu^{2} + \\rho \\sigma^{2}\\right)}, \\quad \\frac{\\sigma^{2}}{S^{3} \\mu^{4} \\left(\\eta - 1\\right)^{4}} \\left(2 \\mu^{2} \\rho + \\rho^{2} \\sigma^{2} - 2 \\rho \\sigma^{2} + \\sigma^{2}\\right), \\quad \\frac{\\sigma^{2}}{S^{3} \\mu^{4} \\left(\\eta - 1\\right)^{4} \\left(S \\eta^{2} \\mu^{2} - 2 S \\eta \\mu^{2} + S \\mu^{2} - 8 \\eta^{2} \\mu^{2} + 16 \\eta \\mu^{2} - 8 \\mu^{2} + 4 \\rho \\sigma^{2}\\right)} \\left(2 S \\eta^{2} \\mu^{4} \\rho + S \\eta^{2} \\mu^{2} \\rho^{2} \\sigma^{2} - 2 S \\eta^{2} \\mu^{2} \\rho \\sigma^{2} + S \\eta^{2} \\mu^{2} \\sigma^{2} - 4 S \\eta \\mu^{4} \\rho - 2 S \\eta \\mu^{2} \\rho^{2} \\sigma^{2} + 4 S \\eta \\mu^{2} \\rho \\sigma^{2} - 2 S \\eta \\mu^{2} \\sigma^{2} + 2 S \\mu^{4} \\rho + S \\mu^{2} \\rho^{2} \\sigma^{2} - 2 S \\mu^{2} \\rho \\sigma^{2} + S \\mu^{2} \\sigma^{2} - 14 \\eta^{2} \\mu^{4} \\rho - 7 \\eta^{2} \\mu^{2} \\rho^{2} \\sigma^{2} + 10 \\eta^{2} \\mu^{2} \\rho \\sigma^{2} - 7 \\eta^{2} \\mu^{2} \\sigma^{2} + 28 \\eta \\mu^{4} \\rho + 14 \\eta \\mu^{2} \\rho^{2} \\sigma^{2} - 20 \\eta \\mu^{2} \\rho \\sigma^{2} + 14 \\eta \\mu^{2} \\sigma^{2} - 14 \\mu^{4} \\rho - 3 \\mu^{2} \\rho^{2} \\sigma^{2} + 10 \\mu^{2} \\rho \\sigma^{2} - 7 \\mu^{2} \\sigma^{2} + 4 \\rho^{3} \\sigma^{4}\\right)\\right )$$"
      ],
      "text/plain": [
       "             2                                      2                                                       2 /    2          2      2              2        2\\       2 /       2   4            2   2    2      2          2   2          2        2   2      2             4                 2    2      2             2          2             2      2         4           2    2      2         2          2       2      2         2   4            2   2    2      2         2   2          2        2   2      2            4                2    2      2            2          2            2      2        4           2    2      2        2          2       2      2        3      4\\ \n",
       "    rho*sigma                                  sigma *(S*rho - 2*rho - 1)                              sigma *\\2*mu *rho + rho *sigma  - 2*rho*sigma  + sigma /  sigma *\\2*S*eta *mu *rho + S*eta *mu *rho *sigma  - 2*S*eta *mu *rho*sigma  + S*eta *mu *sigma  - 4*S*eta*mu *rho - 2*S*eta*mu *rho *sigma  + 4*S*eta*mu *rho*sigma  - 2*S*eta*mu *sigma  + 2*S*mu *rho + S*mu *rho *sigma  - 2*S*mu *rho*sigma  + S*mu *sigma  - 14*eta *mu *rho - 7*eta *mu *rho *sigma  + 10*eta *mu *rho*sigma  - 7*eta *mu *sigma  + 28*eta*mu *rho + 14*eta*mu *rho *sigma  - 20*eta*mu *rho*sigma  + 14*eta*mu *sigma  - 14*mu *rho - 3*mu *rho *sigma  + 10*mu *rho*sigma  - 7*mu *sigma  + 4*rho *sigma / \n",
       "(----------------, ----------------------------------------------------------------------------------, --------------------------------------------------------, ----------------------------------------------------------------------------------------------------------------------------------------------------------------------------------------------------------------------------------------------------------------------------------------------------------------------------------------------------------------------------------------------------------------------------------------------------------------------------------------------------------------------------------)\n",
       "     2          2    /     2   2             2       2        2   2           2       2            2\\                      3   4          4                                                                                                                                                                                                                                     3   4          4 /     2   2             2       2        2   2            2       2              2\\                                                                                                                                                                                                                \n",
       " S*mu *(eta - 1)   S*\\S*eta *mu  - 2*S*eta*mu  + S*mu  - 2*eta *mu  + 4*eta*mu  - 2*mu  + rho*sigma /                     S *mu *(eta - 1)                                                                                                                                                                                                                                     S *mu *(eta - 1) *\\S*eta *mu  - 2*S*eta*mu  + S*mu  - 8*eta *mu  + 16*eta*mu  - 8*mu  + 4*rho*sigma /                                                                                                                                                                                                                "
      ]
     },
     "execution_count": 29,
     "metadata": {},
     "output_type": "execute_result"
    }
   ],
   "source": [
    "# 3a.\n",
    "print(\"Case 3a: Constant diagonal A_{ii} = -eta * d_c\")\n",
    "print(\"where d_c = (S - 1) * mu = critical d for mu > 0 ~ coorperation\")\n",
    "\n",
    "# Critical d:\n",
    "d_c     = (S - 1) * mu\n",
    "# Factor on d_c\n",
    "eta   = sympy.symbols('eta')\n",
    "cond = [(mu_d, -eta * d_c), (mu_d2, 0), (mu_d3, 0), (mu_d4, 0)]\n",
    "cond_rho = [\n",
    "            (rho_21, 2 * rho), \n",
    "#             (rho_21, 2 * rho * mu * mu2), \n",
    "            (rho_22, 2 * (2 * mu2 * mu**2 * rho + (mu2 * rho)**2)), \n",
    "            (rho_31, -mu3 * mu + 3 * mu2 * mu**2 + 3 * mu2 * rho * (mu2 + mu**2))]\n",
    "cond += cond_rho\n",
    "cond += cond_non_sparse\n",
    "\n",
    "eval_specific_case(E_n, E_d, full_num, full_den, cond, show_order=1)"
   ]
  },
  {
   "cell_type": "code",
   "execution_count": 30,
   "metadata": {
    "collapsed": false
   },
   "outputs": [
    {
     "name": "stdout",
     "output_type": "stream",
     "text": [
      "Case 3b: Constant diagonal A_{ii} = -alpha * d_c\n",
      "where d_c = sqrt(sigma**2 * 2 * S) - mu = critical d for mu < 0 ~ competition\n",
      "\n",
      "Expected value: 1st & 2nd order; Variance: 1st & 2nd order.\n"
     ]
    },
    {
     "data": {
      "image/png": "[encoded data removed]",
      "text/latex": [
       "$$\\left ( \\frac{\\rho \\sigma^{2}}{S \\mu^{2}}, \\quad \\frac{\\sigma^{2} \\left(S \\rho - 2 \\rho - 1\\right)}{S \\left(S \\mu^{2} + 2 \\eta^{2} \\sigma^{2} + 2 \\eta \\mu^{2} - 2 \\sqrt{2} \\eta \\mu \\sqrt{S \\sigma^{2}} - 2 \\mu^{2} + \\rho \\sigma^{2}\\right)}, \\quad \\frac{\\sigma^{2}}{S^{3} \\mu^{4}} \\left(2 \\mu^{2} \\rho + \\rho^{2} \\sigma^{2} - 2 \\rho \\sigma^{2} + \\sigma^{2}\\right), \\quad \\frac{\\sigma^{2}}{S^{3} \\mu^{4} \\left(S \\mu^{2} + 56 \\eta^{2} \\sigma^{2} + 8 \\eta \\mu^{2} - 8 \\sqrt{2} \\eta \\mu \\sqrt{S \\sigma^{2}} - 8 \\mu^{2} + 4 \\rho \\sigma^{2}\\right)} \\left(2 S \\mu^{4} \\rho + S \\mu^{2} \\rho^{2} \\sigma^{2} - 2 S \\mu^{2} \\rho \\sigma^{2} + S \\mu^{2} \\sigma^{2} + 24 \\eta^{2} \\mu^{2} \\rho \\sigma^{2} + 12 \\eta^{2} \\rho^{2} \\sigma^{4} - 24 \\eta^{2} \\rho \\sigma^{4} + 12 \\eta^{2} \\sigma^{4} + 8 \\eta \\mu^{4} \\rho - 8 \\sqrt{2} \\eta \\mu^{3} \\rho \\sqrt{S \\sigma^{2}} + 4 \\eta \\mu^{2} \\rho^{2} \\sigma^{2} - 8 \\eta \\mu^{2} \\rho \\sigma^{2} + 4 \\eta \\mu^{2} \\sigma^{2} - 4 \\sqrt{2} \\eta \\mu \\rho^{2} \\sigma^{2} \\sqrt{S \\sigma^{2}} + 8 \\sqrt{2} \\eta \\mu \\rho \\sigma^{2} \\sqrt{S \\sigma^{2}} - 4 \\sqrt{2} \\eta \\mu \\sigma^{2} \\sqrt{S \\sigma^{2}} - 14 \\mu^{4} \\rho - 3 \\mu^{2} \\rho^{2} \\sigma^{2} + 10 \\mu^{2} \\rho \\sigma^{2} - 7 \\mu^{2} \\sigma^{2} + 4 \\rho^{3} \\sigma^{4}\\right)\\right )$$"
      ],
      "text/plain": [
       "                                                                                                                                                                         /                                                                                                                                                                                                  __________                                                                                                   __________                                __________                            __________                                                                                    \\ \n",
       "          2                                       2                                                          2 /    2          2      2              2        2\\       2 |      4           2    2      2         2          2       2      2         2   2          2         2    2      4         2          4         2      4           4           ___       3       /        2            2    2      2           2          2           2      2       ___           2      2   /        2        ___                 2   /        2        ___             2   /        2         4           2    2      2        2          2       2      2        3      4| \n",
       " rho*sigma                                   sigma *(S*rho - 2*rho - 1)                                 sigma *\\2*mu *rho + rho *sigma  - 2*rho*sigma  + sigma /  sigma *\\2*S*mu *rho + S*mu *rho *sigma  - 2*S*mu *rho*sigma  + S*mu *sigma  + 24*eta *mu *rho*sigma  + 12*eta *rho *sigma  - 24*eta *rho*sigma  + 12*eta *sigma  + 8*eta*mu *rho - 8*\\/ 2 *eta*mu *rho*\\/  S*sigma   + 4*eta*mu *rho *sigma  - 8*eta*mu *rho*sigma  + 4*eta*mu *sigma  - 4*\\/ 2 *eta*mu*rho *sigma *\\/  S*sigma   + 8*\\/ 2 *eta*mu*rho*sigma *\\/  S*sigma   - 4*\\/ 2 *eta*mu*sigma *\\/  S*sigma   - 14*mu *rho - 3*mu *rho *sigma  + 10*mu *rho*sigma  - 7*mu *sigma  + 4*rho *sigma / \n",
       "(----------, -----------------------------------------------------------------------------------------, --------------------------------------------------------, ------------------------------------------------------------------------------------------------------------------------------------------------------------------------------------------------------------------------------------------------------------------------------------------------------------------------------------------------------------------------------------------------------------------------------------------------------------------------------------------------------)\n",
       "       2       /                                                      __________                     \\                            3   4                                                                                                                                                                                                                                    /                                                       __________                       \\                                                                                                                                                                                                    \n",
       "   S*mu        |    2        2      2           2       ___          /        2        2            2|                           S *mu                                                                                                                                                                                                                               3   4 |    2         2      2           2       ___          /        2        2              2|                                                                                                                                                                                                    \n",
       "             S*\\S*mu  + 2*eta *sigma  + 2*eta*mu  - 2*\\/ 2 *eta*mu*\\/  S*sigma   - 2*mu  + rho*sigma /                                                                                                                                                                                                                                                              S *mu *\\S*mu  + 56*eta *sigma  + 8*eta*mu  - 8*\\/ 2 *eta*mu*\\/  S*sigma   - 8*mu  + 4*rho*sigma /                                                                                                                                                                                                    "
      ]
     },
     "execution_count": 30,
     "metadata": {},
     "output_type": "execute_result"
    }
   ],
   "source": [
    "# 3b.\n",
    "print(\"Case 3b: Constant diagonal A_{ii} = -alpha * d_c\")\n",
    "print(\"where d_c = sqrt(sigma**2 * 2 * S) - mu = critical d for mu < 0 ~ competition\")\n",
    "\n",
    "# Critical d:\n",
    "d_c     = sympy.sqrt(mu2 * 2 * S) - mu\n",
    "# Factor on d_c\n",
    "eta   = sympy.symbols('eta')\n",
    "cond = [(mu_d, -eta * d_c), (mu_d2, 0), (mu_d3, 0), (mu_d4, 0)]\n",
    "cond_rho = [\n",
    "            (rho_21, 2 * rho), \n",
    "#             (rho_21, 2 * rho * mu * mu2), \n",
    "            (rho_22, 2 * (2 * mu2 * mu**2 * rho + (mu2 * rho)**2)), \n",
    "            (rho_31, -mu3 * mu + 3 * mu2 * mu**2 + 3 * mu2 * rho * (mu2 + mu**2))]\n",
    "cond += cond_rho\n",
    "cond += cond_non_sparse\n",
    "\n",
    "eval_specific_case(E_n, E_d, full_num, full_den, cond, show_order=1)"
   ]
  },
  {
   "cell_type": "code",
   "execution_count": null,
   "metadata": {
    "collapsed": true
   },
   "outputs": [],
   "source": []
  },
  {
   "cell_type": "code",
   "execution_count": 27,
   "metadata": {
    "collapsed": false
   },
   "outputs": [
    {
     "ename": "AssertionError",
     "evalue": "Dont run the stuff below...",
     "output_type": "error",
     "traceback": [
      "\u001b[1;31m---------------------------------------------------------------------------\u001b[0m",
      "\u001b[1;31mAssertionError\u001b[0m                            Traceback (most recent call last)",
      "\u001b[1;32m<ipython-input-27-382eed1df6f5>\u001b[0m in \u001b[0;36m<module>\u001b[1;34m()\u001b[0m\n\u001b[1;32m----> 1\u001b[1;33m \u001b[1;32massert\u001b[0m \u001b[0mFalse\u001b[0m\u001b[1;33m,\u001b[0m \u001b[1;34m\"Dont run the stuff below...\"\u001b[0m\u001b[1;33m\u001b[0m\u001b[0m\n\u001b[0m",
      "\u001b[1;31mAssertionError\u001b[0m: Dont run the stuff below..."
     ]
    }
   ],
   "source": [
    "assert False, \"Dont run the stuff below...\""
   ]
  },
  {
   "cell_type": "code",
   "execution_count": null,
   "metadata": {
    "collapsed": true
   },
   "outputs": [],
   "source": []
  },
  {
   "cell_type": "markdown",
   "metadata": {
    "collapsed": true
   },
   "source": [
    "# Previous results (only $A_{ij}$ iid) -- remain here for comparison."
   ]
  },
  {
   "cell_type": "code",
   "execution_count": null,
   "metadata": {
    "collapsed": false
   },
   "outputs": [],
   "source": [
    "### Define functions\n",
    "\n",
    "\n",
    "def generate_consistent_index_matrices(dim_P):\n",
    "    \"\"\" Generate all possible iterations (only upper triangular matrices) \n",
    "    and throw away all inconsistent ones. If matrix is kept, set diagonal elements to `True`.\n",
    "    \"\"\"\n",
    "    # Make sure you're not filling the memory completely...\n",
    "    assert dim_P <= 7, \"Larger dim_P takes too long.\"\n",
    "    # Number of entries in upper triangular matrix without diagonal\n",
    "    red_dim = dim_P * (dim_P - 1) / 2\n",
    "    # Iterate over all possible realizations\n",
    "    Ps = []\n",
    "    for entries in it.product([True, False], repeat = red_dim):\n",
    "        P = np.zeros((dim_P, dim_P), dtype=bool)\n",
    "        for i in range(dim_P - 1):\n",
    "            si = sum(range(dim_P - 1 - i, dim_P - 1))\n",
    "            P[i, i+1:] = entries[i + si: si + dim_P - 1]\n",
    "    \n",
    "        # Throw away inconsistent ones\n",
    "        throw_away = False\n",
    "        for x in range(dim_P-1):\n",
    "            for y in range(x + 1, dim_P):\n",
    "                for z in range(y + 1, dim_P):\n",
    "                    if P[x, y] or P[x, z]:\n",
    "                        if (P[x, y] and P[x, z]) != P[y, z]:\n",
    "                            throw_away = True\n",
    "                            break\n",
    "                if throw_away:\n",
    "                    break\n",
    "            if throw_away:\n",
    "                break\n",
    "        if not throw_away:\n",
    "            np.fill_diagonal(P, True)\n",
    "            Ps.append(P)\n",
    "            \n",
    "    return Ps\n",
    "\n",
    "def calc_cliques(Ps):\n",
    "    sorted_clique_lengths = []\n",
    "    m_Ps = np.zeros(len(Ps), dtype=int)\n",
    "    \n",
    "    dim_P = len(Ps[0])\n",
    "\n",
    "    for j, P in enumerate(Ps):\n",
    "        indices = set(range(dim_P))\n",
    "        \n",
    "        # Initial clique containing the first index\n",
    "        cliques = [set([y for y, P_0_y in enumerate(P[0]) if P_0_y])]\n",
    "\n",
    "        # Form other cliques\n",
    "        for i in range(dim_P):\n",
    "            if set.union(*cliques) == indices:\n",
    "                break\n",
    "            else:\n",
    "                idx = min(indices - set.union(*cliques))\n",
    "                P_idx = P[idx, idx: ]\n",
    "                cliques.append(set([y + idx for y, P_idx_y in enumerate(P_idx) if P_idx_y]))\n",
    "\n",
    "        # Collapse cliques\n",
    "        sorted_clique_len = np.sort([len(clique) for clique in cliques])[::-1]\n",
    "        sorted_clique_lengths.append(tuple(sorted_clique_len))\n",
    "        m_Ps[j] = len(sorted_clique_len)\n",
    "    \n",
    "    return sorted_clique_lengths, m_Ps\n",
    "        \n",
    "def collapse_to_4d(Ps):\n",
    "    dim_P = len(Ps[0])\n",
    "    dim_R = 4\n",
    "    Rs = np.zeros((len(Ps), dim_R, dim_R), dtype=bool)\n",
    "    \n",
    "    \n",
    "    if dim_P == 6:\n",
    "        # For denominator: collapse 6d to 4d\n",
    "        for j, P in enumerate(Ps):\n",
    "            R = np.zeros((dim_R, dim_R), dtype=bool)\n",
    "\n",
    "            R[0, 1] = P[0, 4] and P[1, 4] #R[0, 1]\n",
    "            R[0, 2] = P[0, 2] and P[4, 5] #R[0, 2]\n",
    "            R[0, 3] = P[0, 5] and P[3, 4] #R[0, 3]\n",
    "            R[1, 2] = P[2, 4] and P[1, 5] #R[1, 2]\n",
    "            R[1, 3] = P[4, 5] and P[1, 3] #R[1, 3]\n",
    "            R[2, 3] = P[2, 5] and P[3, 5] #R[2, 3]\n",
    "\n",
    "            np.fill_diagonal(R, True)\n",
    "            Rs[j] = R\n",
    "    \n",
    "    if dim_P == 7:\n",
    "        # For den * num term: collapse 7d to 4d\n",
    "        for j, P in enumerate(Ps):\n",
    "            R = np.zeros((dim_R, dim_R), dtype=bool)\n",
    "\n",
    "            R[0, 1] = P[0, 2] and P[1, 3] #R[0, 1]\n",
    "            R[0, 2] = P[0, 4] and P[1, 6] #R[0, 2]\n",
    "            R[0, 3] = P[0, 6] and P[1, 5] #R[0, 3]\n",
    "            R[1, 2] = P[2, 4] and P[3, 6] #R[1, 2]\n",
    "            R[1, 3] = P[2, 6] and P[3, 5] #R[1, 3]\n",
    "            R[2, 3] = P[4, 6] and P[5, 6] #R[2, 3]\n",
    "\n",
    "            np.fill_diagonal(R, True)\n",
    "            Rs[j] = R\n",
    "            \n",
    "    return Rs\n",
    "    \n",
    "def get_unique_cliques_and_multiplicities(sorted_clique_lengths, m_Ps, dim_P):\n",
    "    unique_scls = set(sorted_clique_lengths)\n",
    "    list_scl_m_c = []\n",
    "    m_factors_all = []\n",
    "    for unique_scl in unique_scls:\n",
    "        # Indices where the unique sorted clique length equals that of P in the list Ps\n",
    "        idx = [j for j, scl in enumerate(sorted_clique_lengths) if scl == unique_scl]\n",
    "\n",
    "        # Get the number of appearence of multiplicity factors S, S-1, S-2, ..., S-(dim_P-1)\n",
    "        unique_m_P, counts = np.unique(m_Ps[idx], return_counts=True)\n",
    "        m_factors = np.zeros(dim_P, dtype=int)\n",
    "        m_factors[unique_m_P - 1] = counts\n",
    "\n",
    "        # Append to a list containing the sored clique lengths and corresponding multiplicity factors\n",
    "        list_scl_m_c.append([unique_scl, m_factors])\n",
    "    #     print(unique_scl, m_factors)\n",
    "        m_factors_all.append(m_factors)\n",
    "    \n",
    "    m_factors_all = np.asarray(m_factors_all)\n",
    "    \n",
    "    # Sort multiplicity factors\n",
    "    m_factors_all = m_factors_all[np.argsort(list(unique_scls))[::-1]]\n",
    "    return list_scl_m_c, m_factors_all\n",
    "\n",
    "def print_results(list_scl_m_c):\n",
    "    \"\"\" Print the results in a nice way (to understand what's going on).\n",
    "    \"\"\"\n",
    "    dim_P = len(list_scl_m_c[0][1])\n",
    "\n",
    "    names                           = ['X^4    ','X^3 Y  ', 'X^2 Y^2', 'X^2 Y Z', 'X Y Z U',    ]\n",
    "    corresponding_clique_lengths    = [(4,),     (3, 1),    (2, 2),    (2, 1, 1), (1, 1, 1, 1), ]\n",
    "\n",
    "    print(\" \"*11 + \"Multipl. number m_P\")\n",
    "    m_p_str_title = \"\"\n",
    "    for i in range(dim_P):\n",
    "        m_p_str_title += \"%5d\"%(i+1)\n",
    "    print(\"Cliques  \" + m_p_str_title + \" \"*5 + \" tuple\")\n",
    "    print(\"-\"*60)\n",
    "\n",
    "    for name, cl in zip(names, corresponding_clique_lengths):\n",
    "        for scl_m_c in list_scl_m_c:\n",
    "            if scl_m_c[0] == cl:\n",
    "                m_str = \"\"\n",
    "                for m_c in scl_m_c[1]:\n",
    "                    m_str += \"%5d\"%m_c\n",
    "                print(name + \"  \" + m_str + \" \"*5, scl_m_c[0])\n",
    "    \n",
    "\n",
    "def calc_expected_value(m_factors_all, S):\n",
    "    dim_P = m_factors_all.shape[1]\n",
    "    j = sympy.symbols('j', integer=True)\n",
    "\n",
    "    # Check-sum\n",
    "    sum_S = 0\n",
    "    for i in range(dim_P):\n",
    "        prod_S = sympy.product(S-j, (j, 0, i))\n",
    "        sum_S += prod_S * np.sum(m_factors_all, axis=0)[i]\n",
    "    \n",
    "    if S**dim_P == sympy.expand(sum_S):\n",
    "        print(\"Checksum = \", sympy.expand(sum_S), \"is ok!\") # == S**6???\n",
    "\n",
    "    # Calculate factors for expected value\n",
    "    a = []\n",
    "    for k in range(len(m_factors_all)):\n",
    "        sum_S = 0\n",
    "        for i in range(dim_P):\n",
    "            prod_S = sympy.product(S-j, (j, 0, i))\n",
    "            sum_S += prod_S * m_factors_all[k, i]\n",
    "        a.append(sympy.expand(sum_S))\n",
    "        \n",
    "    print(\"\\nMultiplicity factors:\")\n",
    "    for i, ai in enumerate(a):\n",
    "        print(\"a_%d = \"%i, ai)\n",
    "\n",
    "    # Print out the entire term\n",
    "    mu4, mu3, mu2, mu = sympy.symbols('mu4 mu3 mu2 mu')\n",
    "    \n",
    "    expected_value = (mu4         * a[0] + \n",
    "                      mu3 * mu    * (4*a[0] + a[1]) + \n",
    "                      mu2**2      * a[2] + \n",
    "                      mu2 * mu**2 * (6*a[0] + 3*a[1] + 2*a[2] + a[3]) + \n",
    "                      mu**4       * sum(a))\n",
    "    \n",
    "    return expected_value\n"
   ]
  },
  {
   "cell_type": "markdown",
   "metadata": {},
   "source": [
    "## Calculate expected values of $n^2$, $d^2$ and $n \\cdot d$."
   ]
  },
  {
   "cell_type": "code",
   "execution_count": null,
   "metadata": {
    "collapsed": false
   },
   "outputs": [],
   "source": [
    "# Calculate n^2 term\n",
    "# Reduced to 4d, but running over $M = S^2$ entries. \n",
    "print(\"Calculate n^2 term\\n\")\n",
    "\n",
    "dim = 4\n",
    "\n",
    "Ps                          = generate_consistent_index_matrices(dim)\n",
    "\n",
    "sorted_clique_lengths, m_Ps = calc_cliques(Ps)\n",
    "        \n",
    "list_scl_m_c, m_factors_all = get_unique_cliques_and_multiplicities(sorted_clique_lengths, m_Ps, dim)\n",
    "\n",
    "print_results(list_scl_m_c)\n",
    "    \n",
    "M = S**2\n",
    "E_n_sq_iid = calc_expected_value(m_factors_all, M)\n",
    "\n",
    "print(\"\\nE[n^2]:\")\n",
    "sympy.expand(E_n_sq_iid)"
   ]
  },
  {
   "cell_type": "code",
   "execution_count": null,
   "metadata": {
    "collapsed": false
   },
   "outputs": [],
   "source": [
    "# Calculate d^2 term\n",
    "print(\"Calculate d^2 term\\n\")\n",
    "\n",
    "dim = 6\n",
    "\n",
    "Ps                          = generate_consistent_index_matrices(dim)\n",
    "\n",
    "_, m_Ps                     = calc_cliques(Ps)\n",
    "        \n",
    "Rs                          = collapse_to_4d(Ps)\n",
    "    \n",
    "sorted_clique_lengths, _    = calc_cliques(Rs)\n",
    "\n",
    "list_scl_m_c, m_factors_all = get_unique_cliques_and_multiplicities(sorted_clique_lengths, m_Ps, dim)\n",
    "\n",
    "print_results(list_scl_m_c)\n",
    "    \n",
    "E_d_sq_iid = S**2 * calc_expected_value(m_factors_all, S)\n",
    "\n",
    "print(\"\\nE[d^2]:\")\n",
    "sympy.expand(E_d_sq_iid)"
   ]
  },
  {
   "cell_type": "code",
   "execution_count": null,
   "metadata": {
    "collapsed": false
   },
   "outputs": [],
   "source": [
    "# Calculate n*d term\n",
    "print(\"Calculate n * d term\\n\")\n",
    "\n",
    "dim = 7\n",
    "\n",
    "Ps                          = generate_consistent_index_matrices(dim)\n",
    "\n",
    "_, m_Ps                     = calc_cliques(Ps)\n",
    "\n",
    "Rs                          = collapse_to_4d(Ps)\n",
    "    \n",
    "sorted_clique_lengths, _    = calc_cliques(Rs)\n",
    "\n",
    "list_scl_m_c, m_factors_all = get_unique_cliques_and_multiplicities(sorted_clique_lengths, m_Ps, dim)\n",
    "\n",
    "print_results(list_scl_m_c)\n",
    "    \n",
    "E_nd_iid = S * calc_expected_value(m_factors_all, S)\n",
    "\n",
    "print(\"\\nE[n*d]:\")\n",
    "sympy.expand(E_nd_iid)"
   ]
  },
  {
   "cell_type": "markdown",
   "metadata": {},
   "source": [
    "## Put everything together"
   ]
  },
  {
   "cell_type": "code",
   "execution_count": null,
   "metadata": {
    "collapsed": false
   },
   "outputs": [],
   "source": [
    "# Putting everything together\n",
    "print(\"\\nE[n^2 - 2*n*d + d^2]:\")\n",
    "num_iid = sympy.expand((E_n_sq_iid - 2 * E_nd_iid + E_d_sq_iid))\n",
    "print(num_iid)\n",
    "\n",
    "print(\"\\nE[d^2]:\")\n",
    "den_iid = sympy.expand(E_d_sq_iid)\n",
    "print(den_iid)\n",
    "\n",
    "cond = [(mu_d, mu), (mu_d2, mu2), (mu_d3, mu3), (mu_d4, mu4), (rho, 0), (rho_21, 0), (rho_22, 0), (rho_31, 0)]\n",
    "eval_specific_case(E_n, E_d, num_iid, den_iid, cond, show_order=2)\n"
   ]
  },
  {
   "cell_type": "code",
   "execution_count": null,
   "metadata": {
    "collapsed": true
   },
   "outputs": [],
   "source": []
  },
  {
   "cell_type": "code",
   "execution_count": null,
   "metadata": {
    "collapsed": true
   },
   "outputs": [],
   "source": []
  },
  {
   "cell_type": "code",
   "execution_count": null,
   "metadata": {
    "collapsed": true
   },
   "outputs": [],
   "source": []
  },
  {
   "cell_type": "markdown",
   "metadata": {},
   "source": [
    "# Snippets, old stuff"
   ]
  },
  {
   "cell_type": "markdown",
   "metadata": {},
   "source": [
    "### Compute the expected value for $A_{ij}$ iid manually: \n",
    "\n",
    "Define errors in $x$ and $\\beta$ direction:\n",
    "\n",
    "> $\\mathrm{err}_x = 1 - \\frac{x(\\beta_\\mathrm{eff})}{x_\\mathrm{eff}}$\n",
    "\n",
    "> $\\mathrm{err}_\\beta = 1 - \\frac{\\beta(x_\\mathrm{eff})}{\\beta_\\mathrm{eff}}$\n",
    "\n",
    "For the GLV, the coincide:\n",
    "\n",
    "> $x(\\beta_\\mathrm{eff}) = - \\frac{\\alpha}{\\beta_\\mathrm{eff}}$, \n",
    "\n",
    "such that \n",
    "\n",
    "> $ \\mathrm{err} = 1 + \\frac{\\alpha}{x_\\mathrm{eff} \\beta_\\mathrm{eff}}$ .\n",
    "\n",
    "Inserting the definitions of $x_\\mathrm{eff}$ and $\\beta_\\mathrm{eff}$ from Gao et al.'s paper, \n",
    "\n",
    "> $ x_\\mathrm{eff} = \\frac{\\sum_{ij} A_{ij} x_j}{\\sum_{mn} A_{mn}}  $, \n",
    "\n",
    "> $ \\beta_\\mathrm{eff} = \\frac{\\sum_{ijk} A_{ij} A_{jk} }{\\sum_{mn} A_{mn}} $, \n",
    "\n",
    "we get \n",
    "\n",
    "> $\n",
    "    \\mathrm{err} = 1 + \\frac{\n",
    "        \\alpha \\left(\\sum_{mn} A_{mn}\\right) \\left(\\sum_{mn} A_{mn}\\right) \n",
    "        }{\n",
    "        - \\alpha \\left( \\sum_{ijk} A_{ij} {A^{-1}}_{jk} \\right) \\left(\\sum_{ijk} A_{ij} A_{jk}\\right)} = 1 - \\frac{\\sum_{ijkl} A_{ij} A_{kl} }{ S \\sum_{ijk} A_{ij} A_{jk} }$\n",
    "\n",
    "\n",
    "Now, if all entries are drawn independently from one distribution, $A_{ij} \\sim p(\\mu, \\sigma^2)$,\n",
    "one can calculate the expected value \n",
    "\n",
    "> $\\mathbb{E}\\left[ \\mathrm{err} \\right] \n",
    "    = 1 - \\mathbb{E} \\left[\\frac{\\sum_{ijkl} A_{ij} A_{kl} }{ S \\sum_{ijk} A_{ij} A_{jk} }\\right]   $ .\n",
    "    \n",
    "This cannot be calculated directly. If, however, we assume the denominator ot be much larger than zero, we might be able to approximate by taking the expected values separately -- this is what we shall test numerically. However, doing this separation yields\n",
    "\n",
    "> $ \\mathbb{E} \\left[ \\sum_{ijkl} A_{ij} A_{kl} \\right]\n",
    "    = \\mathbb{E} \\left[\n",
    "    \\sum_{(i, j) \\ne (k, l)} A_{ij} A_{jk} + \\sum_{(i, j)} A_{ij}^2 \\right]\n",
    "    = (S^4  - S^2) \\mu^2 + S^2(\\sigma^2 + \\mu^2)\n",
    "    = S^2(S^2 \\mu^2 + \\sigma^2)\n",
    "$\n",
    "\n",
    "and\n",
    "\n",
    "> $ \\mathbb{E} \\left[ \\sum_{ijk} A_{ij} A_{jk} \\right] \n",
    "    = \\mathbb{E} \\left[\\sum_{j, i \\ne k} A_{ij} A_{jk} + \\sum_{j \\ne i} A_{ij} A_{ji} + \\sum_{i} A_{ii}^2 \\right]\n",
    "    = S^2 (S - 1) \\mu^2 + S (S - 1) \\mu^2 + S (\\sigma^2 + \\mu ^ 2) \n",
    "    = S(S^2 \\mu^2 + \\sigma^2) $\n",
    "\n",
    "which gives \n",
    "\n",
    "> $ 1 - \\frac{ \\mathbb{E} \\left[ \\sum_{ijkl} A_{ij} A_{kl} \\right]} \n",
    "{S \\mathbb{E} \\left[ \\sum_{ijk} A_{ij} A_{jk} \\right]}\n",
    "= 1 - \\frac{S^2(S^2 \\mu^2 + \\sigma^2)}{S^2 (S^2 \\mu^2 + \\sigma^2)} = 0 $.\n",
    "\n",
    "So, either this approximation does not hold or higher order terms are important."
   ]
  },
  {
   "cell_type": "code",
   "execution_count": null,
   "metadata": {
    "collapsed": false
   },
   "outputs": [],
   "source": [
    "def print_unique_indicators(indicators):\n",
    "    sa = set(indicators[:, 0])\n",
    "    lsa = list(sa)\n",
    "\n",
    "    print(\"#    Indicator tuple       n_diags     Variable combination\")\n",
    "    print(\"___________________________________________________________\")\n",
    "    for j, ind in enumerate(lsa):\n",
    "        i_str = \"\"\n",
    "        nd = int(ind[-1])\n",
    "        for i in range(4):\n",
    "            i_str += ['X', 'Y', 'Z', 'U'][int(np.floor(ind[i]))]\n",
    "\n",
    "            if i < 4 - nd:\n",
    "                # Off-diagonals\n",
    "                ind_i = ind[i]\n",
    "                if round(ind_i - round(ind_i, 0), 1) == 0.1:\n",
    "                    i_str += '^T'\n",
    "                else:\n",
    "                    i_str += '  '\n",
    "            else:\n",
    "                # Diagonals\n",
    "                i_str += '_d'\n",
    "\n",
    "            i_str += '  '\n",
    "\n",
    "        print(\"%2d   (%.1f, %.1f, %.1f, %.1f)        %1d       %s\"%(\n",
    "                j, ind[0], ind[1], ind[2], ind[3], ind[4], i_str))"
   ]
  },
  {
   "cell_type": "code",
   "execution_count": null,
   "metadata": {
    "collapsed": true
   },
   "outputs": [],
   "source": []
  }
 ],
 "metadata": {
  "kernelspec": {
   "display_name": "Python 2",
   "language": "python",
   "name": "python2"
  },
  "language_info": {
   "codemirror_mode": {
    "name": "ipython",
    "version": 2
   },
   "file_extension": ".py",
   "mimetype": "text/x-python",
   "name": "python",
   "nbconvert_exporter": "python",
   "pygments_lexer": "ipython2",
   "version": "2.7.10"
  }
 },
 "nbformat": 4,
 "nbformat_minor": 0
}
